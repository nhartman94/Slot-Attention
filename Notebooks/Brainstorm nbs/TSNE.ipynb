{
 "cells": [
  {
   "cell_type": "markdown",
   "id": "56a51f28-eebc-4b99-a341-70e628fcaabd",
   "metadata": {},
   "source": [
    "# T-SNE\n",
    " \n",
    "**Goal:** Can I see if the encoder _or_ query space gives semantically meaningful information?\n",
    "\n",
    "\n",
    "- It would be really cool if we could see the center of the circle be important for predicting the circle properties!! "
   ]
  },
  {
   "cell_type": "code",
   "execution_count": null,
   "id": "e51284ec-dfb7-44b9-817a-2df007460099",
   "metadata": {},
   "outputs": [],
   "source": []
  }
 ],
 "metadata": {
  "kernelspec": {
   "display_name": "",
   "name": ""
  },
  "language_info": {
   "name": ""
  }
 },
 "nbformat": 4,
 "nbformat_minor": 5
}
