{
 "cells": [
  {
   "cell_type": "markdown",
   "id": "4dc91399-e504-41fd-a822-630c17b60714",
   "metadata": {},
   "source": [
    "# Pretrained CNN\n",
    "\n",
    "**Goal:**  It seems like we're not getting a good enough CNN embedding (based on the similarity score between the input pixels).\n",
    "\n",
    "So... I'm going to try to"
   ]
  }
 ],
 "metadata": {
  "kernelspec": {
   "display_name": "Python 3",
   "language": "python",
   "name": "python3"
  },
  "language_info": {
   "codemirror_mode": {
    "name": "ipython",
    "version": 3
   },
   "file_extension": ".py",
   "mimetype": "text/x-python",
   "name": "python",
   "nbconvert_exporter": "python",
   "pygments_lexer": "ipython3",
   "version": "3.8.12"
  }
 },
 "nbformat": 4,
 "nbformat_minor": 5
}
