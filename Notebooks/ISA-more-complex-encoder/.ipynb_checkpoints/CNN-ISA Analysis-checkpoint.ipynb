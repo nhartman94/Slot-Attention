{
 "cells": [
  {
   "cell_type": "markdown",
   "id": "ca4bd973-23ed-4baf-8aff-c842a67e962b",
   "metadata": {},
   "source": [
    "# Investigation of CNN network.\n",
    "\n",
    "When does the network perform well, when does it now?\n",
    "\n",
    "Some ideas:\n",
    "\n",
    "- KL-loss as a function of difference in radius\n",
    "- KL-loss for each object as a function of radius\n",
    "- ... as a function of x position\n",
    "- ... as a function of y position\n",
    "\n",
    "\n",
    "I can use a pandas dataframe and use my newly learned pandas knowledge yeay!!"
   ]
  },
  {
   "cell_type": "code",
   "execution_count": null,
   "id": "bfa173ed-cb2f-4fa2-97e8-a5271a4273d3",
   "metadata": {},
   "outputs": [],
   "source": []
  }
 ],
 "metadata": {
  "kernelspec": {
   "display_name": "sarasvenv",
   "language": "python",
   "name": "sarasvenv"
  },
  "language_info": {
   "codemirror_mode": {
    "name": "ipython",
    "version": 3
   },
   "file_extension": ".py",
   "mimetype": "text/x-python",
   "name": "python",
   "nbconvert_exporter": "python",
   "pygments_lexer": "ipython3",
   "version": "3.10.9"
  }
 },
 "nbformat": 4,
 "nbformat_minor": 5
}
