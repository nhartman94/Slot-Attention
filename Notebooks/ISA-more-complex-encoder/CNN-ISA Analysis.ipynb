{
 "cells": [
  {
   "cell_type": "markdown",
   "id": "ca4bd973-23ed-4baf-8aff-c842a67e962b",
   "metadata": {},
   "source": [
    "# Investigation of CNN network.\n",
    "\n",
    "When does the network perform well, when does it now?\n",
    "\n",
    "Some ideas:\n",
    "\n",
    "- KL-loss as a function of difference in radius\n",
    "- KL-loss for each object as a function of radius\n",
    "- ... as a function of x position\n",
    "- ... as a function of y position\n",
    "\n",
    "\n",
    "I can use a pandas dataframe and use my newly learned pandas knowledge yeay!!"
   ]
  },
  {
   "cell_type": "code",
   "execution_count": 1,
   "id": "bfa173ed-cb2f-4fa2-97e8-a5271a4273d3",
   "metadata": {},
   "outputs": [],
   "source": [
    "import torch\n",
    "import numpy as np\n",
    "import pandas as pd\n",
    "\n",
    "import matplotlib.pyplot as plt\n",
    "import matplotlib as mlp\n",
    "from mpl_toolkits.axes_grid1 import make_axes_locatable\n",
    "\n",
    "import json, yaml, os\n",
    "os.sys.path.append('./../../code')\n",
    "\n",
    "from plotting import plot_kslots, plot_kslots_iters\n",
    "from data import make_batch\n",
    "from model import InvariantSlotAttention\n",
    "\n",
    "from matplotlib.patches import Circle\n",
    "import json\n",
    "\n",
    "# Set numpy seed for test set sampling \n",
    "torch_seed = 24082023\n",
    "torch.manual_seed( torch_seed )\n",
    "\n",
    "import random\n",
    "random.seed(torch_seed)\n",
    "\n",
    "%load_ext autoreload\n",
    "%autoreload 2"
   ]
  },
  {
   "cell_type": "code",
   "execution_count": 2,
   "id": "8adc1a9a-2f15-48dd-bf8f-78cb2a62bf32",
   "metadata": {
    "tags": []
   },
   "outputs": [],
   "source": [
    "device = 'cpu'"
   ]
  },
  {
   "cell_type": "code",
   "execution_count": 3,
   "id": "d0f402fc-0e14-48fd-9663-b57fe96ca54d",
   "metadata": {
    "tags": []
   },
   "outputs": [],
   "source": [
    "cID_prev = 'isa-scclevr-EncStudy-moreCNN'\n",
    "with open(f'./../../code/configs/{cID_prev}.yaml') as f:\n",
    "    cd = yaml.safe_load(f)\n",
    "\n",
    "hps = cd['hps']\n",
    "hps['device'] = device"
   ]
  },
  {
   "cell_type": "code",
   "execution_count": 4,
   "id": "deae40ca-bb65-457b-a492-b53cad25194b",
   "metadata": {
    "tags": []
   },
   "outputs": [
    {
     "name": "stdout",
     "output_type": "stream",
     "text": [
      "Using  to encode data.\n"
     ]
    }
   ],
   "source": [
    "m = InvariantSlotAttention(**hps)"
   ]
  },
  {
   "cell_type": "code",
   "execution_count": 5,
   "id": "98787b32-e193-43d3-b927-dd158f630fe8",
   "metadata": {
    "tags": []
   },
   "outputs": [
    {
     "name": "stdout",
     "output_type": "stream",
     "text": [
      "Starting from an earlier training 16000\n"
     ]
    },
    {
     "data": {
      "text/plain": [
       "<All keys matched successfully>"
      ]
     },
     "execution_count": 5,
     "metadata": {},
     "output_type": "execute_result"
    }
   ],
   "source": [
    "lastIter = 16000\n",
    "weightPath = f'./../../code/models/{cID_prev}/m_{lastIter}.pt'\n",
    "print(f'Starting from an earlier training',lastIter)\n",
    "\n",
    "m.load_state_dict(torch.load(weightPath,map_location=device))"
   ]
  },
  {
   "cell_type": "code",
   "execution_count": 6,
   "id": "d937d873-85d5-4b2f-8543-bc1dcca9aa28",
   "metadata": {
    "tags": []
   },
   "outputs": [
    {
     "name": "stdout",
     "output_type": "stream",
     "text": [
      "The autoreload extension is already loaded. To reload it, use:\n",
      "  %reload_ext autoreload\n"
     ]
    }
   ],
   "source": [
    "import scclevr\n",
    "os.sys.path.append('./../../../evaluation')\n",
    "from dataset import TestDataset\n",
    "import model_performance as ev\n",
    "%load_ext autoreload\n",
    "%autoreload 2"
   ]
  },
  {
   "cell_type": "code",
   "execution_count": 7,
   "id": "3e5def7e-d888-42ec-bcf6-3bef7f70439e",
   "metadata": {
    "tags": []
   },
   "outputs": [],
   "source": [
    "ds = TestDataset()\n",
    "X = torch.FloatTensor(ds.event_images).to(device)"
   ]
  },
  {
   "cell_type": "code",
   "execution_count": 8,
   "id": "a45e2379-ba42-4a63-a707-0e51b118e5a5",
   "metadata": {
    "tags": []
   },
   "outputs": [],
   "source": [
    "with torch.no_grad():\n",
    "    queries, att, Y_pred = m(X) "
   ]
  },
  {
   "cell_type": "code",
   "execution_count": 9,
   "id": "904523ae-74e9-4c8f-a43b-9d742d3e0abe",
   "metadata": {
    "tags": []
   },
   "outputs": [],
   "source": [
    "mp = ev.Model_performance(ds, att)\n",
    "mp.hungarian_matching()"
   ]
  },
  {
   "cell_type": "code",
   "execution_count": 10,
   "id": "5e03d04d-21b9-44c8-8395-e4f44271bc03",
   "metadata": {
    "tags": []
   },
   "outputs": [
    {
     "data": {
      "text/plain": [
       "tensor(0.0003)"
      ]
     },
     "execution_count": 10,
     "metadata": {},
     "output_type": "execute_result"
    }
   ],
   "source": [
    "mp.KL_loss()"
   ]
  },
  {
   "cell_type": "markdown",
   "id": "2f4d23dc-b3c7-40cc-9559-7873dd755adf",
   "metadata": {},
   "source": [
    "# Analysis\n",
    "\n",
    "Okay!! Let's get started with the analysis!!"
   ]
  },
  {
   "cell_type": "code",
   "execution_count": 12,
   "id": "bb62b5bb-560d-4713-89c8-e705ed68d822",
   "metadata": {
    "tags": []
   },
   "outputs": [],
   "source": [
    "import pandas"
   ]
  },
  {
   "cell_type": "code",
   "execution_count": 38,
   "id": "e9fe1b51-5c2f-4e17-9c51-2e66b3d5aa9a",
   "metadata": {
    "tags": []
   },
   "outputs": [],
   "source": [
    "import seaborn as sns"
   ]
  },
  {
   "cell_type": "code",
   "execution_count": 14,
   "id": "5e04886d-77b8-429d-b699-e3ffb13de904",
   "metadata": {
    "tags": []
   },
   "outputs": [],
   "source": [
    "df = pd.DataFrame()"
   ]
  },
  {
   "cell_type": "code",
   "execution_count": 18,
   "id": "6418c33a-d3cb-4393-ae3c-111764b0b23f",
   "metadata": {
    "tags": []
   },
   "outputs": [
    {
     "data": {
      "text/plain": [
       "array([8.5082080e-04, 1.3169093e-04, 7.8442663e-06, ..., 5.1770173e-04,\n",
       "       5.0751005e-06, 2.5585100e-06], dtype=float32)"
      ]
     },
     "execution_count": 18,
     "metadata": {},
     "output_type": "execute_result"
    }
   ],
   "source": [
    "mp.loss_KL.numpy()"
   ]
  },
  {
   "cell_type": "code",
   "execution_count": 19,
   "id": "a34d2fea-00fd-4f77-a28d-c5bff1809f06",
   "metadata": {
    "tags": []
   },
   "outputs": [],
   "source": [
    "df[\"loss\"] =mp.loss_KL.numpy()"
   ]
  },
  {
   "cell_type": "code",
   "execution_count": 22,
   "id": "7c08cd43-30cd-483d-a6a5-06e217bf64f3",
   "metadata": {
    "tags": []
   },
   "outputs": [
    {
     "data": {
      "text/plain": [
       "array([[[ 0.19274336,  0.31581712,  0.20575139],\n",
       "        [ 0.46728778,  0.26422697,  0.20931336]],\n",
       "\n",
       "       [[ 0.06599332, -0.16048571,  0.27169004],\n",
       "        [-0.47581583, -0.03471917,  0.22540759]],\n",
       "\n",
       "       [[-0.2895236 ,  0.3665046 ,  0.24373227],\n",
       "        [ 0.43792537,  0.4566147 ,  0.1189608 ]],\n",
       "\n",
       "       ...,\n",
       "\n",
       "       [[-0.48958227, -0.3999218 ,  0.29032898],\n",
       "        [ 0.08475371, -0.42380127,  0.28478903]],\n",
       "\n",
       "       [[-0.3901222 , -0.08497405,  0.22343406],\n",
       "        [-0.12924586,  0.45598418,  0.17115933]],\n",
       "\n",
       "       [[-0.4352714 , -0.18687505,  0.2770639 ],\n",
       "        [ 0.32188344, -0.16385613,  0.16743165]]], dtype=float32)"
      ]
     },
     "execution_count": 22,
     "metadata": {},
     "output_type": "execute_result"
    }
   ],
   "source": [
    "ds.object_features"
   ]
  },
  {
   "cell_type": "code",
   "execution_count": 24,
   "id": "39d4e6d1-bd23-458c-88e7-6cb1236714ff",
   "metadata": {
    "tags": []
   },
   "outputs": [],
   "source": [
    "df[\"x1\"] = ds.object_features[:, 0, 0]\n",
    "df[\"x2\"] = ds.object_features[:, 1, 0]\n",
    "df[\"y1\"] = ds.object_features[:, 0, 1]\n",
    "df[\"y2\"] = ds.object_features[:, 1, 1]\n",
    "df[\"r1\"] = ds.object_features[:, 0, 2]\n",
    "df[\"r2\"] = ds.object_features[:, 1, 2]"
   ]
  },
  {
   "cell_type": "code",
   "execution_count": 26,
   "id": "4f9cebb5-c89a-41a8-a80f-ce72cc382add",
   "metadata": {
    "tags": []
   },
   "outputs": [],
   "source": [
    "distance = np.sqrt((df[\"x2\"]-df[\"x1\"])**2 + (df[\"y2\"]-df[\"y1\"])**2)"
   ]
  },
  {
   "cell_type": "code",
   "execution_count": 30,
   "id": "b8e985d5-5f5c-423d-a6b9-726b9f57fd3f",
   "metadata": {
    "tags": []
   },
   "outputs": [],
   "source": [
    "overlap = [True if distance[i]-(df[\"r1\"][i]+df[\"r2\"][i])<0 else False for i in range(5000)]"
   ]
  },
  {
   "cell_type": "code",
   "execution_count": 32,
   "id": "4376f93e-bead-4b7b-9fc5-cc4989105c14",
   "metadata": {
    "tags": []
   },
   "outputs": [],
   "source": [
    "df[\"overlap\"] = overlap"
   ]
  },
  {
   "cell_type": "code",
   "execution_count": 41,
   "id": "f4e1727d-363f-44a4-af56-7be05d68bf6f",
   "metadata": {
    "tags": []
   },
   "outputs": [],
   "source": [
    "df[\"r_diff\"] = abs(df[\"r1\"]-df[\"r2\"])"
   ]
  },
  {
   "cell_type": "code",
   "execution_count": 44,
   "id": "cdf5f308-2705-4bd3-a11e-7e26e361e82f",
   "metadata": {
    "tags": []
   },
   "outputs": [],
   "source": [
    "df[\"pos_distance\"] = distance"
   ]
  },
  {
   "cell_type": "code",
   "execution_count": 45,
   "id": "4f7f9814-e257-4a09-9b99-9c84cbb49e0d",
   "metadata": {
    "tags": []
   },
   "outputs": [
    {
     "data": {
      "text/plain": [
       "loss            float32\n",
       "x1              float32\n",
       "x2              float32\n",
       "y1              float32\n",
       "y2              float32\n",
       "r1              float32\n",
       "r2              float32\n",
       "overlap            bool\n",
       "r_diff          float32\n",
       "pos_distance    float32\n",
       "dtype: object"
      ]
     },
     "execution_count": 45,
     "metadata": {},
     "output_type": "execute_result"
    }
   ],
   "source": [
    "df.dtypes"
   ]
  },
  {
   "cell_type": "code",
   "execution_count": 49,
   "id": "842c78ad-c6e6-4f70-afa1-49785b2525e2",
   "metadata": {
    "tags": []
   },
   "outputs": [
    {
     "data": {
      "image/png": "[encoded data removed]",
      "text/plain": [
       "<Figure size 640x480 with 1 Axes>"
      ]
     },
     "metadata": {},
     "output_type": "display_data"
    }
   ],
   "source": [
    "sns.barplot(df.corr()[\"loss\"].drop(\"loss\").sort_values(ascending=True))\n",
    "plt.xticks(rotation=45)\n",
    "plt.show()"
   ]
  },
  {
   "cell_type": "code",
   "execution_count": 55,
   "id": "23040cde-db80-470f-ac1f-b6b848c81fbf",
   "metadata": {
    "tags": []
   },
   "outputs": [],
   "source": [
    "df[\"log_loss\"] = np.log10(df[\"loss\"])"
   ]
  },
  {
   "cell_type": "code",
   "execution_count": 63,
   "id": "03a8c8ff-f0c7-42fa-b315-be1a66b376eb",
   "metadata": {
    "tags": []
   },
   "outputs": [],
   "source": [
    "from matplotlib.colors import LogNorm"
   ]
  },
  {
   "cell_type": "markdown",
   "id": "67128c4d-352c-4fce-b842-e3235d9ae058",
   "metadata": {},
   "source": [
    "Show most important features in histogram"
   ]
  },
  {
   "cell_type": "code",
   "execution_count": 65,
   "id": "bdcf130f-bf6a-44a6-8c15-df4eb00fc3e4",
   "metadata": {
    "tags": []
   },
   "outputs": [
    {
     "data": {
      "text/plain": [
       "<Axes: xlabel='log_loss', ylabel='overlap'>"
      ]
     },
     "execution_count": 65,
     "metadata": {},
     "output_type": "execute_result"
    },
    {
     "data": {
      "image/png": "[encoded data removed]",
      "text/plain": [
       "<Figure size 640x480 with 2 Axes>"
      ]
     },
     "metadata": {},
     "output_type": "display_data"
    }
   ],
   "source": [
    "sns.histplot(data=df, x=\"log_loss\", y='overlap', cbar=True)"
   ]
  },
  {
   "cell_type": "code",
   "execution_count": 69,
   "id": "f5a5bff7-b505-4447-9ccc-f04835f1a756",
   "metadata": {
    "tags": []
   },
   "outputs": [
    {
     "name": "stderr",
     "output_type": "stream",
     "text": [
      "/tmp/ipykernel_22724/4095561388.py:1: FutureWarning: pandas.value_counts is deprecated and will be removed in a future version. Use pd.Series(obj).value_counts() instead.\n",
      "  pd.value_counts(df[\"overlap\"], normalize=True)\n"
     ]
    },
    {
     "data": {
      "text/plain": [
       "overlap\n",
       "False    0.6822\n",
       "True     0.3178\n",
       "Name: proportion, dtype: float64"
      ]
     },
     "execution_count": 69,
     "metadata": {},
     "output_type": "execute_result"
    }
   ],
   "source": [
    "pd.value_counts(df[\"overlap\"], normalize=True)"
   ]
  },
  {
   "cell_type": "code",
   "execution_count": 71,
   "id": "b91bde79-6e7a-45d7-aa3b-0f75690436b3",
   "metadata": {
    "tags": []
   },
   "outputs": [
    {
     "data": {
      "text/plain": [
       "<Axes: xlabel='log_loss', ylabel='r1'>"
      ]
     },
     "execution_count": 71,
     "metadata": {},
     "output_type": "execute_result"
    },
    {
     "data": {
      "image/png": "[encoded data removed]",
      "text/plain": [
       "<Figure size 640x480 with 2 Axes>"
      ]
     },
     "metadata": {},
     "output_type": "display_data"
    }
   ],
   "source": [
    "sns.histplot(data=df, x=\"log_loss\", y='r1', cbar=True)"
   ]
  },
  {
   "cell_type": "code",
   "execution_count": 67,
   "id": "2d9fa9a3-ab9e-400d-a5e6-f9b9f1f9a2b6",
   "metadata": {
    "tags": []
   },
   "outputs": [
    {
     "data": {
      "text/plain": [
       "<Axes: xlabel='log_loss', ylabel='r2'>"
      ]
     },
     "execution_count": 67,
     "metadata": {},
     "output_type": "execute_result"
    },
    {
     "data": {
      "image/png": "[encoded data removed]",
      "text/plain": [
       "<Figure size 640x480 with 2 Axes>"
      ]
     },
     "metadata": {},
     "output_type": "display_data"
    }
   ],
   "source": [
    "sns.histplot(data=df, x=\"log_loss\", y='r2', cbar=True)"
   ]
  },
  {
   "cell_type": "code",
   "execution_count": null,
   "id": "ac57e5c8-8676-47e8-be62-767c0c9ccc8d",
   "metadata": {},
   "outputs": [],
   "source": []
  }
 ],
 "metadata": {
  "kernelspec": {
   "display_name": "sarasvenv",
   "language": "python",
   "name": "sarasvenv"
  },
  "language_info": {
   "codemirror_mode": {
    "name": "ipython",
    "version": 3
   },
   "file_extension": ".py",
   "mimetype": "text/x-python",
   "name": "python",
   "nbconvert_exporter": "python",
   "pygments_lexer": "ipython3",
   "version": "3.10.9"
  }
 },
 "nbformat": 4,
 "nbformat_minor": 5
}
