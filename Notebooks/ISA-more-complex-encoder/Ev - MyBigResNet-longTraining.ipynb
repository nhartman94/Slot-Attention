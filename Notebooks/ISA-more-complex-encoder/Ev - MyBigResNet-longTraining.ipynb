{
 "cells": [
  {
   "cell_type": "markdown",
   "id": "bda690a4-8ffa-4b52-94c8-5617fce253da",
   "metadata": {},
   "source": [
    "# ISA on scclevr with MyBigResNet as encoder\n",
    "\n",
    "Using the common Evalution Framework, I like to compare it to the benchmark ISA!\n",
    "\n",
    "This is a bigger ResNet then the \"MyResNet\" but also does not use bottleneck tecinque."
   ]
  },
  {
   "cell_type": "code",
   "execution_count": 1,
   "id": "7c1cebd4-178d-4e53-b0fa-d8c704855759",
   "metadata": {
    "tags": []
   },
   "outputs": [],
   "source": [
    "import torch\n",
    "import numpy as np\n",
    "import pandas as pd\n",
    "\n",
    "import matplotlib.pyplot as plt\n",
    "import matplotlib as mlp\n",
    "from mpl_toolkits.axes_grid1 import make_axes_locatable\n",
    "\n",
    "import json, yaml, os\n",
    "os.sys.path.append('./../../code')\n",
    "\n",
    "from plotting import plot_kslots, plot_kslots_iters\n",
    "from data import make_batch\n",
    "from model import InvariantSlotAttention\n",
    "\n",
    "from matplotlib.patches import Circle\n",
    "import json\n",
    "\n",
    "# Set numpy seed for test set sampling \n",
    "torch_seed = 24082023\n",
    "torch.manual_seed( torch_seed )\n",
    "\n",
    "import random\n",
    "random.seed(torch_seed)\n",
    "\n",
    "%load_ext autoreload\n",
    "%autoreload 2"
   ]
  },
  {
   "cell_type": "code",
   "execution_count": 2,
   "id": "9f13902a-2390-49fb-9c7b-7192c0ba3f30",
   "metadata": {
    "tags": []
   },
   "outputs": [],
   "source": [
    "device = 'cpu'"
   ]
  },
  {
   "cell_type": "code",
   "execution_count": 3,
   "id": "8877e2ba-e94c-4dfa-8be5-70e39b168f30",
   "metadata": {
    "tags": []
   },
   "outputs": [],
   "source": [
    "cID_prev = 'isa-scclevr-EncStudy-myBigResNet-longTraining'\n",
    "with open(f'./../../code/configs/{cID_prev}.yaml') as f:\n",
    "    cd = yaml.safe_load(f)\n",
    "\n",
    "hps = cd['hps']\n",
    "hps['device'] = device"
   ]
  },
  {
   "cell_type": "code",
   "execution_count": 4,
   "id": "1d604312-3bbd-413b-a361-c7e1fccf23a6",
   "metadata": {
    "tags": []
   },
   "outputs": [
    {
     "name": "stdout",
     "output_type": "stream",
     "text": [
      "Using MyBigResNet to encode data.\n"
     ]
    }
   ],
   "source": [
    "m = InvariantSlotAttention(**hps)"
   ]
  },
  {
   "cell_type": "code",
   "execution_count": 5,
   "id": "30e27db9-e3ba-43e4-bcaa-8b8087bef6ae",
   "metadata": {
    "tags": []
   },
   "outputs": [
    {
     "ename": "FileNotFoundError",
     "evalue": "[Errno 2] No such file or directory: './../../code/models/isa-scclevr-EncStudy-myBigResNet-longTraining/loss.json'",
     "output_type": "error",
     "traceback": [
      "\u001b[0;31m---------------------------------------------------------------------------\u001b[0m",
      "\u001b[0;31mFileNotFoundError\u001b[0m                         Traceback (most recent call last)",
      "Cell \u001b[0;32mIn[5], line 1\u001b[0m\n\u001b[0;32m----> 1\u001b[0m f \u001b[38;5;241m=\u001b[39m \u001b[38;5;28;43mopen\u001b[39;49m\u001b[43m(\u001b[49m\u001b[38;5;124;43mf\u001b[39;49m\u001b[38;5;124;43m'\u001b[39;49m\u001b[38;5;124;43m./../../code/models/\u001b[39;49m\u001b[38;5;132;43;01m{\u001b[39;49;00m\u001b[43mcID_prev\u001b[49m\u001b[38;5;132;43;01m}\u001b[39;49;00m\u001b[38;5;124;43m/loss.json\u001b[39;49m\u001b[38;5;124;43m'\u001b[39;49m\u001b[43m)\u001b[49m\n\u001b[1;32m      2\u001b[0m \u001b[38;5;66;03m# returns JSON object as a dictionary\u001b[39;00m\n\u001b[1;32m      3\u001b[0m losses \u001b[38;5;241m=\u001b[39m json\u001b[38;5;241m.\u001b[39mload(f)\n",
      "File \u001b[0;32m/raven/u/saumi/nn-venv/lib/python3.10/site-packages/IPython/core/interactiveshell.py:286\u001b[0m, in \u001b[0;36m_modified_open\u001b[0;34m(file, *args, **kwargs)\u001b[0m\n\u001b[1;32m    279\u001b[0m \u001b[38;5;28;01mif\u001b[39;00m file \u001b[38;5;129;01min\u001b[39;00m {\u001b[38;5;241m0\u001b[39m, \u001b[38;5;241m1\u001b[39m, \u001b[38;5;241m2\u001b[39m}:\n\u001b[1;32m    280\u001b[0m     \u001b[38;5;28;01mraise\u001b[39;00m \u001b[38;5;167;01mValueError\u001b[39;00m(\n\u001b[1;32m    281\u001b[0m         \u001b[38;5;124mf\u001b[39m\u001b[38;5;124m\"\u001b[39m\u001b[38;5;124mIPython won\u001b[39m\u001b[38;5;124m'\u001b[39m\u001b[38;5;124mt let you open fd=\u001b[39m\u001b[38;5;132;01m{\u001b[39;00mfile\u001b[38;5;132;01m}\u001b[39;00m\u001b[38;5;124m by default \u001b[39m\u001b[38;5;124m\"\u001b[39m\n\u001b[1;32m    282\u001b[0m         \u001b[38;5;124m\"\u001b[39m\u001b[38;5;124mas it is likely to crash IPython. If you know what you are doing, \u001b[39m\u001b[38;5;124m\"\u001b[39m\n\u001b[1;32m    283\u001b[0m         \u001b[38;5;124m\"\u001b[39m\u001b[38;5;124myou can use builtins\u001b[39m\u001b[38;5;124m'\u001b[39m\u001b[38;5;124m open.\u001b[39m\u001b[38;5;124m\"\u001b[39m\n\u001b[1;32m    284\u001b[0m     )\n\u001b[0;32m--> 286\u001b[0m \u001b[38;5;28;01mreturn\u001b[39;00m \u001b[43mio_open\u001b[49m\u001b[43m(\u001b[49m\u001b[43mfile\u001b[49m\u001b[43m,\u001b[49m\u001b[43m \u001b[49m\u001b[38;5;241;43m*\u001b[39;49m\u001b[43margs\u001b[49m\u001b[43m,\u001b[49m\u001b[43m \u001b[49m\u001b[38;5;241;43m*\u001b[39;49m\u001b[38;5;241;43m*\u001b[39;49m\u001b[43mkwargs\u001b[49m\u001b[43m)\u001b[49m\n",
      "\u001b[0;31mFileNotFoundError\u001b[0m: [Errno 2] No such file or directory: './../../code/models/isa-scclevr-EncStudy-myBigResNet-longTraining/loss.json'"
     ]
    }
   ],
   "source": [
    "f = open(f'./../../code/models/{cID_prev}/loss.json')\n",
    "# returns JSON object as a dictionary\n",
    "losses = json.load(f)"
   ]
  },
  {
   "cell_type": "code",
   "execution_count": null,
   "id": "bcd74f79-86cd-47ef-b245-da658519fb80",
   "metadata": {
    "tags": []
   },
   "outputs": [],
   "source": [
    "for k,v in losses.items():\n",
    "    plt.plot(v,label=k)\n",
    "    print(\"loss \", k, \" min: \", np.min(v), \" at \", np.argmin(v))\n",
    "plt.xlabel('Iters')\n",
    "plt.ylabel('Loss')\n",
    "plt.legend()\n",
    "plt.show()"
   ]
  },
  {
   "cell_type": "code",
   "execution_count": null,
   "id": "48324ab5-4b09-4a8a-9e8f-5634268bbfc3",
   "metadata": {
    "tags": []
   },
   "outputs": [],
   "source": [
    "lastIter = 15000\n",
    "weightPath = f'./../../code/models/{cID_prev}/m_{lastIter}.pt'\n",
    "print(f'Starting from an earlier training',lastIter)\n",
    "\n",
    "m.load_state_dict(torch.load(weightPath,map_location=device))"
   ]
  },
  {
   "cell_type": "markdown",
   "id": "83bd200c-548f-4938-919f-6cc6f6d5d8d7",
   "metadata": {},
   "source": [
    "### Evaluate the model\n",
    "\n",
    "Use the common evaluation framework"
   ]
  },
  {
   "cell_type": "code",
   "execution_count": null,
   "id": "f6044c56-5c97-4841-bd17-934d9d7310e7",
   "metadata": {
    "tags": []
   },
   "outputs": [],
   "source": [
    "import scclevr\n",
    "os.sys.path.append('./../../../evaluation')\n",
    "from dataset import TestDataset\n",
    "import model_performance as ev\n",
    "%load_ext autoreload\n",
    "%autoreload 2"
   ]
  },
  {
   "cell_type": "code",
   "execution_count": null,
   "id": "d7efea3f-0c5b-4c54-9cd6-f80994ad6c02",
   "metadata": {
    "tags": []
   },
   "outputs": [],
   "source": [
    "ds = TestDataset()\n",
    "X = torch.FloatTensor(ds.event_images).to(device)"
   ]
  },
  {
   "cell_type": "code",
   "execution_count": null,
   "id": "c2e7e2e5-27a7-46c6-886e-12d0db589e86",
   "metadata": {
    "tags": []
   },
   "outputs": [],
   "source": [
    "with torch.no_grad():\n",
    "    queries, att, Y_pred = m(X) "
   ]
  },
  {
   "cell_type": "code",
   "execution_count": null,
   "id": "d3ce9b5e-d44c-4433-ac82-0027aebe5928",
   "metadata": {
    "tags": []
   },
   "outputs": [],
   "source": [
    "mp = ev.Model_performance(ds, att)\n",
    "mp.hungarian_matching()"
   ]
  },
  {
   "cell_type": "code",
   "execution_count": null,
   "id": "dd9d98a2-5b04-48dc-bbce-dd2c98c898a8",
   "metadata": {
    "tags": []
   },
   "outputs": [],
   "source": [
    "for i in range(5):\n",
    "    mp.plot_instance_i(i)"
   ]
  },
  {
   "cell_type": "code",
   "execution_count": null,
   "id": "1df46bb5-02d2-43c3-9656-1431c6c4fe69",
   "metadata": {
    "tags": []
   },
   "outputs": [],
   "source": [
    "loss = mp.KL_loss()\n",
    "np.log10(loss)"
   ]
  },
  {
   "cell_type": "code",
   "execution_count": null,
   "id": "b517dfc9-ac63-4d65-b9c6-8bf2b8cdea0e",
   "metadata": {
    "tags": []
   },
   "outputs": [],
   "source": [
    "n, bins = mp.loss_hist()"
   ]
  },
  {
   "cell_type": "code",
   "execution_count": null,
   "id": "8fdb6628-8378-4544-9e19-3125f5f68ac5",
   "metadata": {
    "tags": []
   },
   "outputs": [],
   "source": [
    "#with open('MyBigResNet.npy', 'wb') as f:\n",
    "#    np.save(f, n)\n",
    "#    np.save(f, bins)"
   ]
  },
  {
   "cell_type": "markdown",
   "id": "caaa833b-3ee9-4e4c-a128-01afb55c738f",
   "metadata": {},
   "source": [
    "Mhhhh .... Best network until now and still not as good as Florians...why?\n",
    "\n"
   ]
  },
  {
   "cell_type": "code",
   "execution_count": null,
   "id": "df7d5c9b-84d4-473a-a3cd-55188c31c421",
   "metadata": {
    "tags": []
   },
   "outputs": [],
   "source": [
    "mp.Pearson_correlation_coefficients()"
   ]
  },
  {
   "cell_type": "code",
   "execution_count": null,
   "id": "e8cb6c73-afba-4e3b-92b9-41c95cf0288d",
   "metadata": {
    "tags": []
   },
   "outputs": [],
   "source": [
    "mp.KDE_hist()"
   ]
  },
  {
   "cell_type": "markdown",
   "id": "09230bfd-d057-4466-86f6-a02dd942da6d",
   "metadata": {},
   "source": [
    "### Plot loss as a function to of the distance to the border!"
   ]
  },
  {
   "cell_type": "code",
   "execution_count": null,
   "id": "160875e7-d5d6-4508-91cf-a52d5579ec76",
   "metadata": {
    "tags": []
   },
   "outputs": [],
   "source": [
    "df = mp._make_dataframe()"
   ]
  },
  {
   "cell_type": "code",
   "execution_count": null,
   "id": "d036e640-5b7c-4cfb-8ee0-33a4f0f4c06e",
   "metadata": {
    "tags": []
   },
   "outputs": [],
   "source": [
    "df"
   ]
  },
  {
   "cell_type": "code",
   "execution_count": null,
   "id": "cf37fce8-3383-44f8-bcf1-45ee43d9f44e",
   "metadata": {
    "tags": []
   },
   "outputs": [],
   "source": [
    "df.shape"
   ]
  },
  {
   "cell_type": "code",
   "execution_count": null,
   "id": "0aad6050-f534-4bb7-8f06-0f79333f2d52",
   "metadata": {
    "tags": []
   },
   "outputs": [],
   "source": [
    "overlap_edge_obj1 = [True if (abs(df[\"x1\"][i])+df[\"r1\"][i]>0.5) or (abs(df[\"y1\"][i])+df[\"r1\"][i]>0.5) else False for i in range(df.shape[0])]\n",
    "overlap_edge_obj2 = [True if (abs(df[\"x2\"][i])+df[\"r2\"][i]>0.5) or (abs(df[\"y2\"][i])+df[\"r2\"][i]>0.5) else False for i in range(df.shape[0])]"
   ]
  },
  {
   "cell_type": "code",
   "execution_count": null,
   "id": "ea727de1-f53f-450f-8bb8-a0d2274f6aa1",
   "metadata": {
    "tags": []
   },
   "outputs": [],
   "source": [
    "overlap_edge_any = [overlap_edge_obj1 or overlap_edge_obj2]"
   ]
  },
  {
   "cell_type": "code",
   "execution_count": null,
   "id": "168facc9-2046-4c6a-978b-6e0ea53e64e1",
   "metadata": {
    "tags": []
   },
   "outputs": [],
   "source": [
    "len(overlap_edge_any[0])"
   ]
  },
  {
   "cell_type": "code",
   "execution_count": null,
   "id": "e23ff326-93a7-49a5-836a-7c5923c3ae22",
   "metadata": {
    "tags": []
   },
   "outputs": [],
   "source": [
    "overlap_edge_both = [overlap_edge_obj1 and overlap_edge_obj2]"
   ]
  },
  {
   "cell_type": "code",
   "execution_count": null,
   "id": "5fc9d239-e731-4c68-a22f-04d618c0a3b2",
   "metadata": {
    "tags": []
   },
   "outputs": [],
   "source": [
    "overlap_edge = [2 if (overlap_edge_obj1[i] and overlap_edge_obj2[i]) else (1 if overlap_edge_obj1[i] or overlap_edge_obj2[i] else 0) for i in range(df.shape[0])]"
   ]
  },
  {
   "cell_type": "code",
   "execution_count": null,
   "id": "50fe1aea-50ff-438a-ac35-b98978e31a29",
   "metadata": {
    "tags": []
   },
   "outputs": [],
   "source": [
    "df[\"overlap_edge\"] = overlap_edge"
   ]
  },
  {
   "cell_type": "code",
   "execution_count": null,
   "id": "21d937f5-d39b-4de2-af7d-f11199aa860f",
   "metadata": {
    "tags": []
   },
   "outputs": [],
   "source": [
    "import seaborn as sns"
   ]
  },
  {
   "cell_type": "code",
   "execution_count": null,
   "id": "a736095f-83b1-4d04-bc38-5d6face9e7a0",
   "metadata": {
    "tags": []
   },
   "outputs": [],
   "source": [
    "df[\"overlap_edge\"].value_counts(normalize=True)"
   ]
  },
  {
   "cell_type": "code",
   "execution_count": null,
   "id": "7a50c7a0-c25c-40ac-b112-3ae1921e9a65",
   "metadata": {
    "tags": []
   },
   "outputs": [],
   "source": [
    "sns.kdeplot(data=df, x=\"log_loss\", hue='overlap_edge', fill=True)"
   ]
  },
  {
   "cell_type": "code",
   "execution_count": null,
   "id": "49e2b8e2-f545-49d5-b190-4845630559c9",
   "metadata": {
    "tags": []
   },
   "outputs": [],
   "source": [
    "overlap_edge_value =abs(df[\"x1\"][overlap_edge_obj1])+df[\"r1\"][overlap_edge_obj1] + abs(df[\"y1\"][overlap_edge_obj1])+df[\"r1\"][overlap_edge_obj1] + abs(df[\"x2\"][overlap_edge_obj2])+df[\"r2\"][overlap_edge_obj2] + abs(df[\"y2\"][overlap_edge_obj2])+df[\"r2\"][overlap_edge_obj2]\n",
    "\n"
   ]
  },
  {
   "cell_type": "code",
   "execution_count": null,
   "id": "8ffdf408-ce3f-42cb-a92c-325b35a8cc3d",
   "metadata": {
    "tags": []
   },
   "outputs": [],
   "source": [
    "overlap_edge_value.shape"
   ]
  },
  {
   "cell_type": "code",
   "execution_count": null,
   "id": "c91f5982-45c8-4272-aebf-1e58cf4d332f",
   "metadata": {
    "tags": []
   },
   "outputs": [],
   "source": [
    "o_x1 = [abs(df[\"x1\"][i])+df[\"r1\"][i] if (abs(df[\"x1\"][i])+df[\"r1\"][i]>0.5) else 0 for i in range(df.shape[0])]\n",
    "o_y1 = [abs(df[\"y1\"][i])+df[\"r1\"][i] if (abs(df[\"y1\"][i])+df[\"r1\"][i]>0.5) else 0 for i in range(df.shape[0])]\n",
    "o_x2 = [abs(df[\"x2\"][i])+df[\"r2\"][i] if (abs(df[\"x2\"][i])+df[\"r2\"][i]>0.5) else 0 for i in range(df.shape[0])]\n",
    "o_y2 = [abs(df[\"y2\"][i])+df[\"r2\"][i] if (abs(df[\"y2\"][i])+df[\"r2\"][i]>0.5) else 0 for i in range(df.shape[0])]"
   ]
  },
  {
   "cell_type": "code",
   "execution_count": null,
   "id": "422e8688-55b7-4319-8ade-648808d0a569",
   "metadata": {
    "tags": []
   },
   "outputs": [],
   "source": [
    "overlap_edge_value = np.array(o_x1) +np.array(o_y1)+np.array(o_x2)+np.array(o_y2)"
   ]
  },
  {
   "cell_type": "code",
   "execution_count": null,
   "id": "2c92eddb-666c-4c58-b360-9b176be7e911",
   "metadata": {
    "tags": []
   },
   "outputs": [],
   "source": [
    "overlap_edge_value.shape"
   ]
  },
  {
   "cell_type": "code",
   "execution_count": null,
   "id": "2149b9d6-f10e-40e9-a291-6af092ee3cbc",
   "metadata": {
    "tags": []
   },
   "outputs": [],
   "source": [
    "df[\"overlap_edge_value\"] = overlap_edge_value"
   ]
  },
  {
   "cell_type": "code",
   "execution_count": null,
   "id": "e5931991-2344-47bb-aa0b-174198cdd9f1",
   "metadata": {
    "tags": []
   },
   "outputs": [],
   "source": [
    "sns.histplot(data=df, x=\"log_loss\", y=\"overlap_edge_value\", cbar=True, )"
   ]
  },
  {
   "cell_type": "code",
   "execution_count": null,
   "id": "573a0c79-a5a7-4cbc-aba7-d9d0994d8cad",
   "metadata": {
    "tags": []
   },
   "outputs": [],
   "source": [
    "df[\"log_loss\"]"
   ]
  },
  {
   "cell_type": "code",
   "execution_count": null,
   "id": "acb0f57b-307d-4e61-9a60-b19a36269e4a",
   "metadata": {
    "tags": []
   },
   "outputs": [],
   "source": [
    "from matplotlib.colors import LogNorm"
   ]
  },
  {
   "cell_type": "code",
   "execution_count": null,
   "id": "31cffb97-a963-46f3-ba70-24d2fdb47a7d",
   "metadata": {
    "tags": []
   },
   "outputs": [],
   "source": [
    "norm = LogNorm(vmin=10**(-8), vmax=10**(-1))"
   ]
  },
  {
   "cell_type": "code",
   "execution_count": null,
   "id": "2c4b6386-49f5-48bf-9c2b-b355d9ad896a",
   "metadata": {
    "tags": []
   },
   "outputs": [],
   "source": [
    "df[\"log_loss\"].describe()"
   ]
  },
  {
   "cell_type": "code",
   "execution_count": null,
   "id": "717d808d-46d6-4ef3-899a-7b8095ef0e58",
   "metadata": {
    "tags": []
   },
   "outputs": [],
   "source": [
    "fig = plt.figure(figsize=(12, 4))\n",
    "fig.add_subplot(121)\n",
    "sns.histplot(data=df, x='x1', y='y1', bins=50, cbar=True)\n",
    "plt.title(\"(x,y) histogram of hits\")\n",
    "fig.add_subplot(122)\n",
    "plt.title(\"(x,y) histogram of hits weighted with -log_loss\")\n",
    "sns.histplot(data=df, x='x1', y='y1', weights=-df[\"log_loss\"], bins=50, cbar=True)"
   ]
  },
  {
   "cell_type": "markdown",
   "id": "29e650ca-ee60-43b0-b300-e59642cde1d9",
   "metadata": {},
   "source": [
    "## Compare with smaler ResNet "
   ]
  },
  {
   "cell_type": "code",
   "execution_count": null,
   "id": "df76e019-57dd-40c9-b3dd-026cbcb7f353",
   "metadata": {
    "tags": []
   },
   "outputs": [],
   "source": [
    "with open('./loss_histograms/MyResNet.npy', 'rb') as f:\n",
    "    n1 = np.load(f)\n",
    "    bins1 = np.load(f)"
   ]
  },
  {
   "cell_type": "code",
   "execution_count": null,
   "id": "497ab028-c6c2-4f3f-bab3-06d42a216d6a",
   "metadata": {
    "tags": []
   },
   "outputs": [],
   "source": [
    "ev.compare_histograms(np.array([n, n1]), np.array([bins, bins1]), ['Big ResNet: -3.615', 'Small ResNet: -3.42'], xlabel='log KL loss')"
   ]
  },
  {
   "cell_type": "code",
   "execution_count": null,
   "id": "74e104d9-3a2c-4f55-afb6-ba4e617aedcc",
   "metadata": {},
   "outputs": [],
   "source": []
  }
 ],
 "metadata": {
  "kernelspec": {
   "display_name": "sarasvenv",
   "language": "python",
   "name": "sarasvenv"
  },
  "language_info": {
   "codemirror_mode": {
    "name": "ipython",
    "version": 3
   },
   "file_extension": ".py",
   "mimetype": "text/x-python",
   "name": "python",
   "nbconvert_exporter": "python",
   "pygments_lexer": "ipython3",
   "version": "3.10.9"
  }
 },
 "nbformat": 4,
 "nbformat_minor": 5
}
