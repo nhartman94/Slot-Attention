{
 "cells": [
  {
   "cell_type": "markdown",
   "id": "ea058c31-72d3-4a0e-b8ba-934636f28a68",
   "metadata": {},
   "source": [
    "# More complex encoder\n",
    "\n",
    "It seems like our network is still not peak performing (compared to performance showed in the paper). That's why we like to play with the encoder.\n",
    "\n",
    "There are three appraoches I like to try:\n",
    "- increasing the number of cnn-layers\n",
    "- using the ResNet from the ISA paper\n",
    "- using Sanzianas ResNet encoder"
   ]
  },
  {
   "cell_type": "markdown",
   "id": "db4cdd5e-2bcd-432b-acee-d547aba93123",
   "metadata": {},
   "source": [
    "## Increase number of cnn-layers.\n",
    "\n",
    "Easily implemented. Is running on cluster atm.\n",
    "\n",
    "**Update**: Works better! Have a look at `More-CNN-layer.ipynb` "
   ]
  },
  {
   "cell_type": "markdown",
   "id": "605b741d-6af0-486a-936e-944b6c9029a4",
   "metadata": {},
   "source": [
    "## ResNet from ISA paper.\n",
    "\n",
    "For the clevr dataset they still use cnn ... [github repo](https://github.com/google-research/google-research/blob/master/invariant_slot_attention/configs/clevr_with_masks/baseline.py)\n",
    "\n",
    "Only for more complex data they use a ResNet.\n",
    "\n",
    "Is our data truely that complex?\n",
    "\n",
    "**Update**: As it is written with Jax, this takes too long for now to check. Drop the idea."
   ]
  },
  {
   "cell_type": "markdown",
   "id": "b4dd20be-44ff-4b33-b554-4801f4dd42c0",
   "metadata": {},
   "source": [
    "## ResNet from Flo's VAE\n",
    "\n",
    "Well I found this class:"
   ]
  },
  {
   "cell_type": "code",
   "execution_count": null,
   "id": "258b0f43-c1db-4198-be96-5da500741468",
   "metadata": {
    "tags": []
   },
   "outputs": [],
   "source": [
    "class Encoder_resnet(nn.Module):\n",
    "    def __init__(self, nPixels, latent_dim, nMaxClusters, activation, use_vae, pre_act, filters):\n",
    "        super(Encoder_resnet, self).__init__()\n",
    "        #self.initial_conv = nn.Conv2d(3, filters[0], kernel_size=3, stride=1, padding=1)\n",
    "        self.res_blocks = nn.ModuleList()\n",
    "        self.activation = activation\n",
    "        self.use_vae = use_vae\n",
    "        \n",
    "        self.res_block11 = ResidualBlock(3,16, activation, pre_act)\n",
    "        self.res_block12 = ResidualBlock(19,16, activation, pre_act)\n",
    "        self.res_block13 = ResidualBlock(19,16, activation, pre_act)\n",
    "        self.res_block14 = ResidualBlock(19,16, activation, pre_act)\n",
    "        self.res_block15 = ResidualBlock(19,16, activation, pre_act)\n",
    "\n",
    "        self.res_block21 = ResidualBlock(19,16, activation, pre_act)\n",
    "        self.res_block22 = ResidualBlock(19,16, activation, pre_act)\n",
    "        self.res_block23 = ResidualBlock(19,16, activation, pre_act)\n",
    "        self.res_block24 = ResidualBlock(19,16, activation, pre_act)\n",
    "        self.res_block25 = ResidualBlock(19,16, activation, pre_act)\n",
    "\n",
    "        self.res_block31 = ResidualBlock(19,32, activation, pre_act)\n",
    "        self.res_block32 = ResidualBlock(35,32, activation, pre_act)\n",
    "        self.res_block33 = ResidualBlock(35,32, activation, pre_act)\n",
    "        self.res_block34 = ResidualBlock(35,32, activation, pre_act)\n",
    "        self.res_block35 = ResidualBlock(35,32, activation, pre_act)\n",
    "        \n",
    "        self.pooling = nn.MaxPool2d(kernel_size=2)\n",
    "        self.flatten = nn.Flatten()\n",
    "        self.dense = nn.Linear((filters[-1]+3) * nPixels * nPixels // (2 ** len(filters))**2, 256, bias=False)\n",
    "       \n",
    "        self.bn_dense = nn.BatchNorm1d(256)\n",
    "        self.sampling_layer = Sampling()\n",
    "\n",
    "        if use_vae:\n",
    "            self.z_mean_full = nn.Linear(256, nMaxClusters*latent_dim)\n",
    "            self.z_log_var_full = nn.Linear(256,nMaxClusters*latent_dim)\n",
    "        else:\n",
    "            self.z_full = nn.Linear(256, nMaxClusters*latent_dim)\n",
    "    \n",
    "    def forward(self, inputs):\n",
    "        x = inputs\n",
    "        inputs_scaled = inputs\n",
    "        #inputs_scaled = F.interpolate(x, size=(nPixels, nPixels))\n",
    "\n",
    "        inputs_scaled = F.interpolate(inputs_scaled, size=(x.shape[2], x.shape[3]))\n",
    "        x = self.res_block11(x,inputs_scaled)\n",
    "        x = self.res_block12(x,inputs_scaled)\n",
    "        x = self.res_block13(x,inputs_scaled)\n",
    "        x = self.res_block14(x,inputs_scaled)\n",
    "        x = self.res_block15(x,inputs_scaled)  \n",
    "        x = self.pooling(x)\n",
    "\n",
    "        inputs_scaled = F.interpolate(inputs_scaled, size=(x.shape[2], x.shape[3]))\n",
    "        x = self.res_block21(x,inputs_scaled)\n",
    "        x = self.res_block22(x,inputs_scaled)\n",
    "        x = self.res_block23(x,inputs_scaled)\n",
    "        x = self.res_block24(x,inputs_scaled)\n",
    "        x = self.res_block25(x,inputs_scaled)\n",
    "        x = self.pooling(x)\n",
    "\n",
    "        inputs_scaled = F.interpolate(inputs_scaled, size=(x.shape[2], x.shape[3]))\n",
    "        x = self.res_block31(x,inputs_scaled)\n",
    "        x = self.res_block32(x,inputs_scaled)\n",
    "        x = self.res_block33(x,inputs_scaled)\n",
    "        x = self.res_block34(x,inputs_scaled)\n",
    "        x = self.res_block35(x,inputs_scaled)\n",
    "        x = self.pooling(x)\n",
    "\n",
    "        x = self.flatten(x)\n",
    "        #print(x.shape)\n",
    "        x = self.dense(x)\n",
    "        \n",
    "        x = self.bn_dense(x)\n",
    "        x = self.activation(x)\n",
    "\n",
    "        if self.use_vae:\n",
    "            z_mean_full = self.z_mean_full(x)\n",
    "            z_log_var_full = self.z_log_var_full(x)\n",
    "            z_full = self.sampling_layer(z_mean_full, z_log_var_full)\n",
    "            return z_mean_full, z_log_var_full, z_full\n",
    "        else:\n",
    "            z_full = self.z_full(x)\n",
    "            return z_full, z_full, z_full\n",
    "\n",
    "\n",
    "\n"
   ]
  },
  {
   "cell_type": "markdown",
   "id": "dc2c5ed9-6476-45d4-83a3-a2044b62c9d3",
   "metadata": {},
   "source": [
    "with a ResidualBlock being like:\n"
   ]
  },
  {
   "cell_type": "code",
   "execution_count": null,
   "id": "07c9e2ab-d6a2-488a-8a70-16fd04ba41f8",
   "metadata": {},
   "outputs": [],
   "source": [
    "class ResidualBlock(nn.Module):\n",
    "    def __init__(self, in_channels, out_channels, activation, pre_act):\n",
    "        super(ResidualBlock, self).__init__()\n",
    "        self.activation = activation\n",
    "        self.pre_act = pre_act\n",
    "        self.conv1 = nn.Conv2d(in_channels, out_channels, kernel_size=3, stride=1, padding=1, bias=False)\n",
    "        self.bn1 = nn.BatchNorm2d(out_channels)\n",
    "        self.conv2 = nn.Conv2d(out_channels, out_channels, kernel_size=3, stride=1, padding=1, bias=False)\n",
    "        self.bn2 = nn.BatchNorm2d(out_channels)\n",
    "        self.conv_res = nn.Conv2d(in_channels, out_channels, kernel_size=1, stride=1, padding=0)\n",
    "\n",
    "    def forward(self, inputs, inputs_scaled):\n",
    "        x = inputs\n",
    "        y = self.conv1(x)\n",
    "        y = self.bn1(y)\n",
    "        y = self.activation(y)\n",
    "        y = self.conv2(y)\n",
    "        y = self.bn2(y)\n",
    "        if self.pre_act:\n",
    "            y = self.activation(y)\n",
    "            \n",
    "        x = self.conv_res(x)\n",
    "        x = x + y\n",
    "        if not self.pre_act:\n",
    "            x = self.activation(x)\n",
    "            \n",
    "        x = torch.cat((x, inputs_scaled), dim=1)\n",
    "        return x\n"
   ]
  },
  {
   "cell_type": "markdown",
   "id": "29f24d4e-1a84-42e0-9cd8-6fbbbd553754",
   "metadata": {
    "tags": []
   },
   "source": [
    "I think the implementation should look something like this:"
   ]
  },
  {
   "cell_type": "code",
   "execution_count": null,
   "id": "6dff5222-cae0-4040-bbac-b4e5ed9e3317",
   "metadata": {},
   "outputs": [],
   "source": []
  }
 ],
 "metadata": {
  "kernelspec": {
   "display_name": "sarasvenv",
   "language": "python",
   "name": "sarasvenv"
  },
  "language_info": {
   "codemirror_mode": {
    "name": "ipython",
    "version": 3
   },
   "file_extension": ".py",
   "mimetype": "text/x-python",
   "name": "python",
   "nbconvert_exporter": "python",
   "pygments_lexer": "ipython3",
   "version": "3.10.9"
  }
 },
 "nbformat": 4,
 "nbformat_minor": 5
}
