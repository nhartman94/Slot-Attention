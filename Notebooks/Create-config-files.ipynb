{
 "cells": [
  {
   "cell_type": "markdown",
   "id": "6f5a9e7f-c2bd-4adc-a4a6-6b260344d7f2",
   "metadata": {},
   "source": [
    "# Create grid jobs\n",
    "\n",
    "**Goal:** Interactive way to create the config files for the submission scripts that I'll run with `code/runExperiments.py`\n"
   ]
  },
  {
   "cell_type": "code",
   "execution_count": 4,
   "id": "39727ddb-ab72-4370-84a4-a0fb88ce5346",
   "metadata": {},
   "outputs": [],
   "source": [
    "import numpy as np\n",
    "import yaml"
   ]
  },
  {
   "cell_type": "code",
   "execution_count": 5,
   "id": "ea87d0c0-028c-4e91-96cc-888cdfe16d0f",
   "metadata": {},
   "outputs": [],
   "source": [
    "bins = np.arange(-0.5, 0.5, 1/33)\n",
    "\n",
    "kwargs={'bins': bins.tolist(),\n",
    "        'N_clusters':2,\n",
    "        'isRing':False,\n",
    "        # 'device':'cuda:1', \n",
    "        'stdlow':0.001,\n",
    "        'stdhigh':0.005}\n"
   ]
  },
  {
   "cell_type": "code",
   "execution_count": 6,
   "id": "1c5aeaac-b049-48ad-85f6-cbc641042fa3",
   "metadata": {},
   "outputs": [],
   "source": [
    "for bs in [4,32,128,256,512]:\n",
    "\n",
    "    configDict = {\n",
    "        \"data\":kwargs,\n",
    "        \"hps\" : {\n",
    "            \"k_slots\" : 3,\n",
    "            \"hidden_dim\" : 16,\n",
    "            \"query_dim\": 16,\n",
    "            \"softmax_T\" : 'defaultx10', \n",
    "        },\n",
    "        \"opt\" : {\n",
    "            \"Ntrain\":100_000,\n",
    "            \"bs\": bs,\n",
    "            \"warmup_steps\":10_000,\n",
    "            \"decay_steps\":100_000\n",
    "        }\n",
    "    }\n",
    "    \n",
    "    with open(f'code/configs/2blobs-bs-{bs}.yaml','w') as file:\n",
    "        yaml.dump(configDict, file)\n",
    "    "
   ]
  },
  {
   "cell_type": "code",
   "execution_count": 7,
   "id": "ef3c5864-345c-4424-a8ff-2444fe334a7d",
   "metadata": {},
   "outputs": [
    {
     "data": {
      "text/plain": [
       "{'data': {'bins': [-0.5,\n",
       "   -0.4696969696969697,\n",
       "   -0.43939393939393945,\n",
       "   -0.40909090909090917,\n",
       "   -0.3787878787878789,\n",
       "   -0.3484848484848486,\n",
       "   -0.31818181818181834,\n",
       "   -0.28787878787878807,\n",
       "   -0.2575757575757578,\n",
       "   -0.22727272727272751,\n",
       "   -0.19696969696969724,\n",
       "   -0.16666666666666696,\n",
       "   -0.1363636363636367,\n",
       "   -0.10606060606060641,\n",
       "   -0.07575757575757613,\n",
       "   -0.04545454545454586,\n",
       "   -0.015151515151515582,\n",
       "   0.015151515151514694,\n",
       "   0.04545454545454497,\n",
       "   0.07575757575757525,\n",
       "   0.10606060606060552,\n",
       "   0.1363636363636358,\n",
       "   0.16666666666666607,\n",
       "   0.19696969696969635,\n",
       "   0.22727272727272663,\n",
       "   0.2575757575757569,\n",
       "   0.2878787878787872,\n",
       "   0.31818181818181746,\n",
       "   0.34848484848484773,\n",
       "   0.378787878787878,\n",
       "   0.4090909090909083,\n",
       "   0.43939393939393856,\n",
       "   0.46969696969696884],\n",
       "  'N_clusters': 2,\n",
       "  'isRing': False,\n",
       "  'stdlow': 0.001,\n",
       "  'stdhigh': 0.005},\n",
       " 'hps': {'k_slots': 3,\n",
       "  'hidden_dim': 16,\n",
       "  'query_dim': 16,\n",
       "  'softmax_T': 'defaultx10'},\n",
       " 'opt': {'Ntrain': 100000,\n",
       "  'bs': 512,\n",
       "  'warmup_steps': 10000,\n",
       "  'decay_steps': 100000}}"
      ]
     },
     "execution_count": 7,
     "metadata": {},
     "output_type": "execute_result"
    }
   ],
   "source": [
    "configDict"
   ]
  },
  {
   "cell_type": "code",
   "execution_count": 8,
   "id": "ec60267f-e73e-4869-ac5f-6d64d1b1e4fc",
   "metadata": {},
   "outputs": [],
   "source": [
    "from yaml.loader import *"
   ]
  },
  {
   "cell_type": "code",
   "execution_count": 9,
   "id": "a5ee9d4b-5ab0-41a8-bfb6-2a69b30b6cfb",
   "metadata": {},
   "outputs": [
    {
     "name": "stdout",
     "output_type": "stream",
     "text": [
      "data {'N_clusters': 2, 'bins': [-0.5, -0.4696969696969697, -0.43939393939393945, -0.40909090909090917, -0.3787878787878789, -0.3484848484848486, -0.31818181818181834, -0.28787878787878807, -0.2575757575757578, -0.22727272727272751, -0.19696969696969724, -0.16666666666666696, -0.1363636363636367, -0.10606060606060641, -0.07575757575757613, -0.04545454545454586, -0.015151515151515582, 0.015151515151514694, 0.04545454545454497, 0.07575757575757525, 0.10606060606060552, 0.1363636363636358, 0.16666666666666607, 0.19696969696969635, 0.22727272727272663, 0.2575757575757569, 0.2878787878787872, 0.31818181818181746, 0.34848484848484773, 0.378787878787878, 0.4090909090909083, 0.43939393939393856, 0.46969696969696884], 'isRing': False, 'stdhigh': 0.005, 'stdlow': 0.001}\n",
      "hps {'hidden_dim': 16, 'k_slots': 3, 'query_dim': 16, 'softmax_T': 'defaultx10'}\n",
      "opt {'Ntrain': 100000, 'bs': 32, 'decay_steps': 100000, 'warmup_steps': 10000}\n"
     ]
    }
   ],
   "source": [
    "with open(f'code/configs/2blobs-bs-32.yaml', \"r\")as cfile:\n",
    "    \n",
    "    try:\n",
    "        cdict = yaml.load(cfile, Loader=FullLoader)\n",
    "\n",
    "        for k,v in cdict.items():\n",
    "            print(k,v)\n",
    "            \n",
    "    except yaml.YAMLError as e:\n",
    "        print(e)"
   ]
  },
  {
   "cell_type": "code",
   "execution_count": 44,
   "id": "8b334fb0-6d58-4bb8-9b56-6fc2bb8be6f9",
   "metadata": {},
   "outputs": [],
   "source": [
    "import os"
   ]
  },
  {
   "cell_type": "code",
   "execution_count": 45,
   "id": "92e52a2f-6779-4de7-8cc7-60b8d1236446",
   "metadata": {},
   "outputs": [
    {
     "data": {
      "text/plain": [
       "['2blobs-bs-32.yaml',\n",
       " '.ipynb_checkpoints',\n",
       " '2blobs-bs-512.yaml',\n",
       " '2blobs-bs-128.yaml',\n",
       " 'blob3-long-wu.yaml',\n",
       " '2blobs-bs-4.yaml']"
      ]
     },
     "execution_count": 45,
     "metadata": {},
     "output_type": "execute_result"
    }
   ],
   "source": [
    "os.listdir('code/configs')"
   ]
  },
  {
   "cell_type": "code",
   "execution_count": 46,
   "id": "2967bc72-af46-4fbc-a72e-a643417e736a",
   "metadata": {},
   "outputs": [
    {
     "data": {
      "text/plain": [
       "dict_items([('data', {'N_clusters': 2, 'bins': [-0.5, -0.4696969696969697, -0.43939393939393945, -0.40909090909090917, -0.3787878787878789, -0.3484848484848486, -0.31818181818181834, -0.28787878787878807, -0.2575757575757578, -0.22727272727272751, -0.19696969696969724, -0.16666666666666696, -0.1363636363636367, -0.10606060606060641, -0.07575757575757613, -0.04545454545454586, -0.015151515151515582, 0.015151515151514694, 0.04545454545454497, 0.07575757575757525, 0.10606060606060552, 0.1363636363636358, 0.16666666666666607, 0.19696969696969635, 0.22727272727272663, 0.2575757575757569, 0.2878787878787872, 0.31818181818181746, 0.34848484848484773, 0.378787878787878, 0.4090909090909083, 0.43939393939393856, 0.46969696969696884], 'isRing': False, 'stdhigh': 0.005, 'stdlow': 0.001}), ('hps', {'hidden_dim': 16, 'k_slots': 3, 'query_dim': 16, 'softmax_T': 'defaultx10'}), ('opt', {'Ntrain': 100000, 'bs': 32, 'decay_steps': 100000, 'warmup_steps': 10000})])"
      ]
     },
     "execution_count": 46,
     "metadata": {},
     "output_type": "execute_result"
    }
   ],
   "source": [
    "cdict.items()"
   ]
  },
  {
   "cell_type": "code",
   "execution_count": null,
   "id": "dceff246-1efe-46fc-a3fd-fd7c13aa264a",
   "metadata": {},
   "outputs": [],
   "source": []
  }
 ],
 "metadata": {
  "kernelspec": {
   "display_name": "Python 3",
   "language": "python",
   "name": "python3"
  },
  "language_info": {
   "codemirror_mode": {
    "name": "ipython",
    "version": 3
   },
   "file_extension": ".py",
   "mimetype": "text/x-python",
   "name": "python",
   "nbconvert_exporter": "python",
   "pygments_lexer": "ipython3",
   "version": "3.8.12"
  }
 },
 "nbformat": 4,
 "nbformat_minor": 5
}
