{
 "cells": [
  {
   "cell_type": "markdown",
   "id": "477790aa-9a9d-465d-b069-da63bf2807c7",
   "metadata": {},
   "source": [
    "# ISA Learn Delta\n",
    "\n",
    "**Motivation:** This is almost identical to the `ISA-Learn-Delta` notebook, except we're going to start from some weights that we _knew_ to be good from a pretrained model from `Invariant-Slot-Attention`."
   ]
  },
  {
   "cell_type": "code",
   "execution_count": 1,
   "id": "3146824a-d63c-4bf3-b4cc-388865588ad4",
   "metadata": {},
   "outputs": [],
   "source": [
    "import torch\n",
    "import numpy as np\n",
    "import pandas as pd\n",
    "\n",
    "import matplotlib.pyplot as plt\n",
    "import matplotlib as mlp\n",
    "from mpl_toolkits.axes_grid1 import make_axes_locatable\n",
    "\n",
    "import json, yaml, os\n",
    "os.sys.path.append('../code')\n",
    "\n",
    "from model import InvariantSlotAttention\n",
    "from plotting import plot_chosen_slots\n",
    "from data import make_batch\n",
    "from torch.nn import init\n",
    "from train import hungarian_matching, train\n",
    "\n",
    "import torch\n",
    "import torch.nn.functional as F\n",
    "\n",
    "%load_ext autoreload\n",
    "%autoreload 2"
   ]
  },
  {
   "cell_type": "code",
   "execution_count": 2,
   "id": "b445591f",
   "metadata": {},
   "outputs": [],
   "source": [
    "device='cuda:0'\n",
    "hps = {\n",
    "    'hidden_dim': 16,\n",
    "    'k_slots':3,\n",
    "    'query_dim':128,\n",
    "    'pixel_mult':0.2,\n",
    "    'device':device\n",
    "}"
   ]
  },
  {
   "cell_type": "code",
   "execution_count": 3,
   "id": "af87565d",
   "metadata": {},
   "outputs": [],
   "source": [
    "m = InvariantSlotAttention(**hps).to(device)"
   ]
  },
  {
   "cell_type": "code",
   "execution_count": 4,
   "id": "8d52fc3f-e6b8-4c4e-925a-2821c0f05496",
   "metadata": {},
   "outputs": [
    {
     "data": {
      "text/plain": [
       "_IncompatibleKeys(missing_keys=['final_mlp.0.weight', 'final_mlp.0.bias', 'final_mlp.2.weight', 'final_mlp.2.bias'], unexpected_keys=[])"
      ]
     },
     "execution_count": 4,
     "metadata": {},
     "output_type": "execute_result"
    }
   ],
   "source": [
    "cID_prev = 'isa-cosine-decay'\n",
    "lastIter = 39_000\n",
    "modelToLoad = f'../code/models/{cID_prev}/m_{lastIter}.pt'\n",
    "m.load_state_dict(torch.load(modelToLoad,map_location=device),strict=False)"
   ]
  },
  {
   "cell_type": "code",
   "execution_count": 5,
   "id": "d60b1469-d3ce-4408-80b0-4362defe4925",
   "metadata": {},
   "outputs": [],
   "source": [
    "# Invaraint Slot Attention, Hyper Graph, warm start\n",
    "cID = 'isa-hg-warm'\n",
    "\n",
    "modelDir = f'../code/models/{cID}'\n",
    "figDir = f'../code/figures/{cID}'\n"
   ]
  },
  {
   "cell_type": "code",
   "execution_count": 8,
   "id": "e700f5c5-0dc2-4997-a427-e0e98bfb1d85",
   "metadata": {},
   "outputs": [],
   "source": [
    "def train(model, \n",
    "          Ntrain = 5000, \n",
    "          bs=32, \n",
    "          lr=3e-4,\n",
    "          warmup_steps=5_000,\n",
    "          alpha=1,\n",
    "          losses = {'tot':[],'bce':[],'mse':[]},\n",
    "          kwargs={'isRing': True, 'N_clusters':2},\n",
    "          device='cpu',\n",
    "          plot_every=250, \n",
    "          save_every=1000,\n",
    "          color='C0',cmap='Blues',\n",
    "          modelDir='.',figDir='',showImg=True):\n",
    "    '''\n",
    "    train -- arguments copied from Lukas's fct (see train.py)\n",
    "    '''\n",
    "\n",
    "    # Learning rate schedule config\n",
    "    base_learning_rate = lr\n",
    "    \n",
    "    opt = torch.optim.Adam(model.parameters(), base_learning_rate)\n",
    "    model.train()\n",
    "    \n",
    "    k_slots = model.k_slots\n",
    "    max_n_rings = kwargs['N_clusters']\n",
    "    resolution = model.resolution\n",
    "    kwargs['device'] = device\n",
    "\n",
    "    start = len(losses)\n",
    "    for i in range(start,start+Ntrain):\n",
    "\n",
    "        learning_rate = base_learning_rate * 0.5 * (1 + np.cos(np.pi * i / Ntrain))\n",
    "        if i < warmup_steps:\n",
    "            learning_rate *= (i / warmup_steps)\n",
    "        \n",
    "        opt.param_groups[0]['lr'] = learning_rate\n",
    "        \n",
    "        X, Y, mask = make_batch(N_events=bs, **kwargs)\n",
    "        \n",
    "        queries, att, Y_pred = model(X)\n",
    "         \n",
    "        # Reshape the target mask to be flat in the pixels (same shape as att)\n",
    "        flat_mask = mask.reshape(-1,max_n_rings, np.prod(resolution))      \n",
    "        with torch.no_grad():\n",
    "            \n",
    "            pairwise_cost = comb_loss(att,flat_mask,Y,Y_pred,alpha)\n",
    "            indices = hungarian_matching(pairwise_cost)\n",
    "\n",
    "        # Apply the sorting to the predict\n",
    "        bis=torch.arange(bs).to(device)\n",
    "        indices=indices.to(device)\n",
    "\n",
    "        # Loss calc\n",
    "        slots_sorted = torch.cat([att[bis,indices[:,0,ri]].unsqueeze(1) for ri in range(max_n_rings)],dim=1)\n",
    "        rings_sorted = torch.cat([flat_mask[bis,indices[:,1,ri]].unsqueeze(1) for ri in range(max_n_rings)],dim=1)\n",
    "        l_bce = F.binary_cross_entropy(slots_sorted,rings_sorted,reduction='none').sum(axis=1).mean()\n",
    "        \n",
    "        Y_pred_sorted = torch.cat([Y_pred[bis,indices[:,0,ri]].unsqueeze(1) for ri in range(max_n_rings)],dim=1)\n",
    "        Y_true_sorted = torch.cat([Y[bis,indices[:,1,ri]].unsqueeze(1) for ri in range(max_n_rings)],dim=1)\n",
    "\n",
    "        l_mse = torch.nn.MSELoss(reduction='none')(Y_pred_sorted,Y_true_sorted).sum(axis=1).mean()\n",
    "    \n",
    "        # Calculate the loss\n",
    "        li = l_bce + alpha*l_mse\n",
    "        \n",
    "        li.backward()\n",
    "        clip_val=1\n",
    "        torch.nn.utils.clip_grad_norm_(model.parameters(), clip_val)\n",
    "        \n",
    "        opt.step()\n",
    "        opt.zero_grad()\n",
    "\n",
    "        losses['tot'].append(float(li))\n",
    "        losses['bce'].append(float(l_bce))\n",
    "        losses['mse'].append(float(l_mse))\n",
    "        \n",
    "        if i % plot_every == 0:\n",
    "            print('iter',i,', loss',li.detach().cpu().numpy(),', lr',opt.param_groups[0]['lr'])  \n",
    "            iEvt = 0\n",
    "\n",
    "            # losses, mask, att_img, Y_true, Y_pred\n",
    "            plot_chosen_slots(losses,\n",
    "                              mask[iEvt].sum(axis=0), \n",
    "                              slots_sorted[iEvt].reshape(max_n_rings,*resolution),\n",
    "                              Y_true_sorted[iEvt],\n",
    "                              Y_pred_sorted[iEvt])\n",
    "            \n",
    "        if (i % save_every == 0) and modelDir:\n",
    "            torch.save(model.state_dict(), f'{modelDir}/m_{i}.pt')\n",
    "            with open(f'{modelDir}/loss.json','w') as f:\n",
    "                json.dump(losses, f)\n",
    "\n",
    "    model.eval()\n",
    "    return model,losses"
   ]
  },
  {
   "cell_type": "code",
   "execution_count": 9,
   "id": "3f737dde",
   "metadata": {},
   "outputs": [
    {
     "name": "stderr",
     "output_type": "stream",
     "text": [
      "/gpfs/slac/atlas/fs1/d/nhartman/Slot Attention/Notebooks/../code/data.py:94: RuntimeWarning: invalid value encountered in true_divide\n",
      "  eventMasks = np.where(eventHistograms>0,eventMasks/eventHistograms,eventMasks)\n"
     ]
    },
    {
     "ename": "NameError",
     "evalue": "name 'comb_loss' is not defined",
     "output_type": "error",
     "traceback": [
      "\u001b[0;31m---------------------------------------------------------------------------\u001b[0m",
      "\u001b[0;31mNameError\u001b[0m                                 Traceback (most recent call last)",
      "\u001b[0;32m<ipython-input-9-b594995db1f3>\u001b[0m in \u001b[0;36m<module>\u001b[0;34m\u001b[0m\n\u001b[0;32m----> 1\u001b[0;31m m, losses = train(m, bs=256, Ntrain=5_000, warmup_steps=1_000,\n\u001b[0m\u001b[1;32m      2\u001b[0m                   \u001b[0mplot_every\u001b[0m\u001b[0;34m=\u001b[0m\u001b[0;36m100\u001b[0m\u001b[0;34m,\u001b[0m \u001b[0mdevice\u001b[0m\u001b[0;34m=\u001b[0m\u001b[0mdevice\u001b[0m\u001b[0;34m,\u001b[0m\u001b[0;34m\u001b[0m\u001b[0;34m\u001b[0m\u001b[0m\n\u001b[1;32m      3\u001b[0m                   modelDir=modelDir, figDir=figDir)\n",
      "\u001b[0;32m<ipython-input-8-0cf2c785e860>\u001b[0m in \u001b[0;36mtrain\u001b[0;34m(model, Ntrain, bs, lr, warmup_steps, alpha, losses, kwargs, device, plot_every, save_every, color, cmap, modelDir, figDir, showImg)\u001b[0m\n\u001b[1;32m     44\u001b[0m         \u001b[0;32mwith\u001b[0m \u001b[0mtorch\u001b[0m\u001b[0;34m.\u001b[0m\u001b[0mno_grad\u001b[0m\u001b[0;34m(\u001b[0m\u001b[0;34m)\u001b[0m\u001b[0;34m:\u001b[0m\u001b[0;34m\u001b[0m\u001b[0;34m\u001b[0m\u001b[0m\n\u001b[1;32m     45\u001b[0m \u001b[0;34m\u001b[0m\u001b[0m\n\u001b[0;32m---> 46\u001b[0;31m             \u001b[0mpairwise_cost\u001b[0m \u001b[0;34m=\u001b[0m \u001b[0mcomb_loss\u001b[0m\u001b[0;34m(\u001b[0m\u001b[0matt\u001b[0m\u001b[0;34m,\u001b[0m\u001b[0mflat_mask\u001b[0m\u001b[0;34m,\u001b[0m\u001b[0mY\u001b[0m\u001b[0;34m,\u001b[0m\u001b[0mY_pred\u001b[0m\u001b[0;34m,\u001b[0m\u001b[0malpha\u001b[0m\u001b[0;34m)\u001b[0m\u001b[0;34m\u001b[0m\u001b[0;34m\u001b[0m\u001b[0m\n\u001b[0m\u001b[1;32m     47\u001b[0m             \u001b[0mindices\u001b[0m \u001b[0;34m=\u001b[0m \u001b[0mhungarian_matching\u001b[0m\u001b[0;34m(\u001b[0m\u001b[0mpairwise_cost\u001b[0m\u001b[0;34m)\u001b[0m\u001b[0;34m\u001b[0m\u001b[0;34m\u001b[0m\u001b[0m\n\u001b[1;32m     48\u001b[0m \u001b[0;34m\u001b[0m\u001b[0m\n",
      "\u001b[0;31mNameError\u001b[0m: name 'comb_loss' is not defined"
     ]
    }
   ],
   "source": [
    "m, losses = train(m, bs=256, Ntrain=5_000, warmup_steps=1_000,\n",
    "                  plot_every=100, device=device,\n",
    "                  modelDir=modelDir, figDir=figDir)"
   ]
  },
  {
   "cell_type": "code",
   "execution_count": null,
   "id": "17f0bb8c-81e3-45ad-a709-3da8b0a7c13b",
   "metadata": {},
   "outputs": [],
   "source": []
  },
  {
   "cell_type": "code",
   "execution_count": 16,
   "id": "e24af4ef-427f-4587-8156-0535aa762f24",
   "metadata": {},
   "outputs": [],
   "source": [
    "with open('../code/models/isa-hg-warm/loss.json') as f:\n",
    "    l_alpha = pd.DataFrame(json.load(f))"
   ]
  },
  {
   "cell_type": "code",
   "execution_count": 64,
   "id": "52f84309-4b74-46b8-8235-a4ba609a0627",
   "metadata": {},
   "outputs": [],
   "source": [
    "with open('../code/models/isa-hung-bce/loss.json') as f:\n",
    "    l_bce_hung = pd.DataFrame(json.load(f))"
   ]
  },
  {
   "cell_type": "code",
   "execution_count": 65,
   "id": "ce767f61-beea-4b7f-9295-ca344e374237",
   "metadata": {},
   "outputs": [
    {
     "data": {
      "text/plain": [
       "4998"
      ]
     },
     "execution_count": 65,
     "metadata": {},
     "output_type": "execute_result"
    }
   ],
   "source": [
    "len(l_bce_hung)"
   ]
  },
  {
   "cell_type": "code",
   "execution_count": 66,
   "id": "7a53f0b5-5325-4765-b6ad-fdc0e4f9daa2",
   "metadata": {},
   "outputs": [
    {
     "data": {
      "text/plain": [
       "Text(0, 0.5, 'Loss')"
      ]
     },
     "execution_count": 66,
     "metadata": {},
     "output_type": "execute_result"
    },
    {
     "data": {
      "image/png": "[encoded data removed]",
      "text/plain": [
       "<Figure size 864x288 with 3 Axes>"
      ]
     },
     "metadata": {
      "needs_background": "light"
     },
     "output_type": "display_data"
    }
   ],
   "source": [
    "fig, axs = plt.subplots(1,3,figsize=(12,4))\n",
    "\n",
    "for i,k,ax in zip(range(3),['tot','bce','mse'],axs):\n",
    "    \n",
    "    ax.plot(l_alpha[k],color=f'C{i}',alpha=.5,label='HA L_tot=L_bce+L_mse')\n",
    "    ax.plot(l_bce_hung[k],color=f'C{i}',label='HA L_bce')\n",
    "    \n",
    "    ax.set_title(k)\n",
    "    ax.set_xlabel('Iter')\n",
    "    ax.legend()\n",
    "axs[0].set_ylabel('Loss')"
   ]
  },
  {
   "cell_type": "markdown",
   "id": "47316c27-b8fb-4727-9590-7ce10360225f",
   "metadata": {},
   "source": [
    "I had originally forgotten to save the model and figures, so I'll try saving them now :)"
   ]
  },
  {
   "cell_type": "code",
   "execution_count": null,
   "id": "3f4cff4d-34a0-46ad-a1ce-9ac57926e5fb",
   "metadata": {},
   "outputs": [],
   "source": []
  },
  {
   "cell_type": "code",
   "execution_count": 22,
   "id": "03304d56-2791-4247-a5ab-8bdbbb3bdcda",
   "metadata": {},
   "outputs": [],
   "source": [
    "torch.save(m.state_dict(), f'{modelDir}/m_5000.pt')\n",
    "with open(f'{modelDir}/loss.json','w') as f:\n",
    "    json.dump(losses, f)"
   ]
  },
  {
   "cell_type": "markdown",
   "id": "4d619e70-a935-4dd5-9b4e-edac17708edc",
   "metadata": {},
   "source": [
    "**Notes:**\n",
    "- This loss seems lower than it was before (which I'm _super_ happy about).\n",
    "- However, maybe I should do the Hungarian matching just based on the ..."
   ]
  },
  {
   "cell_type": "code",
   "execution_count": 28,
   "id": "3ee10115",
   "metadata": {},
   "outputs": [
    {
     "data": {
      "text/plain": [
       "4995    0.025876\n",
       "4996    0.025843\n",
       "4997    0.025855\n",
       "4998    0.025839\n",
       "4999    0.025855\n",
       "dtype: float64"
      ]
     },
     "execution_count": 28,
     "metadata": {},
     "output_type": "execute_result"
    }
   ],
   "source": [
    "pd.Series(losses['bce']).rolling(100).mean().tail()"
   ]
  },
  {
   "cell_type": "markdown",
   "id": "63074447-995d-4076-9976-7b49cbfea227",
   "metadata": {},
   "source": [
    "**Goal:** Let's try to compare these predictions on the same 100 examples that I was looking at in the `KL-divergence` notebook."
   ]
  },
  {
   "cell_type": "code",
   "execution_count": 86,
   "id": "ad68e0b7",
   "metadata": {},
   "outputs": [],
   "source": [
    "# Set numpy seed for test set sampling \n",
    "# np.random.seed(24082023)\n",
    "\n",
    "# torch_seed = 29082023\n",
    "# torch.manual_seed( torch_seed )\n",
    "\n",
    "# import random\n",
    "# random.seed(torch_seed)"
   ]
  },
  {
   "cell_type": "code",
   "execution_count": 87,
   "id": "2b796cd1",
   "metadata": {},
   "outputs": [
    {
     "name": "stderr",
     "output_type": "stream",
     "text": [
      "/gpfs/slac/atlas/fs1/d/nhartman/Slot Attention/Notebooks/../code/data.py:94: RuntimeWarning: invalid value encountered in true_divide\n",
      "  eventMasks = np.where(eventHistograms>0,eventMasks/eventHistograms,eventMasks)\n"
     ]
    }
   ],
   "source": [
    "bs = 100\n",
    "kwargs={'isRing': True, 'N_clusters':2} #, 'device':device}\n",
    "\n",
    "X,Y, mask = make_batch(N_events=bs, **kwargs)"
   ]
  },
  {
   "cell_type": "code",
   "execution_count": null,
   "id": "4bfdef99-b01b-45a1-aae9-d77ceccd17e3",
   "metadata": {},
   "outputs": [],
   "source": []
  },
  {
   "cell_type": "code",
   "execution_count": 88,
   "id": "b5f93b34-f468-43eb-a214-d088c53a1d60",
   "metadata": {},
   "outputs": [],
   "source": [
    "max_n_rings = kwargs['N_clusters']\n",
    "k_slots=max_n_rings+1\n",
    "resolution=(32,32)"
   ]
  },
  {
   "cell_type": "code",
   "execution_count": 89,
   "id": "e99edeea-c228-4477-9b6f-22530d0c35c9",
   "metadata": {},
   "outputs": [],
   "source": [
    "alpha=1"
   ]
  },
  {
   "cell_type": "code",
   "execution_count": 90,
   "id": "07679b2c-adc1-4b6e-85bd-d2432b2a7c2b",
   "metadata": {},
   "outputs": [],
   "source": [
    "# with torch.no_grad():\n",
    "\n",
    "#     queries, att, Y_pred = m(X)\n",
    "         \n",
    "#     # Reshape the target mask to be flat in the pixels (same shape as att)\n",
    "#     flat_mask = mask.reshape(-1,max_n_rings, np.prod(resolution))      \n",
    "\n",
    "#     pairwise_cost = comb_loss(att,flat_mask,Y,Y_pred,alpha)\n",
    "#     indices = hungarian_matching(pairwise_cost)\n",
    "\n",
    "#     # Apply the sorting to the predict\n",
    "#     bis=torch.arange(bs).to(device)\n",
    "#     indices=indices.to(device)\n",
    "\n",
    "#     # Loss calc\n",
    "#     slots_sorted = torch.cat([att[bis,indices[:,0,ri]].unsqueeze(1) for ri in range(max_n_rings)],dim=1)\n",
    "#     rings_sorted = torch.cat([flat_mask[bis,indices[:,1,ri]].unsqueeze(1) for ri in range(max_n_rings)],dim=1)\n",
    "#     l_bce = F.binary_cross_entropy(slots_sorted,rings_sorted,reduction='none').sum(axis=1).mean()\n",
    "\n",
    "#     Y_pred_sorted = torch.cat([Y_pred[bis,indices[:,0,ri]].unsqueeze(1) for ri in range(max_n_rings)],dim=1)\n",
    "#     Y_true_sorted = torch.cat([Y[bis,indices[:,1,ri]].unsqueeze(1) for ri in range(max_n_rings)],dim=1)\n",
    "\n",
    "#     l_mse = torch.nn.MSELoss(reduction='none')(Y_pred_sorted,Y_true_sorted).sum(axis=1).mean()\n"
   ]
  },
  {
   "cell_type": "code",
   "execution_count": 91,
   "id": "0278e05b-6ad6-468d-84cb-60bd7db0138a",
   "metadata": {},
   "outputs": [],
   "source": [
    "m.device='cpu'\n",
    "m = m.to('cpu')"
   ]
  },
  {
   "cell_type": "code",
   "execution_count": 92,
   "id": "96cbc87d-18f9-442b-91b7-a727a3a071ea",
   "metadata": {},
   "outputs": [],
   "source": [
    "hps['device'] = 'cpu'"
   ]
  },
  {
   "cell_type": "code",
   "execution_count": 99,
   "id": "aeecf8d9-a3b8-4f6d-8140-5a2c3b641a92",
   "metadata": {},
   "outputs": [
    {
     "data": {
      "text/plain": [
       "<All keys matched successfully>"
      ]
     },
     "execution_count": 99,
     "metadata": {},
     "output_type": "execute_result"
    }
   ],
   "source": [
    "m2 = InvariantSlotAttention(**hps)\n",
    "m2.load_state_dict(torch.load(f'{modelDir}/m_5000.pt',map_location='cpu'))"
   ]
  },
  {
   "cell_type": "code",
   "execution_count": 100,
   "id": "4f1b7868-b1db-4108-bb36-38c0948d4c28",
   "metadata": {},
   "outputs": [],
   "source": [
    "queries, att, Y_pred = m2(X)"
   ]
  },
  {
   "cell_type": "code",
   "execution_count": 101,
   "id": "3bf446e9-a5f1-4dc3-ba92-09f165a3bbfd",
   "metadata": {},
   "outputs": [],
   "source": [
    "with torch.no_grad():\n",
    "    # Reshape the target mask to be flat in the pixels (same shape as att)\n",
    "    flat_mask = mask.reshape(-1,max_n_rings, np.prod(resolution))      \n",
    "    with torch.no_grad():\n",
    "\n",
    "        pairwise_cost = comb_loss(att,flat_mask,Y,Y_pred,alpha)\n",
    "        indices = hungarian_matching(pairwise_cost)\n",
    "\n",
    "    # Apply the sorting to the predict\n",
    "    bis=torch.arange(bs).to(device)\n",
    "    indices=indices.to(device)\n",
    "\n",
    "    # Loss calc\n",
    "    slots_sorted = torch.cat([att[bis,indices[:,0,ri]].unsqueeze(1) for ri in range(max_n_rings)],dim=1)\n",
    "    rings_sorted = torch.cat([flat_mask[bis,indices[:,1,ri]].unsqueeze(1) for ri in range(max_n_rings)],dim=1)\n",
    "    l_bce = F.binary_cross_entropy(slots_sorted,rings_sorted,reduction='none').sum(axis=1).mean()\n",
    "\n",
    "    Y_pred_sorted = torch.cat([Y_pred[bis,indices[:,0,ri]].unsqueeze(1) for ri in range(max_n_rings)],dim=1)\n",
    "    Y_true_sorted = torch.cat([Y[bis,indices[:,1,ri]].unsqueeze(1) for ri in range(max_n_rings)],dim=1)\n",
    "\n",
    "    l_mse = torch.nn.MSELoss(reduction='none')(Y_pred_sorted,Y_true_sorted).sum(axis=1).mean()\n"
   ]
  },
  {
   "cell_type": "code",
   "execution_count": 102,
   "id": "3b4c4e2a-4457-4e7b-9d99-1f924739c4f4",
   "metadata": {},
   "outputs": [
    {
     "data": {
      "text/plain": [
       "(tensor(0.3028), tensor(0.0524))"
      ]
     },
     "execution_count": 102,
     "metadata": {},
     "output_type": "execute_result"
    }
   ],
   "source": [
    "l_bce,l_mse"
   ]
  },
  {
   "cell_type": "code",
   "execution_count": null,
   "id": "c79b3763-4745-4965-a07c-b9b7e7ddee68",
   "metadata": {},
   "outputs": [],
   "source": []
  },
  {
   "cell_type": "code",
   "execution_count": null,
   "id": "bb187f65-f625-452f-8b58-ab6d927bdb66",
   "metadata": {},
   "outputs": [],
   "source": []
  },
  {
   "cell_type": "code",
   "execution_count": 43,
   "id": "8a239d17-ad6a-4ed4-a63f-500a28285202",
   "metadata": {},
   "outputs": [
    {
     "data": {
      "text/plain": [
       "tensor(0.3056, device='cuda:0')"
      ]
     },
     "execution_count": 43,
     "metadata": {},
     "output_type": "execute_result"
    }
   ],
   "source": [
    "l_bce"
   ]
  },
  {
   "cell_type": "code",
   "execution_count": 44,
   "id": "2e1cc664-f5f3-4ab9-8afb-9f449b1fff8b",
   "metadata": {},
   "outputs": [
    {
     "data": {
      "text/plain": [
       "tensor(0.0599, device='cuda:0')"
      ]
     },
     "execution_count": 44,
     "metadata": {},
     "output_type": "execute_result"
    }
   ],
   "source": [
    "l_mse"
   ]
  },
  {
   "cell_type": "code",
   "execution_count": 48,
   "id": "59af929a-678e-4c6f-9eac-41f4f49b0d17",
   "metadata": {},
   "outputs": [
    {
     "name": "stdout",
     "output_type": "stream",
     "text": [
      "iEvt 0\n"
     ]
    },
    {
     "data": {
      "image/png": "[encoded data removed]",
      "text/plain": [
       "<Figure size 864x180 with 7 Axes>"
      ]
     },
     "metadata": {
      "needs_background": "light"
     },
     "output_type": "display_data"
    },
    {
     "name": "stdout",
     "output_type": "stream",
     "text": [
      "iEvt 1\n"
     ]
    },
    {
     "data": {
      "image/png": "[encoded data removed]",
      "text/plain": [
       "<Figure size 864x180 with 7 Axes>"
      ]
     },
     "metadata": {
      "needs_background": "light"
     },
     "output_type": "display_data"
    }
   ],
   "source": [
    "for iEvt in range(2):\n",
    "# ,bce_i,mse_i in enumerate(zip(l_bce,l_mse)):\n",
    "\n",
    "    print('iEvt',iEvt)#,', bce',bce_i,'mse',mse_i)  \n",
    "       \n",
    "    # losses, mask, att_img, Y_true, Y_pred\n",
    "    plot_chosen_slots(losses,\n",
    "                      mask[iEvt].sum(axis=0), \n",
    "                      slots_sorted[iEvt].reshape(max_n_rings,*resolution),\n",
    "                      Y_true_sorted[iEvt],\n",
    "                      Y_pred_sorted[iEvt])"
   ]
  },
  {
   "cell_type": "code",
   "execution_count": null,
   "id": "e334bac4-0734-4c2d-9c35-8573e9a59c15",
   "metadata": {},
   "outputs": [],
   "source": []
  }
 ],
 "metadata": {
  "kernelspec": {
   "display_name": "Python 3",
   "language": "python",
   "name": "python3"
  },
  "language_info": {
   "codemirror_mode": {
    "name": "ipython",
    "version": 3
   },
   "file_extension": ".py",
   "mimetype": "text/x-python",
   "name": "python",
   "nbconvert_exporter": "python",
   "pygments_lexer": "ipython3",
   "version": "3.8.12"
  }
 },
 "nbformat": 4,
 "nbformat_minor": 5
}
