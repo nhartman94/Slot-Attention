{
 "cells": [
  {
   "cell_type": "markdown",
   "id": "a5e8954f-ff8d-4d0c-b63c-c2d276bb1f4e",
   "metadata": {},
   "source": [
    "# ISA and combined loss - evaluating different $\\alpha$\n",
    "\n",
    "We've defined a new loss that is \n",
    "\n",
    "$\\mathcal{L}_{tot} = \\mathcal{L}_{BCE} + \\alpha \\cdot \\mathcal{L}_{MSE}$ \n",
    "\n",
    "where BCE stands for binary cross entropy and MSE for mean squared error. $\\alpha$ is for scaling. The BCE is supposed to separate features from a single picture into one picture each (e.g. each ring in a separate picture) while the MSE computes the properties of each feature (e.g. $x$, $y$ and $R$ of each ring). In this ring example $x$ and $y$ are computed with respect to the center-of-mass (regarding the hits) of each single-ring picture.\n",
    "\n",
    "The goal of this notebook is \n",
    "1. to load the models for $\\alpha = 1, 2$ at a lower epoch number (as we see unlearning for higher epochs, see Nicoles losses) and plot some example pictures. \n",
    "2. Think of a good metrix to evaluate the separation of the rings.\n",
    "\n",
    "Let's get started!! :-) "
   ]
  },
  {
   "cell_type": "code",
   "execution_count": 2,
   "id": "a948adef-a908-4b57-9c97-8caada0ae9d6",
   "metadata": {
    "tags": []
   },
   "outputs": [],
   "source": [
    "import torch\n",
    "import numpy as np\n",
    "import pandas as pd\n",
    "\n",
    "import matplotlib.pyplot as plt\n",
    "import matplotlib as mlp\n",
    "from mpl_toolkits.axes_grid1 import make_axes_locatable\n",
    "\n",
    "import json, yaml, os\n",
    "os.sys.path.append('./../../code')\n",
    "\n",
    "from plotting import plot_kslots, plot_kslots_iters\n",
    "from data import make_batch\n",
    "from model import SlotAttentionPosEmbed\n",
    "\n",
    "# Set numpy seed for test set sampling \n",
    "np.random.seed(24082023)\n",
    "\n",
    "%load_ext autoreload\n",
    "%autoreload 2"
   ]
  },
  {
   "cell_type": "code",
   "execution_count": 3,
   "id": "d09d3847-7595-47fe-9016-12417938f215",
   "metadata": {
    "tags": []
   },
   "outputs": [],
   "source": [
    "device = 'cpu'"
   ]
  },
  {
   "cell_type": "markdown",
   "id": "071454ac-0a7b-4d8d-97c8-d28b4c4260c8",
   "metadata": {},
   "source": [
    "Load configurations"
   ]
  },
  {
   "cell_type": "code",
   "execution_count": 5,
   "id": "c48771fe-247e-4bc4-ba33-d063e2ef287c",
   "metadata": {
    "tags": []
   },
   "outputs": [],
   "source": [
    "cID_prev = 'isa-alpha1'\n",
    "with open(f'./../../code/configs/{cID_prev}.yaml') as f:\n",
    "    cd = yaml.safe_load(f)\n",
    "\n",
    "hps = cd['hps']\n",
    "hps['device'] = device"
   ]
  },
  {
   "cell_type": "code",
   "execution_count": 6,
   "id": "ad3f906a-eec6-4500-a98b-8a7073942b04",
   "metadata": {
    "tags": []
   },
   "outputs": [],
   "source": [
    "torch_seed = 29082023\n",
    "torch.manual_seed( torch_seed )\n",
    "\n",
    "import random\n",
    "random.seed(torch_seed)"
   ]
  },
  {
   "cell_type": "markdown",
   "id": "4d1684bc-2ea0-45f3-b737-002144d648af",
   "metadata": {},
   "source": [
    "Load model and its weights"
   ]
  },
  {
   "cell_type": "code",
   "execution_count": 7,
   "id": "70a53615-08d1-4363-bee3-a9f856e60dbb",
   "metadata": {
    "tags": []
   },
   "outputs": [
    {
     "ename": "NameError",
     "evalue": "name 'final_cnn_relu' is not defined",
     "output_type": "error",
     "traceback": [
      "\u001b[0;31m---------------------------------------------------------------------------\u001b[0m",
      "\u001b[0;31mNameError\u001b[0m                                 Traceback (most recent call last)",
      "Cell \u001b[0;32mIn[7], line 1\u001b[0m\n\u001b[0;32m----> 1\u001b[0m m \u001b[38;5;241m=\u001b[39m \u001b[43mSlotAttentionPosEmbed\u001b[49m\u001b[43m(\u001b[49m\u001b[38;5;241;43m*\u001b[39;49m\u001b[38;5;241;43m*\u001b[39;49m\u001b[43mhps\u001b[49m\u001b[43m)\u001b[49m\n",
      "File \u001b[0;32m/raven/u/saumi/multi-object-detection/Slot-Attention/Notebooks/Invariant-Slot-Attention (ISA) methods/./../../code/model.py:122\u001b[0m, in \u001b[0;36mSlotAttentionPosEmbed.__init__\u001b[0;34m(self, resolution, k_slots, num_conv_layers, hidden_dim, query_dim, n_iter, softmax_T, pixel_mult, pos_inpts, learn_slot_feat, device)\u001b[0m\n\u001b[1;32m    119\u001b[0m \u001b[38;5;28;01mfor\u001b[39;00m i \u001b[38;5;129;01min\u001b[39;00m \u001b[38;5;28mrange\u001b[39m(num_conv_layers\u001b[38;5;241m-\u001b[39m\u001b[38;5;241m1\u001b[39m):\n\u001b[1;32m    120\u001b[0m     cnn_layers \u001b[38;5;241m+\u001b[39m\u001b[38;5;241m=\u001b[39m [torch\u001b[38;5;241m.\u001b[39mnn\u001b[38;5;241m.\u001b[39mReLU(), torch\u001b[38;5;241m.\u001b[39mnn\u001b[38;5;241m.\u001b[39mConv2d(hidden_dim,\u001b[38;5;241m*\u001b[39m\u001b[38;5;241m*\u001b[39mkwargs)] \n\u001b[0;32m--> 122\u001b[0m \u001b[38;5;28;01mif\u001b[39;00m \u001b[43mfinal_cnn_relu\u001b[49m:\n\u001b[1;32m    123\u001b[0m \u001b[38;5;250m    \u001b[39m\u001b[38;5;124;03m'''\u001b[39;00m\n\u001b[1;32m    124\u001b[0m \u001b[38;5;124;03m    22.08.2023 Silly mistake, I didn't include a ReLU() after the last CNN filter \u001b[39;00m\n\u001b[1;32m    125\u001b[0m \u001b[38;5;124;03m    for first exps. This `final_cnn_relu` flag is a hack for bkwds compatibility.\u001b[39;00m\n\u001b[1;32m    126\u001b[0m \u001b[38;5;124;03m    '''\u001b[39;00m\n\u001b[1;32m    127\u001b[0m     cnn_layers\u001b[38;5;241m.\u001b[39mappend(torch\u001b[38;5;241m.\u001b[39mnn\u001b[38;5;241m.\u001b[39mReLU())\n",
      "\u001b[0;31mNameError\u001b[0m: name 'final_cnn_relu' is not defined"
     ]
    }
   ],
   "source": [
    "m = SlotAttentionPosEmbed(**hps)"
   ]
  },
  {
   "cell_type": "code",
   "execution_count": null,
   "id": "980ad8c2-4cde-4334-98c6-2ba446c2e060",
   "metadata": {},
   "outputs": [],
   "source": []
  }
 ],
 "metadata": {
  "kernelspec": {
   "display_name": "sarasvenv",
   "language": "python",
   "name": "sarasvenv"
  },
  "language_info": {
   "codemirror_mode": {
    "name": "ipython",
    "version": 3
   },
   "file_extension": ".py",
   "mimetype": "text/x-python",
   "name": "python",
   "nbconvert_exporter": "python",
   "pygments_lexer": "ipython3",
   "version": "3.10.9"
  }
 },
 "nbformat": 4,
 "nbformat_minor": 5
}
