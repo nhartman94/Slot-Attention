{
 "cells": [
  {
   "cell_type": "markdown",
   "id": "a5e8954f-ff8d-4d0c-b63c-c2d276bb1f4e",
   "metadata": {},
   "source": [
    "# ISA and combined loss - evaluating different $\\alpha$\n",
    "\n",
    "We've defined a new loss that is \n",
    "\n",
    "$\\mathcal{L}_{tot} = \\mathcal{L}_{BCE} + \\alpha \\cdot \\mathcal{L}_{MSE}$ \n",
    "\n",
    "where BCE stands for binary cross entropy and MSE for mean squared error. $\\alpha$ is for scaling. The BCE is supposed to separate features from a single picture into one picture each (e.g. each ring in a separate picture) while the MSE computes the properties of each feature (e.g. $x$, $y$ and $R$ of each ring). In this ring example $x$ and $y$ are computed with respect to the center-of-mass (regarding the hits) of each single-ring picture.\n",
    "\n",
    "The goal of this notebook is \n",
    "1. to load the models for $\\alpha = 1, 2$ at a lower epoch number (as we see unlearning for higher epochs, see Nicoles losses) and plot some example pictures. \n",
    "2. Think of a good metrix to evaluate the separation of the rings.\n",
    "\n",
    "Let's get started!! :-) "
   ]
  },
  {
   "cell_type": "markdown",
   "id": "36425f48-adce-47dd-9819-f38a5e9b641e",
   "metadata": {},
   "source": [
    "### Import, load model and data"
   ]
  },
  {
   "cell_type": "code",
   "execution_count": 11,
   "id": "a948adef-a908-4b57-9c97-8caada0ae9d6",
   "metadata": {
    "tags": []
   },
   "outputs": [
    {
     "name": "stdout",
     "output_type": "stream",
     "text": [
      "The autoreload extension is already loaded. To reload it, use:\n",
      "  %reload_ext autoreload\n"
     ]
    }
   ],
   "source": [
    "import torch\n",
    "import numpy as np\n",
    "import pandas as pd\n",
    "\n",
    "import matplotlib.pyplot as plt\n",
    "import matplotlib as mlp\n",
    "from mpl_toolkits.axes_grid1 import make_axes_locatable\n",
    "\n",
    "import json, yaml, os\n",
    "os.sys.path.append('./../../code')\n",
    "\n",
    "from plotting import plot_kslots, plot_kslots_iters\n",
    "from data import make_batch\n",
    "from model import InvariantSlotAttention\n",
    "\n",
    "# Set numpy seed for test set sampling \n",
    "np.random.seed(24082023)\n",
    "\n",
    "%load_ext autoreload\n",
    "%autoreload 2"
   ]
  },
  {
   "cell_type": "code",
   "execution_count": 55,
   "id": "d24044d5-0502-4f49-a181-e37257d50e48",
   "metadata": {
    "tags": []
   },
   "outputs": [],
   "source": [
    "from matplotlib.patches import Circle\n",
    "import json"
   ]
  },
  {
   "cell_type": "code",
   "execution_count": 3,
   "id": "d09d3847-7595-47fe-9016-12417938f215",
   "metadata": {
    "tags": []
   },
   "outputs": [],
   "source": [
    "device = 'cpu'"
   ]
  },
  {
   "cell_type": "markdown",
   "id": "071454ac-0a7b-4d8d-97c8-d28b4c4260c8",
   "metadata": {},
   "source": [
    "Load configurations"
   ]
  },
  {
   "cell_type": "code",
   "execution_count": 21,
   "id": "c48771fe-247e-4bc4-ba33-d063e2ef287c",
   "metadata": {
    "tags": []
   },
   "outputs": [],
   "source": [
    "cID_prev = 'isa-alpha1'\n",
    "with open(f'./../../code/configs/{cID_prev}.yaml') as f:\n",
    "    cd = yaml.safe_load(f)\n",
    "\n",
    "hps = cd['hps']\n",
    "hps['device'] = device"
   ]
  },
  {
   "cell_type": "code",
   "execution_count": 6,
   "id": "ad3f906a-eec6-4500-a98b-8a7073942b04",
   "metadata": {
    "tags": []
   },
   "outputs": [],
   "source": [
    "torch_seed = 29082023\n",
    "torch.manual_seed( torch_seed )\n",
    "\n",
    "import random\n",
    "random.seed(torch_seed)"
   ]
  },
  {
   "cell_type": "markdown",
   "id": "4d1684bc-2ea0-45f3-b737-002144d648af",
   "metadata": {},
   "source": [
    "Load model and its weights"
   ]
  },
  {
   "cell_type": "code",
   "execution_count": 12,
   "id": "70a53615-08d1-4363-bee3-a9f856e60dbb",
   "metadata": {
    "tags": []
   },
   "outputs": [],
   "source": [
    "m = InvariantSlotAttention(**hps)"
   ]
  },
  {
   "cell_type": "code",
   "execution_count": 13,
   "id": "980ad8c2-4cde-4334-98c6-2ba446c2e060",
   "metadata": {
    "tags": []
   },
   "outputs": [
    {
     "name": "stdout",
     "output_type": "stream",
     "text": [
      "Starting from an earlier training 5000\n"
     ]
    },
    {
     "data": {
      "text/plain": [
       "<All keys matched successfully>"
      ]
     },
     "execution_count": 13,
     "metadata": {},
     "output_type": "execute_result"
    }
   ],
   "source": [
    "lastIter = 5000\n",
    "weightPath = f'./../../code/models/{cID_prev}/m_{lastIter}.pt'\n",
    "print(f'Starting from an earlier training',lastIter)\n",
    "\n",
    "m.load_state_dict(torch.load(weightPath,map_location=device))"
   ]
  },
  {
   "cell_type": "markdown",
   "id": "f7891af0-d8ba-4ad0-acac-5c5bf4903077",
   "metadata": {},
   "source": [
    "Load/generate some data"
   ]
  },
  {
   "cell_type": "code",
   "execution_count": 18,
   "id": "c44f7a16-aa31-4f38-964e-9cfdce97c290",
   "metadata": {
    "tags": []
   },
   "outputs": [
    {
     "name": "stderr",
     "output_type": "stream",
     "text": [
      "/raven/u/saumi/multi-object-detection/Slot-Attention/Notebooks/Invariant-Slot-Attention (ISA) methods/./../../code/data.py:94: RuntimeWarning: invalid value encountered in divide\n",
      "  eventMasks = np.where(eventHistograms>0,eventMasks/eventHistograms,eventMasks)\n"
     ]
    }
   ],
   "source": [
    "bs = 100\n",
    "kwargs = cd['data']\n",
    "\n",
    "X, Y, mask = make_batch(N_events=bs, **kwargs)"
   ]
  },
  {
   "cell_type": "markdown",
   "id": "cfe291ae-641c-46bf-ad4d-cd33515aa0e9",
   "metadata": {},
   "source": [
    "### Evaluate the model"
   ]
  },
  {
   "cell_type": "code",
   "execution_count": 16,
   "id": "ee5aedca-f57a-4351-8eed-7e3d52f54891",
   "metadata": {
    "tags": []
   },
   "outputs": [],
   "source": [
    "from train import hungarian_matching\n",
    "import torch.nn.functional as F\n",
    "\n",
    "k_slots=3\n",
    "max_n_rings=2\n",
    "resolution=(32,32)"
   ]
  },
  {
   "cell_type": "code",
   "execution_count": 24,
   "id": "14558a1a-c789-483f-9ec9-edfcf8491220",
   "metadata": {
    "tags": []
   },
   "outputs": [],
   "source": [
    "alpha = cd['opt']['alpha']"
   ]
  },
  {
   "cell_type": "code",
   "execution_count": 37,
   "id": "340b9034-ec4d-4fef-9b4c-ad00f44ec879",
   "metadata": {
    "tags": []
   },
   "outputs": [
    {
     "name": "stdout",
     "output_type": "stream",
     "text": [
      "torch.Size([100])\n",
      "torch.Size([100])\n"
     ]
    }
   ],
   "source": [
    "with torch.no_grad():\n",
    "\n",
    "    torch.manual_seed(torch_seed)\n",
    "    queries, att, Y_pred = m(X)\n",
    "         \n",
    "    # Reshape the target mask to be flat in the pixels (same shape as att)\n",
    "    flat_mask = mask.reshape(-1,max_n_rings, np.prod(resolution))      \n",
    "\n",
    "    att_ext  = torch.tile(att.unsqueeze(2), dims=(1,1,max_n_rings,1)) \n",
    "    mask_ext = torch.tile(flat_mask.unsqueeze(1),dims=(1,k_slots,1,1)) \n",
    "\n",
    "    pairwise_cost = F.binary_cross_entropy(att_ext,mask_ext,reduction='none').mean(axis=-1)\n",
    "\n",
    "    # pairwise_cost = comb_loss(att,flat_mask,Y,Y_pred,alpha)\n",
    "    indices = hungarian_matching(pairwise_cost)\n",
    "\n",
    "    # Apply the sorting to the predict\n",
    "    bis=torch.arange(bs).to(device)\n",
    "    indices=indices.to(device)\n",
    "\n",
    "    # Loss calc\n",
    "    slots_sorted = torch.cat([att[bis,indices[:,0,ri]].unsqueeze(1) for ri in range(max_n_rings)],dim=1)\n",
    "    rings_sorted = torch.cat([flat_mask[bis,indices[:,1,ri]].unsqueeze(1) for ri in range(max_n_rings)],dim=1)\n",
    "    l_bce = F.binary_cross_entropy(slots_sorted,rings_sorted,reduction='none').sum(axis=1).mean(axis=-1)\n",
    "\n",
    "    Y_pred_sorted = torch.cat([Y_pred[bis,indices[:,0,ri]].unsqueeze(1) for ri in range(max_n_rings)],dim=1)\n",
    "    Y_true_sorted = torch.cat([Y[bis,indices[:,1,ri]].unsqueeze(1) for ri in range(max_n_rings)],dim=1)\n",
    "\n",
    "    l_mse = torch.nn.MSELoss(reduction='none')(Y_pred_sorted,Y_true_sorted).sum(axis=1).mean(axis=-1)\n",
    "\n",
    "    # Calculate the loss\n",
    "    print(l_bce.shape)\n",
    "    print(l_mse.shape)\n",
    "    li = l_bce + alpha*l_mse\n",
    "    "
   ]
  },
  {
   "cell_type": "markdown",
   "id": "c89cee39-6a1e-4f01-8c93-8f72609df451",
   "metadata": {},
   "source": [
    "Now let's histogram the loss!"
   ]
  },
  {
   "cell_type": "code",
   "execution_count": null,
   "id": "b057795c-3132-4d80-85f7-bbcf6aeb308f",
   "metadata": {
    "tags": []
   },
   "outputs": [],
   "source": [
    "\n",
    "plt.hist(li.numpy(),100,color='C1', label=\"$L_{tot}$\", range=(0, 0.35))\n",
    "plt.hist(l_bce.numpy(),100,color='r', label=\"$L_{BCE}$\", alpha=0.55, range=(0, 0.35))\n",
    "plt.hist(l_mse.numpy(),100,color='green', label=\"$L_{MSE}$\", alpha=0.55, range=(0, 0.35))\n",
    "plt.xlabel('Loss')\n",
    "plt.ylabel('Entries')\n",
    "\n",
    "ylim = plt.ylim()\n",
    "plt.plot([.01]*2,ylim,'k--')\n",
    "plt.plot([.03]*2,ylim,'grey',ls='--')\n",
    "\n",
    "plt.legend()\n",
    "plt.yscale(\"log\")\n",
    "\n",
    "plt.show()"
   ]
  },
  {
   "cell_type": "markdown",
   "id": "66ce6d4b-2625-4f20-be09-8138eabb1298",
   "metadata": {},
   "source": [
    "### Looking at examples\n",
    "\n",
    "Let's plot some example rings."
   ]
  },
  {
   "cell_type": "code",
   "execution_count": 51,
   "id": "c0960db0-1466-4806-9907-e65939cd4d8f",
   "metadata": {
    "tags": []
   },
   "outputs": [],
   "source": [
    "def plot_chosen_slots(losses, mask, att_img, Y_true, Y_pred, color='C0',cmap='Blues',figname=''):\n",
    "    n_rings = att_img.shape[0]\n",
    "    fig, axs = plt.subplots(1,n_rings+2,figsize=(3*(n_rings + 2) ,2.5))\n",
    "\n",
    "    for k,v in losses.items():\n",
    "        axs[0].plot(v,label=k)\n",
    "    axs[0].set_xlabel('Iters')\n",
    "    axs[0].set_ylabel('Loss')\n",
    "    axs[0].legend()\n",
    "    \n",
    "    imgs   = [mask] + [att_img[i] for i in range(n_rings)]\n",
    "    titles = ['Target']+[f'Slot {i}' for i in range(n_rings)]\n",
    "    extent = [-0.5, 0.5]*2\n",
    "    for i, (ax,img,title) in enumerate(zip(axs[1:],imgs, titles)):\n",
    "        \n",
    "        im = ax.imshow(img.detach().cpu().numpy(),cmap=cmap,\n",
    "                       extent=extent,origin='lower') #,vmin=0,vmax=1)\n",
    "\n",
    "        divider = make_axes_locatable(ax)\n",
    "        cax = divider.append_axes('right', size='5%', pad=0.05)\n",
    "        fig.colorbar(im, cax=cax, orientation='vertical')\n",
    "\n",
    "        ax.set_title(title)\n",
    "        \n",
    "\n",
    "    # Add on the target image\n",
    "    axi = axs[1]\n",
    "    c_true = 'r'\n",
    "    c_pred = 'k'\n",
    "    for yi in Y_true.cpu().numpy():\n",
    "    \n",
    "        axi.scatter(*yi[:2],marker='x',color=c_true)\n",
    "        circle = Circle(yi[:2],yi[2],fill=False,color=c_true)\n",
    "        axi.add_patch(circle)\n",
    "        \n",
    "        axi.set_xlim(-0.5,0.5)\n",
    "        axi.set_ylim(-0.5,0.5)\n",
    "    \n",
    "    for axi,yi,oi in zip(axs[2:],Y_true.cpu().numpy(),Y_pred.detach().cpu().numpy()):\n",
    "        \n",
    "        axi.scatter(*yi[:2],marker='x',color=c_true)\n",
    "        circle = Circle(yi[:2],yi[2],fill=False,color=c_true)\n",
    "        axi.add_patch(circle)\n",
    "        \n",
    "        axi.scatter(*oi[:2],marker='x',color=c_pred)\n",
    "        circle = Circle(oi[:2],oi[2],fill=False,color=c_pred)\n",
    "        axi.add_patch(circle)\n",
    "\n",
    "        axi.set_xlim(-0.5,0.5)\n",
    "        axi.set_ylim(-0.5,0.5)\n",
    "        \n",
    "    #if figname:\n",
    "    #    plt.savefig(figname)\n",
    "\n",
    "    plt.show()\n",
    "    plt.close()"
   ]
  },
  {
   "cell_type": "code",
   "execution_count": 50,
   "id": "0f8250ef-a715-4baa-845e-efdb37d088f9",
   "metadata": {
    "tags": []
   },
   "outputs": [],
   "source": [
    "f = open(f'./../../code/models/{cID_prev}/loss.json')\n",
    "# returns JSON object as a dictionary\n",
    "losses = json.load(f)"
   ]
  },
  {
   "cell_type": "code",
   "execution_count": 52,
   "id": "e22e3caf-0a40-4bc4-8b3e-ee4095e4344d",
   "metadata": {
    "tags": []
   },
   "outputs": [],
   "source": [
    "iEvt = 3"
   ]
  },
  {
   "cell_type": "code",
   "execution_count": 56,
   "id": "08505d88-245d-425f-9654-63f0db0f1a04",
   "metadata": {
    "tags": []
   },
   "outputs": [
    {
     "data": {
      "image/png": "[encoded data removed]",
      "text/plain": [
       "<Figure size 1200x250 with 7 Axes>"
      ]
     },
     "metadata": {},
     "output_type": "display_data"
    }
   ],
   "source": [
    "plot_chosen_slots(losses,\n",
    "                  mask[iEvt].sum(axis=0), \n",
    "                  slots_sorted[iEvt].reshape(max_n_rings,*resolution),\n",
    "                  Y_true_sorted[iEvt],\n",
    "                  Y_pred_sorted[iEvt])"
   ]
  },
  {
   "cell_type": "code",
   "execution_count": null,
   "id": "4cb6a1f2-9e7e-4baa-bba7-8e653c529cad",
   "metadata": {},
   "outputs": [],
   "source": []
  }
 ],
 "metadata": {
  "kernelspec": {
   "display_name": "sarasvenv",
   "language": "python",
   "name": "sarasvenv"
  },
  "language_info": {
   "codemirror_mode": {
    "name": "ipython",
    "version": 3
   },
   "file_extension": ".py",
   "mimetype": "text/x-python",
   "name": "python",
   "nbconvert_exporter": "python",
   "pygments_lexer": "ipython3",
   "version": "3.10.9"
  }
 },
 "nbformat": 4,
 "nbformat_minor": 5
}
