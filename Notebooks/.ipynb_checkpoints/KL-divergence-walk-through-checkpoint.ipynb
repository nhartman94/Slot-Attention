{
 "cells": [
  {
   "cell_type": "markdown",
   "id": "58fd8224-05e8-4fc0-9605-91b385b267a8",
   "metadata": {},
   "source": [
    "# KL-divergence walk through\n",
    "\n",
    "I'd like to understand whats happening in Nicoles Notebook so I go through it step by step."
   ]
  },
  {
   "cell_type": "code",
   "execution_count": 1,
   "id": "c37652c3-c8f1-4155-a189-7eaa385200ca",
   "metadata": {
    "tags": []
   },
   "outputs": [],
   "source": [
    "import torch\n",
    "import numpy as np\n",
    "import pandas as pd\n",
    "\n",
    "import matplotlib.pyplot as plt\n",
    "import matplotlib as mlp\n",
    "from mpl_toolkits.axes_grid1 import make_axes_locatable\n",
    "\n",
    "import json, yaml, os\n",
    "os.sys.path.append('code')\n",
    "\n",
    "from plotting import plot_kslots, plot_kslots_iters\n",
    "from data import make_batch\n",
    "from model import SlotAttentionPosEmbed\n",
    "\n",
    "# Set numpy seed for test set sampling \n",
    "np.random.seed(24082023)\n",
    "\n",
    "%load_ext autoreload\n",
    "%autoreload 2"
   ]
  },
  {
   "cell_type": "code",
   "execution_count": 2,
   "id": "a80dfd7b-0c72-423a-9be2-63803e696e9b",
   "metadata": {
    "tags": []
   },
   "outputs": [],
   "source": [
    "device = 'cpu'"
   ]
  },
  {
   "cell_type": "markdown",
   "id": "f14c9a29-3595-40ce-8135-b0e8cf014649",
   "metadata": {},
   "source": [
    "## Load a model\n",
    "\n",
    "There are different configurations Nicole has tried and she loads the config file here:"
   ]
  },
  {
   "cell_type": "code",
   "execution_count": 5,
   "id": "bfad7979-c673-49cb-a0bd-f38425fbf903",
   "metadata": {
    "tags": []
   },
   "outputs": [
    {
     "data": {
      "text/plain": [
       "{'data': {'N_clusters': 2, 'isRing': True},\n",
       " 'hps': {'hidden_dim': 16,\n",
       "  'k_slots': 3,\n",
       "  'query_dim': 128,\n",
       "  'softmax_T': 'default',\n",
       "  'learn_init': True,\n",
       "  'device': 'cpu'},\n",
       " 'opt': {'lr': 0.000275, 'Ntrain': 1000000, 'bs': 256}}"
      ]
     },
     "execution_count": 5,
     "metadata": {},
     "output_type": "execute_result"
    }
   ],
   "source": [
    "cID_prev = 'learn-init-warm2'\n",
    "with open(f'code/configs/{cID_prev}.yaml') as f:\n",
    "    cd = yaml.safe_load(f)\n",
    "\n",
    "hps = cd['hps']\n",
    "hps['device'] = device\n",
    "\n",
    "cd"
   ]
  },
  {
   "cell_type": "markdown",
   "id": "91de5e17-3605-4190-829e-eef2b0b16800",
   "metadata": {
    "tags": []
   },
   "source": [
    "Not sure why we need this random seed?"
   ]
  },
  {
   "cell_type": "code",
   "execution_count": 7,
   "id": "2046cda2-4d90-467b-b81b-4bb3941365ab",
   "metadata": {
    "tags": []
   },
   "outputs": [],
   "source": [
    "torch_seed = 29082023\n",
    "torch.manual_seed( torch_seed )\n",
    "\n",
    "import random\n",
    "random.seed(torch_seed)"
   ]
  },
  {
   "cell_type": "markdown",
   "id": "fd91cb0b-f96d-4d86-8658-189b80052c96",
   "metadata": {},
   "source": [
    "Now load the model `m` by using the funktion `SlotAttenionPosEmbed` from `model.py`"
   ]
  },
  {
   "cell_type": "code",
   "execution_count": 8,
   "id": "bded77d4-1fce-4b36-bac2-f58f0afdadb4",
   "metadata": {
    "tags": []
   },
   "outputs": [],
   "source": [
    "m = SlotAttentionPosEmbed(**hps)"
   ]
  },
  {
   "cell_type": "code",
   "execution_count": 31,
   "id": "06feb7af-2bc9-41de-9f88-1d6cb589d367",
   "metadata": {
    "tags": []
   },
   "outputs": [
    {
     "name": "stdout",
     "output_type": "stream",
     "text": [
      "SlotAttentionPosEmbed(\n",
      "  (dataN): LayerNorm((16,), eps=1e-05, elementwise_affine=True)\n",
      "  (queryN): LayerNorm((128,), eps=1e-05, elementwise_affine=True)\n",
      "  (toK): Linear(in_features=16, out_features=128, bias=True)\n",
      "  (toV): Linear(in_features=16, out_features=128, bias=True)\n",
      "  (gru): GRUCell(128, 128)\n",
      "  (CNN_encoder): Sequential(\n",
      "    (0): Conv2d(1, 16, kernel_size=(5, 5), stride=(1, 1), padding=(2, 2))\n",
      "    (1): ReLU()\n",
      "    (2): Conv2d(16, 16, kernel_size=(5, 5), stride=(1, 1), padding=(2, 2))\n",
      "    (3): ReLU()\n",
      "    (4): Conv2d(16, 16, kernel_size=(5, 5), stride=(1, 1), padding=(2, 2))\n",
      "  )\n",
      "  (posEnc): SoftPositionalEmbed(\n",
      "    (dense): Linear(in_features=4, out_features=16, bias=True)\n",
      "  )\n",
      "  (init_mlp): Sequential(\n",
      "    (0): Linear(in_features=16, out_features=16, bias=True)\n",
      "    (1): ReLU()\n",
      "    (2): Linear(in_features=16, out_features=16, bias=True)\n",
      "  )\n",
      ")\n"
     ]
    }
   ],
   "source": [
    "print(m)"
   ]
  },
  {
   "cell_type": "markdown",
   "id": "600e9037-7c9a-45b8-92e6-986c32a1101c",
   "metadata": {},
   "source": [
    "Ok. I do not see what form the input and output of the network should be???"
   ]
  },
  {
   "cell_type": "markdown",
   "id": "7040ed97-25ee-4d6a-955a-9316138be8bd",
   "metadata": {},
   "source": [
    "Now load weights. These are from earlier training"
   ]
  },
  {
   "cell_type": "code",
   "execution_count": 9,
   "id": "38ac165a-4cf3-4877-bc02-19be1c12aebd",
   "metadata": {
    "tags": []
   },
   "outputs": [
    {
     "name": "stdout",
     "output_type": "stream",
     "text": [
      "Starting from an earlier training 900000\n"
     ]
    },
    {
     "data": {
      "text/plain": [
       "<All keys matched successfully>"
      ]
     },
     "execution_count": 9,
     "metadata": {},
     "output_type": "execute_result"
    }
   ],
   "source": [
    "lastIter = 900_000\n",
    "weightPath = f'code/models/{cID_prev}/m_{lastIter}.pt'\n",
    "print(f'Starting from an earlier training',lastIter)\n",
    "\n",
    "m.load_state_dict(torch.load(weightPath,map_location=device))"
   ]
  },
  {
   "cell_type": "markdown",
   "id": "ede97637-bef8-4b64-b6f0-bba726ac106c",
   "metadata": {
    "tags": []
   },
   "source": [
    "## Load some data\n",
    "\n",
    "`bs` describes how much data should be generated (here: 100 pictures). `Kwargs` says \"2 rings per image\".\n",
    "`make_batch` from `data.py` generates the data. `X` are the ring pictures, `y` are the attributes of the rings. \n",
    "\n",
    "`mask` are the regions of the two rings! E.g. which pixels have hits. "
   ]
  },
  {
   "cell_type": "code",
   "execution_count": 11,
   "id": "8547c37f-aded-4fda-bd8f-37286e45d9bf",
   "metadata": {
    "tags": []
   },
   "outputs": [
    {
     "name": "stderr",
     "output_type": "stream",
     "text": [
      "/raven/u/saumi/multi-object-detection/Slot-Attention/code/data.py:94: RuntimeWarning: invalid value encountered in divide\n",
      "  eventMasks = np.where(eventHistograms>0,eventMasks/eventHistograms,eventMasks)\n"
     ]
    }
   ],
   "source": [
    "bs = 100\n",
    "kwargs = cd['data']\n",
    "\n",
    "X,y, mask = make_batch(N_events=bs, **kwargs)"
   ]
  },
  {
   "cell_type": "code",
   "execution_count": 24,
   "id": "748955ae-a712-42b7-8d23-543681d5bbfb",
   "metadata": {
    "tags": []
   },
   "outputs": [
    {
     "name": "stdout",
     "output_type": "stream",
     "text": [
      "torch.Size([100, 1, 32, 32])\n",
      "torch.Size([100, 2, 3])\n",
      "Rings with  tensor([ 0.1732, -0.0851,  0.2054])  and  tensor([-0.3119,  0.2428,  0.2014])\n"
     ]
    },
    {
     "data": {
      "image/png": "[encoded data removed]",
      "text/plain": [
       "<Figure size 640x480 with 1 Axes>"
      ]
     },
     "metadata": {},
     "output_type": "display_data"
    }
   ],
   "source": [
    "print(X.shape)\n",
    "print(y.shape)\n",
    "number = 2\n",
    "plt.imshow(X[number][0])\n",
    "print(\"Rings with \", y[number][0], \" and \", y[number][1])"
   ]
  },
  {
   "cell_type": "code",
   "execution_count": 28,
   "id": "64d170fe-cf19-40ee-ae92-df37e6fb45f1",
   "metadata": {
    "tags": []
   },
   "outputs": [
    {
     "data": {
      "text/plain": [
       "torch.Size([100, 2, 32, 32])"
      ]
     },
     "execution_count": 28,
     "metadata": {},
     "output_type": "execute_result"
    }
   ],
   "source": [
    "mask.shape"
   ]
  },
  {
   "cell_type": "code",
   "execution_count": 30,
   "id": "89df6488-3052-4cd4-b78c-12bbc4e63a16",
   "metadata": {
    "tags": []
   },
   "outputs": [
    {
     "data": {
      "text/plain": [
       "<matplotlib.image.AxesImage at 0x15480b9c5f90>"
      ]
     },
     "execution_count": 30,
     "metadata": {},
     "output_type": "execute_result"
    },
    {
     "data": {
      "image/png": "[encoded data removed]",
      "text/plain": [
       "<Figure size 640x480 with 1 Axes>"
      ]
     },
     "metadata": {},
     "output_type": "display_data"
    }
   ],
   "source": [
    "plt.imshow(mask[number][0])"
   ]
  },
  {
   "cell_type": "markdown",
   "id": "62c3f827-ad30-4335-a871-6ad70ada8f43",
   "metadata": {},
   "source": [
    "## Evaluate the model\n",
    "\n",
    "The model is already trained. But how can we check how good it is? Have a look at the loss!"
   ]
  },
  {
   "cell_type": "code",
   "execution_count": 25,
   "id": "0ca5952e-77c1-4e68-80c7-e5b1ef310192",
   "metadata": {
    "tags": []
   },
   "outputs": [],
   "source": [
    "from train import hungarian_matching\n",
    "import torch.nn.functional as F\n",
    "\n",
    "k_slots=3\n",
    "max_n_rings=2\n",
    "resolution=(32,32)"
   ]
  },
  {
   "cell_type": "markdown",
   "id": "e00c696b-2647-4440-bbf0-a1e7fcb44f56",
   "metadata": {},
   "source": [
    "We do not want a gradient, we just like to evaluate the loss. We give `X` as an input to our model `m`. Then we check how well its output `att` matches `mask` by evalutating our binary_cross_entropy (BCE). We calculate the the \"best matching\" with the hungarian matching (I don't quite get the steps here...). End of the story: Got a number (loss) for each picture."
   ]
  },
  {
   "cell_type": "code",
   "execution_count": 35,
   "id": "cbe3a0e3-9f1a-4a4e-884b-72e55d450c4f",
   "metadata": {
    "tags": []
   },
   "outputs": [
    {
     "name": "stdout",
     "output_type": "stream",
     "text": [
      "torch.Size([100, 3, 2])\n",
      "torch.Size([100, 2, 2])\n",
      "torch.Size([100, 1024])\n",
      "torch.Size([100])\n"
     ]
    }
   ],
   "source": [
    "with torch.no_grad():\n",
    "\n",
    "    torch.manual_seed(torch_seed)\n",
    "    queries, att, wts = m(X)\n",
    "    #print(queries, att, wts)\n",
    "\n",
    "    flat_mask = mask.reshape(-1,max_n_rings, np.prod(resolution))\n",
    "\n",
    "    att_ext  = torch.tile(att.unsqueeze(2), dims=(1,1,max_n_rings,1)) \n",
    "    mask_ext = torch.tile(flat_mask.unsqueeze(1),dims=(1,k_slots,1,1)) \n",
    "\n",
    "    pairwise_cost = F.binary_cross_entropy(att_ext,mask_ext,reduction='none').mean(axis=-1)\n",
    "    print(pairwise_cost.shape)\n",
    "\n",
    "    indices = hungarian_matching(pairwise_cost)\n",
    "    print(indices.shape)\n",
    "\n",
    "    # Apply the sorting to the predict\n",
    "    bis=torch.arange(bs).to(device)\n",
    "    indices=indices.to(device)\n",
    "\n",
    "    slots_sorted = torch.cat([att[bis,indices[:,0,ri]].unsqueeze(1) for ri in range(max_n_rings)],dim=1)\n",
    "\n",
    "\n",
    "    rings_sorted = torch.cat([flat_mask[bis,indices[:,1,ri]].unsqueeze(1) for ri in range(max_n_rings)],dim=1)\n",
    "\n",
    "    # Calculate the loss\n",
    "    loss = F.binary_cross_entropy(slots_sorted,rings_sorted,reduction='none').sum(axis=1)\n",
    "    print(loss.shape) # 32*32 -> loss from each pixel\n",
    "\n",
    "loss_evt = loss.mean(axis=-1)\n",
    "print(loss_evt.shape)"
   ]
  },
  {
   "cell_type": "markdown",
   "id": "9de7f12b-ae10-482c-aa7a-93cd2d29afe2",
   "metadata": {},
   "source": [
    "Now we histogram how large our loss is! We define areas where the prediction was \"good\" and where the prediction was \"bad\"."
   ]
  },
  {
   "cell_type": "code",
   "execution_count": 36,
   "id": "5a945dae-ce21-4d88-a52b-e3a24f911fa2",
   "metadata": {
    "tags": []
   },
   "outputs": [
    {
     "data": {
      "image/png": "[encoded data removed]",
      "text/plain": [
       "<Figure size 640x480 with 1 Axes>"
      ]
     },
     "metadata": {},
     "output_type": "display_data"
    }
   ],
   "source": [
    "plt.hist(loss_evt.numpy(),100,color='C1')\n",
    "plt.xlabel('Loss')\n",
    "plt.ylabel('Entries')\n",
    "\n",
    "ylim = plt.ylim()\n",
    "plt.plot([.01]*2,ylim,'k--')\n",
    "plt.plot([.03]*2,ylim,'grey',ls='--')\n",
    "plt.ylim(ylim)\n",
    "\n",
    "plt.show()"
   ]
  },
  {
   "cell_type": "markdown",
   "id": "15875a0e-6a46-429c-9345-d92d662f081f",
   "metadata": {},
   "source": [
    "Nicole does some plotting now: to check/ have a look what scenarios the network is struggeling with/ solves easily. "
   ]
  },
  {
   "cell_type": "markdown",
   "id": "db21fec9-8e70-4045-b1e8-c618680d7742",
   "metadata": {},
   "source": [
    "## Conclusion\n",
    "\n",
    "In this notebook, we load a trained model, generate some data and evaluate it's performance. \n",
    "\n",
    "**Follow up**:\n",
    "- How do we train a model? I should use a new loss? -> Yes yes loss, for the training, look at an other notebook (Invariant Slot Attention)\n",
    "- What is the criteria we are looking at? How do we define if a network is good or bad? -> Separation of features. Group chat! Think of one!\n",
    "\n",
    "**Questions to Nicole** \n",
    "- How to understand the networks architecture? -> Look at code!\n",
    "- What is the aim? Seperating the rings as best as possible because we can derive all the desired information once the rings are seperated? - Yes\n",
    "- How does the loss work?"
   ]
  },
  {
   "cell_type": "code",
   "execution_count": null,
   "id": "5c13acf5-cea9-4624-a78f-b7a230d0be7d",
   "metadata": {},
   "outputs": [],
   "source": []
  }
 ],
 "metadata": {
  "kernelspec": {
   "display_name": "sarasvenv",
   "language": "python",
   "name": "sarasvenv"
  },
  "language_info": {
   "codemirror_mode": {
    "name": "ipython",
    "version": 3
   },
   "file_extension": ".py",
   "mimetype": "text/x-python",
   "name": "python",
   "nbconvert_exporter": "python",
   "pygments_lexer": "ipython3",
   "version": "3.10.9"
  }
 },
 "nbformat": 4,
 "nbformat_minor": 5
}
