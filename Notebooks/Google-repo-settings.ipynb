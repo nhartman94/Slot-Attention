{
 "cells": [
  {
   "cell_type": "markdown",
   "id": "0ed92362-c6aa-47a5-9c01-b2a86b9792c6",
   "metadata": {},
   "source": [
    "# Google repo hyperparameters\n",
    "\n",
    "**Goal:** I was wondering if _maybe_ I was just having poor choices of hps(?), i.e, maybe the CNN wasn't expressive enough?"
   ]
  },
  {
   "cell_type": "code",
   "execution_count": 1,
   "id": "c799861d-1ddc-49bc-ae44-c77a9371449f",
   "metadata": {},
   "outputs": [],
   "source": [
    "import pandas as pd\n",
    "import json \n",
    "import numpy as np\n",
    "import matplotlib.pyplot as plt\n",
    "from itertools import product"
   ]
  },
  {
   "cell_type": "code",
   "execution_count": null,
   "id": "3d5134dc-1736-4faa-8b40-111b4ef4104b",
   "metadata": {},
   "outputs": [],
   "source": []
  },
  {
   "cell_type": "code",
   "execution_count": null,
   "id": "9858731c-5325-4fe5-9167-257cd6be76cd",
   "metadata": {},
   "outputs": [],
   "source": []
  },
  {
   "cell_type": "markdown",
   "id": "eaff597d-5388-496d-b8dc-ce48ae4782b8",
   "metadata": {},
   "source": [
    "**What's the comparison with the baseline when I keep the other parameters the same?**"
   ]
  },
  {
   "cell_type": "code",
   "execution_count": 2,
   "id": "4049a5cf-566e-4e2f-9cac-89e8aa49cf1d",
   "metadata": {},
   "outputs": [],
   "source": [
    "# alpha=1\n",
    "# roll_avg=100\n",
    "\n",
    "# for qd,l,i in zip(['-Q64','-Q128','-Q256'],\n",
    "#                    ['H=16,Q=64','H=16,Q=128','H=16,Q=256'],\n",
    "#                    np.linspace(0.05,.95,3)):\n",
    "\n",
    "#     # for base in ['2rings-sqrtD','sa']\n",
    "    \n",
    "#     for tag,label,di,ls in zip(['warm','T3'],['T=2','T=3'],[-.05,.05],['-','--']):\n",
    "#         color = cmap(i+di)\n",
    "#         fname = f'code/models/rings-sqrtD{qd}-{tag}/loss.json'\n",
    "#         print(fname)\n",
    "#         try:\n",
    "#             with open(fname) as f:\n",
    "#                 ld = pd.Series(json.load(f))\n",
    "#             print(len(ld),'last 10',ld.rolling(roll_avg).mean()[-10:].values)\n",
    "#             plt.plot(ld.rolling(roll_avg).mean()[roll_avg:].values,\n",
    "#                      label=l,alpha=alpha,color=color,ls=ls)\n",
    "\n",
    "#         except FileNotFoundError:\n",
    "#             print(f'^ this file doesn\\'t exist yet')\n",
    "\n",
    "# plt.title('2 RINGS, $1\\sqrt{D}$ softmax temp, H=16 for CNN',loc='right')\n",
    "# plt.xlabel('iterations')\n",
    "# plt.ylabel('Loss')\n",
    "# # plt.ylim(0,.06)\n",
    "# plt.legend()"
   ]
  },
  {
   "cell_type": "code",
   "execution_count": null,
   "id": "0d79025c-4ebb-4245-9ab7-e20f21c55b93",
   "metadata": {},
   "outputs": [],
   "source": []
  },
  {
   "cell_type": "code",
   "execution_count": null,
   "id": "5a4b6591-92cc-4525-a4c3-d1b929621d8f",
   "metadata": {},
   "outputs": [],
   "source": []
  },
  {
   "cell_type": "code",
   "execution_count": null,
   "id": "e81fecad-00fd-40db-884e-d63ee93e0c8d",
   "metadata": {},
   "outputs": [],
   "source": []
  },
  {
   "cell_type": "markdown",
   "id": "90190a3a-e523-4c8f-b674-cd8750a153eb",
   "metadata": {},
   "source": [
    "Fun fact... when you go bigger, the model \"grocs\" for longer!"
   ]
  },
  {
   "cell_type": "code",
   "execution_count": 3,
   "id": "4c5d32c0-9095-4d49-94eb-2874be4ad623",
   "metadata": {},
   "outputs": [],
   "source": [
    "import matplotlib as mlp\n",
    "try:\n",
    "    cmap = mlp.colormaps.get_cmap('magma')\n",
    "except:\n",
    "    cmap =mlp.colorbar.cm.magma"
   ]
  },
  {
   "cell_type": "code",
   "execution_count": null,
   "id": "0de4482a-3718-4f3d-bd07-342d0a3e8045",
   "metadata": {},
   "outputs": [],
   "source": []
  },
  {
   "cell_type": "code",
   "execution_count": 4,
   "id": "f1c096c9-5385-4493-b3b9-e410c220c1f4",
   "metadata": {},
   "outputs": [
    {
     "name": "stderr",
     "output_type": "stream",
     "text": [
      "No handles with labels found to put in legend.\n"
     ]
    },
    {
     "name": "stdout",
     "output_type": "stream",
     "text": [
      "code/models/sa-Q64-bs256-const-lr/loss.json\n",
      "^ this file doesn't exist yet\n",
      "code/models/sa-Q64-bs256-scale-lr/loss.json\n",
      "^ this file doesn't exist yet\n",
      "code/models/sa-Q64-bs512-const-lr/loss.json\n",
      "^ this file doesn't exist yet\n",
      "code/models/sa-Q64-bs512-scale-lr/loss.json\n",
      "^ this file doesn't exist yet\n",
      "code/models/sa-Q64-bs1024-const-lr/loss.json\n",
      "^ this file doesn't exist yet\n",
      "code/models/sa-Q64-bs1024-scale-lr/loss.json\n",
      "^ this file doesn't exist yet\n"
     ]
    },
    {
     "data": {
      "image/png": "[encoded data removed]",
      "text/plain": [
       "<Figure size 432x288 with 1 Axes>"
      ]
     },
     "metadata": {
      "needs_background": "light"
     },
     "output_type": "display_data"
    },
    {
     "name": "stderr",
     "output_type": "stream",
     "text": [
      "No handles with labels found to put in legend.\n"
     ]
    },
    {
     "name": "stdout",
     "output_type": "stream",
     "text": [
      "code/models/sa-Q128-bs256-const-lr/loss.json\n",
      "^ this file doesn't exist yet\n",
      "code/models/sa-Q128-bs256-scale-lr/loss.json\n",
      "^ this file doesn't exist yet\n",
      "code/models/sa-Q128-bs512-const-lr/loss.json\n",
      "^ this file doesn't exist yet\n",
      "code/models/sa-Q128-bs512-scale-lr/loss.json\n",
      "^ this file doesn't exist yet\n",
      "code/models/sa-Q128-bs1024-const-lr/loss.json\n",
      "^ this file doesn't exist yet\n",
      "code/models/sa-Q128-bs1024-scale-lr/loss.json\n",
      "^ this file doesn't exist yet\n"
     ]
    },
    {
     "data": {
      "image/png": "[encoded data removed]",
      "text/plain": [
       "<Figure size 432x288 with 1 Axes>"
      ]
     },
     "metadata": {
      "needs_background": "light"
     },
     "output_type": "display_data"
    },
    {
     "name": "stdout",
     "output_type": "stream",
     "text": [
      "code/models/sa-Q256-bs256-const-lr/loss.json\n",
      "^ this file doesn't exist yet\n",
      "code/models/sa-Q256-bs256-scale-lr/loss.json\n",
      "^ this file doesn't exist yet\n",
      "code/models/sa-Q256-bs512-const-lr/loss.json\n",
      "^ this file doesn't exist yet\n",
      "code/models/sa-Q256-bs512-scale-lr/loss.json\n",
      "^ this file doesn't exist yet\n",
      "code/models/sa-Q256-bs1024-const-lr/loss.json\n",
      "359001 0.03071667140349746\n",
      "code/models/sa-Q256-bs1024-scale-lr/loss.json\n",
      "^ this file doesn't exist yet\n"
     ]
    },
    {
     "data": {
      "image/png": "[encoded data removed]",
      "text/plain": [
       "<Figure size 432x288 with 1 Axes>"
      ]
     },
     "metadata": {
      "needs_background": "light"
     },
     "output_type": "display_data"
    }
   ],
   "source": [
    "alpha=.5\n",
    "roll_avg = 100\n",
    "cmap = mlp.colorbar.cm.get_cmap('nipy_spectral')\n",
    "\n",
    "\n",
    "\n",
    "for Q in [64,128,256]:\n",
    "    for bs,i in zip([256,512,1024],[.05,.9,.5]):\n",
    "\n",
    "        for tag,di in zip(['const-lr','scale-lr'],[.05,-.05]):\n",
    "\n",
    "            cID = f'sa-Q{Q}-bs{bs}-{tag}'\n",
    "            c = cmap(i+di)\n",
    "\n",
    "            fname = f'code/models/{cID}/loss.json'\n",
    "            print(fname)\n",
    "            try:\n",
    "                with open(fname) as f:\n",
    "                    ld = pd.Series(json.load(f))\n",
    "                print(len(ld),ld.rolling(roll_avg).mean().values[-1])\n",
    "                plt.plot(ld.rolling(roll_avg).mean()[roll_avg:].values,\n",
    "                         label=f'bs={bs}, {tag}',alpha=alpha,color=c)\n",
    "\n",
    "            except FileNotFoundError:\n",
    "                print(f'^ this file doesn\\'t exist yet')\n",
    "\n",
    "    plt.title(f'2 RINGS, google defaults with Q={Q}, roll_avg = {roll_avg}',loc='right')\n",
    "    plt.xlabel('iterations')\n",
    "    plt.ylabel('Loss')\n",
    "    plt.ylim(0,.2)\n",
    "    plt.legend()\n",
    "\n",
    "    plt.show()"
   ]
  },
  {
   "cell_type": "markdown",
   "id": "6517e59b-7620-4382-8b29-f8eb7d2074f3",
   "metadata": {},
   "source": [
    "Should I kill the constant learning rate experiments?"
   ]
  },
  {
   "cell_type": "code",
   "execution_count": null,
   "id": "6ae2b509-fb03-4e60-9317-b65ed4a4d49b",
   "metadata": {},
   "outputs": [],
   "source": []
  }
 ],
 "metadata": {
  "kernelspec": {
   "display_name": "Python 3",
   "language": "python",
   "name": "python3"
  },
  "language_info": {
   "codemirror_mode": {
    "name": "ipython",
    "version": 3
   },
   "file_extension": ".py",
   "mimetype": "text/x-python",
   "name": "python",
   "nbconvert_exporter": "python",
   "pygments_lexer": "ipython3",
   "version": "3.8.12"
  }
 },
 "nbformat": 4,
 "nbformat_minor": 5
}
