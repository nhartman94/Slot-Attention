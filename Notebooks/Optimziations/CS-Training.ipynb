{
 "cells": [
  {
   "cell_type": "markdown",
   "id": "a628f462-a189-438d-846a-fb695a3efd74",
   "metadata": {},
   "source": [
    "# CS Training\n",
    "\n",
    "**Goal:** Look at how the cosine similarity between the slots _evolves_ during training.\n",
    "\n",
    "**Motivation:** When I reran the `Cosine-similarity` notebook between trainings, I got really different results, so I'm curious to zone in on this a bit."
   ]
  },
  {
   "cell_type": "code",
   "execution_count": 1,
   "id": "aed483bf-f2da-46b6-87ed-1be2cd1618e8",
   "metadata": {},
   "outputs": [],
   "source": [
    "import torch\n",
    "import numpy as np\n",
    "import pandas as pd\n",
    "\n",
    "import matplotlib.pyplot as plt\n",
    "import matplotlib as mlp\n",
    "\n",
    "import json, yaml, os\n",
    "os.sys.path.append('code')\n",
    "\n",
    "from plotting import plot_kslots, plot_kslots_iters\n",
    "from data import make_batch\n",
    "from model import SlotAttentionPosEmbed\n",
    "\n",
    "# Set numpy seed for test set sampling \n",
    "np.random.seed(24082023)\n",
    "\n",
    "%load_ext autoreload\n",
    "%autoreload 2"
   ]
  },
  {
   "cell_type": "code",
   "execution_count": 2,
   "id": "4c4c938f-7ecb-4542-b501-a950ea236fb3",
   "metadata": {},
   "outputs": [],
   "source": [
    "device = 'cpu'"
   ]
  },
  {
   "cell_type": "code",
   "execution_count": 3,
   "id": "587adad9-336e-4be0-98dc-b59b6381189f",
   "metadata": {},
   "outputs": [],
   "source": [
    "cID_prev = 'learn-init-warm2'\n",
    "with open(f'code/configs/{cID_prev}.yaml') as f:\n",
    "    cd = yaml.safe_load(f)\n",
    "\n",
    "hps = cd['hps']\n",
    "hps['device'] = device\n",
    "\n",
    "m = SlotAttentionPosEmbed(**hps)"
   ]
  },
  {
   "cell_type": "code",
   "execution_count": 4,
   "id": "a1507d5b-ee55-4709-bbf7-2e66d4d00e71",
   "metadata": {},
   "outputs": [],
   "source": [
    "from train import hungarian_matching\n",
    "import torch.nn.functional as F\n",
    "\n",
    "k_slots=3\n",
    "max_n_rings=2\n",
    "resolution=(32,32)"
   ]
  },
  {
   "cell_type": "code",
   "execution_count": 5,
   "id": "5ef55f6a-73fb-41bb-8ecf-c59ff222d1db",
   "metadata": {},
   "outputs": [],
   "source": [
    "def get_loss(m,X,mask):\n",
    "\n",
    "    with torch.no_grad():\n",
    "\n",
    "        queries, att, wts = m(X)\n",
    "\n",
    "    flat_mask = mask.reshape(-1,max_n_rings, np.prod(resolution))\n",
    "\n",
    "    att_ext  = torch.tile(att.unsqueeze(2), dims=(1,1,max_n_rings,1)) \n",
    "    mask_ext = torch.tile(flat_mask.unsqueeze(1),dims=(1,k_slots,1,1)) \n",
    "\n",
    "    pairwise_cost = F.binary_cross_entropy(att_ext,mask_ext,reduction='none').mean(axis=-1)\n",
    "\n",
    "    indices = hungarian_matching(pairwise_cost)\n",
    "\n",
    "    # Apply the sorting to the predict\n",
    "    bis=torch.arange(bs).to(device)\n",
    "    indices=indices.to(device)\n",
    "\n",
    "    slots_sorted = torch.cat([att[bis,indices[:,0,ri]].unsqueeze(1) for ri in range(max_n_rings)],dim=1)\n",
    "\n",
    "    rings_sorted = torch.cat([flat_mask[bis,indices[:,1,ri]].unsqueeze(1) for ri in range(max_n_rings)],dim=1)\n",
    "\n",
    "    # Calculate the loss\n",
    "    # avg the pixel loss, but don't avg over the exs\n",
    "    loss = F.binary_cross_entropy(slots_sorted,rings_sorted,reduction='none').sum(axis=1).mean(axis=-1)\n",
    "\n",
    "    # And cosine sim b/w chosen centroids\n",
    "    mus = torch.cat([queries[bis,indices[:,0,ri]].unsqueeze(1) for ri in range(max_n_rings)],dim=1)\n",
    "    cs = torch.nn.CosineSimilarity()(mus[:,0],mus[:,1])\n",
    "\n",
    "    return loss, cs"
   ]
  },
  {
   "cell_type": "code",
   "execution_count": 6,
   "id": "1f934a84-227f-4533-a347-c932111945f2",
   "metadata": {},
   "outputs": [
    {
     "name": "stderr",
     "output_type": "stream",
     "text": [
      "/gpfs/slac/atlas/fs1/d/nhartman/Slot Attention/code/data.py:94: RuntimeWarning: invalid value encountered in true_divide\n",
      "  eventMasks = np.where(eventHistograms>0,eventMasks/eventHistograms,eventMasks)\n"
     ]
    }
   ],
   "source": [
    "bs = 100\n",
    "kwargs = cd['data']\n",
    "X,y, mask = make_batch(N_events=bs, **kwargs)"
   ]
  },
  {
   "cell_type": "code",
   "execution_count": 8,
   "id": "4a27689a-275a-4f6e-9e72-715d16330c02",
   "metadata": {},
   "outputs": [
    {
     "name": "stderr",
     "output_type": "stream",
     "text": [
      "100%|██████████| 1000/1000 [08:08<00:00,  2.05it/s]\n"
     ]
    }
   ],
   "source": [
    "from tqdm import tqdm\n",
    "\n",
    "losses = []\n",
    "cs = []\n",
    "\n",
    "for i in tqdm(range(0,1000_000,1_000)):\n",
    "    weightPath = f'code/models/{cID_prev}/m_{i}.pt'\n",
    "    m.load_state_dict(torch.load(weightPath,map_location=device))\n",
    "    \n",
    "    loss, cs_centroids = get_loss(m,X,mask)\n",
    "    \n",
    "    losses.append(loss.mean())\n",
    "    cs.append(cs_centroids.mean())"
   ]
  },
  {
   "cell_type": "code",
   "execution_count": 28,
   "id": "ce95d60b-ff70-4367-a748-7eb81adc96d6",
   "metadata": {},
   "outputs": [
    {
     "data": {
      "text/plain": [
       "262000"
      ]
     },
     "execution_count": 28,
     "metadata": {},
     "output_type": "execute_result"
    }
   ],
   "source": [
    "i"
   ]
  },
  {
   "cell_type": "code",
   "execution_count": 18,
   "id": "9b67935c-830a-4a0d-9a51-93f102ba33fc",
   "metadata": {},
   "outputs": [
    {
     "data": {
      "image/png": "[encoded data removed]",
      "text/plain": [
       "<Figure size 432x288 with 2 Axes>"
      ]
     },
     "metadata": {
      "needs_background": "light"
     },
     "output_type": "display_data"
    }
   ],
   "source": [
    "c1 = 'C0'\n",
    "c2 = 'C2'\n",
    "\n",
    "plt.plot(losses,color=c1,label='BCE loss')\n",
    "\n",
    "ax1 = plt.gca()\n",
    "ax2 = ax1.twinx()\n",
    "\n",
    "ax2.plot(cs,color=c2,label='Cosine sim b/w centroids')\n",
    "ax2.tick_params(axis='y', colors=c2) \n",
    "ax2.spines['right'].set_color(c2)\n",
    "\n",
    "ax1.tick_params(axis='y', colors=c1) \n",
    "ax2.spines['left'].set_color(c1)\n",
    "\n",
    "\n",
    "ax2.scatter(len(cs)-1,[0.9357],200,marker=\"*\",color='gold',ec='k',zorder=10,lw=2)\n",
    "\n",
    "\n",
    "ax1.set_xlabel('Iterations / 1000',fontsize=16)\n",
    "ax1.set_ylabel('Loss',color=c1,fontsize=16)\n",
    "ax2.set_ylabel('Cosine similarity',color=c2,rotation=270,labelpad=20,\n",
    "               fontsize=16)\n",
    "# plt.legend()\n",
    "# plt.title('H=16,Q=64, learn init with warm start',loc='right')\n",
    "plt.show()"
   ]
  },
  {
   "cell_type": "code",
   "execution_count": 10,
   "id": "ce372dae-f3d6-45a7-9a68-e2104c9c5ac9",
   "metadata": {},
   "outputs": [
    {
     "data": {
      "text/plain": [
       "tensor([0.9420, 0.9441, 0.9449, 0.9453, 0.9469, 0.9441, 0.9442, 0.9435, 0.9487,\n",
       "        0.9441, 0.9450, 0.9456, 0.9428, 0.9453, 0.9440, 0.9437, 0.9429, 0.9459,\n",
       "        0.9443, 0.9454, 0.9437, 0.9460, 0.9444, 0.9485, 0.9434, 0.9447, 0.9488,\n",
       "        0.9469, 0.9443, 0.9442, 0.9445, 0.9421, 0.9998, 0.9487, 0.9439, 0.9442,\n",
       "        0.9450, 0.9439, 0.9432, 0.9432, 0.9448, 0.9444, 0.9538, 0.9434, 0.9441,\n",
       "        0.9433, 0.9433, 0.9451, 0.9489, 0.9455, 0.9450, 0.9452, 0.9446, 0.9447,\n",
       "        0.9464, 0.9451, 0.9449, 0.9444, 0.9511, 0.9443, 0.9421, 0.8945, 0.9432,\n",
       "        0.9454, 0.9453, 0.9460, 0.9444, 0.9445, 0.9443, 0.9429, 0.9448, 0.9441,\n",
       "        0.9434, 0.9447, 0.9443, 0.9437, 0.9431, 0.9434, 0.9460, 0.9427, 0.9442,\n",
       "        0.9437, 0.9459, 0.9443, 0.9441, 0.9468, 0.9447, 0.9462, 0.9479, 0.9466,\n",
       "        0.9450, 0.9464, 0.9447, 0.9452, 0.9469, 0.9434, 0.9464, 0.9421, 0.9476,\n",
       "        0.9443])"
      ]
     },
     "execution_count": 10,
     "metadata": {},
     "output_type": "execute_result"
    }
   ],
   "source": [
    "cs_centroids"
   ]
  },
  {
   "cell_type": "code",
   "execution_count": null,
   "id": "fe15c408-9da1-475d-a525-754c0a1d25a6",
   "metadata": {},
   "outputs": [],
   "source": []
  }
 ],
 "metadata": {
  "kernelspec": {
   "display_name": "Python 3",
   "language": "python",
   "name": "python3"
  },
  "language_info": {
   "codemirror_mode": {
    "name": "ipython",
    "version": 3
   },
   "file_extension": ".py",
   "mimetype": "text/x-python",
   "name": "python",
   "nbconvert_exporter": "python",
   "pygments_lexer": "ipython3",
   "version": "3.8.12"
  }
 },
 "nbformat": 4,
 "nbformat_minor": 5
}
