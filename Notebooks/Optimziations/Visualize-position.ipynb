{
 "cells": [
  {
   "cell_type": "markdown",
   "id": "96a74843-c445-458f-be85-21e991db85d3",
   "metadata": {},
   "source": [
    "# Visualize Internals\n",
    "\n",
    "**Goal:** Where are we _losing_ the info in the model?\n",
    "\n",
    "Let's make all the plots!!"
   ]
  },
  {
   "cell_type": "markdown",
   "id": "0cafe34c-4b31-4be3-a1b9-e0bd39d54a63",
   "metadata": {},
   "source": [
    "**Step 1:** Are we losing info with the way we're adding the position?\n",
    "\n",
    "**Plan:** Plot the variables for x,y,z in the features."
   ]
  },
  {
   "cell_type": "code",
   "execution_count": 1,
   "id": "932a37e9-86c9-48af-9508-e49e7831fd4c",
   "metadata": {},
   "outputs": [],
   "source": [
    "import matplotlib.pyplot as plt\n",
    "import torch\n",
    "import numpy as np\n",
    "\n",
    "# IO pkgs\n",
    "import yaml, json\n",
    "from glob import glob\n",
    "\n",
    "# custom code\n",
    "import os\n",
    "os.sys.path.append('code')\n",
    "from plotting import plot_kslots, plot_kslots_iters\n",
    "from data import make_batch\n",
    "from model import SlotAttentionPosEmbed\n",
    "\n",
    "%load_ext autoreload\n",
    "%autoreload 2"
   ]
  },
  {
   "cell_type": "code",
   "execution_count": 2,
   "id": "45af1f78-7b03-45bd-b58f-8af68f5ad398",
   "metadata": {},
   "outputs": [],
   "source": [
    "device = 'cpu'"
   ]
  },
  {
   "cell_type": "code",
   "execution_count": null,
   "id": "949726a8-b7ba-4ee6-85a0-1eeaabf7834f",
   "metadata": {},
   "outputs": [],
   "source": []
  },
  {
   "cell_type": "code",
   "execution_count": 3,
   "id": "c241b4bc-0e5d-4925-a860-e14f238e1e44",
   "metadata": {},
   "outputs": [],
   "source": [
    "'''\n",
    "Take a trained model -- for starters the model with Q=16,\n",
    "although then we can scale up to 126\n",
    "'''\n",
    "\n",
    "cID = '2rings-sqrtD'\n",
    "config = f'code/configs/{cID}.yaml'\n",
    "\n",
    "with open(config, \"r\")as cfile:\n",
    "    cdict = yaml.safe_load(cfile)\n",
    "\n",
    "opt = cdict[\"opt\"]\n",
    "hps = cdict[\"hps\"]\n",
    "kwargs = cdict[\"data\"] # to pass to the data loading fct"
   ]
  },
  {
   "cell_type": "code",
   "execution_count": 4,
   "id": "40548165-2473-4045-b05c-4d79c791059d",
   "metadata": {},
   "outputs": [],
   "source": [
    "hps['device'] = device\n",
    "model = SlotAttentionPosEmbed(**hps).to(device)"
   ]
  },
  {
   "cell_type": "code",
   "execution_count": 5,
   "id": "d7942dac-9aa7-499f-861f-0654edcbab27",
   "metadata": {},
   "outputs": [
    {
     "name": "stdout",
     "output_type": "stream",
     "text": [
      "Starting from an earlier training 488000\n"
     ]
    }
   ],
   "source": [
    "# Load in the weights \n",
    "# Check for what was the last training iteration\n",
    "modelChkpts = glob(f'code/models/{cID}/m_*.pt')\n",
    "if len(modelChkpts) == 0:\n",
    "    print('ERROR -- No files fround for',modelChkpts, 'when requesting to train from warm_start')\n",
    "    raise FileNotFoundError\n",
    "\n",
    "savedIters = [mName.split('/')[-1].split('.')[0].split('_')[-1] for mName in modelChkpts   ]\n",
    "savedIters = np.array([int(i) for i in savedIters])                     \n",
    "lastIter = np.max(savedIters)\n",
    "\n",
    "print(f'Starting from an earlier training',lastIter)\n",
    "\n",
    "modelToLoad = f'code/models/2rings-sqrtD/m_{lastIter}.pt'"
   ]
  },
  {
   "cell_type": "code",
   "execution_count": 6,
   "id": "4e271148-131d-4c0f-a014-9c78d63c3f1e",
   "metadata": {},
   "outputs": [
    {
     "data": {
      "text/plain": [
       "<All keys matched successfully>"
      ]
     },
     "execution_count": 6,
     "metadata": {},
     "output_type": "execute_result"
    }
   ],
   "source": [
    "model.load_state_dict(torch.load(modelToLoad,map_location=device))"
   ]
  },
  {
   "cell_type": "markdown",
   "id": "3488a4e3-b148-4541-963d-c4b69ca07690",
   "metadata": {},
   "source": [
    "**Generate a mini-batch of data**"
   ]
  },
  {
   "cell_type": "code",
   "execution_count": 7,
   "id": "af44c913-40c1-4868-a1ec-025a5e4b28fb",
   "metadata": {},
   "outputs": [],
   "source": [
    "np.random.seed(22082023)"
   ]
  },
  {
   "cell_type": "code",
   "execution_count": 8,
   "id": "07097332-9c72-408b-965f-40c95ddb0724",
   "metadata": {},
   "outputs": [
    {
     "name": "stderr",
     "output_type": "stream",
     "text": [
      "/gpfs/slac/atlas/fs1/d/nhartman/Slot Attention/code/data.py:97: RuntimeWarning: invalid value encountered in true_divide\n",
      "  eventMasks = np.where(eventHistograms>0,eventMasks/eventHistograms,eventMasks)\n"
     ]
    }
   ],
   "source": [
    "bs = 10\n",
    "\n",
    "X, Y, mask = make_batch(N_events=bs, device=device, **kwargs)"
   ]
  },
  {
   "cell_type": "markdown",
   "id": "76d6f3fe-eebf-4a31-961c-9c2c0fd5c0ec",
   "metadata": {},
   "source": [
    "**Before starting, I'm a little curious which examples were well classified?**"
   ]
  },
  {
   "cell_type": "code",
   "execution_count": null,
   "id": "b9f1ab1b-ca8d-4689-b99d-82deacceb396",
   "metadata": {},
   "outputs": [],
   "source": []
  },
  {
   "cell_type": "code",
   "execution_count": null,
   "id": "a1cbfae8-c56f-4001-8a88-211417c708da",
   "metadata": {},
   "outputs": [],
   "source": []
  },
  {
   "cell_type": "markdown",
   "id": "23b6b2d4-2dd8-447c-81c1-c83cdf0a892d",
   "metadata": {},
   "source": [
    "**Get the CNN representation**"
   ]
  },
  {
   "cell_type": "code",
   "execution_count": 9,
   "id": "1850efce-34e4-428e-b296-f0521a34507d",
   "metadata": {},
   "outputs": [],
   "source": [
    "posEnc = model.posEnc"
   ]
  },
  {
   "cell_type": "code",
   "execution_count": 10,
   "id": "7a818def-54b0-4286-9ca4-fe76e7817c51",
   "metadata": {},
   "outputs": [],
   "source": [
    "lin_proj_4x32 = posEnc.dense\n",
    "grid = posEnc.grid"
   ]
  },
  {
   "cell_type": "code",
   "execution_count": 11,
   "id": "5a684f5b-0bef-4fea-9a65-da8400552316",
   "metadata": {},
   "outputs": [],
   "source": [
    "with torch.no_grad():\n",
    "    cnn_feat = model.CNN_encoder(X).permute(0,2,3,1) # with channel dim at th end\n",
    "    grid_feat = lin_proj_4x32(grid)"
   ]
  },
  {
   "cell_type": "code",
   "execution_count": 12,
   "id": "81b349d4-05ba-43a8-9fda-0e87817a3dde",
   "metadata": {},
   "outputs": [
    {
     "data": {
      "text/plain": [
       "tensor([ 2.5185, -2.5887,  2.6897,  ..., -0.1787, -2.1789,  2.5023])"
      ]
     },
     "execution_count": 12,
     "metadata": {},
     "output_type": "execute_result"
    }
   ],
   "source": [
    "cnn_feat.flatten()"
   ]
  },
  {
   "cell_type": "code",
   "execution_count": 13,
   "id": "a482d5ef-9a4a-4d14-bc02-65844cde2456",
   "metadata": {},
   "outputs": [
    {
     "data": {
      "text/plain": [
       "torch.Size([10, 32, 32, 16])"
      ]
     },
     "execution_count": 13,
     "metadata": {},
     "output_type": "execute_result"
    }
   ],
   "source": [
    "cnn_feat.shape"
   ]
  },
  {
   "cell_type": "code",
   "execution_count": 14,
   "id": "ef25bd63-8463-4152-8151-e0263ecbafa4",
   "metadata": {},
   "outputs": [
    {
     "data": {
      "text/plain": [
       "torch.Size([1, 32, 32, 4])"
      ]
     },
     "execution_count": 14,
     "metadata": {},
     "output_type": "execute_result"
    }
   ],
   "source": [
    "grid.shape"
   ]
  },
  {
   "cell_type": "code",
   "execution_count": 15,
   "id": "e230db92-5538-4bac-9429-8e0f38514e02",
   "metadata": {},
   "outputs": [
    {
     "data": {
      "text/plain": [
       "torch.Size([1, 32, 32, 16])"
      ]
     },
     "execution_count": 15,
     "metadata": {},
     "output_type": "execute_result"
    }
   ],
   "source": [
    "grid_feat.shape"
   ]
  },
  {
   "cell_type": "code",
   "execution_count": 16,
   "id": "6cbbc3cd-9234-4f4f-9853-711dbb48da80",
   "metadata": {},
   "outputs": [
    {
     "data": {
      "image/png": "[encoded data removed]",
      "text/plain": [
       "<Figure size 432x288 with 1 Axes>"
      ]
     },
     "metadata": {
      "needs_background": "light"
     },
     "output_type": "display_data"
    }
   ],
   "source": [
    "nb = 100\n",
    "r = (-15,15)\n",
    "\n",
    "for i in range(10):\n",
    "    plt.hist(cnn_feat[i].flatten().numpy(),nb,r,\n",
    "             label='CNN feat' if i ==0 else None,\n",
    "             histtype='step',alpha=.5,color='C0')\n",
    "plt.hist(grid_feat.flatten().numpy(),nb,r,color='k',\n",
    "         histtype='step',label='grid')\n",
    "\n",
    "ax = plt.gca()\n",
    "plt.text(.05,.95,'Features for 10 exs',transform=ax.transAxes,va='top')\n",
    "plt.legend()\n",
    "plt.xlabel('Feature activations')\n",
    "plt.ylabel('Entries')\n",
    "plt.xlim(r)\n",
    "\n",
    "plt.show()"
   ]
  },
  {
   "cell_type": "code",
   "execution_count": null,
   "id": "573b197c-7f03-4ec6-a64e-d198357cb9f1",
   "metadata": {},
   "outputs": [],
   "source": []
  },
  {
   "cell_type": "code",
   "execution_count": 17,
   "id": "e2f6fe6f-88b3-4892-a6f0-0c734239f6b1",
   "metadata": {},
   "outputs": [
    {
     "data": {
      "image/png": "[encoded data removed]",
      "text/plain": [
       "<Figure size 432x288 with 1 Axes>"
      ]
     },
     "metadata": {
      "needs_background": "light"
     },
     "output_type": "display_data"
    }
   ],
   "source": [
    "nb = 100\n",
    "r = (-15,15)\n",
    "\n",
    "for i in range(10):\n",
    "    plt.hist(cnn_feat[i][mask[i].sum(dim=0).bool()].flatten().numpy(),nb,r,\n",
    "             label='\"on\" CNN feat' if i ==0 else None,\n",
    "             histtype='step',alpha=.5,color='dodgerblue',density=True)\n",
    "    plt.hist(cnn_feat[i][~mask[i].sum(dim=0).bool()].flatten().numpy(),nb,r,\n",
    "             label='\"off\" CNN feat' if i ==0 else None,\n",
    "             histtype='step',alpha=.5,color='grey',density=True)\n",
    "plt.hist(grid_feat.flatten().numpy(),nb,r,color='k',\n",
    "         histtype='step',label='grid',density=True)\n",
    "\n",
    "ax = plt.gca()\n",
    "plt.text(.05,.95,'Features for 10 exs',transform=ax.transAxes,va='top')\n",
    "plt.legend()\n",
    "plt.xlabel('Feature activations')\n",
    "plt.ylabel('Entries')\n",
    "plt.xlim(r)\n",
    "\n",
    "plt.show()"
   ]
  },
  {
   "cell_type": "code",
   "execution_count": null,
   "id": "365eb433-9885-46c5-925c-16029d5049ae",
   "metadata": {},
   "outputs": [],
   "source": []
  },
  {
   "cell_type": "code",
   "execution_count": 18,
   "id": "108e127d-d7cd-4515-9112-51e7f5861b73",
   "metadata": {},
   "outputs": [
    {
     "data": {
      "image/png": "[encoded data removed]",
      "text/plain": [
       "<Figure size 1152x648 with 256 Axes>"
      ]
     },
     "metadata": {
      "needs_background": "light"
     },
     "output_type": "display_data"
    }
   ],
   "source": [
    "fig, axes = plt.subplots(16,16,figsize=(16,9))\n",
    "\n",
    "for i,ax_list in enumerate(axes):\n",
    "    for j,ax in enumerate(ax_list):\n",
    "        \n",
    "        ax.hist(cnn_feat[:,i,j].numpy().flatten(),nb,r,color='C0',histtype='step',density=True)\n",
    "        ax.hist(grid_feat[:,i,j].numpy().flatten(),nb,r,color='k',histtype='step',density=True)\n",
    "        \n",
    "        # ax.axis('off')\n",
    "        \n",
    "    #     break\n",
    "    # break\n",
    "    \n",
    "plt.show() "
   ]
  },
  {
   "cell_type": "markdown",
   "id": "6952e4f9-6ce9-45c2-be6d-c355f5e24d61",
   "metadata": {},
   "source": [
    "^ And... this is only the upper left corner of the image"
   ]
  },
  {
   "cell_type": "code",
   "execution_count": null,
   "id": "3369ad77-7248-4a7b-9129-4deb046f2661",
   "metadata": {},
   "outputs": [],
   "source": []
  },
  {
   "cell_type": "markdown",
   "id": "d749760a-6188-4b0f-8ede-319de5e9bf57",
   "metadata": {},
   "source": [
    "**Note:** It might be nice to have a \"by eye\" comparison of the \"good\" and \"bad\" examples, and then color code the histograms."
   ]
  },
  {
   "cell_type": "code",
   "execution_count": 19,
   "id": "a65b1f96-1cb6-4400-8891-f23bd0b38e76",
   "metadata": {},
   "outputs": [
    {
     "data": {
      "text/plain": [
       "torch.Size([10, 32, 32])"
      ]
     },
     "execution_count": 19,
     "metadata": {},
     "output_type": "execute_result"
    }
   ],
   "source": [
    "mask.sum(dim=1).bool().shape"
   ]
  },
  {
   "cell_type": "code",
   "execution_count": 20,
   "id": "4c607488-587b-4287-b6fb-f4691015db4e",
   "metadata": {},
   "outputs": [
    {
     "data": {
      "text/plain": [
       "torch.Size([10, 1, 32, 32])"
      ]
     },
     "execution_count": 20,
     "metadata": {},
     "output_type": "execute_result"
    }
   ],
   "source": [
    "X.shape"
   ]
  },
  {
   "cell_type": "code",
   "execution_count": 21,
   "id": "f766b9a3-ce6b-4402-a0b3-f77478c8783d",
   "metadata": {},
   "outputs": [
    {
     "data": {
      "text/plain": [
       "tensor([0.6931, 3.9890, 3.9512, 3.9890, 3.4657, 2.1972, 4.1431, 2.8332, 3.9120,\n",
       "        3.6889, 3.5553, 2.9957, 3.8286, 3.6376, 3.7842, 3.8712, 3.9703, 3.5553,\n",
       "        2.5649, 1.6094, 4.0431, 1.7918, 3.3673, 3.7612, 3.9318, 3.7612, 3.9318,\n",
       "        3.1355, 0.6931, 3.4012, 3.2189, 3.7136, 3.2581, 3.5553, 3.2189, 2.9957,\n",
       "        3.0910, 1.3863, 3.6109, 1.3863, 3.3322, 3.6376, 3.3673, 1.9459, 2.7726,\n",
       "        3.4340, 3.3673, 3.2581, 3.4340, 3.4340, 3.4657, 3.2189, 3.4012, 3.2958,\n",
       "        1.0986, 3.3322, 1.6094, 3.7842, 2.3979, 3.2189, 1.3863, 3.6376, 2.3979,\n",
       "        3.0910, 3.2581, 2.7726, 3.3673, 3.3673, 2.8332, 3.1781, 1.3863, 3.8286,\n",
       "        4.0254, 3.7842, 0.0000, 2.3026, 4.0073, 0.0000, 4.1271, 2.8332, 3.9318,\n",
       "        3.8286, 3.9890, 3.4012, 3.8712, 3.7612, 3.8067, 3.9318, 2.9444, 3.8067,\n",
       "        3.8712, 2.9957, 2.0794, 4.0943, 3.8918, 3.8501, 2.5649, 2.4849, 3.0910,\n",
       "        3.0445, 2.7726, 3.1781, 3.3673, 3.4965, 2.5649, 3.2581, 2.5649, 2.3979,\n",
       "        3.6376, 2.0794, 3.2958, 3.2189, 0.6931, 2.9444, 2.7081, 3.3673, 1.6094,\n",
       "        3.4012, 2.6391, 2.8332, 2.1972, 2.5649, 3.4340, 2.7726, 3.4012, 2.5649,\n",
       "        2.9444, 3.4012, 2.9444, 2.9444, 3.3673, 3.5553, 2.7081, 1.6094, 3.1781,\n",
       "        3.2189, 3.4012, 3.7377, 3.7612, 4.4773, 3.2189, 1.6094, 3.6376, 2.3979,\n",
       "        1.9459, 4.4659, 3.6376, 3.2581, 3.8712, 3.2189, 3.1355, 4.0254, 3.6636,\n",
       "        1.6094, 3.5835, 3.4657, 4.3438, 4.0073, 3.1355, 2.3026, 4.2767, 3.9890,\n",
       "        3.2581, 4.2341, 3.8712, 3.4965, 4.1897, 4.0775, 4.1589, 2.7726, 3.7377,\n",
       "        3.7136, 3.8067, 3.8712, 4.0073, 2.3979, 3.5264, 2.7081, 3.0910, 3.8067,\n",
       "        1.3863, 2.8332, 3.2581, 3.6376, 1.3863, 3.5835, 3.3673, 1.3863, 1.3863,\n",
       "        3.4657, 3.1355, 2.5649, 3.2958, 2.9957, 3.2189, 3.0445, 2.9444, 1.3863,\n",
       "        3.3673, 2.7081, 2.7081, 2.9957, 3.6109, 1.6094, 2.4849, 3.3322, 3.2581,\n",
       "        0.6931, 2.7081, 2.3979, 3.1781, 3.1781, 3.5553, 2.8904, 1.0986, 2.8332,\n",
       "        3.2958, 2.7726, 2.9957, 3.0445, 3.2958, 3.5264, 2.5649, 2.7726, 4.1431,\n",
       "        3.5264, 2.9444, 3.0445, 2.9444, 3.4012, 2.9444, 3.2189, 2.3979, 2.3026,\n",
       "        3.5835, 1.7918, 3.2581, 3.4012, 3.1781, 1.7918, 3.2581, 3.6376, 1.3863,\n",
       "        3.4012, 1.6094, 3.2958, 3.4340, 3.1781, 2.0794, 4.0943, 1.3863, 3.2189,\n",
       "        1.6094, 2.1972, 3.8501, 3.5835, 4.1897, 4.0943, 3.3322, 2.8332, 3.5835,\n",
       "        3.6376, 3.2581, 2.9444, 3.8712, 4.0254, 3.5835, 2.4849, 3.8286, 3.4012,\n",
       "        1.9459, 3.4965, 2.7726, 3.6376, 3.5835, 1.9459, 3.9318, 3.6376, 3.4340,\n",
       "        3.8286, 3.8712, 2.0794, 3.5553, 4.1744, 3.5835, 3.3322, 3.7842, 3.4340,\n",
       "        2.0794, 4.0775, 3.9120, 1.0986, 0.0000, 3.8067, 2.8904, 3.7842, 1.0986,\n",
       "        3.8918, 3.5835, 3.5264, 3.5553, 3.7377, 0.6931, 3.2189, 3.2581, 3.2958,\n",
       "        3.3673, 0.0000, 3.0445, 3.2581, 3.6109, 1.3863, 3.4965, 3.8918, 3.7136,\n",
       "        3.6889, 3.8501, 3.4657, 3.5264, 3.2958, 2.8332, 2.9957, 3.8712, 3.1781,\n",
       "        3.0910, 2.9957, 4.3175, 2.7081, 3.7377, 2.8332, 3.2581, 1.0986, 3.6376,\n",
       "        3.2958, 2.6391, 3.5835, 3.4340, 2.7726, 3.7612, 3.1355, 2.8904, 3.9120,\n",
       "        2.9444, 3.3673, 0.0000, 3.3322, 1.6094, 4.0254, 2.0794, 0.0000, 3.7136,\n",
       "        3.2189, 1.0986, 3.0445, 3.8712, 3.7136, 3.2189, 3.7136, 2.9444, 3.1355,\n",
       "        1.6094, 3.6636, 3.8286, 2.1972, 2.7726, 3.0445, 3.4340, 2.1972, 2.6391,\n",
       "        2.9957, 3.5264, 3.3322, 2.0794, 1.6094, 3.3322, 2.9957, 2.3979, 3.0910,\n",
       "        2.3979, 2.5649, 3.3673, 2.9957, 2.0794, 2.0794, 2.9444, 1.6094, 3.4657,\n",
       "        3.2581, 3.4340, 3.1355, 3.6636, 3.7612, 1.3863, 3.0445, 2.1972, 3.8918,\n",
       "        3.2189, 3.5264, 2.8904, 3.3322, 2.5649, 3.6889, 2.8904, 1.7918, 3.0910,\n",
       "        3.7136, 2.8904, 3.5553, 3.1781, 1.6094, 2.9957, 3.5264, 3.2189, 3.1355,\n",
       "        3.2189, 3.0910, 3.3322, 3.1781, 3.0910, 2.3026, 2.7081, 2.8904, 3.1781,\n",
       "        2.6391, 2.3979, 3.5264, 3.4965, 0.0000, 3.3322, 3.1355, 3.5264, 3.2581,\n",
       "        1.3863, 2.3026, 3.2958, 0.6931, 3.2189, 1.0986, 0.6931, 3.4965, 3.1355,\n",
       "        3.4965, 1.3863, 1.7918, 4.0073, 3.4657, 3.2581, 1.6094, 3.4012, 3.1781,\n",
       "        3.2189, 3.8918, 4.2485, 2.6391, 1.7918, 3.4340, 3.5264, 3.4012, 1.3863,\n",
       "        2.3979, 3.1355, 3.3322, 2.9957, 2.7081, 3.0445, 2.5649, 1.0986, 3.4340,\n",
       "        3.2958, 2.3026, 3.0910, 1.3863, 3.4657, 2.8332, 0.6931, 3.2958, 3.2958,\n",
       "        2.9957, 2.8332, 2.4849, 3.3673, 2.3979, 3.1355, 2.9957, 3.5835, 0.6931,\n",
       "        2.8332, 3.1355, 3.5835, 3.1355, 3.1781, 3.1355, 2.8904, 3.6109, 3.6889,\n",
       "        3.7377, 3.7842, 3.2189, 3.2958, 3.3673, 3.1355, 2.8332, 3.8067, 3.3673,\n",
       "        3.6889, 3.6889, 3.4340, 3.7377, 3.8286, 3.9120, 2.5649, 3.4657, 3.6636,\n",
       "        3.2581, 2.9957, 3.6636, 3.7136, 3.7842, 3.8501, 2.7081, 3.4012, 1.9459,\n",
       "        1.3863, 3.3673, 3.7136, 3.6376, 3.5835, 3.6636, 3.2189, 2.3026, 2.0794,\n",
       "        3.7136, 3.8712, 3.6109, 1.3863, 3.6889, 3.0445, 2.8904, 3.9512, 1.7918,\n",
       "        2.8332, 3.7612, 3.6109, 2.8332, 2.0794, 2.9444, 3.2189, 3.0910, 2.9444,\n",
       "        2.7726, 3.4012, 2.3026, 2.9957, 3.3322, 2.1972, 3.0445, 3.1355, 3.2958,\n",
       "        0.6931, 3.1355, 3.4657, 3.5553, 0.0000, 3.0910, 2.7081, 3.4340, 3.4012,\n",
       "        3.5553, 3.3673, 3.0910, 3.4965, 3.3673, 2.1972, 2.6391, 1.9459, 2.9444,\n",
       "        3.4657, 3.2581, 2.5649, 2.8904, 2.4849, 3.1355, 3.5835, 0.6931, 3.4965,\n",
       "        2.9444, 1.0986, 3.2189, 3.2581, 3.2581, 3.3322, 3.2581, 0.6931, 3.6636,\n",
       "        3.9703, 2.5649, 3.6376, 3.3673, 3.7842, 3.3673, 3.3673, 3.2581, 1.7918,\n",
       "        3.6109, 3.9703, 3.7136, 3.5835, 3.8286, 3.8067, 3.6109, 1.0986, 3.5553,\n",
       "        2.7726, 3.6109, 3.4012, 3.7136, 0.0000, 3.4340, 3.7136, 3.6376, 3.6376,\n",
       "        3.3673, 2.7081, 2.4849, 3.1355, 2.9957, 2.8332, 2.8904, 3.2958, 2.0794,\n",
       "        2.7081, 3.4012, 2.0794, 3.0445, 2.9444, 3.0910, 3.0910, 1.7918, 3.1355,\n",
       "        3.4340, 0.0000, 3.4657, 3.2189, 3.6376, 3.5553, 3.1781, 3.4012, 3.3322,\n",
       "        3.4012, 3.2958, 2.1972, 1.7918, 3.0445, 3.6376, 3.7136, 2.3026, 3.5553,\n",
       "        3.6109, 2.1972, 2.1972, 3.3322, 3.5553, 3.0445, 3.2958, 3.5553, 3.4965,\n",
       "        0.0000])"
      ]
     },
     "execution_count": 21,
     "metadata": {},
     "output_type": "execute_result"
    }
   ],
   "source": [
    "torch.log(X.squeeze()[mask.sum(dim=1).bool()])"
   ]
  },
  {
   "cell_type": "code",
   "execution_count": 22,
   "id": "f6809036-fb5c-4d41-a599-3ce9c826e72d",
   "metadata": {},
   "outputs": [],
   "source": [
    "log_occ = torch.log(X.squeeze()[mask.sum(dim=1).bool()])"
   ]
  },
  {
   "cell_type": "code",
   "execution_count": 23,
   "id": "5917e7e8-5225-4180-8527-45674ca0dca0",
   "metadata": {},
   "outputs": [
    {
     "data": {
      "text/plain": [
       "torch.Size([10, 1, 32, 32])"
      ]
     },
     "execution_count": 23,
     "metadata": {},
     "output_type": "execute_result"
    }
   ],
   "source": [
    "X.shape"
   ]
  },
  {
   "cell_type": "code",
   "execution_count": null,
   "id": "01e72651-329b-491c-89ed-28bebbb00d92",
   "metadata": {},
   "outputs": [],
   "source": []
  },
  {
   "cell_type": "code",
   "execution_count": null,
   "id": "119c2176-d2bc-49ee-b515-d6140070759c",
   "metadata": {},
   "outputs": [],
   "source": []
  },
  {
   "cell_type": "code",
   "execution_count": 24,
   "id": "bffce848-5675-413b-a44a-e4262860b030",
   "metadata": {},
   "outputs": [
    {
     "data": {
      "text/plain": [
       "torch.Size([10, 5, 32, 32])"
      ]
     },
     "execution_count": 24,
     "metadata": {},
     "output_type": "execute_result"
    }
   ],
   "source": [
    "torch.cat([X,torch.tile(grid.permute(0,3,1,2), [X.shape[0],1,1,1])],dim=1).shape"
   ]
  },
  {
   "cell_type": "code",
   "execution_count": null,
   "id": "09cb5f99-0c48-43c2-8150-5b2ae96f7691",
   "metadata": {},
   "outputs": [],
   "source": []
  },
  {
   "cell_type": "code",
   "execution_count": null,
   "id": "2abcb865-5ff0-4a40-9059-ccc1c513e251",
   "metadata": {},
   "outputs": [],
   "source": []
  },
  {
   "cell_type": "code",
   "execution_count": 25,
   "id": "c0a98b4a-3dbf-424b-b173-26947049c842",
   "metadata": {},
   "outputs": [],
   "source": [
    "import pandas as pd"
   ]
  },
  {
   "cell_type": "code",
   "execution_count": 26,
   "id": "b7aa761a-d820-45dc-8bbc-13d4c7dc7d1b",
   "metadata": {},
   "outputs": [
    {
     "name": "stdout",
     "output_type": "stream",
     "text": [
      "code/models/2rings-sqrtD-Q128/loss.json\n",
      "255001 [0.0331678  0.03310864 0.03306845]\n",
      "code/models/pixel_mult/loss.json\n",
      "464001 [0.026384   0.02638564 0.02635029]\n",
      "code/models/pos_inpts/loss.json\n",
      "461001 [0.03525669 0.03522478 0.03520164]\n",
      "code/models/pos_inpts_logE/loss.json\n",
      "477001 [0.02629015 0.02627349 0.02625271]\n"
     ]
    },
    {
     "data": {
      "text/plain": [
       "<matplotlib.legend.Legend at 0x7fb20153fb50>"
      ]
     },
     "execution_count": 26,
     "metadata": {},
     "output_type": "execute_result"
    },
    {
     "data": {
      "image/png": "[encoded data removed]",
      "text/plain": [
       "<Figure size 432x288 with 1 Axes>"
      ]
     },
     "metadata": {
      "needs_background": "light"
     },
     "output_type": "display_data"
    }
   ],
   "source": [
    "alpha=.5\n",
    "roll_avg=100\n",
    "for cid,l,c in zip(['2rings-sqrtD-Q128','pixel_mult','pos_inpts','pos_inpts_logE'],\n",
    "                 ['Q=128 (baseline)',\n",
    "                  'mult by the grid enc by 10',\n",
    "                  'Concat pos inpts w/ E',\n",
    "                  'Concat pos inpts w/ log(E)'],\n",
    "                  ['C0','C1','C2','forestgreen']):\n",
    "    \n",
    "    fname = f'code/models/{cid}/loss.json'\n",
    "    print(fname)\n",
    "    try:\n",
    "        with open(fname) as f:\n",
    "            ld = pd.Series(json.load(f))\n",
    "        print(len(ld),ld.rolling(roll_avg).mean()[-3:].values)\n",
    "        plt.plot(ld.rolling(roll_avg).mean()[roll_avg:],\n",
    "                 label=l,alpha=alpha)\n",
    "\n",
    "    except FileNotFoundError:\n",
    "        print(f'^ this file doesn\\'t exist yet')\n",
    "\n",
    "        \n",
    "        \n",
    "plt.title('2 RINGS, $1\\sqrt{D}$ softmax temp, H=16, Q=128',loc='right')\n",
    "plt.xlabel('iterations')\n",
    "plt.ylabel('Loss')\n",
    "# plt.xlim(0,260_000)\n",
    "plt.ylim(0,.2)\n",
    "plt.legend()"
   ]
  },
  {
   "cell_type": "code",
   "execution_count": 27,
   "id": "5196bd35-169f-4a09-b31b-e19e4819f220",
   "metadata": {},
   "outputs": [],
   "source": [
    "hidden_dim=64\n",
    "cnn_args = {\n",
    "    'out_channels': hidden_dim,\n",
    "    'kernel_size': 5,\n",
    "    'padding':2, # same\n",
    "}\n",
    "\n",
    "num_conv_layers=4\n",
    "\n",
    "CNN_encoder = torch.nn.Sequential(\n",
    "            torch.nn.Conv2d(1, **cnn_args),\n",
    "            *( [torch.nn.ReLU(), torch.nn.Conv2d(hidden_dim,**cnn_args)] * (num_conv_layers-1)))\n",
    "        "
   ]
  },
  {
   "cell_type": "code",
   "execution_count": 28,
   "id": "a3a62280-e3ec-4597-8c87-f425646e68d3",
   "metadata": {},
   "outputs": [
    {
     "data": {
      "text/plain": [
       "0.75"
      ]
     },
     "execution_count": 28,
     "metadata": {},
     "output_type": "execute_result"
    }
   ],
   "source": [
    ".25*3"
   ]
  },
  {
   "cell_type": "code",
   "execution_count": 29,
   "id": "fc13cdc4-69d5-480a-bcaf-663445d1ffe0",
   "metadata": {},
   "outputs": [
    {
     "data": {
      "text/plain": [
       "Sequential(\n",
       "  (0): Conv2d(1, 64, kernel_size=(5, 5), stride=(1, 1), padding=(2, 2))\n",
       "  (1): ReLU()\n",
       "  (2): Conv2d(64, 64, kernel_size=(5, 5), stride=(1, 1), padding=(2, 2))\n",
       "  (3): ReLU()\n",
       "  (4): Conv2d(64, 64, kernel_size=(5, 5), stride=(1, 1), padding=(2, 2))\n",
       "  (5): ReLU()\n",
       "  (6): Conv2d(64, 64, kernel_size=(5, 5), stride=(1, 1), padding=(2, 2))\n",
       ")"
      ]
     },
     "execution_count": 29,
     "metadata": {},
     "output_type": "execute_result"
    }
   ],
   "source": [
    "CNN_encoder"
   ]
  },
  {
   "cell_type": "code",
   "execution_count": null,
   "id": "4fbf718f-410b-4dbc-9c96-761c0a7257eb",
   "metadata": {},
   "outputs": [],
   "source": []
  },
  {
   "cell_type": "markdown",
   "id": "ebbe0fd3-82b6-41f1-8542-a0b746406870",
   "metadata": {},
   "source": [
    "**Sanity check the model works!**"
   ]
  },
  {
   "cell_type": "code",
   "execution_count": null,
   "id": "487465d4-0368-480e-9d77-e63d94e6e261",
   "metadata": {},
   "outputs": [],
   "source": []
  },
  {
   "cell_type": "markdown",
   "id": "11776b0a-37f9-4e92-a111-f4da1b3c1c5e",
   "metadata": {},
   "source": [
    "**Add positional features**"
   ]
  },
  {
   "cell_type": "code",
   "execution_count": 30,
   "id": "be410673-7ab1-46e8-a90c-2f5231bb861e",
   "metadata": {},
   "outputs": [
    {
     "name": "stderr",
     "output_type": "stream",
     "text": [
      "/gpfs/slac/atlas/fs1/d/nhartman/Slot Attention/code/data.py:97: RuntimeWarning: invalid value encountered in true_divide\n",
      "  eventMasks = np.where(eventHistograms>0,eventMasks/eventHistograms,eventMasks)\n"
     ]
    }
   ],
   "source": [
    "bs = 10\n",
    "\n",
    "X, Y, mask = make_batch(N_events=bs, device=device, **kwargs)"
   ]
  },
  {
   "cell_type": "code",
   "execution_count": 31,
   "id": "3340cc75-7edf-4a41-93b0-704483b41072",
   "metadata": {},
   "outputs": [
    {
     "data": {
      "text/plain": [
       "(array([ 92.,  73., 108., 169., 118.,  49.,  13.,   3.,   2.,   3.]),\n",
       " array([ 1. ,  8.3, 15.6, 22.9, 30.2, 37.5, 44.8, 52.1, 59.4, 66.7, 74. ],\n",
       "       dtype=float32),\n",
       " <BarContainer object of 10 artists>)"
      ]
     },
     "execution_count": 31,
     "metadata": {},
     "output_type": "execute_result"
    },
    {
     "data": {
      "image/png": "[encoded data removed]",
      "text/plain": [
       "<Figure size 432x288 with 1 Axes>"
      ]
     },
     "metadata": {
      "needs_background": "light"
     },
     "output_type": "display_data"
    }
   ],
   "source": [
    "plt.hist(X.squeeze()[mask.sum(dim=1).bool()].numpy())"
   ]
  },
  {
   "cell_type": "code",
   "execution_count": 32,
   "id": "6f5f16d5-f541-469f-b673-b6cba19ea046",
   "metadata": {},
   "outputs": [
    {
     "data": {
      "text/plain": [
       "(array([ 18.,  12.,  11.,  16.,  35.,  49., 105., 215., 158.,  11.]),\n",
       " array([0.       , 0.4304065, 0.860813 , 1.2912196, 1.721626 , 2.1520326,\n",
       "        2.5824392, 3.0128458, 3.443252 , 3.8736587, 4.304065 ],\n",
       "       dtype=float32),\n",
       " <BarContainer object of 10 artists>)"
      ]
     },
     "execution_count": 32,
     "metadata": {},
     "output_type": "execute_result"
    },
    {
     "data": {
      "image/png": "[encoded data removed]",
      "text/plain": [
       "<Figure size 432x288 with 1 Axes>"
      ]
     },
     "metadata": {
      "needs_background": "light"
     },
     "output_type": "display_data"
    }
   ],
   "source": [
    "plt.hist(torch.log(X.squeeze()[mask.sum(dim=1).bool()]).numpy())"
   ]
  },
  {
   "cell_type": "code",
   "execution_count": 33,
   "id": "1309ecd0-9a9d-41f4-ae9a-b7ed32ca4a52",
   "metadata": {},
   "outputs": [
    {
     "name": "stderr",
     "output_type": "stream",
     "text": [
      "/gpfs/slac/atlas/fs1/d/nhartman/Slot Attention/code/data.py:103: RuntimeWarning: divide by zero encountered in log\n",
      "  eventHistograms = np.where(eventHistograms>0,np.log(eventHistograms),0)\n"
     ]
    }
   ],
   "source": [
    "X2, Y2, mask2 = make_batch(N_events=bs, device=device, logE=True, **kwargs)"
   ]
  },
  {
   "cell_type": "code",
   "execution_count": 34,
   "id": "36cfb5b9-fd8a-4bc9-bb72-74c0c154778d",
   "metadata": {},
   "outputs": [
    {
     "data": {
      "text/plain": [
       "(array([ 12.,  12.,  11.,  22.,  33.,  56.,  88., 192., 149.,  22.]),\n",
       " array([0.        , 0.43307334, 0.8661467 , 1.29922   , 1.7322934 ,\n",
       "        2.1653666 , 2.59844   , 3.0315132 , 3.4645867 , 3.89766   ,\n",
       "        4.3307333 ], dtype=float32),\n",
       " [<matplotlib.patches.Polygon at 0x7fb1f37834c0>])"
      ]
     },
     "execution_count": 34,
     "metadata": {},
     "output_type": "execute_result"
    },
    {
     "data": {
      "image/png": "[encoded data removed]",
      "text/plain": [
       "<Figure size 432x288 with 1 Axes>"
      ]
     },
     "metadata": {
      "needs_background": "light"
     },
     "output_type": "display_data"
    }
   ],
   "source": [
    "plt.hist(torch.log(X.squeeze()[mask.sum(dim=1).bool()]).numpy())\n",
    "plt.hist(X2.squeeze()[mask2.sum(dim=1).bool()].numpy(),histtype='step',color='k')"
   ]
  },
  {
   "cell_type": "markdown",
   "id": "7312d799-c771-4688-8df7-bb53e93be0c9",
   "metadata": {},
   "source": [
    "It's not exactly the same b/c I don't have the same random seed, but the distributions roughly match... I think my implementation is  good!"
   ]
  },
  {
   "cell_type": "code",
   "execution_count": 35,
   "id": "51d7483d-9c8b-4b67-a644-3464488dc9a0",
   "metadata": {},
   "outputs": [
    {
     "data": {
      "text/plain": [
       "<matplotlib.image.AxesImage at 0x7fb1f12e7580>"
      ]
     },
     "execution_count": 35,
     "metadata": {},
     "output_type": "execute_result"
    },
    {
     "data": {
      "image/png": "[encoded data removed]",
      "text/plain": [
       "<Figure size 432x288 with 1 Axes>"
      ]
     },
     "metadata": {
      "needs_background": "light"
     },
     "output_type": "display_data"
    }
   ],
   "source": [
    "plt.imshow(X[0,0].numpy())"
   ]
  },
  {
   "cell_type": "code",
   "execution_count": 36,
   "id": "34075a97-41ed-464d-8c23-bb8bb0ec9a6c",
   "metadata": {},
   "outputs": [
    {
     "data": {
      "text/plain": [
       "<matplotlib.image.AxesImage at 0x7fb1f11c7820>"
      ]
     },
     "execution_count": 36,
     "metadata": {},
     "output_type": "execute_result"
    },
    {
     "data": {
      "image/png": "[encoded data removed]",
      "text/plain": [
       "<Figure size 432x288 with 1 Axes>"
      ]
     },
     "metadata": {
      "needs_background": "light"
     },
     "output_type": "display_data"
    }
   ],
   "source": [
    "plt.imshow(X2[0,0].numpy())"
   ]
  },
  {
   "cell_type": "code",
   "execution_count": null,
   "id": "be54edfc-d19b-40da-abbe-1d0bbd100dd9",
   "metadata": {},
   "outputs": [],
   "source": []
  },
  {
   "cell_type": "code",
   "execution_count": null,
   "id": "6e70843c-2e21-4e6c-8475-69f1c5a2df5a",
   "metadata": {},
   "outputs": [],
   "source": []
  }
 ],
 "metadata": {
  "kernelspec": {
   "display_name": "Python 3",
   "language": "python",
   "name": "python3"
  },
  "language_info": {
   "codemirror_mode": {
    "name": "ipython",
    "version": 3
   },
   "file_extension": ".py",
   "mimetype": "text/x-python",
   "name": "python",
   "nbconvert_exporter": "python",
   "pygments_lexer": "ipython3",
   "version": "3.8.12"
  }
 },
 "nbformat": 4,
 "nbformat_minor": 5
}
