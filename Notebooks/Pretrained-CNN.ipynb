{
 "cells": [
  {
   "cell_type": "markdown",
   "id": "4dc91399-e504-41fd-a822-630c17b60714",
   "metadata": {},
   "source": [
    "# Pretrained CNN\n",
    "\n",
    "**Goal:**  It seems like we're not getting a good enough CNN embedding (based on the similarity score between the input pixels).\n",
    "\n",
    "Lukas suggested using a pretrained ResNet model for single images or fine tuning a single ring classification network.\n",
    "\n",
    "Let's try them out and see what works!!\n",
    "\n",
    "\n",
    "Actually... I'll wait for the model to finish training first :) "
   ]
  },
  {
   "cell_type": "code",
   "execution_count": null,
   "id": "9e4f35d4-c076-4c96-9c66-677fc89016c7",
   "metadata": {},
   "outputs": [],
   "source": []
  },
  {
   "cell_type": "code",
   "execution_count": null,
   "id": "d753332d-133e-4e48-a3c5-fbe87c7385e4",
   "metadata": {},
   "outputs": [],
   "source": []
  },
  {
   "cell_type": "code",
   "execution_count": null,
   "id": "33fdd019-b5ef-4299-b0b0-e532bb280785",
   "metadata": {},
   "outputs": [],
   "source": []
  },
  {
   "cell_type": "code",
   "execution_count": null,
   "id": "98ccfea4-177f-432b-a422-6361d3a61eda",
   "metadata": {},
   "outputs": [],
   "source": []
  }
 ],
 "metadata": {
  "kernelspec": {
   "display_name": "Python 3",
   "language": "python",
   "name": "python3"
  },
  "language_info": {
   "codemirror_mode": {
    "name": "ipython",
    "version": 3
   },
   "file_extension": ".py",
   "mimetype": "text/x-python",
   "name": "python",
   "nbconvert_exporter": "python",
   "pygments_lexer": "ipython3",
   "version": "3.8.12"
  }
 },
 "nbformat": 4,
 "nbformat_minor": 5
}
