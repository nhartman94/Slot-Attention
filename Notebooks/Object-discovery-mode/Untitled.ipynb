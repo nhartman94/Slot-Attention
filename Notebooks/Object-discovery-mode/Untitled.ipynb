{
 "cells": [
  {
   "cell_type": "markdown",
   "id": "129fa715-d895-4e6e-8419-79c97da44992",
   "metadata": {},
   "source": [
    "# Check data"
   ]
  },
  {
   "cell_type": "code",
   "execution_count": 1,
   "id": "b9d64a08-57a8-4561-990b-3ce5c787b5f2",
   "metadata": {
    "tags": []
   },
   "outputs": [],
   "source": [
    "import scclevr\n",
    "import torch\n",
    "import numpy as np"
   ]
  },
  {
   "cell_type": "code",
   "execution_count": 2,
   "id": "4147f72f-37ef-47f6-a477-645a7f1d4902",
   "metadata": {
    "tags": []
   },
   "outputs": [],
   "source": [
    "N_obj = 2\n",
    "N_img = 100\n",
    "rings = scclevr.RingsBinaryUniform(N_obj) # two rings per imagne\n",
    "event_images, object_images, n_objects, object_features =  rings.gen_events(N_img)"
   ]
  },
  {
   "cell_type": "code",
   "execution_count": 3,
   "id": "e4e862be-e7cc-467a-a0c9-a32a4c84a3bb",
   "metadata": {
    "tags": []
   },
   "outputs": [
    {
     "data": {
      "text/plain": [
       "(100, 1, 32, 32)"
      ]
     },
     "execution_count": 3,
     "metadata": {},
     "output_type": "execute_result"
    }
   ],
   "source": [
    "event_images.shape"
   ]
  },
  {
   "cell_type": "code",
   "execution_count": 4,
   "id": "431cf3e4-f3cc-40c9-9462-0e1bb7a188d6",
   "metadata": {
    "tags": []
   },
   "outputs": [
    {
     "data": {
      "text/plain": [
       "(100, 2, 32, 32)"
      ]
     },
     "execution_count": 4,
     "metadata": {},
     "output_type": "execute_result"
    }
   ],
   "source": [
    "object_images.shape"
   ]
  },
  {
   "cell_type": "code",
   "execution_count": null,
   "id": "071eb04b-415a-4d21-adba-93c401710e83",
   "metadata": {},
   "outputs": [],
   "source": []
  }
 ],
 "metadata": {
  "kernelspec": {
   "display_name": "sarasvenv",
   "language": "python",
   "name": "sarasvenv"
  },
  "language_info": {
   "codemirror_mode": {
    "name": "ipython",
    "version": 3
   },
   "file_extension": ".py",
   "mimetype": "text/x-python",
   "name": "python",
   "nbconvert_exporter": "python",
   "pygments_lexer": "ipython3",
   "version": "3.10.9"
  }
 },
 "nbformat": 4,
 "nbformat_minor": 5
}
