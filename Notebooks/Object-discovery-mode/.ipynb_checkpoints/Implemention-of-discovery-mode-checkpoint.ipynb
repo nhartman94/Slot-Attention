{
 "cells": [
  {
   "cell_type": "markdown",
   "id": "c7ebee71-64b8-4f9e-a800-ebb5a8f05252",
   "metadata": {},
   "source": [
    "# Implementation of object discovery mode in ISA\n",
    "\n",
    "I would like to implement object discovery (OD) into our ISA. This is the working notebook to figure out how!\n",
    "\n",
    "The main idea:\n",
    "\n",
    "- $loss = MSE = (X-X_{slots})^2$\n",
    "- with $X_{slots} = \\sum att_i \\cdot \\alpha_i \\cdot X$  with $X \\in [bs, 32, 32]$ original picture, $\\alpha \\in [bs, 3]$ for 3 slots, $att \\in [bs, 3, 32, 32]$\n",
    "- $\\alpha$  tells whether a slot is background or not\n",
    "- $\\alpha$  is learned by a small network $\\alpha = miniNetwork(q_i)$ (reminder $q_i$ is queries = slots $\\in [bs, 128, 32, 32]$)\n",
    "\n",
    "Wuhu, this is my first unsupervised training ever!! Let's get started! :-) "
   ]
  },
  {
   "cell_type": "markdown",
   "id": "e2acc48f-fb0e-49b6-bfee-c408220e3a41",
   "metadata": {},
   "source": [
    "# How to to this\n",
    "\n",
    "Let's first try to move all the training etc into this notebook so I can play around :-) "
   ]
  },
  {
   "cell_type": "code",
   "execution_count": 1,
   "id": "62de3af3-3820-4091-be84-a6a307a914ff",
   "metadata": {
    "tags": []
   },
   "outputs": [],
   "source": [
    "import torch\n",
    "import numpy as np\n",
    "import pandas as pd\n",
    "\n",
    "import matplotlib.pyplot as plt\n",
    "import matplotlib as mlp\n",
    "from mpl_toolkits.axes_grid1 import make_axes_locatable\n",
    "\n",
    "import json, yaml, os\n",
    "os.sys.path.append('./../../code')\n",
    "\n",
    "from plotting import plot_kslots, plot_kslots_iters\n",
    "from data_scclevr import makeRings \n",
    "from model import InvariantSlotAttention\n",
    "\n",
    "from matplotlib.patches import Circle\n",
    "import json\n",
    "\n",
    "# Set numpy seed for test set sampling \n",
    "np.random.seed(24082023)\n",
    "\n",
    "%load_ext autoreload\n",
    "%autoreload 2"
   ]
  },
  {
   "cell_type": "code",
   "execution_count": 2,
   "id": "f1fa9fd3-59ce-44e7-bc8d-1f760074d661",
   "metadata": {
    "tags": []
   },
   "outputs": [],
   "source": [
    "import torch.nn.functional as F"
   ]
  },
  {
   "cell_type": "code",
   "execution_count": 3,
   "id": "20ca4900-7d69-4b17-966f-f36801d40b87",
   "metadata": {
    "tags": []
   },
   "outputs": [],
   "source": [
    "from scipy.optimize import linear_sum_assignment"
   ]
  },
  {
   "cell_type": "code",
   "execution_count": 4,
   "id": "ee254ac2-bd48-4742-95f1-de6fb6dcc7e8",
   "metadata": {
    "tags": []
   },
   "outputs": [],
   "source": [
    "from plotting import plot_chosen_slots, plot_kslots, plot_kslots_iters, plot_kslots_grads"
   ]
  },
  {
   "cell_type": "code",
   "execution_count": 5,
   "id": "86206193-3bbb-4d8a-9ab7-84b71e75131c",
   "metadata": {
    "tags": []
   },
   "outputs": [],
   "source": [
    "torch_seed = 24082023\n",
    "torch.manual_seed( torch_seed )\n",
    "\n",
    "import random\n",
    "random.seed(torch_seed)"
   ]
  },
  {
   "cell_type": "markdown",
   "id": "066a3534-a193-48ce-ae90-279a2817ada7",
   "metadata": {},
   "source": []
  },
  {
   "cell_type": "code",
   "execution_count": 6,
   "id": "2f1c24a8-dad7-4144-88f0-cfc7fe1c1dd0",
   "metadata": {
    "tags": []
   },
   "outputs": [],
   "source": [
    "device = 'cpu'\n",
    "cID_prev = 'isa-alpha3_scclevr'\n",
    "with open(f'./../../code/configs/{cID_prev}.yaml') as f:\n",
    "    cd = yaml.safe_load(f)\n",
    "\n",
    "hps = cd['hps']\n",
    "hps['device'] = device"
   ]
  },
  {
   "cell_type": "code",
   "execution_count": 7,
   "id": "3bb0b259-64df-41a0-8589-d4715eb0c0f1",
   "metadata": {
    "tags": []
   },
   "outputs": [],
   "source": [
    "model = InvariantSlotAttention(**hps).to(device)"
   ]
  },
  {
   "cell_type": "code",
   "execution_count": 8,
   "id": "d5f1cb24-b5c9-4546-9250-32f98af9c121",
   "metadata": {
    "tags": []
   },
   "outputs": [
    {
     "data": {
      "text/plain": [
       "InvariantSlotAttention(\n",
       "  (dataN): LayerNorm((16,), eps=1e-05, elementwise_affine=True)\n",
       "  (queryN): LayerNorm((128,), eps=1e-05, elementwise_affine=True)\n",
       "  (toK): Linear(in_features=16, out_features=128, bias=True)\n",
       "  (toV): Linear(in_features=16, out_features=128, bias=True)\n",
       "  (gru): GRUCell(128, 128)\n",
       "  (CNN_encoder): Sequential(\n",
       "    (0): Conv2d(1, 16, kernel_size=(5, 5), stride=(1, 1), padding=(2, 2))\n",
       "    (1): ReLU()\n",
       "    (2): Conv2d(16, 16, kernel_size=(5, 5), stride=(1, 1), padding=(2, 2))\n",
       "    (3): ReLU()\n",
       "    (4): Conv2d(16, 16, kernel_size=(5, 5), stride=(1, 1), padding=(2, 2))\n",
       "    (5): ReLU()\n",
       "  )\n",
       "  (dense): Linear(in_features=2, out_features=128, bias=True)\n",
       "  (init_mlp): Sequential(\n",
       "    (0): Linear(in_features=128, out_features=128, bias=True)\n",
       "    (1): ReLU()\n",
       "    (2): Linear(in_features=128, out_features=128, bias=True)\n",
       "  )\n",
       "  (final_mlp): Sequential(\n",
       "    (0): Linear(in_features=128, out_features=16, bias=True)\n",
       "    (1): ReLU()\n",
       "    (2): Linear(in_features=16, out_features=3, bias=True)\n",
       "  )\n",
       ")"
      ]
     },
     "execution_count": 8,
     "metadata": {},
     "output_type": "execute_result"
    }
   ],
   "source": [
    "model"
   ]
  },
  {
   "cell_type": "code",
   "execution_count": 9,
   "id": "cefc0219-c7c5-406b-b49e-bca9c87682bf",
   "metadata": {
    "tags": []
   },
   "outputs": [],
   "source": [
    "Ntrain = 5000 \n",
    "bs=32 \n",
    "lr=3e-4\n",
    "warmup_steps=5_000\n",
    "alpha=1\n",
    "losses = {'tot':[],'bce':[],'mse':[]}\n",
    "kwargs={'isRing': True, 'N_clusters':2}\n",
    "clip_val = 1\n",
    "device='cpu'\n",
    "plot_every=20 \n",
    "save_every=1000\n",
    "color='C0'\n",
    "cmap='Blues'"
   ]
  },
  {
   "cell_type": "code",
   "execution_count": 10,
   "id": "97c065b3-2a56-4abf-affe-21b8ff6ac178",
   "metadata": {
    "tags": []
   },
   "outputs": [],
   "source": [
    "# Learning rate schedule config\n",
    "base_learning_rate = lr\n",
    "\n",
    "opt = torch.optim.Adam(model.parameters(), base_learning_rate)\n",
    "model.train()\n",
    "\n",
    "k_slots = model.k_slots\n",
    "max_n_rings = kwargs['N_clusters']\n",
    "resolution = model.resolution\n",
    "kwargs['device'] = device\n",
    "N_obj = kwargs['N_clusters'] # pass to makeRing fct"
   ]
  },
  {
   "cell_type": "code",
   "execution_count": 11,
   "id": "fb3b754e-2ad2-4f03-9a9b-3e9cd0c38b94",
   "metadata": {
    "tags": []
   },
   "outputs": [],
   "source": [
    "def hungarian_matching(pairwise_cost):\n",
    "    '''\n",
    "    Input:\n",
    "    - pairwise_cost\n",
    "\n",
    "\n",
    "    Hungarian section Translated from the TensorFlow loss function (from 2006.15055 code):\n",
    "    https://github.com/nhartman94/google-research/blob/master/slot_attention/utils.py#L26-L57\n",
    "    '''\n",
    "    \n",
    "    indices = list(map(linear_sum_assignment, pairwise_cost.cpu()))\n",
    "    indices = torch.LongTensor(np.array(indices))\n",
    "    \n",
    "    loss = 0\n",
    "    for pi,(ri,ci) in zip(pairwise_cost,indices):\n",
    "        loss += pi[ri,ci].sum()\n",
    "    \n",
    "    return indices "
   ]
  },
  {
   "cell_type": "code",
   "execution_count": 12,
   "id": "286250b8-9a76-4515-8b26-9df82abad99a",
   "metadata": {
    "tags": []
   },
   "outputs": [
    {
     "name": "stdout",
     "output_type": "stream",
     "text": [
      "torch.float32\n",
      "torch.float32\n",
      "torch.float32\n",
      "torch.float32\n",
      "torch.float32\n",
      "torch.float32\n",
      "torch.float32\n",
      "torch.float32\n",
      "torch.float32\n",
      "torch.float32\n",
      "torch.float32\n",
      "torch.float32\n",
      "torch.float32\n",
      "torch.float32\n",
      "torch.float32\n",
      "torch.float32\n",
      "torch.float32\n",
      "torch.float32\n",
      "iter 20 , loss 1.013327 , lr 1.1999526265222897e-06\n"
     ]
    },
    {
     "data": {
      "image/png": "[encoded data removed]",
      "text/plain": [
       "<Figure size 1200x250 with 7 Axes>"
      ]
     },
     "metadata": {},
     "output_type": "display_data"
    },
    {
     "name": "stdout",
     "output_type": "stream",
     "text": [
      "torch.float32\n",
      "torch.float32\n"
     ]
    },
    {
     "ename": "KeyboardInterrupt",
     "evalue": "",
     "output_type": "error",
     "traceback": [
      "\u001b[0;31m---------------------------------------------------------------------------\u001b[0m",
      "\u001b[0;31mKeyboardInterrupt\u001b[0m                         Traceback (most recent call last)",
      "Cell \u001b[0;32mIn[12], line 43\u001b[0m\n\u001b[1;32m     40\u001b[0m li \u001b[38;5;241m=\u001b[39m l_bce \u001b[38;5;241m+\u001b[39m alpha\u001b[38;5;241m*\u001b[39ml_mse\n\u001b[1;32m     41\u001b[0m \u001b[38;5;28mprint\u001b[39m(li\u001b[38;5;241m.\u001b[39mdtype)\n\u001b[0;32m---> 43\u001b[0m \u001b[43mli\u001b[49m\u001b[38;5;241;43m.\u001b[39;49m\u001b[43mbackward\u001b[49m\u001b[43m(\u001b[49m\u001b[43m)\u001b[49m\n\u001b[1;32m     44\u001b[0m clip_val\u001b[38;5;241m=\u001b[39m\u001b[38;5;241m1\u001b[39m\n\u001b[1;32m     45\u001b[0m torch\u001b[38;5;241m.\u001b[39mnn\u001b[38;5;241m.\u001b[39mutils\u001b[38;5;241m.\u001b[39mclip_grad_norm_(model\u001b[38;5;241m.\u001b[39mparameters(), clip_val)\n",
      "File \u001b[0;32m/raven/u/saumi/nn-venv/lib/python3.10/site-packages/torch/_tensor.py:492\u001b[0m, in \u001b[0;36mTensor.backward\u001b[0;34m(self, gradient, retain_graph, create_graph, inputs)\u001b[0m\n\u001b[1;32m    482\u001b[0m \u001b[38;5;28;01mif\u001b[39;00m has_torch_function_unary(\u001b[38;5;28mself\u001b[39m):\n\u001b[1;32m    483\u001b[0m     \u001b[38;5;28;01mreturn\u001b[39;00m handle_torch_function(\n\u001b[1;32m    484\u001b[0m         Tensor\u001b[38;5;241m.\u001b[39mbackward,\n\u001b[1;32m    485\u001b[0m         (\u001b[38;5;28mself\u001b[39m,),\n\u001b[0;32m   (...)\u001b[0m\n\u001b[1;32m    490\u001b[0m         inputs\u001b[38;5;241m=\u001b[39minputs,\n\u001b[1;32m    491\u001b[0m     )\n\u001b[0;32m--> 492\u001b[0m \u001b[43mtorch\u001b[49m\u001b[38;5;241;43m.\u001b[39;49m\u001b[43mautograd\u001b[49m\u001b[38;5;241;43m.\u001b[39;49m\u001b[43mbackward\u001b[49m\u001b[43m(\u001b[49m\n\u001b[1;32m    493\u001b[0m \u001b[43m    \u001b[49m\u001b[38;5;28;43mself\u001b[39;49m\u001b[43m,\u001b[49m\u001b[43m \u001b[49m\u001b[43mgradient\u001b[49m\u001b[43m,\u001b[49m\u001b[43m \u001b[49m\u001b[43mretain_graph\u001b[49m\u001b[43m,\u001b[49m\u001b[43m \u001b[49m\u001b[43mcreate_graph\u001b[49m\u001b[43m,\u001b[49m\u001b[43m \u001b[49m\u001b[43minputs\u001b[49m\u001b[38;5;241;43m=\u001b[39;49m\u001b[43minputs\u001b[49m\n\u001b[1;32m    494\u001b[0m \u001b[43m\u001b[49m\u001b[43m)\u001b[49m\n",
      "File \u001b[0;32m/raven/u/saumi/nn-venv/lib/python3.10/site-packages/torch/autograd/__init__.py:251\u001b[0m, in \u001b[0;36mbackward\u001b[0;34m(tensors, grad_tensors, retain_graph, create_graph, grad_variables, inputs)\u001b[0m\n\u001b[1;32m    246\u001b[0m     retain_graph \u001b[38;5;241m=\u001b[39m create_graph\n\u001b[1;32m    248\u001b[0m \u001b[38;5;66;03m# The reason we repeat the same comment below is that\u001b[39;00m\n\u001b[1;32m    249\u001b[0m \u001b[38;5;66;03m# some Python versions print out the first line of a multi-line function\u001b[39;00m\n\u001b[1;32m    250\u001b[0m \u001b[38;5;66;03m# calls in the traceback and some print out the last line\u001b[39;00m\n\u001b[0;32m--> 251\u001b[0m \u001b[43mVariable\u001b[49m\u001b[38;5;241;43m.\u001b[39;49m\u001b[43m_execution_engine\u001b[49m\u001b[38;5;241;43m.\u001b[39;49m\u001b[43mrun_backward\u001b[49m\u001b[43m(\u001b[49m\u001b[43m  \u001b[49m\u001b[38;5;66;43;03m# Calls into the C++ engine to run the backward pass\u001b[39;49;00m\n\u001b[1;32m    252\u001b[0m \u001b[43m    \u001b[49m\u001b[43mtensors\u001b[49m\u001b[43m,\u001b[49m\n\u001b[1;32m    253\u001b[0m \u001b[43m    \u001b[49m\u001b[43mgrad_tensors_\u001b[49m\u001b[43m,\u001b[49m\n\u001b[1;32m    254\u001b[0m \u001b[43m    \u001b[49m\u001b[43mretain_graph\u001b[49m\u001b[43m,\u001b[49m\n\u001b[1;32m    255\u001b[0m \u001b[43m    \u001b[49m\u001b[43mcreate_graph\u001b[49m\u001b[43m,\u001b[49m\n\u001b[1;32m    256\u001b[0m \u001b[43m    \u001b[49m\u001b[43minputs\u001b[49m\u001b[43m,\u001b[49m\n\u001b[1;32m    257\u001b[0m \u001b[43m    \u001b[49m\u001b[43mallow_unreachable\u001b[49m\u001b[38;5;241;43m=\u001b[39;49m\u001b[38;5;28;43;01mTrue\u001b[39;49;00m\u001b[43m,\u001b[49m\n\u001b[1;32m    258\u001b[0m \u001b[43m    \u001b[49m\u001b[43maccumulate_grad\u001b[49m\u001b[38;5;241;43m=\u001b[39;49m\u001b[38;5;28;43;01mTrue\u001b[39;49;00m\u001b[43m,\u001b[49m\n\u001b[1;32m    259\u001b[0m \u001b[43m\u001b[49m\u001b[43m)\u001b[49m\n",
      "\u001b[0;31mKeyboardInterrupt\u001b[0m: "
     ]
    }
   ],
   "source": [
    "\n",
    "\n",
    "start = len(losses)\n",
    "for i in range(start,start+Ntrain):\n",
    "\n",
    "    learning_rate = base_learning_rate * 0.5 * (1 + np.cos(np.pi * i / Ntrain))\n",
    "    if i < warmup_steps:\n",
    "        learning_rate *= (i / warmup_steps)\n",
    "    \n",
    "    opt.param_groups[0]['lr'] = learning_rate\n",
    "    \n",
    "    X, mask, _, Y = makeRings(N_img=bs, N_obj=N_obj, device=device)\n",
    "    \n",
    "    queries, att, Y_pred = model(X)\n",
    "        \n",
    "    # Reshape the target mask to be flat in the pixels (same shape as att)\n",
    "    flat_mask = mask.reshape(-1,max_n_rings, np.prod(resolution))   \n",
    "    with torch.no_grad():\n",
    "        \n",
    "        att_ext  = torch.tile(att.unsqueeze(2), dims=(1,1,max_n_rings,1)) \n",
    "        mask_ext = torch.tile(flat_mask.unsqueeze(1),dims=(1,k_slots,1,1)) \n",
    "        \n",
    "        pairwise_cost = F.binary_cross_entropy(att_ext,mask_ext,reduction='none').mean(axis=-1)\n",
    "        \n",
    "        # pairwise_cost = comb_loss(att,flat_mask,Y,Y_pred,alpha)\n",
    "        indices = hungarian_matching(pairwise_cost)\n",
    "\n",
    "    # Apply the sorting to the predict\n",
    "    bis=torch.arange(bs).to(device)\n",
    "    indices=indices.to(device)\n",
    "    # Loss calc\n",
    "    slots_sorted = torch.cat([att[bis,indices[:,0,ri]].unsqueeze(1) for ri in range(max_n_rings)],dim=1)\n",
    "    rings_sorted = torch.cat([flat_mask[bis,indices[:,1,ri]].unsqueeze(1) for ri in range(max_n_rings)],dim=1)\n",
    "    l_bce = F.binary_cross_entropy(slots_sorted,rings_sorted,reduction='none').sum(axis=1).mean()\n",
    "    \n",
    "    Y_pred_sorted = torch.cat([Y_pred[bis,indices[:,0,ri]].unsqueeze(1) for ri in range(max_n_rings)],dim=1)\n",
    "    Y_true_sorted = torch.cat([Y[bis,indices[:,1,ri]].unsqueeze(1) for ri in range(max_n_rings)],dim=1)\n",
    "\n",
    "    l_mse = torch.nn.MSELoss(reduction='none')(Y_pred_sorted,Y_true_sorted).sum(axis=1).mean()\n",
    "\n",
    "    # Calculate the loss\n",
    "    li = l_bce + alpha*l_mse\n",
    "    print(li.dtype)\n",
    "    \n",
    "    li.backward()\n",
    "    clip_val=1\n",
    "    torch.nn.utils.clip_grad_norm_(model.parameters(), clip_val)\n",
    "    \n",
    "    opt.step()\n",
    "    opt.zero_grad()\n",
    "\n",
    "    losses['tot'].append(float(li))\n",
    "    losses['bce'].append(float(l_bce))\n",
    "    losses['mse'].append(float(l_mse))\n",
    "    \n",
    "    if i % plot_every == 0:\n",
    "        print('iter',i,', loss',li.detach().cpu().numpy(),', lr',opt.param_groups[0]['lr'])  \n",
    "        iEvt = 0\n",
    "\n",
    "        # losses, mask, att_img, Y_true, Y_pred\n",
    "        plot_chosen_slots(losses,\n",
    "                            mask[iEvt].sum(axis=0), \n",
    "                            slots_sorted[iEvt].reshape(max_n_rings,*resolution),\n",
    "                            Y_true_sorted[iEvt],\n",
    "                            Y_pred_sorted[iEvt])\n",
    "        \n",
    "\n",
    "\n"
   ]
  },
  {
   "cell_type": "code",
   "execution_count": null,
   "id": "346ce928-84cb-425a-ae5e-cf22bd39a847",
   "metadata": {},
   "outputs": [],
   "source": [
    "    model.eval()"
   ]
  },
  {
   "cell_type": "markdown",
   "id": "d6a630bf-e758-4fda-b28e-2a24017fbc3d",
   "metadata": {},
   "source": [
    "# Step by step\n",
    "\n",
    "Ok. This runs. Now do it step by step."
   ]
  },
  {
   "cell_type": "code",
   "execution_count": 18,
   "id": "99b0b82b-fdc2-4adf-b460-290a26a13721",
   "metadata": {
    "tags": []
   },
   "outputs": [],
   "source": [
    "i=1\n",
    "learning_rate = base_learning_rate * 0.5 * (1 + np.cos(np.pi * i / Ntrain))\n",
    "if i < warmup_steps:\n",
    "    learning_rate *= (i / warmup_steps)\n",
    "\n",
    "opt.param_groups[0]['lr'] = learning_rate\n",
    "\n",
    "X, mask, _, Y = makeRings(N_img=bs, N_obj=N_obj, device=device)"
   ]
  },
  {
   "cell_type": "code",
   "execution_count": 19,
   "id": "11529971-61b2-41af-9278-7c68a087c043",
   "metadata": {
    "tags": []
   },
   "outputs": [
    {
     "data": {
      "text/plain": [
       "torch.Size([32, 1, 32, 32])"
      ]
     },
     "execution_count": 19,
     "metadata": {},
     "output_type": "execute_result"
    }
   ],
   "source": [
    "X.shape"
   ]
  },
  {
   "cell_type": "markdown",
   "id": "3e239b5f-6a11-45c6-842f-0fb29d5f10e2",
   "metadata": {},
   "source": [
    "Lets use this model for now, but I'll need to change it to include the mini network to learn alpha!"
   ]
  },
  {
   "cell_type": "code",
   "execution_count": 20,
   "id": "7d7e76c6-8134-4f9a-9329-443742b59ed9",
   "metadata": {
    "tags": []
   },
   "outputs": [],
   "source": [
    "queries, att, Y_pred = model(X)"
   ]
  },
  {
   "cell_type": "markdown",
   "id": "d1662b82-5450-48e9-be1f-139bbaff0069",
   "metadata": {},
   "source": [
    "Now it gets interesting!"
   ]
  },
  {
   "cell_type": "code",
   "execution_count": 29,
   "id": "3f8f7347-f1b8-4749-a986-aff9cb5e2c63",
   "metadata": {
    "tags": []
   },
   "outputs": [],
   "source": [
    "dummy_alpha = np.ones((bs, k_slots))\n",
    "dummy_alpha[:, -1] = 0 # all but last one are signal slots\n",
    "dummy_alpha = np.expand_dims(dummy_alpha, -1) # reshape from (32, 3) to (32, 3, 1)"
   ]
  },
  {
   "cell_type": "code",
   "execution_count": 22,
   "id": "cb6debdd-f4f2-46e5-bab5-637fd9192dca",
   "metadata": {
    "tags": []
   },
   "outputs": [
    {
     "data": {
      "text/plain": [
       "torch.Size([32, 1, 32, 32])"
      ]
     },
     "execution_count": 22,
     "metadata": {},
     "output_type": "execute_result"
    }
   ],
   "source": [
    "X.shape"
   ]
  },
  {
   "cell_type": "code",
   "execution_count": 23,
   "id": "fb066e11-abe7-481c-b6d9-ffe99132a8b3",
   "metadata": {
    "tags": []
   },
   "outputs": [
    {
     "data": {
      "text/plain": [
       "torch.Size([32, 3, 1024])"
      ]
     },
     "execution_count": 23,
     "metadata": {},
     "output_type": "execute_result"
    }
   ],
   "source": [
    "att.shape"
   ]
  },
  {
   "cell_type": "code",
   "execution_count": 24,
   "id": "069edfa0-4c36-4405-96c0-9bb4357623ac",
   "metadata": {
    "tags": []
   },
   "outputs": [
    {
     "data": {
      "text/plain": [
       "(32, 3, 1)"
      ]
     },
     "execution_count": 24,
     "metadata": {},
     "output_type": "execute_result"
    }
   ],
   "source": [
    "dummy_alpha.shape"
   ]
  },
  {
   "cell_type": "code",
   "execution_count": null,
   "id": "77d45011-d9af-480b-80fc-ac10b4825b85",
   "metadata": {},
   "outputs": [],
   "source": []
  },
  {
   "cell_type": "code",
   "execution_count": 31,
   "id": "e2fac8c5-dd51-4513-b110-94fd17fb4a04",
   "metadata": {
    "tags": []
   },
   "outputs": [
    {
     "name": "stdout",
     "output_type": "stream",
     "text": [
      "torch.Size([32, 1, 32, 32])\n"
     ]
    }
   ],
   "source": [
    "with torch.no_grad():\n",
    "    att_signal = att * dummy_alpha\n",
    "    new_shape = np.array([att_signal.shape[:-1], resolution]).flatten()\n",
    "    att_signal = np.reshape(att_signal, new_shape)\n",
    "    #X_reco = np.expand(torch.sum(test*X, axis=1), 1) # why multiply by X???\n",
    "    X_reco = torch.sum(att_signal, axis=1)[:, None, ::]\n",
    "    print(X_reco.shape)"
   ]
  },
  {
   "cell_type": "code",
   "execution_count": 32,
   "id": "af559c37-4c77-47a5-9ca0-1d51af00ce2c",
   "metadata": {
    "tags": []
   },
   "outputs": [
    {
     "data": {
      "image/png": "[encoded data removed]",
      "text/plain": [
       "<Figure size 640x480 with 2 Axes>"
      ]
     },
     "metadata": {},
     "output_type": "display_data"
    }
   ],
   "source": [
    "plt.imshow(X_reco[0, 0])\n",
    "plt.colorbar()\n",
    "plt.show()"
   ]
  },
  {
   "cell_type": "code",
   "execution_count": 33,
   "id": "da0e21ad-52e1-4b01-b487-29bf58fd8c02",
   "metadata": {
    "tags": []
   },
   "outputs": [
    {
     "data": {
      "image/png": "[encoded data removed]",
      "text/plain": [
       "<Figure size 640x480 with 1 Axes>"
      ]
     },
     "metadata": {},
     "output_type": "display_data"
    }
   ],
   "source": [
    "plt.imshow(X[0, 0])\n",
    "plt.show()"
   ]
  },
  {
   "cell_type": "code",
   "execution_count": 34,
   "id": "0f29e536-2704-440a-a5c2-ac2b8a2619d9",
   "metadata": {
    "tags": []
   },
   "outputs": [
    {
     "data": {
      "text/plain": [
       "torch.Size([32, 1, 32, 32])"
      ]
     },
     "execution_count": 34,
     "metadata": {},
     "output_type": "execute_result"
    }
   ],
   "source": [
    "loss = torch.nn.MSELoss(reduction='none')(X, X_reco)\n",
    "loss.shape\n"
   ]
  },
  {
   "cell_type": "code",
   "execution_count": 35,
   "id": "ec20eb42-d7c6-4c3b-b721-521dbd60a585",
   "metadata": {
    "tags": []
   },
   "outputs": [
    {
     "data": {
      "text/plain": [
       "torch.Size([32, 1])"
      ]
     },
     "execution_count": 35,
     "metadata": {},
     "output_type": "execute_result"
    }
   ],
   "source": [
    "torch.sum(loss, axis=(-1, -2)).shape"
   ]
  },
  {
   "cell_type": "code",
   "execution_count": 36,
   "id": "e6ebb8b4-5251-441a-b805-9f24b1aaa52b",
   "metadata": {
    "tags": []
   },
   "outputs": [],
   "source": [
    "l_mse = torch.sum(loss, axis=(-1, -2)).mean()"
   ]
  },
  {
   "cell_type": "code",
   "execution_count": 37,
   "id": "7d56a54b-72d2-4e01-a90b-b156590e2974",
   "metadata": {
    "tags": []
   },
   "outputs": [
    {
     "name": "stdout",
     "output_type": "stream",
     "text": [
      "tensor(437.6820, dtype=torch.float64)\n"
     ]
    }
   ],
   "source": [
    "print(l_mse)"
   ]
  },
  {
   "cell_type": "markdown",
   "id": "25a7a680-42d4-45ad-92f4-1fc0a8ec6c5a",
   "metadata": {},
   "source": [
    "**Yeayyyyy!!**"
   ]
  },
  {
   "cell_type": "markdown",
   "id": "3fad57eb-ee50-490a-b581-4219a6ae8ee4",
   "metadata": {},
   "source": [
    "# to summarize "
   ]
  },
  {
   "cell_type": "code",
   "execution_count": 39,
   "id": "3c25f9c7-3f28-4014-a9f4-86828d6d11c2",
   "metadata": {
    "tags": []
   },
   "outputs": [
    {
     "name": "stdout",
     "output_type": "stream",
     "text": [
      "iter 20 , loss 460.34592 , lr 1.1999526265222897e-06\n"
     ]
    },
    {
     "ename": "NameError",
     "evalue": "name 'slots_sorted' is not defined",
     "output_type": "error",
     "traceback": [
      "\u001b[0;31m---------------------------------------------------------------------------\u001b[0m",
      "\u001b[0;31mNameError\u001b[0m                                 Traceback (most recent call last)",
      "Cell \u001b[0;32mIn[39], line 48\u001b[0m\n\u001b[1;32m     43\u001b[0m iEvt \u001b[38;5;241m=\u001b[39m \u001b[38;5;241m0\u001b[39m\n\u001b[1;32m     45\u001b[0m \u001b[38;5;66;03m# losses, mask, att_img, Y_true, Y_pred\u001b[39;00m\n\u001b[1;32m     46\u001b[0m plot_chosen_slots(losses,\n\u001b[1;32m     47\u001b[0m                     mask[iEvt]\u001b[38;5;241m.\u001b[39msum(axis\u001b[38;5;241m=\u001b[39m\u001b[38;5;241m0\u001b[39m), \n\u001b[0;32m---> 48\u001b[0m                     \u001b[43mslots_sorted\u001b[49m[iEvt]\u001b[38;5;241m.\u001b[39mreshape(max_n_rings,\u001b[38;5;241m*\u001b[39mresolution),\n\u001b[1;32m     49\u001b[0m                     Y_true_sorted[iEvt],\n\u001b[1;32m     50\u001b[0m                     Y_pred_sorted[iEvt])\n",
      "\u001b[0;31mNameError\u001b[0m: name 'slots_sorted' is not defined"
     ]
    }
   ],
   "source": [
    "\n",
    "\n",
    "start = len(losses)\n",
    "for i in range(start,start+Ntrain):\n",
    "\n",
    "    learning_rate = base_learning_rate * 0.5 * (1 + np.cos(np.pi * i / Ntrain))\n",
    "    if i < warmup_steps:\n",
    "        learning_rate *= (i / warmup_steps)\n",
    "    \n",
    "    opt.param_groups[0]['lr'] = learning_rate\n",
    "    \n",
    "    X, mask, _, Y = makeRings(N_img=bs, N_obj=N_obj, device=device)\n",
    "    \n",
    "    queries, att, Y_pred = model(X)\n",
    "    \n",
    "    # dummy alpha for now, should be learned by the network!\n",
    "    dummy_alpha = np.ones((bs, k_slots))\n",
    "    dummy_alpha[:, -1] = 0 # all but last one are signal slots\n",
    "    dummy_alpha = np.expand_dims(dummy_alpha, -1) # reshape from (32, 3) to (32, 3, 1)\n",
    "    \n",
    "    # compute reconstruced image X_reco\n",
    "    #with torch.no_grad():\n",
    "    att_signal = att * torch.FloatTensor(dummy_alpha)\n",
    "    new_shape = np.array([att_signal.shape[:-1], resolution]).flatten()\n",
    "    att_signal = torch.reshape(att_signal, tuple(new_shape))\n",
    "    X_reco = torch.sum(att_signal, axis=1)[:, None, ::] # why multiply by X???  torch.sum(att_signal*X, axis=1)\n",
    "        \n",
    "    # loss\n",
    "    l_mse = torch.nn.MSELoss(reduction='none')(X, X_reco).sum(axis=(-1, -2)).mean()\n",
    "\n",
    "    # Calculate the loss\n",
    "    li = l_mse\n",
    "    \n",
    "    li.backward()\n",
    "    clip_val=1\n",
    "    torch.nn.utils.clip_grad_norm_(model.parameters(), clip_val)\n",
    "    \n",
    "    opt.step()\n",
    "    opt.zero_grad()\n",
    "\n",
    "    losses['mse'].append(float(l_mse))\n",
    "    \n",
    "    if i % plot_every == 0:\n",
    "        print('iter',i,', loss',li.detach().cpu().numpy(),', lr',opt.param_groups[0]['lr'])  \n",
    "        iEvt = 0\n",
    "\n",
    "        # losses, mask, att_img, Y_true, Y_pred\n",
    "        plot_chosen_slots(losses,\n",
    "                            mask[iEvt].sum(axis=0), \n",
    "                            slots_sorted[iEvt].reshape(max_n_rings,*resolution),\n",
    "                            Y_true_sorted[iEvt],\n",
    "                            Y_pred_sorted[iEvt])\n",
    "        \n",
    "\n",
    "\n"
   ]
  },
  {
   "cell_type": "markdown",
   "id": "258a9b27-42e1-420c-b7f4-9cf86e07cb74",
   "metadata": {},
   "source": [
    "Yeay this is great! \n",
    "\n",
    "So what next?\n",
    "\n",
    "We need to implement a mini network that trains alpha!"
   ]
  },
  {
   "cell_type": "code",
   "execution_count": 68,
   "id": "4a6b5324-5467-43d5-9a54-6179f99f6e77",
   "metadata": {
    "tags": []
   },
   "outputs": [],
   "source": [
    "class InvariantSlotAttention_disc(torch.nn.Module):\n",
    "    def __init__(self, \n",
    "                 resolution=(32,32),\n",
    "                 xlow=-0.5,\n",
    "                 xhigh=0.5,\n",
    "                 varlow=0.01,\n",
    "                 varhigh=0.05,\n",
    "                 k_slots=3, \n",
    "                 num_conv_layers=3,\n",
    "                 alpha_depth = 32,\n",
    "                 hidden_dim=32, \n",
    "                 query_dim=32, \n",
    "                 n_iter=2,\n",
    "                 pixel_mult=1,\n",
    "                 device='cpu' ,\n",
    "                 learn_slot_feat=True\n",
    "                 ):\n",
    "        '''\n",
    "        Slot attention encoder block, block attention\n",
    "        '''\n",
    "        super().__init__()\n",
    "\n",
    "        self.k_slots = k_slots\n",
    "        self.hidden_dim = hidden_dim # dimension after CNN encoder \n",
    "        self.query_dim = query_dim # dimension in which slot attention lives\n",
    "        self.n_iter = n_iter\n",
    "\n",
    "        self.resolution = resolution\n",
    "        self.xlow, self.xhigh = xlow, xhigh\n",
    "        self.rlow, self.rhigh = np.sqrt(varlow), np.sqrt(varhigh)\n",
    "        \n",
    "        self.device=device\n",
    "         \n",
    "        self.softmax_T = 1/np.sqrt(query_dim)\n",
    "        \n",
    "        self.dataN = torch.nn.LayerNorm(self.hidden_dim)\n",
    "        self.queryN = torch.nn.LayerNorm(self.query_dim)\n",
    "        \n",
    "        self.toK = torch.nn.Linear(self.hidden_dim, self.query_dim)\n",
    "        self.toV = torch.nn.Linear(self.hidden_dim, self.query_dim)\n",
    "        self.gru = torch.nn.GRUCell(self.query_dim, self.query_dim)\n",
    "        \n",
    "        '''\n",
    "        CNN feature extractor\n",
    "        '''\n",
    "        kwargs = {'out_channels': hidden_dim,'kernel_size': 5, 'padding':2 }\n",
    "        cnn_layers = [torch.nn.Conv2d(1,**kwargs)]\n",
    "        for i in range(num_conv_layers-1):\n",
    "            cnn_layers += [torch.nn.ReLU(), torch.nn.Conv2d(hidden_dim,**kwargs)] \n",
    "        cnn_layers.append(torch.nn.ReLU())\n",
    "\n",
    "        self.CNN_encoder = torch.nn.Sequential(*cnn_layers) # this is CNN model! \n",
    "            \n",
    "        # Grid + query init\n",
    "        self.abs_grid = self.build_grid()\n",
    "                   \n",
    "        self.dense = torch.nn.Linear(2, query_dim) \n",
    "        self.pixel_mult = pixel_mult # LH's proposal... but almost same as 1/delta in ISA\n",
    "\n",
    "        # Apply after the data normalization\n",
    "        self.init_mlp = torch.nn.Sequential( # what's this for???\n",
    "            torch.nn.Linear(query_dim,query_dim),\n",
    "            torch.nn.ReLU(),\n",
    "            torch.nn.Linear(query_dim,query_dim)\n",
    "        )\n",
    "            \n",
    "        self.slots_mu = torch.nn.Parameter(torch.randn(1, 1, self.query_dim))\n",
    "        self.slots_logsigma = torch.nn.Parameter(torch.zeros(1, 1, self.query_dim))\n",
    "        init.xavier_uniform_(self.slots_logsigma)\n",
    "\n",
    "        self.init_slots = self.init_slots\n",
    "        \n",
    "        '''\n",
    "        Learn parameter alpha to distinguish signal from background slots\n",
    "        '''\n",
    "        self.alpha_mlp = torch.nn.Sequential(\n",
    "                torch.nn.Linear(query_dim,alpha_depth),\n",
    "                torch.nn.ReLU(),\n",
    "                torch.nn.Linear(alpha_depth, 1),\n",
    "                torch.nn.Softmax()\n",
    "        )\n",
    "        \n",
    "        '''\n",
    "        Option to add a final (x,y,r) prediction to each slot\n",
    "        '''\n",
    "        self.learn_slot_feat = learn_slot_feat\n",
    "        if self.learn_slot_feat:\n",
    "            self.final_mlp = torch.nn.Sequential(\n",
    "                torch.nn.Linear(query_dim,hidden_dim),\n",
    "                torch.nn.ReLU(),\n",
    "                torch.nn.Linear(hidden_dim, 3)\n",
    "            )\n",
    "        \n",
    "    def build_grid(self):\n",
    "        '''\n",
    "        From google slot attention repo:\n",
    "        https://github.com/nhartman94/google-research/blob/master/slot_attention/model.py#L357C1-L364C53\n",
    "        '''\n",
    "        resolution = self.resolution\n",
    "        xlow, xhigh = self.xlow, self.xhigh\n",
    "           \n",
    "        ranges = [np.linspace(xlow, xhigh, num=res) for res in resolution]\n",
    "        grid = np.meshgrid(*ranges, sparse=False, indexing=\"xy\")\n",
    "        grid = np.stack(grid, axis=-1)\n",
    "        grid = np.reshape(grid, [resolution[0], resolution[1], -1])\n",
    "        grid = np.expand_dims(grid, axis=0)\n",
    "        \n",
    "        grid = torch.FloatTensor( grid ).to(self.device)\n",
    "        grid = torch.flatten(grid,1,2)\n",
    "    \n",
    "        return grid\n",
    "                \n",
    "    def init_slots(self,Nbatch):\n",
    "        '''\n",
    "        Slot init taken from\n",
    "        https://github.com/lucidrains/slot-attention/blob/master/slot_attention/slot_attention.py\n",
    "        '''\n",
    "        \n",
    "        stdhigh, stdlow = self.rlow, self.rhigh\n",
    "        \n",
    "        mu = self.slots_mu.expand(Nbatch, self.k_slots, -1)\n",
    "        sigma = self.slots_logsigma.exp().expand(Nbatch, self.k_slots, -1)\n",
    "    \n",
    "        queries = mu + sigma * torch.randn(mu.shape,device=self.device)\n",
    "    \n",
    "        # Add the position and scale initialization for the local ref frame\n",
    "        ref_frame_dim = 3\n",
    "        pos_scale = torch.rand(Nbatch, self.k_slots, ref_frame_dim,device=self.device)\n",
    "\n",
    "        pos_scale[:,:2] -= 0.5\n",
    "        pos_scale[:,-1]  = (stdhigh - stdlow) * pos_scale[:,-1] + stdlow\n",
    "        \n",
    "        return queries, pos_scale\n",
    "     \n",
    "    def get_keys_vals(self, encoded_data, pos_scale):\n",
    "\n",
    "        # Get the relative position embedding\n",
    "        rel_grid = self.abs_grid.unsqueeze(1) - pos_scale[:,:,:2].unsqueeze(2)\n",
    "        rel_grid /= pos_scale[:,:,-1].unsqueeze(2).unsqueeze(-1)\n",
    "        \n",
    "        # Embed it in the same space as the query dimension \n",
    "        embed_grid = self.pixel_mult * self.dense( rel_grid )\n",
    "        \n",
    "        # keys, vals: (bs, img_dim, query_dim)\n",
    "        keys = self.toK(encoded_data).unsqueeze(1) + embed_grid\n",
    "        vals = self.toV(encoded_data).unsqueeze(1) + embed_grid\n",
    "        \n",
    "        keys = self.init_mlp(self.queryN(keys))\n",
    "        vals = self.init_mlp(self.queryN(vals))\n",
    "        \n",
    "        return keys, vals\n",
    "                \n",
    "    def attention_and_weights(self,queries,keys):\n",
    "        \n",
    "        logits = torch.einsum('bse,bsde->bsd',queries,keys) * self.softmax_T\n",
    "        \n",
    "        att = torch.nn.functional.softmax(logits, dim = 1)\n",
    "        \n",
    "        div = torch.sum(att, dim = -1, keepdims = True)\n",
    "        wts = att/div + 1e-8\n",
    "        return att,wts\n",
    "\n",
    "    def update_frames(self,wts):\n",
    "        '''\n",
    "        Update the relative frame position\n",
    "        '''\n",
    "        \n",
    "        # expand to include the batch dim\n",
    "        grid_exp = self.abs_grid.expand(wts.shape[0],-1,2)\n",
    "        \n",
    "        new_pos = torch.einsum('bsd,bde->bse',wts,grid_exp)\n",
    "        \n",
    "        new_scale = torch.sum(torch.pow(grid_exp.unsqueeze(1) - new_pos.unsqueeze(2),2),dim=-1)\n",
    "        \n",
    "        new_scale = torch.einsum('bsd,bsd->bs', wts, new_scale)\n",
    "        new_scale = torch.sqrt(new_scale)\n",
    "        \n",
    "        return torch.cat([new_pos,new_scale.unsqueeze(-1)],axis=-1)\n",
    "        \n",
    "    def iterate(self, queries, pos_scale, encoded_data):\n",
    "        \n",
    "        # Get the keys and values in the ref ref frame\n",
    "        keys, vals = self.get_keys_vals(encoded_data,pos_scale)\n",
    "        \n",
    "        # att,wts: (bs, k_slots, img_dim)\n",
    "        att,wts = self.attention_and_weights(self.queryN(queries),keys)   \n",
    "        \n",
    "        new_pos_scale = self.update_frames(wts)\n",
    "        \n",
    "        # Update the queries with the recurrent block\n",
    "        updates = torch.einsum('bsd,bsde->bse',wts,vals) # bs, n_slots, query_dim\n",
    "        \n",
    "        updates = self.gru(\n",
    "            updates.reshape(-1,self.query_dim),\n",
    "            queries.reshape(-1,self.query_dim),\n",
    "        )\n",
    "        \n",
    "        return updates.reshape(queries.shape), new_pos_scale\n",
    "        \n",
    "    def forward(self, data):\n",
    "    \n",
    "        '''\n",
    "        Step 1: Extract the CNN features\n",
    "        '''\n",
    "        encoded_data = self.CNN_encoder(data) # Apply the CNN encoder\n",
    "        encoded_data = torch.permute(encoded_data,(0,2,3,1)) # Put channel dim at the end\n",
    "        encoded_data = torch.flatten(encoded_data,1,2) # flatten pixel dims\n",
    "        encoded_data = self.dataN(encoded_data)\n",
    "        \n",
    "        '''\n",
    "        Step 2: Initialize the slots\n",
    "        '''\n",
    "        Nbatch = data.shape[0]\n",
    "        queries, pos_scale = self.init_slots(Nbatch) # Shape (Nbatch, k_slots, query_dim)\n",
    "                \n",
    "        '''\n",
    "        Step 3: Iterate through the reconstruction\n",
    "        '''\n",
    "        for i in range(self.n_iter):\n",
    "            queries, pos_scale = self.iterate(queries, pos_scale, encoded_data)    \n",
    "            \n",
    "        # With the final query vector, calc the attn, weights, + rel ref frames\n",
    "        keys, vals = self.get_keys_vals(encoded_data,pos_scale)\n",
    "        att, wts = self.attention_and_weights(self.queryN(queries),keys)   \n",
    "        new_pos_scale = self.update_frames(wts)\n",
    "        \n",
    "        # learn alpha (signal vs background slot)\n",
    "        alpha = self.alpha_mlp(queries)\n",
    "                \n",
    "        if self.learn_slot_feat:\n",
    "            slot_feat = self.final_mlp(queries)\n",
    "            \n",
    "            # Want to learn the delta from the previously estimated position\n",
    "            slot_feat += new_pos_scale\n",
    "            \n",
    "            return queries, att, slot_feat, alpha \n",
    "        \n",
    "        else:\n",
    "            return queries, att, wts, alpha"
   ]
  },
  {
   "cell_type": "code",
   "execution_count": 44,
   "id": "823a1eeb-2ee0-407f-acb8-0191027b821a",
   "metadata": {
    "tags": []
   },
   "outputs": [],
   "source": [
    "from torch.nn import init"
   ]
  },
  {
   "cell_type": "code",
   "execution_count": 69,
   "id": "6afeb3ae-9981-4dbd-a71b-67b710e97ff1",
   "metadata": {
    "tags": []
   },
   "outputs": [],
   "source": [
    "model = InvariantSlotAttention_disc(**hps).to(device)"
   ]
  },
  {
   "cell_type": "code",
   "execution_count": 70,
   "id": "36639a7f-f2f8-4997-b374-e1333445ab81",
   "metadata": {
    "tags": []
   },
   "outputs": [
    {
     "data": {
      "text/plain": [
       "InvariantSlotAttention_disc(\n",
       "  (dataN): LayerNorm((16,), eps=1e-05, elementwise_affine=True)\n",
       "  (queryN): LayerNorm((128,), eps=1e-05, elementwise_affine=True)\n",
       "  (toK): Linear(in_features=16, out_features=128, bias=True)\n",
       "  (toV): Linear(in_features=16, out_features=128, bias=True)\n",
       "  (gru): GRUCell(128, 128)\n",
       "  (CNN_encoder): Sequential(\n",
       "    (0): Conv2d(1, 16, kernel_size=(5, 5), stride=(1, 1), padding=(2, 2))\n",
       "    (1): ReLU()\n",
       "    (2): Conv2d(16, 16, kernel_size=(5, 5), stride=(1, 1), padding=(2, 2))\n",
       "    (3): ReLU()\n",
       "    (4): Conv2d(16, 16, kernel_size=(5, 5), stride=(1, 1), padding=(2, 2))\n",
       "    (5): ReLU()\n",
       "  )\n",
       "  (dense): Linear(in_features=2, out_features=128, bias=True)\n",
       "  (init_mlp): Sequential(\n",
       "    (0): Linear(in_features=128, out_features=128, bias=True)\n",
       "    (1): ReLU()\n",
       "    (2): Linear(in_features=128, out_features=128, bias=True)\n",
       "  )\n",
       "  (alpha_mlp): Sequential(\n",
       "    (0): Linear(in_features=128, out_features=32, bias=True)\n",
       "    (1): ReLU()\n",
       "    (2): Linear(in_features=32, out_features=1, bias=True)\n",
       "    (3): Softmax(dim=None)\n",
       "  )\n",
       "  (final_mlp): Sequential(\n",
       "    (0): Linear(in_features=128, out_features=16, bias=True)\n",
       "    (1): ReLU()\n",
       "    (2): Linear(in_features=16, out_features=3, bias=True)\n",
       "  )\n",
       ")"
      ]
     },
     "execution_count": 70,
     "metadata": {},
     "output_type": "execute_result"
    }
   ],
   "source": [
    "model"
   ]
  },
  {
   "cell_type": "code",
   "execution_count": 71,
   "id": "56b54c1c-c271-4ed1-a2f0-be7accdabd52",
   "metadata": {
    "tags": []
   },
   "outputs": [],
   "source": [
    "# Learning rate schedule config\n",
    "base_learning_rate = lr\n",
    "\n",
    "opt = torch.optim.Adam(model.parameters(), base_learning_rate)\n",
    "model.train()\n",
    "\n",
    "k_slots = model.k_slots\n",
    "max_n_rings = kwargs['N_clusters']\n",
    "resolution = model.resolution\n",
    "kwargs['device'] = device\n",
    "N_obj = kwargs['N_clusters'] # pass to makeRing fct"
   ]
  },
  {
   "cell_type": "code",
   "execution_count": 72,
   "id": "479d52f2-f242-474d-91ca-feb591f95c4e",
   "metadata": {
    "tags": []
   },
   "outputs": [
    {
     "name": "stdout",
     "output_type": "stream",
     "text": [
      "torch.Size([32, 3, 1])\n",
      "torch.Size([32, 3, 1])\n",
      "torch.Size([32, 3, 1])\n",
      "torch.Size([32, 3, 1])\n",
      "torch.Size([32, 3, 1])\n",
      "torch.Size([32, 3, 1])\n",
      "torch.Size([32, 3, 1])\n",
      "torch.Size([32, 3, 1])\n",
      "torch.Size([32, 3, 1])\n",
      "torch.Size([32, 3, 1])\n",
      "torch.Size([32, 3, 1])\n",
      "torch.Size([32, 3, 1])\n",
      "torch.Size([32, 3, 1])\n",
      "torch.Size([32, 3, 1])\n",
      "torch.Size([32, 3, 1])\n",
      "torch.Size([32, 3, 1])\n",
      "torch.Size([32, 3, 1])\n",
      "torch.Size([32, 3, 1])\n",
      "iter 20 , loss 22.305752 , lr 1.1999526265222897e-06\n"
     ]
    },
    {
     "ename": "NameError",
     "evalue": "name 'slots_sorted' is not defined",
     "output_type": "error",
     "traceback": [
      "\u001b[0;31m---------------------------------------------------------------------------\u001b[0m",
      "\u001b[0;31mNameError\u001b[0m                                 Traceback (most recent call last)",
      "Cell \u001b[0;32mIn[72], line 48\u001b[0m\n\u001b[1;32m     43\u001b[0m iEvt \u001b[38;5;241m=\u001b[39m \u001b[38;5;241m0\u001b[39m\n\u001b[1;32m     45\u001b[0m \u001b[38;5;66;03m# losses, mask, att_img, Y_true, Y_pred\u001b[39;00m\n\u001b[1;32m     46\u001b[0m plot_chosen_slots(losses,\n\u001b[1;32m     47\u001b[0m                     mask[iEvt]\u001b[38;5;241m.\u001b[39msum(axis\u001b[38;5;241m=\u001b[39m\u001b[38;5;241m0\u001b[39m), \n\u001b[0;32m---> 48\u001b[0m                     \u001b[43mslots_sorted\u001b[49m[iEvt]\u001b[38;5;241m.\u001b[39mreshape(max_n_rings,\u001b[38;5;241m*\u001b[39mresolution),\n\u001b[1;32m     49\u001b[0m                     Y_true_sorted[iEvt],\n\u001b[1;32m     50\u001b[0m                     Y_pred_sorted[iEvt])\n",
      "\u001b[0;31mNameError\u001b[0m: name 'slots_sorted' is not defined"
     ]
    }
   ],
   "source": [
    "\n",
    "\n",
    "start = len(losses)\n",
    "for i in range(start,start+Ntrain):\n",
    "\n",
    "    learning_rate = base_learning_rate * 0.5 * (1 + np.cos(np.pi * i / Ntrain))\n",
    "    if i < warmup_steps:\n",
    "        learning_rate *= (i / warmup_steps)\n",
    "    \n",
    "    opt.param_groups[0]['lr'] = learning_rate\n",
    "    \n",
    "    X, mask, _, Y = makeRings(N_img=bs, N_obj=N_obj, device=device)\n",
    "    \n",
    "    queries, att, Y_pred, dummy_alpha = model(X)\n",
    "    print(dummy_alpha.shape)\n",
    "    # dummy alpha for now, should be learned by the network!\n",
    "    #dummy_alpha = np.ones((bs, k_slots))\n",
    "    #dummy_alpha[:, -1] = 0 # all but last one are signal slots\n",
    "    #dummy_alpha = np.expand_dims(dummy_alpha, -1) # reshape from (32, 3) to (32, 3, 1)\n",
    "    \n",
    "    # compute reconstruced image X_reco\n",
    "    #with torch.no_grad():\n",
    "    att_signal = att * torch.FloatTensor(dummy_alpha)\n",
    "    new_shape = np.array([att_signal.shape[:-1], resolution]).flatten()\n",
    "    att_signal = torch.reshape(att_signal, tuple(new_shape))\n",
    "    X_reco = torch.sum(att_signal, axis=1)[:, None, ::] # why multiply by X???  torch.sum(att_signal*X, axis=1)\n",
    "        \n",
    "    # loss\n",
    "    l_mse = torch.nn.MSELoss(reduction='none')(X, X_reco).sum(axis=(-1, -2)).mean()\n",
    "\n",
    "    # Calculate the loss\n",
    "    li = l_mse\n",
    "    \n",
    "    li.backward()\n",
    "    clip_val=1\n",
    "    torch.nn.utils.clip_grad_norm_(model.parameters(), clip_val)\n",
    "    \n",
    "    opt.step()\n",
    "    opt.zero_grad()\n",
    "\n",
    "    losses['mse'].append(float(l_mse))\n",
    "    \n",
    "    if i % plot_every == 0:\n",
    "        print('iter',i,', loss',li.detach().cpu().numpy(),', lr',opt.param_groups[0]['lr'])  \n",
    "        iEvt = 0\n",
    "\n",
    "        # losses, mask, att_img, Y_true, Y_pred\n",
    "        plot_chosen_slots(losses,\n",
    "                            mask[iEvt].sum(axis=0), \n",
    "                            slots_sorted[iEvt].reshape(max_n_rings,*resolution),\n",
    "                            Y_true_sorted[iEvt],\n",
    "                            Y_pred_sorted[iEvt])\n",
    "        \n",
    "\n",
    "\n"
   ]
  },
  {
   "cell_type": "code",
   "execution_count": null,
   "id": "6cd9212d-d1fa-4b15-8b08-e9837a609ee9",
   "metadata": {},
   "outputs": [],
   "source": [
    "def plot_slots_with_alpha(losses, X[iEvt], X_reco[iEvt], Y[iEvt], Y_pred[iEvt])"
   ]
  },
  {
   "cell_type": "code",
   "execution_count": null,
   "id": "1872711b-3287-4768-8e02-e8701769e4b6",
   "metadata": {},
   "outputs": [],
   "source": [
    "def plot_slots_with_alpha(losses, X, X_reco, Y_true, Y_pred):\n",
    "    n_rings = att_img.shape[0]\n",
    "    fig, axs = plt.subplots(1,n_rings+2,figsize=(3*(n_rings + 2) ,2.5))\n",
    "\n",
    "    for k,v in losses.items():\n",
    "        axs[0].plot(v,label=k)\n",
    "    axs[0].set_xlabel('Iters')\n",
    "    axs[0].set_ylabel('Loss')\n",
    "    axs[0].legend()\n",
    "    \n",
    "    imgs   = [mask] + [att_img[i] for i in range(n_rings)]\n",
    "    titles = ['Target']+[f'Slot {i}' for i in range(n_rings)]\n",
    "    extent = [-0.5, 0.5]*2\n",
    "    for i, (ax,img,title) in enumerate(zip(axs[1:],imgs, titles)):\n",
    "        \n",
    "        im = ax.imshow(img.detach().cpu().numpy(),cmap=cmap,\n",
    "                       extent=extent,origin='lower') #,vmin=0,vmax=1)\n",
    "\n",
    "        divider = make_axes_locatable(ax)\n",
    "        cax = divider.append_axes('right', size='5%', pad=0.05)\n",
    "        fig.colorbar(im, cax=cax, orientation='vertical')\n",
    "\n",
    "        ax.set_title(title)\n",
    "        \n",
    "\n",
    "    # Add on the target image\n",
    "    axi = axs[1]\n",
    "    c_true = 'r'\n",
    "    c_pred = 'k'\n",
    "    for yi in Y_true.cpu().numpy():\n",
    "    \n",
    "        axi.scatter(*yi[:2],marker='x',color=c_true)\n",
    "        circle = Circle(yi[:2],yi[2],fill=False,color=c_true)\n",
    "        axi.add_patch(circle)\n",
    "        \n",
    "        axi.set_xlim(-0.5,0.5)\n",
    "        axi.set_ylim(-0.5,0.5)\n",
    "    \n",
    "    for axi,yi,oi in zip(axs[2:],Y_true.cpu().numpy(),Y_pred.detach().cpu().numpy()):\n",
    "        \n",
    "        axi.scatter(*yi[:2],marker='x',color=c_true)\n",
    "        circle = Circle(yi[:2],yi[2],fill=False,color=c_true)\n",
    "        axi.add_patch(circle)\n",
    "        \n",
    "        axi.scatter(*oi[:2],marker='x',color=c_pred)\n",
    "        circle = Circle(oi[:2],oi[2],fill=False,color=c_pred)\n",
    "        axi.add_patch(circle)\n",
    "\n",
    "        axi.set_xlim(-0.5,0.5)\n",
    "        axi.set_ylim(-0.5,0.5)\n",
    "        \n",
    "    if figname:\n",
    "        plt.savefig(figname)\n",
    "\n",
    "    plt.show()\n",
    "    plt.close()"
   ]
  }
 ],
 "metadata": {
  "kernelspec": {
   "display_name": "sarasvenv",
   "language": "python",
   "name": "sarasvenv"
  },
  "language_info": {
   "codemirror_mode": {
    "name": "ipython",
    "version": 3
   },
   "file_extension": ".py",
   "mimetype": "text/x-python",
   "name": "python",
   "nbconvert_exporter": "python",
   "pygments_lexer": "ipython3",
   "version": "3.10.9"
  }
 },
 "nbformat": 4,
 "nbformat_minor": 5
}
