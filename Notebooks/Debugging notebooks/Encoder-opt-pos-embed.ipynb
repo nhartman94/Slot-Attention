{
 "cells": [
  {
   "cell_type": "code",
   "execution_count": null,
   "id": "c81981c9",
   "metadata": {},
   "outputs": [],
   "source": []
  },
  {
   "cell_type": "code",
   "execution_count": null,
   "id": "eb6852c5",
   "metadata": {},
   "outputs": [],
   "source": [
    "grid = build_grid([nPixels,nPixels])"
   ]
  },
  {
   "cell_type": "code",
   "execution_count": null,
   "id": "24201c13",
   "metadata": {},
   "outputs": [],
   "source": [
    "grid.shape"
   ]
  },
  {
   "cell_type": "code",
   "execution_count": null,
   "id": "1696679b",
   "metadata": {},
   "outputs": [],
   "source": [
    "fig,axs =plt.subplots(1,4,figsize=(10,2))\n",
    "for i,ax in enumerate(axs):\n",
    "    ax.imshow(grid[0,:,:,i],origin='lower',extent=[xlow,xhigh]*2)\n",
    "    \n",
    "plt.show()"
   ]
  },
  {
   "cell_type": "code",
   "execution_count": null,
   "id": "4d02d4f1",
   "metadata": {},
   "outputs": [],
   "source": [
    "Y = regCNN.cnn(X)"
   ]
  },
  {
   "cell_type": "code",
   "execution_count": null,
   "id": "903d5b73",
   "metadata": {},
   "outputs": [],
   "source": [
    "grid = build_grid([nPixels,nPixels])    "
   ]
  },
  {
   "cell_type": "code",
   "execution_count": null,
   "id": "9494da1f",
   "metadata": {},
   "outputs": [],
   "source": [
    "class SoftPositionEmbed(torch.nn.Module):\n",
    "    '''\n",
    "    Translating the google fct from tf into pytorch:\n",
    "    https://github.com/nhartman94/google-research/blob/master/slot_attention/model.py#L367-L382\n",
    "    '''\n",
    "    def __init__(self, hidden_dim, resolution,device='cpu'):\n",
    "        super().__init__()\n",
    "        \n",
    "        self.dense = torch.nn.Linear(4,hidden_dim)\n",
    "        self.grid = torch.FloatTensor(build_grid(resolution)).to(device)\n",
    "    \n",
    "    def forward(self, X):\n",
    "    \n",
    "        return X + torch.permute(self.dense(self.grid),(0,3,1,2) )\n",
    "    "
   ]
  },
  {
   "cell_type": "code",
   "execution_count": null,
   "id": "aca13f4d",
   "metadata": {},
   "outputs": [],
   "source": [
    "class posEmbedCNN(torch.nn.Module):\n",
    "    '''\n",
    "    CNN to regress the circle properties:\n",
    "    - position (x,y)\n",
    "    - radiu\n",
    "    '''\n",
    "    def __init__(self, hidden_dim=hidden_dim, mlp_dim=64, device='cpu'):\n",
    "        '''\n",
    "        '''\n",
    "        super().__init__()\n",
    "        \n",
    "        self.cnn = torch.nn.Sequential(\n",
    "                    torch.nn.Conv2d(1, hidden_dim, 5, padding=2),\n",
    "                    torch.nn.ReLU(),\n",
    "                    torch.nn.Conv2d(hidden_dim, hidden_dim, 5, padding=2),\n",
    "#                     torch.nn.ReLU(),\n",
    "#                     torch.nn.Conv2d(hidden_dim, 1, 5, padding=2),\n",
    "\n",
    "            )\n",
    "        self.mlp = torch.nn.Sequential(\n",
    "            torch.nn.Linear(nPixels*nPixels,mlp_dim),\n",
    "            torch.nn.ReLU(),\n",
    "            torch.nn.Linear(mlp_dim,3)\n",
    "        )\n",
    "        \n",
    "        \n",
    "        self.enc_pos = SoftPositionEmbed(hidden_dim,[nPixels]*2,device=device)\n",
    "        \n",
    "    def forward(self,X):\n",
    "        Y = self.cnn(X)\n",
    "        \n",
    "        Y = self.enc_pos(Y)\n",
    "        \n",
    "        Y = torch.flatten(Y,1)\n",
    "        Y = self.mlp(Y)\n",
    "        \n",
    "        # As per Florian's suggestion... predict \\log sigma^2\n",
    "        Y[:,-1] = torch.exp(Y[:,-1])\n",
    "        \n",
    "        return Y"
   ]
  },
  {
   "cell_type": "code",
   "execution_count": null,
   "id": "8fa731ee",
   "metadata": {},
   "outputs": [],
   "source": [
    "posEmb = posEmbedCNN(device=device).to(device)"
   ]
  },
  {
   "cell_type": "code",
   "execution_count": null,
   "id": "83fe8c12",
   "metadata": {},
   "outputs": [],
   "source": [
    "out = posEmb(X)"
   ]
  }
 ],
 "metadata": {
  "kernelspec": {
   "display_name": "Python 3 (ipykernel)",
   "language": "python",
   "name": "python3"
  },
  "language_info": {
   "codemirror_mode": {
    "name": "ipython",
    "version": 3
   },
   "file_extension": ".py",
   "mimetype": "text/x-python",
   "name": "python",
   "nbconvert_exporter": "python",
   "pygments_lexer": "ipython3",
   "version": "3.11.4"
  }
 },
 "nbformat": 4,
 "nbformat_minor": 5
}
