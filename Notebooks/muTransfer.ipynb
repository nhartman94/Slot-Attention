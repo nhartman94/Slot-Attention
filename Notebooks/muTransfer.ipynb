{
 "cells": [
  {
   "cell_type": "markdown",
   "id": "82b98c5e-716a-4530-8238-fe9815e6579f",
   "metadata": {},
   "source": [
    "# $\\mu$Transfer\n",
    "\n",
    "**Goal:** It seeems like it's now an *optimization problem*, so I think this might be the right time to delve into doing this initialization / learning scheme to actually make this work!\n",
    "\n",
    "**Anticipated time to build:** 2 hrs"
   ]
  },
  {
   "cell_type": "code",
   "execution_count": null,
   "id": "24dca679-f948-4455-9fa8-01a89ab07b37",
   "metadata": {},
   "outputs": [],
   "source": []
  }
 ],
 "metadata": {
  "kernelspec": {
   "display_name": "Python 3",
   "language": "python",
   "name": "python3"
  },
  "language_info": {
   "codemirror_mode": {
    "name": "ipython",
    "version": 3
   },
   "file_extension": ".py",
   "mimetype": "text/x-python",
   "name": "python",
   "nbconvert_exporter": "python",
   "pygments_lexer": "ipython3",
   "version": "3.8.12"
  }
 },
 "nbformat": 4,
 "nbformat_minor": 5
}
