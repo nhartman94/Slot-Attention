{
 "cells": [
  {
   "cell_type": "markdown",
   "id": "4692c1d9-39cb-4489-8583-67326aa81d77",
   "metadata": {},
   "source": [
    "# Example on how to use the Common Evaluation Framework\n",
    "\n",
    "We still need to package the library. I apologize this is not done yet.\n",
    "\n",
    "This is a dummy notebook to demonstrate how to use the Common Evaluation Framework."
   ]
  },
  {
   "cell_type": "code",
   "execution_count": null,
   "id": "0a119fb6-c066-4fbb-bdc8-3772b95d9f1b",
   "metadata": {},
   "outputs": [],
   "source": [
    "import scclevr\n",
    "os.sys.path.append('./evaluation')\n",
    "from dataset import TestDataset\n",
    "import model_performance as ev"
   ]
  },
  {
   "cell_type": "markdown",
   "id": "977e7ece-9117-4fc0-89db-fe8cfe068e47",
   "metadata": {},
   "source": [
    "**1. Load your trained model!**"
   ]
  },
  {
   "cell_type": "code",
   "execution_count": null,
   "id": "5506e0cd-c8dd-443b-87f6-a5d69b9bfbe8",
   "metadata": {},
   "outputs": [],
   "source": [
    "# model = MyModel()\n",
    "# model.load_weights()"
   ]
  },
  {
   "cell_type": "markdown",
   "id": "18505ba1-5713-4511-ac5c-74b7e7093df6",
   "metadata": {
    "tags": []
   },
   "source": [
    "**2. Make a test dataset**"
   ]
  },
  {
   "cell_type": "code",
   "execution_count": null,
   "id": "4b3e5d8a-9214-40c5-a7ff-d8d76fff94e7",
   "metadata": {},
   "outputs": [],
   "source": [
    "dataset = TestDataset()\n",
    "\n",
    "X = torch.FloatTensor(dataset.event_images)\n",
    "X.shape # torch.Size([5000, 1, 32, 32])"
   ]
  },
  {
   "cell_type": "markdown",
   "id": "b67a3704-dd60-453d-b1d4-308494619f10",
   "metadata": {},
   "source": [
    "**3. Predict with your model**"
   ]
  },
  {
   "cell_type": "code",
   "execution_count": null,
   "id": "981748d7-abf7-40e1-8c10-31ec98f2915c",
   "metadata": {},
   "outputs": [],
   "source": [
    "# with torch.no_grad():\n",
    "    # separated_objects, _ = model(X)"
   ]
  },
  {
   "cell_type": "markdown",
   "id": "338f9856-3cff-4f08-bf6a-7583dc2b05e5",
   "metadata": {},
   "source": [
    "**4. Evaluate the performance**"
   ]
  },
  {
   "cell_type": "code",
   "execution_count": null,
   "id": "1f152f58-ed99-4eab-b20b-45287e6528c8",
   "metadata": {},
   "outputs": [],
   "source": [
    "mp = ev.Model_performance(dataset, separated_objects)\n",
    "mp.hungarian_matching() # match your prediction with the true masks"
   ]
  },
  {
   "cell_type": "code",
   "execution_count": null,
   "id": "90811e94-386c-4553-b786-0d407443084c",
   "metadata": {},
   "outputs": [],
   "source": [
    "# check out some examples visually:\n",
    "for i in range(1):\n",
    "    mp.plot_instance_i(i)"
   ]
  },
  {
   "cell_type": "code",
   "execution_count": null,
   "id": "53023dda-58a1-4d93-9eaf-17d5a37d9866",
   "metadata": {},
   "outputs": [],
   "source": [
    "# check out the KL-divergence\n",
    "loss = mp.KL_loss()\n",
    "np.log10(loss)"
   ]
  },
  {
   "cell_type": "code",
   "execution_count": null,
   "id": "1687166a-71c3-4c62-91e9-c741c8fcc039",
   "metadata": {},
   "outputs": [],
   "source": [
    "# check out the KL-divergence for each picture as an histogram\n",
    "mp.KL_loss_hist()"
   ]
  }
 ],
 "metadata": {
  "kernelspec": {
   "display_name": "sarasvenv",
   "language": "python",
   "name": "sarasvenv"
  },
  "language_info": {
   "codemirror_mode": {
    "name": "ipython",
    "version": 3
   },
   "file_extension": ".py",
   "mimetype": "text/x-python",
   "name": "python",
   "nbconvert_exporter": "python",
   "pygments_lexer": "ipython3",
   "version": "3.10.9"
  }
 },
 "nbformat": 4,
 "nbformat_minor": 5
}
