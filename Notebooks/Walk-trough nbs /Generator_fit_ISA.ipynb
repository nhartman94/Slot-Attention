{
 "cells": [
  {
   "cell_type": "markdown",
   "id": "961260f1-148c-4350-aa6f-e28eb437ea9b",
   "metadata": {},
   "source": [
    "# Modifying the output of the generator\n",
    "\n",
    "I've written the scipt `data_scclevr.py` that modifies the data for our network. For some reason it doesn't work so lets check this out!"
   ]
  },
  {
   "cell_type": "code",
   "execution_count": 1,
   "id": "bd632c64-f761-4c94-950d-f31d7c3075c3",
   "metadata": {
    "tags": []
   },
   "outputs": [],
   "source": [
    "os.sys.path.append('../../code')\n",
    "\n",
    "import torch\n",
    "import numpy as np\n",
    "import pandas as pd\n",
    "\n",
    "import matplotlib.pyplot as plt\n",
    "import matplotlib as mlp\n",
    "from mpl_toolkits.axes_grid1 import make_axes_locatable\n",
    "\n",
    "import json, yaml, os\n",
    "\n",
    "from plotting import plot_kslots, plot_kslots_iters\n",
    "from data import make_batch\n",
    "from model import SlotAttentionPosEmbed\n",
    "\n",
    "# Set numpy seed for test set sampling \n",
    "np.random.seed(24082023)\n",
    "\n",
    "%load_ext autoreload\n",
    "%autoreload 2"
   ]
  },
  {
   "cell_type": "code",
   "execution_count": 3,
   "id": "721fdf92-ddde-40f2-b06a-b2c1a4d5f506",
   "metadata": {
    "tags": []
   },
   "outputs": [],
   "source": [
    "from data_scclevr import makeRings"
   ]
  },
  {
   "cell_type": "code",
   "execution_count": 8,
   "id": "e1c6d698-f281-491a-91ca-ee83b800ccd2",
   "metadata": {
    "tags": []
   },
   "outputs": [],
   "source": [
    "# make data\n",
    "X, Y, _, mask = makeRings(N_img=100, N_obj=2)"
   ]
  },
  {
   "cell_type": "code",
   "execution_count": 9,
   "id": "ad1b4a3f-067b-4714-a05b-7d47817639d1",
   "metadata": {
    "tags": []
   },
   "outputs": [
    {
     "data": {
      "text/plain": [
       "torch.Size([100, 1, 31, 31])"
      ]
     },
     "execution_count": 9,
     "metadata": {},
     "output_type": "execute_result"
    }
   ],
   "source": [
    "X.shape"
   ]
  },
  {
   "cell_type": "code",
   "execution_count": 10,
   "id": "d14c7723-1ab9-4159-a695-a7decc928347",
   "metadata": {
    "tags": []
   },
   "outputs": [
    {
     "data": {
      "text/plain": [
       "torch.Size([100, 2, 31, 31])"
      ]
     },
     "execution_count": 10,
     "metadata": {},
     "output_type": "execute_result"
    }
   ],
   "source": [
    "Y.shape"
   ]
  },
  {
   "cell_type": "code",
   "execution_count": 11,
   "id": "852a1c03-a78b-4e6c-80ee-4cd0efbbd4e2",
   "metadata": {
    "tags": []
   },
   "outputs": [
    {
     "data": {
      "text/plain": [
       "torch.Size([100, 2, 3])"
      ]
     },
     "execution_count": 11,
     "metadata": {},
     "output_type": "execute_result"
    }
   ],
   "source": [
    "mask.shape"
   ]
  },
  {
   "cell_type": "code",
   "execution_count": 12,
   "id": "4fc8e18c-ce1a-4cf9-9294-cfe049692832",
   "metadata": {
    "tags": []
   },
   "outputs": [
    {
     "data": {
      "text/plain": [
       "(32,)"
      ]
     },
     "execution_count": 12,
     "metadata": {},
     "output_type": "execute_result"
    }
   ],
   "source": [
    "np.linspace(-0.5, 0.5, 32).shape"
   ]
  },
  {
   "cell_type": "code",
   "execution_count": null,
   "id": "c7eba23e-7bab-494f-b10d-b4b2750b2df5",
   "metadata": {},
   "outputs": [],
   "source": []
  }
 ],
 "metadata": {
  "kernelspec": {
   "display_name": "sarasvenv",
   "language": "python",
   "name": "sarasvenv"
  },
  "language_info": {
   "codemirror_mode": {
    "name": "ipython",
    "version": 3
   },
   "file_extension": ".py",
   "mimetype": "text/x-python",
   "name": "python",
   "nbconvert_exporter": "python",
   "pygments_lexer": "ipython3",
   "version": "3.10.9"
  }
 },
 "nbformat": 4,
 "nbformat_minor": 5
}
