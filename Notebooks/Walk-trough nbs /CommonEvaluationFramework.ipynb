{
 "cells": [
  {
   "cell_type": "markdown",
   "id": "af876aad-5d9f-4d6d-a07b-620cde23b707",
   "metadata": {},
   "source": [
    "# Common evaluation framework\n",
    "\n",
    "Goal of this notebook is to test the common evaluation framework. The test model will be ISA with discovery mode. \n",
    "Let's begin wuhuuu!"
   ]
  },
  {
   "cell_type": "code",
   "execution_count": 1,
   "id": "9dd20986-2479-4615-8eb0-5f50a9ac43d0",
   "metadata": {
    "tags": []
   },
   "outputs": [],
   "source": [
    "# imports \n",
    "\n",
    "import torch\n",
    "import numpy as np\n",
    "import pandas as pd\n",
    "\n",
    "import matplotlib.pyplot as plt\n",
    "import matplotlib as mlp\n",
    "from mpl_toolkits.axes_grid1 import make_axes_locatable\n",
    "\n",
    "import json, yaml, os\n",
    "os.sys.path.append('./../../code')\n",
    "\n",
    "from plotting import plot_kslots, plot_kslots_iters\n",
    "from data_scclevr import makeRings \n",
    "from model import InvariantSlotAttention\n",
    "from model import InvariantSlotAttention_disc\n",
    "\n",
    "from matplotlib.patches import Circle\n",
    "import json\n",
    "\n",
    "import torch.nn.functional as F\n",
    "from scipy.optimize import linear_sum_assignment\n",
    "from plotting import plot_chosen_slots, plot_kslots, plot_kslots_iters, plot_kslots_grads\n",
    "\n",
    "torch_seed = 24082023\n",
    "torch.manual_seed( torch_seed )\n",
    "\n",
    "import random\n",
    "random.seed(torch_seed)\n",
    "\n",
    "%load_ext autoreload\n",
    "%autoreload 2"
   ]
  },
  {
   "cell_type": "markdown",
   "id": "548003fd-bdd0-41df-b0b3-e4795cd9ab02",
   "metadata": {},
   "source": [
    "### Load the model"
   ]
  },
  {
   "cell_type": "code",
   "execution_count": 2,
   "id": "c6b39764-1b6b-4a07-ad66-30500aef3b58",
   "metadata": {
    "tags": []
   },
   "outputs": [
    {
     "data": {
      "text/plain": [
       "{'data': {'N_clusters': 2, 'isRing': True},\n",
       " 'hps': {'hidden_dim': 16,\n",
       "  'k_slots': 3,\n",
       "  'query_dim': 128,\n",
       "  'pixel_mult': 0.2,\n",
       "  'device': 'cpu'},\n",
       " 'opt': {'lr': 0.0003, 'Ntrain': 20000, 'bs': 256}}"
      ]
     },
     "execution_count": 2,
     "metadata": {},
     "output_type": "execute_result"
    }
   ],
   "source": [
    "device = 'cpu'\n",
    "\n",
    "cID_prev = 'isa-discovery-mode2'\n",
    "with open(f'./../../code/configs/{cID_prev}.yaml') as f:\n",
    "    cd = yaml.safe_load(f)\n",
    "\n",
    "hps = cd['hps']\n",
    "hps['device'] = device\n",
    "\n",
    "cd"
   ]
  },
  {
   "cell_type": "code",
   "execution_count": 3,
   "id": "f18da088-ca35-4d99-a1ba-e4d9a47eceff",
   "metadata": {
    "tags": []
   },
   "outputs": [],
   "source": [
    "model = InvariantSlotAttention_disc(**hps)"
   ]
  },
  {
   "cell_type": "code",
   "execution_count": 4,
   "id": "6d0c2632-d5a8-43ed-b0bb-21009e16e86f",
   "metadata": {
    "tags": []
   },
   "outputs": [],
   "source": [
    "f = open(f'./../../code/models/{cID_prev}/loss.json')\n",
    "# returns JSON object as a dictionary\n",
    "losses = json.load(f)"
   ]
  },
  {
   "cell_type": "code",
   "execution_count": 5,
   "id": "1bd19b13-2603-4520-a4ca-42c1d218a09f",
   "metadata": {
    "tags": []
   },
   "outputs": [
    {
     "name": "stdout",
     "output_type": "stream",
     "text": [
      "loss  mse  min:  1.847102168994752e-07  at  15984\n"
     ]
    },
    {
     "data": {
      "image/png": "[encoded data removed]",
      "text/plain": [
       "<Figure size 640x480 with 1 Axes>"
      ]
     },
     "metadata": {},
     "output_type": "display_data"
    }
   ],
   "source": [
    "for k,v in losses.items():\n",
    "    if k==\"mse\":\n",
    "        plt.plot(v,label=k)\n",
    "        print(\"loss \", k, \" min: \", np.min(v), \" at \", np.argmin(v))\n",
    "plt.xlabel('Iters')\n",
    "plt.yscale(\"log\")\n",
    "plt.ylabel('Loss')\n",
    "plt.legend()\n",
    "plt.show()"
   ]
  },
  {
   "cell_type": "code",
   "execution_count": 6,
   "id": "ff86266a-bc8b-4a94-b110-f88667eb69ab",
   "metadata": {
    "tags": []
   },
   "outputs": [
    {
     "name": "stdout",
     "output_type": "stream",
     "text": [
      "Starting from an earlier training 16000\n"
     ]
    },
    {
     "data": {
      "text/plain": [
       "<All keys matched successfully>"
      ]
     },
     "execution_count": 6,
     "metadata": {},
     "output_type": "execute_result"
    }
   ],
   "source": [
    "lastIter = 16000\n",
    "weightPath = f'./../../code/models/{cID_prev}/m_{lastIter}.pt'\n",
    "print(f'Starting from an earlier training',lastIter)\n",
    "\n",
    "model.load_state_dict(torch.load(weightPath,map_location=device))"
   ]
  },
  {
   "cell_type": "markdown",
   "id": "0e8e2623-9779-4675-aa40-56e0077f60d9",
   "metadata": {},
   "source": [
    "### Evaluate the model\n",
    "\n",
    "Use the common evaluation framework"
   ]
  },
  {
   "cell_type": "code",
   "execution_count": 44,
   "id": "e853cbcc-3a70-4359-8df4-537ef1c2c1f6",
   "metadata": {
    "tags": []
   },
   "outputs": [
    {
     "name": "stdout",
     "output_type": "stream",
     "text": [
      "The autoreload extension is already loaded. To reload it, use:\n",
      "  %reload_ext autoreload\n"
     ]
    }
   ],
   "source": [
    "import scclevr\n",
    "os.sys.path.append('./../../../evaluation')\n",
    "from dataset import TestDataset\n",
    "import model_performance as ev\n",
    "%load_ext autoreload\n",
    "%autoreload 2"
   ]
  },
  {
   "cell_type": "code",
   "execution_count": 45,
   "id": "52f739f5-be54-4398-a6e1-e2f307a79d2c",
   "metadata": {
    "tags": []
   },
   "outputs": [],
   "source": [
    "ds = TestDataset()"
   ]
  },
  {
   "cell_type": "code",
   "execution_count": 46,
   "id": "0ccdceef-a4dd-4675-9afd-832523c47c01",
   "metadata": {
    "tags": []
   },
   "outputs": [
    {
     "data": {
      "text/plain": [
       "torch.Size([5000, 1, 32, 32])"
      ]
     },
     "execution_count": 46,
     "metadata": {},
     "output_type": "execute_result"
    }
   ],
   "source": [
    "X = torch.FloatTensor(ds.event_images).to(device)\n",
    "X.shape"
   ]
  },
  {
   "cell_type": "code",
   "execution_count": 47,
   "id": "6196687e-b9fd-4391-bafd-be0b30dd684d",
   "metadata": {
    "tags": []
   },
   "outputs": [],
   "source": [
    "with torch.no_grad():\n",
    "    queries, att, y_pred, alpha = model(X)"
   ]
  },
  {
   "cell_type": "code",
   "execution_count": 275,
   "id": "29dc0c7e-2f9e-47d4-b67f-6760a2cb9a63",
   "metadata": {
    "tags": []
   },
   "outputs": [],
   "source": [
    "mp = ev.Model_performance(ds, att)"
   ]
  },
  {
   "cell_type": "code",
   "execution_count": 276,
   "id": "9db6a909-a457-4cf1-a9c3-ebef1bf1bb97",
   "metadata": {
    "tags": []
   },
   "outputs": [
    {
     "data": {
      "text/plain": [
       "torch.Size([5000, 3, 1024])"
      ]
     },
     "execution_count": 276,
     "metadata": {},
     "output_type": "execute_result"
    }
   ],
   "source": [
    "mp.mask_pred.shape"
   ]
  },
  {
   "cell_type": "code",
   "execution_count": 277,
   "id": "0f967ba2-a4a2-4d37-a8e9-0b25a6a446ae",
   "metadata": {
    "tags": []
   },
   "outputs": [],
   "source": [
    "mp.hungarian_matching()"
   ]
  },
  {
   "cell_type": "code",
   "execution_count": 278,
   "id": "21c6065d-3b2f-4c76-b85c-69809705a702",
   "metadata": {
    "tags": []
   },
   "outputs": [
    {
     "data": {
      "text/plain": [
       "torch.Size([5000, 2, 1024])"
      ]
     },
     "execution_count": 278,
     "metadata": {},
     "output_type": "execute_result"
    }
   ],
   "source": [
    "mp.mask_pred.shape"
   ]
  },
  {
   "cell_type": "markdown",
   "id": "08ecce8b-d0dc-43a7-8a53-a0bf7fea5727",
   "metadata": {
    "tags": []
   },
   "source": [
    "**Note:** See how sizes change after the hungarian matching. The background slot automatically vanished. This should also work when their is no background slot at all (not slot attention)"
   ]
  },
  {
   "cell_type": "code",
   "execution_count": 279,
   "id": "c0463275-c381-492f-99c9-99bf2816fcf8",
   "metadata": {
    "tags": []
   },
   "outputs": [
    {
     "data": {
      "image/png": "[encoded data removed]",
      "text/plain": [
       "<Figure size 900x300 with 6 Axes>"
      ]
     },
     "metadata": {},
     "output_type": "display_data"
    }
   ],
   "source": [
    "for i in range(1):\n",
    "    mp.plot_instance_i(i)"
   ]
  },
  {
   "cell_type": "markdown",
   "id": "ca3b2921-ddc6-4a9a-9c5c-bf28dfc1b2e2",
   "metadata": {
    "tags": []
   },
   "source": [
    "Ok, so the hungarian matching seems to work! Only in one picture out of 100 there was a background slot..."
   ]
  },
  {
   "cell_type": "code",
   "execution_count": 280,
   "id": "e7603930-4924-4863-a73e-1675c2f33c40",
   "metadata": {
    "tags": []
   },
   "outputs": [
    {
     "data": {
      "text/plain": [
       "tensor(-3.0507)"
      ]
     },
     "execution_count": 280,
     "metadata": {},
     "output_type": "execute_result"
    }
   ],
   "source": [
    "loss = mp.KL_loss()\n",
    "np.log10(loss)"
   ]
  },
  {
   "cell_type": "code",
   "execution_count": 283,
   "id": "b2abbb35-8cea-4d6d-b55e-c6603f33f402",
   "metadata": {
    "tags": []
   },
   "outputs": [
    {
     "data": {
      "image/png": "[encoded data removed]",
      "text/plain": [
       "<Figure size 640x480 with 1 Axes>"
      ]
     },
     "metadata": {},
     "output_type": "display_data"
    }
   ],
   "source": [
    "mp.KL_loss_hist()"
   ]
  },
  {
   "cell_type": "code",
   "execution_count": 284,
   "id": "fe83dfda-d69a-41f2-8140-a8dbe26a70de",
   "metadata": {
    "tags": []
   },
   "outputs": [],
   "source": []
  },
  {
   "cell_type": "code",
   "execution_count": null,
   "id": "e986ca46-8c16-4ac5-8007-2ef2e05f9b3d",
   "metadata": {},
   "outputs": [],
   "source": []
  }
 ],
 "metadata": {
  "kernelspec": {
   "display_name": "sarasvenv",
   "language": "python",
   "name": "sarasvenv"
  },
  "language_info": {
   "codemirror_mode": {
    "name": "ipython",
    "version": 3
   },
   "file_extension": ".py",
   "mimetype": "text/x-python",
   "name": "python",
   "nbconvert_exporter": "python",
   "pygments_lexer": "ipython3",
   "version": "3.10.9"
  }
 },
 "nbformat": 4,
 "nbformat_minor": 5
}
