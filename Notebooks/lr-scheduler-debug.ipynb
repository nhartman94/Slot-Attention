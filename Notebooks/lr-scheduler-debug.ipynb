{
 "cells": [
  {
   "cell_type": "markdown",
   "id": "c58204d0-4dbb-41b3-a64f-00dad99bbd1c",
   "metadata": {},
   "source": [
    "# learning rate scheduler debug\n",
    "\n",
    "**Goal:** Try to understand how these learning rate schedulers work."
   ]
  },
  {
   "cell_type": "code",
   "execution_count": 2,
   "id": "61ebbadb-10b7-4b08-b1d0-b76907c72cff",
   "metadata": {},
   "outputs": [],
   "source": [
    "import numpy as np\n",
    "import matplotlib.pyplot as plt\n",
    "import torch\n",
    "from torch.optim.lr_scheduler import LambdaLR, CosineAnnealingLR, ChainedScheduler, CosineAnnealingWarmRestarts"
   ]
  },
  {
   "cell_type": "code",
   "execution_count": 9,
   "id": "d51fc30b-c04b-4452-809f-167b3e762d16",
   "metadata": {},
   "outputs": [
    {
     "data": {
      "text/plain": [
       "[<matplotlib.lines.Line2D at 0x7fe2fcbf4340>]"
      ]
     },
     "execution_count": 9,
     "metadata": {},
     "output_type": "execute_result"
    },
    {
     "data": {
      "image/png": "[encoded data removed]",
      "text/plain": [
       "<Figure size 576x216 with 1 Axes>"
      ]
     },
     "metadata": {
      "needs_background": "light"
     },
     "output_type": "display_data"
    }
   ],
   "source": [
    "T = 40_000\n",
    "warmup_steps = 5_000\n",
    "\n",
    "xx = np.linspace(0,T,T)\n",
    "\n",
    "lr = .5 * (1 + np.cos(xx * np.pi / T))\n",
    "lr *= np.where(xx < warmup_steps, xx/warmup_steps,1)\n",
    "\n",
    "plt.figure(figsize=(8,3)) \n",
    "plt.plot(xx,lr)"
   ]
  },
  {
   "cell_type": "code",
   "execution_count": 52,
   "id": "50bad9b3-38f7-4e2e-89cb-3e54f4819e03",
   "metadata": {},
   "outputs": [],
   "source": [
    "m = torch.nn.Sequential(torch.nn.Linear(2,1))"
   ]
  },
  {
   "cell_type": "code",
   "execution_count": 68,
   "id": "3949e763-2425-40c2-a264-ba600e1bf963",
   "metadata": {},
   "outputs": [
    {
     "data": {
      "text/plain": [
       "\u001b[0;31mInit signature:\u001b[0m\n",
       "\u001b[0mCosineAnnealingWarmRestarts\u001b[0m\u001b[0;34m(\u001b[0m\u001b[0;34m\u001b[0m\n",
       "\u001b[0;34m\u001b[0m    \u001b[0moptimizer\u001b[0m\u001b[0;34m,\u001b[0m\u001b[0;34m\u001b[0m\n",
       "\u001b[0;34m\u001b[0m    \u001b[0mT_0\u001b[0m\u001b[0;34m,\u001b[0m\u001b[0;34m\u001b[0m\n",
       "\u001b[0;34m\u001b[0m    \u001b[0mT_mult\u001b[0m\u001b[0;34m=\u001b[0m\u001b[0;36m1\u001b[0m\u001b[0;34m,\u001b[0m\u001b[0;34m\u001b[0m\n",
       "\u001b[0;34m\u001b[0m    \u001b[0meta_min\u001b[0m\u001b[0;34m=\u001b[0m\u001b[0;36m0\u001b[0m\u001b[0;34m,\u001b[0m\u001b[0;34m\u001b[0m\n",
       "\u001b[0;34m\u001b[0m    \u001b[0mlast_epoch\u001b[0m\u001b[0;34m=\u001b[0m\u001b[0;34m-\u001b[0m\u001b[0;36m1\u001b[0m\u001b[0;34m,\u001b[0m\u001b[0;34m\u001b[0m\n",
       "\u001b[0;34m\u001b[0m    \u001b[0mverbose\u001b[0m\u001b[0;34m=\u001b[0m\u001b[0;32mFalse\u001b[0m\u001b[0;34m,\u001b[0m\u001b[0;34m\u001b[0m\n",
       "\u001b[0;34m\u001b[0m\u001b[0;34m)\u001b[0m\u001b[0;34m\u001b[0m\u001b[0;34m\u001b[0m\u001b[0m\n",
       "\u001b[0;31mDocstring:\u001b[0m     \n",
       "Set the learning rate of each parameter group using a cosine annealing\n",
       "schedule, where :math:`\\eta_{max}` is set to the initial lr, :math:`T_{cur}`\n",
       "is the number of epochs since the last restart and :math:`T_{i}` is the number\n",
       "of epochs between two warm restarts in SGDR:\n",
       "\n",
       ".. math::\n",
       "    \\eta_t = \\eta_{min} + \\frac{1}{2}(\\eta_{max} - \\eta_{min})\\left(1 +\n",
       "    \\cos\\left(\\frac{T_{cur}}{T_{i}}\\pi\\right)\\right)\n",
       "\n",
       "When :math:`T_{cur}=T_{i}`, set :math:`\\eta_t = \\eta_{min}`.\n",
       "When :math:`T_{cur}=0` after restart, set :math:`\\eta_t=\\eta_{max}`.\n",
       "\n",
       "It has been proposed in\n",
       "`SGDR: Stochastic Gradient Descent with Warm Restarts`_.\n",
       "\n",
       "Args:\n",
       "    optimizer (Optimizer): Wrapped optimizer.\n",
       "    T_0 (int): Number of iterations for the first restart.\n",
       "    T_mult (int, optional): A factor increases :math:`T_{i}` after a restart. Default: 1.\n",
       "    eta_min (float, optional): Minimum learning rate. Default: 0.\n",
       "    last_epoch (int, optional): The index of last epoch. Default: -1.\n",
       "    verbose (bool): If ``True``, prints a message to stdout for\n",
       "        each update. Default: ``False``.\n",
       "\n",
       ".. _SGDR\\: Stochastic Gradient Descent with Warm Restarts:\n",
       "    https://arxiv.org/abs/1608.03983\n",
       "\u001b[0;31mFile:\u001b[0m           /opt/conda/lib/python3.8/site-packages/torch/optim/lr_scheduler.py\n",
       "\u001b[0;31mType:\u001b[0m           type\n",
       "\u001b[0;31mSubclasses:\u001b[0m     \n"
      ]
     },
     "metadata": {},
     "output_type": "display_data"
    }
   ],
   "source": [
    "CosineAnnealingWarmRestarts?"
   ]
  },
  {
   "cell_type": "code",
   "execution_count": 64,
   "id": "df052fa6-2bd9-4a98-b1b8-62e8821a55fd",
   "metadata": {},
   "outputs": [
    {
     "ename": "NameError",
     "evalue": "name 'LinearWarmupCosineAnnealingLR' is not defined",
     "output_type": "error",
     "traceback": [
      "\u001b[0;31m---------------------------------------------------------------------------\u001b[0m",
      "\u001b[0;31mNameError\u001b[0m                                 Traceback (most recent call last)",
      "\u001b[0;32m<ipython-input-64-85f2490e219a>\u001b[0m in \u001b[0;36m<module>\u001b[0;34m\u001b[0m\n\u001b[0;32m----> 1\u001b[0;31m \u001b[0mLinearWarmupCosineAnnealingLR\u001b[0m\u001b[0;34m\u001b[0m\u001b[0;34m\u001b[0m\u001b[0m\n\u001b[0m",
      "\u001b[0;31mNameError\u001b[0m: name 'LinearWarmupCosineAnnealingLR' is not defined"
     ]
    }
   ],
   "source": [
    "LinearWarmupCosineAnnealingLR"
   ]
  },
  {
   "cell_type": "code",
   "execution_count": 62,
   "id": "f2d03bd2-7a21-4c05-b2ab-4f0343784430",
   "metadata": {},
   "outputs": [
    {
     "name": "stderr",
     "output_type": "stream",
     "text": [
      "/opt/conda/lib/python3.8/site-packages/torch/optim/lr_scheduler.py:129: UserWarning: Detected call of `lr_scheduler.step()` before `optimizer.step()`. In PyTorch 1.1.0 and later, you should call them in the opposite order: `optimizer.step()` before `lr_scheduler.step()`.  Failure to do this will result in PyTorch skipping the first value of the learning rate schedule. See more details at https://pytorch.org/docs/stable/optim.html#how-to-adjust-learning-rate\n",
      "  warnings.warn(\"Detected call of `lr_scheduler.step()` before `optimizer.step()`. \"\n"
     ]
    }
   ],
   "source": [
    "\n",
    "\n",
    "# Learning rate schedule config\n",
    "opt = torch.optim.Adam(m.parameters(), 1)\n",
    "# from pytorch documentation : https://pytorch.org/docs/stable/optim.html\n",
    "scheduler1 = LambdaLR(opt, \\\n",
    "            lr_lambda= lambda x : x/warmup_steps if x < warmup_steps else 1)\n",
    "scheduler2 = CosineAnnealingLR(opt, T_max=Ntrain)\n",
    "scheduler = ChainedScheduler([scheduler1, scheduler2])\n",
    "\n",
    "lr_torch = []\n",
    "\n",
    "for i in range(Ntrain):\n",
    "\n",
    "    lr_torch.append(opt.param_groups[0]['lr'])\n",
    "    scheduler1.step()\n",
    "    # scheduler2.step()\n",
    "    \n",
    "lr_torch = np.array(lr_torch)\n"
   ]
  },
  {
   "cell_type": "code",
   "execution_count": 63,
   "id": "a0442f8e-ac48-4597-8df0-5c83419e4ce4",
   "metadata": {},
   "outputs": [
    {
     "data": {
      "text/plain": [
       "[<matplotlib.lines.Line2D at 0x7fc338e95b50>]"
      ]
     },
     "execution_count": 63,
     "metadata": {},
     "output_type": "execute_result"
    },
    {
     "data": {
      "image/png": "[encoded data removed]",
      "text/plain": [
       "<Figure size 576x216 with 1 Axes>"
      ]
     },
     "metadata": {
      "needs_background": "light"
     },
     "output_type": "display_data"
    }
   ],
   "source": [
    "plt.figure(figsize=(8,3)) \n",
    "# plt.plot(xx,lr)\n",
    "plt.plot(xx,lr_torch)\n",
    "plt.xlim(0,5000)"
   ]
  },
  {
   "cell_type": "code",
   "execution_count": null,
   "id": "4b2a85b2-5e91-4a50-9867-a3d147a7841f",
   "metadata": {},
   "outputs": [],
   "source": []
  }
 ],
 "metadata": {
  "kernelspec": {
   "display_name": "Python 3",
   "language": "python",
   "name": "python3"
  },
  "language_info": {
   "codemirror_mode": {
    "name": "ipython",
    "version": 3
   },
   "file_extension": ".py",
   "mimetype": "text/x-python",
   "name": "python",
   "nbconvert_exporter": "python",
   "pygments_lexer": "ipython3",
   "version": "3.8.12"
  }
 },
 "nbformat": 4,
 "nbformat_minor": 5
}
