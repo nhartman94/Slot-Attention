{
 "cells": [
  {
   "cell_type": "markdown",
   "id": "285345a6-a69c-4ce0-a0b1-d398c8d00f7a",
   "metadata": {},
   "source": [
    "# Loss functions\n",
    "\n",
    "**Goal:** Build up some intuition for the Hungarian loss, and how to build it in python :) "
   ]
  },
  {
   "cell_type": "code",
   "execution_count": 25,
   "id": "17954f44-86a2-453f-bef7-83c36743664c",
   "metadata": {},
   "outputs": [
    {
     "name": "stdout",
     "output_type": "stream",
     "text": [
      "The autoreload extension is already loaded. To reload it, use:\n",
      "  %reload_ext autoreload\n"
     ]
    }
   ],
   "source": [
    "import numpy as np\n",
    "import matplotlib.pyplot as plt\n",
    "\n",
    "import datetime\n",
    "import time\n",
    "\n",
    "import collections\n",
    "import tensorflow as tf\n",
    "import tensorflow_datasets as tfds\n",
    "from absl import logging\n",
    "\n",
    "tf.random.set_seed(0)\n",
    "\n",
    "# The slot attn code\n",
    "import os\n",
    "os.sys.path.append('../google-research')\n",
    "\n",
    "import slot_attention.data as data_utils\n",
    "import slot_attention.model as model_utils\n",
    "import slot_attention.utils as utils\n",
    "\n",
    "from slot_attention.set_prediction.train import train_step\n",
    "\n",
    "%load_ext autoreload\n",
    "%autoreload 2"
   ]
  },
  {
   "cell_type": "code",
   "execution_count": 26,
   "id": "3042caeb-7c5b-40ba-aade-943b4ef3ba71",
   "metadata": {},
   "outputs": [],
   "source": [
    "batch_size = 512\n",
    "num_slots = 3\n",
    "nPhotons = 2\n",
    "nFeatures = 3 # (x,y,E)\n",
    "\n",
    "y_pred = tf.random.normal((batch_size, num_slots, nFeatures))\n",
    "y_true = tf.random.normal((batch_size, nPhotons,  nFeatures))"
   ]
  },
  {
   "cell_type": "code",
   "execution_count": null,
   "id": "bdfb6807-d4cb-4de2-9b21-488d6590840a",
   "metadata": {},
   "outputs": [],
   "source": []
  },
  {
   "cell_type": "code",
   "execution_count": null,
   "id": "063a99a6-58c4-439f-8af1-a8391c039b06",
   "metadata": {},
   "outputs": [],
   "source": [
    "?tf.losses.Huber"
   ]
  },
  {
   "cell_type": "code",
   "execution_count": null,
   "id": "9007f91b-aa88-4ee7-a5b6-b1ff0bac804c",
   "metadata": {},
   "outputs": [],
   "source": []
  },
  {
   "cell_type": "code",
   "execution_count": null,
   "id": "e9162a83-fcb5-4b08-9272-b9ca359b58ba",
   "metadata": {},
   "outputs": [],
   "source": []
  },
  {
   "cell_type": "code",
   "execution_count": null,
   "id": "385625f3-0c57-4d7a-95e6-9c913e946eb5",
   "metadata": {},
   "outputs": [],
   "source": []
  },
  {
   "cell_type": "code",
   "execution_count": 27,
   "id": "1e7c6d13-16c3-4a0e-a9ed-39dbbcb4a0a6",
   "metadata": {},
   "outputs": [],
   "source": [
    "def hungarian_weighted_MSE_loss(x, y):\n",
    "    \"\"\"Huber loss for sets, matching elements with the Hungarian algorithm.\n",
    "\n",
    "    This loss is used as reconstruction loss in the paper 'Deep Set Prediction\n",
    "    Networks' https://arxiv.org/abs/1906.06565, see Eq. 2. For each element in the\n",
    "    batches we wish to compute min_{pi} ||y_i - x_{pi(i)}||^2 where pi is a\n",
    "    permutation of the set elements. We first compute the pairwise distances\n",
    "    between each point in both sets and then match the elements using the scipy\n",
    "    implementation of the Hungarian algorithm. This is applied for every set in\n",
    "    the two batches. Note that if the number of points does not match, some of the\n",
    "    elements will not be matched. As distance function we use the Huber loss.\n",
    "\n",
    "    Args:\n",
    "    x: Batch of sets of size [batch_size, n_points, dim_points]. Each set in the\n",
    "      batch contains n_points many points, each represented as a vector of\n",
    "      dimension dim_points.\n",
    "    y: Batch of sets of size [batch_size, n_points, dim_points].\n",
    "\n",
    "    Returns:\n",
    "    Average distance between all sets in the two batches.\n",
    "    \"\"\"\n",
    "    pairwise_cost = tf.losses.Huber(reduction=tf.keras.losses.Reduction.NONE)(\n",
    "      tf.expand_dims(y, axis=-2), tf.expand_dims(x, axis=-3))\n",
    "    indices = np.array(\n",
    "      list(map(scipy.optimize.linear_sum_assignment, pairwise_cost)))\n",
    "\n",
    "    transposed_indices = np.transpose(indices, axes=(0, 2, 1))\n",
    "\n",
    "    actual_costs = tf.gather_nd(\n",
    "      pairwise_cost, transposed_indices, batch_dims=1)\n",
    "\n",
    "    return tf.reduce_mean(tf.reduce_sum(actual_costs, axis=1))"
   ]
  },
  {
   "cell_type": "code",
   "execution_count": 28,
   "id": "c9513d5c-d322-49a9-b0ee-c14823a52d3f",
   "metadata": {},
   "outputs": [
    {
     "data": {
      "text/plain": [
       "TensorShape([512, 2, 1, 3])"
      ]
     },
     "execution_count": 28,
     "metadata": {},
     "output_type": "execute_result"
    }
   ],
   "source": [
    "tf.expand_dims(y_true, axis=-2).shape"
   ]
  },
  {
   "cell_type": "code",
   "execution_count": 29,
   "id": "23d43b9d-e472-44eb-bb5e-4ac66cd423a8",
   "metadata": {},
   "outputs": [
    {
     "data": {
      "text/plain": [
       "TensorShape([512, 1, 3, 3])"
      ]
     },
     "execution_count": 29,
     "metadata": {},
     "output_type": "execute_result"
    }
   ],
   "source": [
    "tf.expand_dims(y_pred, axis=-3).shape"
   ]
  },
  {
   "cell_type": "code",
   "execution_count": 30,
   "id": "01f5c824-6194-49fe-a170-0975f29c9313",
   "metadata": {},
   "outputs": [
    {
     "data": {
      "text/plain": [
       "TensorShape([512, 2, 3])"
      ]
     },
     "execution_count": 30,
     "metadata": {},
     "output_type": "execute_result"
    }
   ],
   "source": [
    "mse = (tf.expand_dims(y_true, axis=-2) - tf.expand_dims(y_pred, axis=-3))**2\n",
    "\n",
    "# Sum over the final features\n",
    "MSE_manual = tf.math.reduce_mean(mse,axis=-1)\n",
    "MSE_manual.shape"
   ]
  },
  {
   "cell_type": "code",
   "execution_count": null,
   "id": "096f85e8-3324-4ceb-a347-7b091184485b",
   "metadata": {},
   "outputs": [],
   "source": []
  },
  {
   "cell_type": "raw",
   "id": "03f4f3e0-5c4d-41fd-8b5d-c9c56f210408",
   "metadata": {},
   "source": [
    "MSE_tf = tf.losses.MeanSquaredError(reduction=tf.keras.losses.Reduction.NONE)(\n",
    "    tf.expand_dims(y_true, axis=-2), tf.expand_dims(y_pred, axis=-3))\n",
    "MSE_tf.shape"
   ]
  },
  {
   "cell_type": "markdown",
   "id": "86103aa6-1fef-4d9a-8594-e8319d67b2de",
   "metadata": {},
   "source": [
    "**Goal:** Just return a single component"
   ]
  },
  {
   "cell_type": "code",
   "execution_count": 43,
   "id": "a53c839b-cf41-4236-8de6-32e53f430459",
   "metadata": {},
   "outputs": [
    {
     "data": {
      "text/plain": [
       "(512, 2, 1)"
      ]
     },
     "execution_count": 43,
     "metadata": {},
     "output_type": "execute_result"
    }
   ],
   "source": [
    "*y_true.shape[:-1],1"
   ]
  },
  {
   "cell_type": "code",
   "execution_count": 47,
   "id": "1a81aca5-b07a-4a56-9b8f-a1fa32685c75",
   "metadata": {},
   "outputs": [
    {
     "data": {
      "text/plain": [
       "<tf.Tensor: shape=(512, 2, 1), dtype=float32, numpy=\n",
       "array([[[ 1.0668802 ],\n",
       "        [ 0.09190083]],\n",
       "\n",
       "       [[-2.0777557 ],\n",
       "        [-0.9309037 ]],\n",
       "\n",
       "       [[-2.761791  ],\n",
       "        [ 2.0442302 ]],\n",
       "\n",
       "       ...,\n",
       "\n",
       "       [[-2.1454227 ],\n",
       "        [-0.37080655]],\n",
       "\n",
       "       [[ 0.20016348],\n",
       "        [-0.08690415]],\n",
       "\n",
       "       [[ 0.33077464],\n",
       "        [-0.98544943]]], dtype=float32)>"
      ]
     },
     "execution_count": 47,
     "metadata": {},
     "output_type": "execute_result"
    }
   ],
   "source": [
    "y_true[:,:,0,None]"
   ]
  },
  {
   "cell_type": "code",
   "execution_count": 38,
   "id": "eb872d41-eaae-4884-9d04-6fcc7a513334",
   "metadata": {},
   "outputs": [
    {
     "data": {
      "text/plain": [
       "TensorShape([512, 2, 1])"
      ]
     },
     "execution_count": 38,
     "metadata": {},
     "output_type": "execute_result"
    }
   ],
   "source": [
    "tf.expand_dims(y_true[:,:,0], axis=-1).shape"
   ]
  },
  {
   "cell_type": "code",
   "execution_count": 133,
   "id": "a4e0f2a5-65e2-4816-a44c-c359622fc2f1",
   "metadata": {},
   "outputs": [],
   "source": [
    "MSE_x = tf.losses.MeanSquaredError(reduction=tf.keras.losses.Reduction.NONE)(\n",
    "    tf.expand_dims(y[:,:,0,None], axis=-2), tf.expand_dims(x[:,:,0,None], axis=-3))\n",
    "\n",
    "MSE_y = tf.losses.MeanSquaredError(reduction=tf.keras.losses.Reduction.NONE)(\n",
    "    tf.expand_dims(y[:,:,1,None], axis=-2), tf.expand_dims(x[:,:,1,None], axis=-3))\n",
    "\n",
    "MSE_z = tf.losses.MeanSquaredError(reduction=tf.keras.losses.Reduction.NONE)(\n",
    "    tf.expand_dims(y[:,:,2,None], axis=-2), tf.expand_dims(y_pred[:,:,2,None], axis=-3))\n"
   ]
  },
  {
   "cell_type": "code",
   "execution_count": 155,
   "id": "956b11b6-efb6-4bbc-a5d7-058894090876",
   "metadata": {},
   "outputs": [
    {
     "data": {
      "text/plain": [
       "<tf.Tensor: shape=(512, 3, 2), dtype=float32, numpy=\n",
       "array([[[1.97298010e-03, 2.01402009e-02],\n",
       "        [4.42226268e-02, 1.27224438e-02],\n",
       "        [1.16824778e-02, 1.12096655e-04]],\n",
       "\n",
       "       [[7.16882870e-02, 2.34278180e-02],\n",
       "        [8.24482515e-02, 2.97399759e-02],\n",
       "        [1.38546741e-02, 9.12450741e-06]],\n",
       "\n",
       "       [[9.39808339e-02, 3.02896332e-02],\n",
       "        [1.89254642e-01, 2.07644375e-03],\n",
       "        [6.66887015e-02, 4.94442210e-02]],\n",
       "\n",
       "       ...,\n",
       "\n",
       "       [[8.20675045e-02, 1.18837608e-02],\n",
       "        [2.08213534e-02, 1.09995389e-03],\n",
       "        [1.10481635e-01, 2.40021180e-02]],\n",
       "\n",
       "       [[5.48368366e-03, 2.05618120e-03],\n",
       "        [1.99491842e-04, 2.12652420e-04],\n",
       "        [1.17568090e-03, 3.11524564e-05]],\n",
       "\n",
       "       [[2.59566251e-02, 8.56926069e-02],\n",
       "        [3.46650428e-04, 2.25723460e-02],\n",
       "        [9.25538037e-03, 1.25440070e-03]]], dtype=float32)>"
      ]
     },
     "execution_count": 155,
     "metadata": {},
     "output_type": "execute_result"
    }
   ],
   "source": [
    "MSE_0*.01"
   ]
  },
  {
   "cell_type": "code",
   "execution_count": null,
   "id": "c0477f4a-87ac-44d8-bded-a8cac9cc4b4c",
   "metadata": {},
   "outputs": [],
   "source": []
  },
  {
   "cell_type": "code",
   "execution_count": 154,
   "id": "e59e01d1-bbd2-4aea-92fa-0b9f6c3a5e2e",
   "metadata": {},
   "outputs": [
    {
     "data": {
      "image/png": "[encoded data removed]",
      "text/plain": [
       "<Figure size 432x288 with 1 Axes>"
      ]
     },
     "metadata": {
      "needs_background": "light"
     },
     "output_type": "display_data"
    }
   ],
   "source": [
    "plt.hist(w_E[:,0,0].numpy())\n",
    "plt.show()"
   ]
  },
  {
   "cell_type": "code",
   "execution_count": null,
   "id": "290e231b-3f7a-438b-9c89-36081c98a94a",
   "metadata": {},
   "outputs": [],
   "source": []
  },
  {
   "cell_type": "code",
   "execution_count": 141,
   "id": "04602398-944c-4b96-997b-ec7a4cc0ce44",
   "metadata": {},
   "outputs": [
    {
     "data": {
      "text/plain": [
       "<tf.Tensor: shape=(512, 1, 2), dtype=float32, numpy=\n",
       "array([[[ 1.0668802 ,  0.09190083]],\n",
       "\n",
       "       [[-2.0777557 , -0.9309037 ]],\n",
       "\n",
       "       [[-2.761791  ,  2.0442302 ]],\n",
       "\n",
       "       ...,\n",
       "\n",
       "       [[-2.1454227 , -0.37080655]],\n",
       "\n",
       "       [[ 0.20016348, -0.08690415]],\n",
       "\n",
       "       [[ 0.33077464, -0.98544943]]], dtype=float32)>"
      ]
     },
     "execution_count": 141,
     "metadata": {},
     "output_type": "execute_result"
    }
   ],
   "source": [
    "\n",
    "\n",
    "tf.expand_dims(y_true[:,:,0],axis=-2)"
   ]
  },
  {
   "cell_type": "code",
   "execution_count": 135,
   "id": "9fb3e598-8efb-437b-9ce3-e0690472a26c",
   "metadata": {},
   "outputs": [
    {
     "data": {
      "text/plain": [
       "TensorShape([512, 3, 2])"
      ]
     },
     "execution_count": 135,
     "metadata": {},
     "output_type": "execute_result"
    }
   ],
   "source": [
    "MSE_0.shape"
   ]
  },
  {
   "cell_type": "code",
   "execution_count": null,
   "id": "d4eaeda9-4648-4487-8713-466449c8b59d",
   "metadata": {},
   "outputs": [],
   "source": []
  },
  {
   "cell_type": "code",
   "execution_count": 53,
   "id": "b802d85d-7e50-4623-a1b2-e60f2bcb8c93",
   "metadata": {},
   "outputs": [
    {
     "data": {
      "text/plain": [
       "TensorShape([512, 3, 2])"
      ]
     },
     "execution_count": 53,
     "metadata": {},
     "output_type": "execute_result"
    }
   ],
   "source": [
    "(MSE_0+MSE_1+MSE_2).shape"
   ]
  },
  {
   "cell_type": "code",
   "execution_count": 55,
   "id": "de9714ed-f2fa-4b11-ba2c-f6921cd9dcfc",
   "metadata": {},
   "outputs": [
    {
     "data": {
      "text/plain": [
       "TensorShape([512, 2, 3])"
      ]
     },
     "execution_count": 55,
     "metadata": {},
     "output_type": "execute_result"
    }
   ],
   "source": [
    "MSE_tf.shape"
   ]
  },
  {
   "cell_type": "code",
   "execution_count": 57,
   "id": "77a3ff95-96af-4ae1-8684-84ac90836c75",
   "metadata": {},
   "outputs": [
    {
     "data": {
      "text/plain": [
       "<tf.Tensor: shape=(512, 3, 2), dtype=float32, numpy=\n",
       "array([[[2.6180291e-01, 2.6241853e+00],\n",
       "        [7.4733086e+00, 4.3252792e+00],\n",
       "        [3.4414082e+00, 4.1942496e+00]],\n",
       "\n",
       "       [[1.6230707e+01, 2.4664023e+00],\n",
       "        [1.8841488e+01, 3.4878039e+00],\n",
       "        [8.1995296e+00, 1.0495462e-02]],\n",
       "\n",
       "       [[1.2745009e+01, 8.2876396e+00],\n",
       "        [2.8383703e+01, 1.7060897e+00],\n",
       "        [1.6708414e+01, 6.6586094e+00]],\n",
       "\n",
       "       ...,\n",
       "\n",
       "       [[1.8701962e+01, 2.9306500e+00],\n",
       "        [6.3532557e+00, 1.3114943e+01],\n",
       "        [1.8015385e+01, 7.4408140e+00]],\n",
       "\n",
       "       [[7.3227471e-01, 2.1263821e+00],\n",
       "        [6.2131077e-01, 3.3620298e+00],\n",
       "        [8.5627580e-01, 2.3422089e+00]],\n",
       "\n",
       "       [[5.6629934e+00, 9.1265640e+00],\n",
       "        [7.4243860e+00, 5.0127950e+00],\n",
       "        [5.4144583e+00, 1.2189369e+00]]], dtype=float32)>"
      ]
     },
     "execution_count": 57,
     "metadata": {},
     "output_type": "execute_result"
    }
   ],
   "source": [
    "(MSE_0+MSE_1+MSE_2) #- "
   ]
  },
  {
   "cell_type": "code",
   "execution_count": 58,
   "id": "92115e42-f90a-48a8-9e7f-0192e24c85ad",
   "metadata": {},
   "outputs": [
    {
     "data": {
      "text/plain": [
       "<tf.Tensor: shape=(512, 2, 3), dtype=float32, numpy=\n",
       "array([[[8.7267637e-02, 2.4911029e+00, 1.1471361e+00],\n",
       "        [8.7472844e-01, 1.4417597e+00, 1.3980832e+00]],\n",
       "\n",
       "       [[5.4102359e+00, 6.2804961e+00, 2.7331765e+00],\n",
       "        [8.2213408e-01, 1.1626014e+00, 3.4984874e-03]],\n",
       "\n",
       "       [[4.2483363e+00, 9.4612341e+00, 5.5694714e+00],\n",
       "        [2.7625465e+00, 5.6869656e-01, 2.2195365e+00]],\n",
       "\n",
       "       ...,\n",
       "\n",
       "       [[6.2339873e+00, 2.1177518e+00, 6.0051284e+00],\n",
       "        [9.7688335e-01, 4.3716474e+00, 2.4802713e+00]],\n",
       "\n",
       "       [[2.4409157e-01, 2.0710360e-01, 2.8542528e-01],\n",
       "        [7.0879406e-01, 1.1206766e+00, 7.8073627e-01]],\n",
       "\n",
       "       [[1.8876644e+00, 2.4747953e+00, 1.8048195e+00],\n",
       "        [3.0421879e+00, 1.6709317e+00, 4.0631232e-01]]], dtype=float32)>"
      ]
     },
     "execution_count": 58,
     "metadata": {},
     "output_type": "execute_result"
    }
   ],
   "source": [
    "MSE_tf"
   ]
  },
  {
   "cell_type": "code",
   "execution_count": null,
   "id": "938607f5-d599-4320-a85e-ed55e5508ef2",
   "metadata": {},
   "outputs": [],
   "source": []
  },
  {
   "cell_type": "code",
   "execution_count": 32,
   "id": "ff547124-9c46-49f9-bc7a-4b0cb183ec9b",
   "metadata": {},
   "outputs": [
    {
     "data": {
      "text/plain": [
       "<tf.Tensor: shape=(), dtype=float32, numpy=1.9073486e-06>"
      ]
     },
     "execution_count": 32,
     "metadata": {},
     "output_type": "execute_result"
    }
   ],
   "source": [
    "tf.reduce_max(MSE_manual - MSE_tf)"
   ]
  },
  {
   "cell_type": "markdown",
   "id": "5346bed1-a440-4dbe-8c0d-c4efc1123c71",
   "metadata": {},
   "source": [
    "OK, I understand what this function is doing (up to floating point errors!!"
   ]
  },
  {
   "cell_type": "code",
   "execution_count": 9,
   "id": "3df52254-3092-4c07-9137-4ed73d15c0e8",
   "metadata": {},
   "outputs": [
    {
     "data": {
      "text/plain": [
       "TensorShape([512, 2, 3])"
      ]
     },
     "execution_count": 9,
     "metadata": {},
     "output_type": "execute_result"
    }
   ],
   "source": [
    "Huber_tf = tf.losses.Huber(reduction=tf.keras.losses.Reduction.NONE)(\n",
    "    tf.expand_dims(y_true, axis=-2), tf.expand_dims(y_pred, axis=-3))\n",
    "Huber_tf.shape"
   ]
  },
  {
   "cell_type": "code",
   "execution_count": 10,
   "id": "67f79338-4cd1-4bc3-89b3-af85232739b9",
   "metadata": {},
   "outputs": [
    {
     "data": {
      "text/plain": [
       "keras.losses.Huber"
      ]
     },
     "execution_count": 10,
     "metadata": {},
     "output_type": "execute_result"
    }
   ],
   "source": [
    "tf.losses.Huber"
   ]
  },
  {
   "cell_type": "code",
   "execution_count": 11,
   "id": "72c31c0b-fb0d-475a-bc6f-8f5f1945aac4",
   "metadata": {},
   "outputs": [],
   "source": [
    "from scipy.optimize import linear_sum_assignment"
   ]
  },
  {
   "cell_type": "markdown",
   "id": "8617048f-b0a7-4ba3-a0a4-11a4aab25c6f",
   "metadata": {},
   "source": [
    "`linear_sum_assignment` solves the problem of minimizing a cost matrix"
   ]
  },
  {
   "cell_type": "code",
   "execution_count": 12,
   "id": "ed250b33-cbfc-438b-aa9c-218c07599c17",
   "metadata": {},
   "outputs": [
    {
     "data": {
      "text/plain": [
       "\u001b[0;31mSignature:\u001b[0m \u001b[0mlinear_sum_assignment\u001b[0m\u001b[0;34m(\u001b[0m\u001b[0mcost_matrix\u001b[0m\u001b[0;34m,\u001b[0m \u001b[0mmaximize\u001b[0m\u001b[0;34m=\u001b[0m\u001b[0;32mFalse\u001b[0m\u001b[0;34m)\u001b[0m\u001b[0;34m\u001b[0m\u001b[0;34m\u001b[0m\u001b[0m\n",
       "\u001b[0;31mDocstring:\u001b[0m\n",
       "Solve the linear sum assignment problem.\n",
       "\n",
       "The linear sum assignment problem is also known as minimum weight matching\n",
       "in bipartite graphs. A problem instance is described by a matrix C, where\n",
       "each C[i,j] is the cost of matching vertex i of the first partite set\n",
       "(a \"worker\") and vertex j of the second set (a \"job\"). The goal is to find\n",
       "a complete assignment of workers to jobs of minimal cost.\n",
       "\n",
       "Formally, let X be a boolean matrix where :math:`X[i,j] = 1` iff row i is\n",
       "assigned to column j. Then the optimal assignment has cost\n",
       "\n",
       ".. math::\n",
       "    \\min \\sum_i \\sum_j C_{i,j} X_{i,j}\n",
       "\n",
       "where, in the case where the matrix X is square, each row is assigned to\n",
       "exactly one column, and each column to exactly one row.\n",
       "\n",
       "This function can also solve a generalization of the classic assignment\n",
       "problem where the cost matrix is rectangular. If it has more rows than\n",
       "columns, then not every row needs to be assigned to a column, and vice\n",
       "versa.\n",
       "\n",
       "The problem is also solved for sparse inputs in\n",
       ":func:`scipy.sparse.csgraph.min_weight_full_bipartite_matching` which\n",
       "may perform better if the input is sparse, or for certain classes of\n",
       "problems, such as uniformly distributed costs.\n",
       "\n",
       "Parameters\n",
       "----------\n",
       "cost_matrix : array\n",
       "    The cost matrix of the bipartite graph.\n",
       "\n",
       "maximize : bool (default: False)\n",
       "    Calculates a maximum weight matching if true.\n",
       "\n",
       "Returns\n",
       "-------\n",
       "row_ind, col_ind : array\n",
       "    An array of row indices and one of corresponding column indices giving\n",
       "    the optimal assignment. The cost of the assignment can be computed\n",
       "    as ``cost_matrix[row_ind, col_ind].sum()``. The row indices will be\n",
       "    sorted; in the case of a square cost matrix they will be equal to\n",
       "    ``numpy.arange(cost_matrix.shape[0])``.\n",
       "\n",
       "Notes\n",
       "-----\n",
       ".. versionadded:: 0.17.0\n",
       "\n",
       "References\n",
       "----------\n",
       "\n",
       "1. https://en.wikipedia.org/wiki/Assignment_problem\n",
       "\n",
       "2. DF Crouse. On implementing 2D rectangular assignment algorithms.\n",
       "   *IEEE Transactions on Aerospace and Electronic Systems*,\n",
       "   52(4):1679-1696, August 2016, :doi:`10.1109/TAES.2016.140952`\n",
       "\n",
       "Examples\n",
       "--------\n",
       ">>> cost = np.array([[4, 1, 3], [2, 0, 5], [3, 2, 2]])\n",
       ">>> from scipy.optimize import linear_sum_assignment\n",
       ">>> row_ind, col_ind = linear_sum_assignment(cost)\n",
       ">>> col_ind\n",
       "array([1, 0, 2])\n",
       ">>> cost[row_ind, col_ind].sum()\n",
       "5\n",
       "\u001b[0;31mFile:\u001b[0m      /opt/conda/lib/python3.8/site-packages/scipy/optimize/_lsap.py\n",
       "\u001b[0;31mType:\u001b[0m      function\n"
      ]
     },
     "metadata": {},
     "output_type": "display_data"
    }
   ],
   "source": [
    "?linear_sum_assignment"
   ]
  },
  {
   "cell_type": "code",
   "execution_count": 13,
   "id": "03355431-7829-4af8-b63d-e2c91739fbad",
   "metadata": {},
   "outputs": [
    {
     "data": {
      "text/plain": [
       "\u001b[0;31mSignature:\u001b[0m \u001b[0mlinear_sum_assignment\u001b[0m\u001b[0;34m(\u001b[0m\u001b[0mcost_matrix\u001b[0m\u001b[0;34m,\u001b[0m \u001b[0mmaximize\u001b[0m\u001b[0;34m=\u001b[0m\u001b[0;32mFalse\u001b[0m\u001b[0;34m)\u001b[0m\u001b[0;34m\u001b[0m\u001b[0;34m\u001b[0m\u001b[0m\n",
       "\u001b[0;31mDocstring:\u001b[0m\n",
       "Solve the linear sum assignment problem.\n",
       "\n",
       "The linear sum assignment problem is also known as minimum weight matching\n",
       "in bipartite graphs. A problem instance is described by a matrix C, where\n",
       "each C[i,j] is the cost of matching vertex i of the first partite set\n",
       "(a \"worker\") and vertex j of the second set (a \"job\"). The goal is to find\n",
       "a complete assignment of workers to jobs of minimal cost.\n",
       "\n",
       "Formally, let X be a boolean matrix where :math:`X[i,j] = 1` iff row i is\n",
       "assigned to column j. Then the optimal assignment has cost\n",
       "\n",
       ".. math::\n",
       "    \\min \\sum_i \\sum_j C_{i,j} X_{i,j}\n",
       "\n",
       "where, in the case where the matrix X is square, each row is assigned to\n",
       "exactly one column, and each column to exactly one row.\n",
       "\n",
       "This function can also solve a generalization of the classic assignment\n",
       "problem where the cost matrix is rectangular. If it has more rows than\n",
       "columns, then not every row needs to be assigned to a column, and vice\n",
       "versa.\n",
       "\n",
       "The problem is also solved for sparse inputs in\n",
       ":func:`scipy.sparse.csgraph.min_weight_full_bipartite_matching` which\n",
       "may perform better if the input is sparse, or for certain classes of\n",
       "problems, such as uniformly distributed costs.\n",
       "\n",
       "Parameters\n",
       "----------\n",
       "cost_matrix : array\n",
       "    The cost matrix of the bipartite graph.\n",
       "\n",
       "maximize : bool (default: False)\n",
       "    Calculates a maximum weight matching if true.\n",
       "\n",
       "Returns\n",
       "-------\n",
       "row_ind, col_ind : array\n",
       "    An array of row indices and one of corresponding column indices giving\n",
       "    the optimal assignment. The cost of the assignment can be computed\n",
       "    as ``cost_matrix[row_ind, col_ind].sum()``. The row indices will be\n",
       "    sorted; in the case of a square cost matrix they will be equal to\n",
       "    ``numpy.arange(cost_matrix.shape[0])``.\n",
       "\n",
       "Notes\n",
       "-----\n",
       ".. versionadded:: 0.17.0\n",
       "\n",
       "References\n",
       "----------\n",
       "\n",
       "1. https://en.wikipedia.org/wiki/Assignment_problem\n",
       "\n",
       "2. DF Crouse. On implementing 2D rectangular assignment algorithms.\n",
       "   *IEEE Transactions on Aerospace and Electronic Systems*,\n",
       "   52(4):1679-1696, August 2016, :doi:`10.1109/TAES.2016.140952`\n",
       "\n",
       "Examples\n",
       "--------\n",
       ">>> cost = np.array([[4, 1, 3], [2, 0, 5], [3, 2, 2]])\n",
       ">>> from scipy.optimize import linear_sum_assignment\n",
       ">>> row_ind, col_ind = linear_sum_assignment(cost)\n",
       ">>> col_ind\n",
       "array([1, 0, 2])\n",
       ">>> cost[row_ind, col_ind].sum()\n",
       "5\n",
       "\u001b[0;31mFile:\u001b[0m      /opt/conda/lib/python3.8/site-packages/scipy/optimize/_lsap.py\n",
       "\u001b[0;31mType:\u001b[0m      function\n"
      ]
     },
     "metadata": {},
     "output_type": "display_data"
    }
   ],
   "source": [
    "?linear_sum_assignment"
   ]
  },
  {
   "cell_type": "code",
   "execution_count": 14,
   "id": "d261abf4-8772-4330-a542-490bbf1daf54",
   "metadata": {},
   "outputs": [
    {
     "data": {
      "text/plain": [
       "(array([0, 1]), array([0, 2]))"
      ]
     },
     "execution_count": 14,
     "metadata": {},
     "output_type": "execute_result"
    }
   ],
   "source": [
    "idx_rows, idx_cols = linear_sum_assignment(MSE_tf[0])\n",
    "idx_rows, idx_cols"
   ]
  },
  {
   "cell_type": "markdown",
   "id": "e8aa7129-1caf-485d-b83d-f4a17df56970",
   "metadata": {},
   "source": [
    "**Output:** Array of row indices and column indices corresponding to the optimal assignment"
   ]
  },
  {
   "cell_type": "code",
   "execution_count": 15,
   "id": "5837f940-0a7f-4c4a-93a3-b7b60b1eb0b1",
   "metadata": {},
   "outputs": [
    {
     "data": {
      "text/plain": [
       "<tf.Tensor: shape=(2, 3), dtype=float32, numpy=\n",
       "array([[0.08726764, 2.491103  , 1.1471361 ],\n",
       "       [0.87472844, 1.4417597 , 1.3980832 ]], dtype=float32)>"
      ]
     },
     "execution_count": 15,
     "metadata": {},
     "output_type": "execute_result"
    }
   ],
   "source": [
    "MSE_tf[0]"
   ]
  },
  {
   "cell_type": "markdown",
   "id": "94d685cc-5129-42a3-bcb9-58ae45df0c71",
   "metadata": {},
   "source": [
    "OK, based on looking at this, I think was `linear_sum_assignment` returns the row and column indices for the adjacency matrix that solves this bipartite graph matching problem."
   ]
  },
  {
   "cell_type": "code",
   "execution_count": 16,
   "id": "e8ab2c80-5dd8-4563-8db5-33789ea0291e",
   "metadata": {},
   "outputs": [],
   "source": [
    "# Let X be shape (2,3) be the adjacency matrix\n",
    "X = np.zeros_like(MSE_tf[0])\n",
    "X[idx_rows, idx_cols] = 1"
   ]
  },
  {
   "cell_type": "markdown",
   "id": "3630ba31-9f97-4daf-b2b6-599852a7d18e",
   "metadata": {},
   "source": []
  },
  {
   "cell_type": "code",
   "execution_count": 17,
   "id": "fbc06f9c-e057-479b-8aef-a4ffab0b1b80",
   "metadata": {},
   "outputs": [
    {
     "data": {
      "text/plain": [
       "array([[1., 0., 0.],\n",
       "       [0., 0., 1.]], dtype=float32)"
      ]
     },
     "execution_count": 17,
     "metadata": {},
     "output_type": "execute_result"
    }
   ],
   "source": [
    "X"
   ]
  },
  {
   "cell_type": "code",
   "execution_count": 18,
   "id": "f3376bc7-b479-4fd2-939b-8947123bc27c",
   "metadata": {},
   "outputs": [
    {
     "data": {
      "text/plain": [
       "1.4853508"
      ]
     },
     "execution_count": 18,
     "metadata": {},
     "output_type": "execute_result"
    }
   ],
   "source": [
    "np.sum(X * MSE_tf[0].numpy())"
   ]
  },
  {
   "cell_type": "code",
   "execution_count": 19,
   "id": "702b03e5-0768-453d-91e0-7383636cca26",
   "metadata": {},
   "outputs": [],
   "source": [
    "indices = np.array( list(map(linear_sum_assignment, MSE_tf)) )"
   ]
  },
  {
   "cell_type": "code",
   "execution_count": 20,
   "id": "18245c5a-2b84-4c0b-bdac-9525c2f6cb08",
   "metadata": {},
   "outputs": [
    {
     "data": {
      "text/plain": [
       "(512, 2, 2)"
      ]
     },
     "execution_count": 20,
     "metadata": {},
     "output_type": "execute_result"
    }
   ],
   "source": [
    "indices.shape"
   ]
  },
  {
   "cell_type": "code",
   "execution_count": 21,
   "id": "6d77d2b4-e31a-43c8-bf1d-f80ce5d9c861",
   "metadata": {},
   "outputs": [
    {
     "data": {
      "text/plain": [
       "array([[0, 1],\n",
       "       [0, 2]])"
      ]
     },
     "execution_count": 21,
     "metadata": {},
     "output_type": "execute_result"
    }
   ],
   "source": [
    "indices[0]"
   ]
  },
  {
   "cell_type": "markdown",
   "id": "5389a7c2-0452-4d7e-8428-08057ddb9609",
   "metadata": {},
   "source": [
    "(I think) the output becomes a bit more transparent when we take the transpose (which is in fact what they're doing in the loss function calculation."
   ]
  },
  {
   "cell_type": "code",
   "execution_count": 22,
   "id": "0cabeb05-9a7e-4792-bade-317dbb62ffd5",
   "metadata": {},
   "outputs": [],
   "source": [
    "transposed_indices = np.transpose(indices, axes=(0, 2, 1))"
   ]
  },
  {
   "cell_type": "code",
   "execution_count": 23,
   "id": "bb921692-4e88-4411-8ba9-75a6d60e25d8",
   "metadata": {},
   "outputs": [
    {
     "data": {
      "text/plain": [
       "array([[0, 0],\n",
       "       [1, 2]])"
      ]
     },
     "execution_count": 23,
     "metadata": {},
     "output_type": "execute_result"
    }
   ],
   "source": [
    "transposed_indices[0]"
   ]
  },
  {
   "cell_type": "markdown",
   "id": "3172d76d-4551-42ba-8158-8a5d61466971",
   "metadata": {},
   "source": [
    "**What does this mean?**\n",
    "- Worker (truth particle) 0 matches to job (slot) 0\n",
    "- Worker (truth particle) 1 matches to job (slot) 2\n"
   ]
  },
  {
   "cell_type": "code",
   "execution_count": 24,
   "id": "ce668018-6359-4586-b70c-f94495a1e50a",
   "metadata": {},
   "outputs": [
    {
     "data": {
      "text/plain": [
       "\u001b[0;31mSignature:\u001b[0m \u001b[0mtf\u001b[0m\u001b[0;34m.\u001b[0m\u001b[0mgather_nd\u001b[0m\u001b[0;34m(\u001b[0m\u001b[0mparams\u001b[0m\u001b[0;34m,\u001b[0m \u001b[0mindices\u001b[0m\u001b[0;34m,\u001b[0m \u001b[0mbatch_dims\u001b[0m\u001b[0;34m=\u001b[0m\u001b[0;36m0\u001b[0m\u001b[0;34m,\u001b[0m \u001b[0mname\u001b[0m\u001b[0;34m=\u001b[0m\u001b[0;32mNone\u001b[0m\u001b[0;34m)\u001b[0m\u001b[0;34m\u001b[0m\u001b[0;34m\u001b[0m\u001b[0m\n",
       "\u001b[0;31mDocstring:\u001b[0m\n",
       "Gather slices from `params` into a Tensor with shape specified by `indices`.\n",
       "\n",
       "`indices` is an K-dimensional integer tensor, best thought of as a\n",
       "(K-1)-dimensional tensor of indices into `params`, where each element defines\n",
       "a slice of `params`:\n",
       "\n",
       "    output[\\\\(i_0, ..., i_{K-2}\\\\)] = params[indices[\\\\(i_0, ..., i_{K-2}\\\\)]]\n",
       "\n",
       "Whereas in `tf.gather` `indices` defines slices into the first\n",
       "dimension of `params`, in `tf.gather_nd`, `indices` defines slices into the\n",
       "first `N` dimensions of `params`, where `N = indices.shape[-1]`.\n",
       "\n",
       "The last dimension of `indices` can be at most the rank of\n",
       "`params`:\n",
       "\n",
       "    indices.shape[-1] <= params.rank\n",
       "\n",
       "The last dimension of `indices` corresponds to elements\n",
       "(if `indices.shape[-1] == params.rank`) or slices\n",
       "(if `indices.shape[-1] < params.rank`) along dimension `indices.shape[-1]`\n",
       "of `params`.  The output tensor has shape\n",
       "\n",
       "    indices.shape[:-1] + params.shape[indices.shape[-1]:]\n",
       "\n",
       "Additionally both 'params' and 'indices' can have M leading batch\n",
       "dimensions that exactly match. In this case 'batch_dims' must be M.\n",
       "\n",
       "Note that on CPU, if an out of bound index is found, an error is returned.\n",
       "On GPU, if an out of bound index is found, a 0 is stored in the\n",
       "corresponding output value.\n",
       "\n",
       "Some examples below.\n",
       "\n",
       "Simple indexing into a matrix:\n",
       "\n",
       "```python\n",
       "    indices = [[0, 0], [1, 1]]\n",
       "    params = [['a', 'b'], ['c', 'd']]\n",
       "    output = ['a', 'd']\n",
       "```\n",
       "\n",
       "Slice indexing into a matrix:\n",
       "\n",
       "```python\n",
       "    indices = [[1], [0]]\n",
       "    params = [['a', 'b'], ['c', 'd']]\n",
       "    output = [['c', 'd'], ['a', 'b']]\n",
       "```\n",
       "\n",
       "Indexing into a 3-tensor:\n",
       "\n",
       "```python\n",
       "    indices = [[1]]\n",
       "    params = [[['a0', 'b0'], ['c0', 'd0']],\n",
       "              [['a1', 'b1'], ['c1', 'd1']]]\n",
       "    output = [[['a1', 'b1'], ['c1', 'd1']]]\n",
       "\n",
       "\n",
       "    indices = [[0, 1], [1, 0]]\n",
       "    params = [[['a0', 'b0'], ['c0', 'd0']],\n",
       "              [['a1', 'b1'], ['c1', 'd1']]]\n",
       "    output = [['c0', 'd0'], ['a1', 'b1']]\n",
       "\n",
       "\n",
       "    indices = [[0, 0, 1], [1, 0, 1]]\n",
       "    params = [[['a0', 'b0'], ['c0', 'd0']],\n",
       "              [['a1', 'b1'], ['c1', 'd1']]]\n",
       "    output = ['b0', 'b1']\n",
       "```\n",
       "\n",
       "The examples below are for the case when only indices have leading extra\n",
       "dimensions. If both 'params' and 'indices' have leading batch dimensions, use\n",
       "the 'batch_dims' parameter to run gather_nd in batch mode.\n",
       "\n",
       "Batched indexing into a matrix:\n",
       "\n",
       "```python\n",
       "    indices = [[[0, 0]], [[0, 1]]]\n",
       "    params = [['a', 'b'], ['c', 'd']]\n",
       "    output = [['a'], ['b']]\n",
       "```\n",
       "\n",
       "Batched slice indexing into a matrix:\n",
       "\n",
       "```python\n",
       "    indices = [[[1]], [[0]]]\n",
       "    params = [['a', 'b'], ['c', 'd']]\n",
       "    output = [[['c', 'd']], [['a', 'b']]]\n",
       "```\n",
       "\n",
       "Batched indexing into a 3-tensor:\n",
       "\n",
       "```python\n",
       "    indices = [[[1]], [[0]]]\n",
       "    params = [[['a0', 'b0'], ['c0', 'd0']],\n",
       "              [['a1', 'b1'], ['c1', 'd1']]]\n",
       "    output = [[[['a1', 'b1'], ['c1', 'd1']]],\n",
       "              [[['a0', 'b0'], ['c0', 'd0']]]]\n",
       "\n",
       "    indices = [[[0, 1], [1, 0]], [[0, 0], [1, 1]]]\n",
       "    params = [[['a0', 'b0'], ['c0', 'd0']],\n",
       "              [['a1', 'b1'], ['c1', 'd1']]]\n",
       "    output = [[['c0', 'd0'], ['a1', 'b1']],\n",
       "              [['a0', 'b0'], ['c1', 'd1']]]\n",
       "\n",
       "\n",
       "    indices = [[[0, 0, 1], [1, 0, 1]], [[0, 1, 1], [1, 1, 0]]]\n",
       "    params = [[['a0', 'b0'], ['c0', 'd0']],\n",
       "              [['a1', 'b1'], ['c1', 'd1']]]\n",
       "    output = [['b0', 'b1'], ['d0', 'c1']]\n",
       "```\n",
       "\n",
       "Examples with batched 'params' and 'indices':\n",
       "\n",
       "```python\n",
       "    batch_dims = 1\n",
       "    indices = [[1], [0]]\n",
       "    params = [[['a0', 'b0'], ['c0', 'd0']],\n",
       "              [['a1', 'b1'], ['c1', 'd1']]]\n",
       "    output = [['c0', 'd0'], ['a1', 'b1']]\n",
       "\n",
       "    batch_dims = 1\n",
       "    indices = [[[1]], [[0]]]\n",
       "    params = [[['a0', 'b0'], ['c0', 'd0']],\n",
       "              [['a1', 'b1'], ['c1', 'd1']]]\n",
       "    output = [[['c0', 'd0']], [['a1', 'b1']]]\n",
       "\n",
       "    batch_dims = 1\n",
       "    indices = [[[1, 0]], [[0, 1]]]\n",
       "    params = [[['a0', 'b0'], ['c0', 'd0']],\n",
       "              [['a1', 'b1'], ['c1', 'd1']]]\n",
       "    output = [['c0'], ['b1']]\n",
       "```\n",
       "\n",
       "See also `tf.gather`.\n",
       "\n",
       "Args:\n",
       "  params: A `Tensor`. The tensor from which to gather values.\n",
       "  indices: A `Tensor`. Must be one of the following types: `int32`, `int64`.\n",
       "    Index tensor.\n",
       "  name: A name for the operation (optional).\n",
       "  batch_dims: An integer or a scalar 'Tensor'. The number of batch dimensions.\n",
       "\n",
       "Returns:\n",
       "  A `Tensor`. Has the same type as `params`.\n",
       "\u001b[0;31mFile:\u001b[0m      /opt/conda/envs/rapids/lib/python3.8/site-packages/tensorflow/python/ops/array_ops.py\n",
       "\u001b[0;31mType:\u001b[0m      function\n"
      ]
     },
     "metadata": {},
     "output_type": "display_data"
    }
   ],
   "source": [
    "?tf.gather_nd"
   ]
  },
  {
   "cell_type": "code",
   "execution_count": null,
   "id": "9ebb796e-9957-4ce0-810d-e760c682ef4f",
   "metadata": {},
   "outputs": [],
   "source": []
  },
  {
   "cell_type": "code",
   "execution_count": 86,
   "id": "222132e2-fba8-4da6-8f46-293e353e7a04",
   "metadata": {},
   "outputs": [
    {
     "data": {
      "text/plain": [
       "<tf.Tensor: shape=(3, 3), dtype=float32, numpy=\n",
       "array([[ 1.5110626 ,  0.42292207, -0.41969493],\n",
       "       [-1.0360373 , -1.2368279 ,  0.47027302],\n",
       "       [-0.01397488,  1.1888583 ,  0.60253334]], dtype=float32)>"
      ]
     },
     "execution_count": 86,
     "metadata": {},
     "output_type": "execute_result"
    }
   ],
   "source": [
    "y_pred[0]"
   ]
  },
  {
   "cell_type": "code",
   "execution_count": 67,
   "id": "57984a02-fd70-4817-9c63-cd2419c75844",
   "metadata": {},
   "outputs": [
    {
     "data": {
      "text/plain": [
       "array([0, 2])"
      ]
     },
     "execution_count": 67,
     "metadata": {},
     "output_type": "execute_result"
    }
   ],
   "source": [
    "transposed_indices[0][:,1]"
   ]
  },
  {
   "cell_type": "code",
   "execution_count": 74,
   "id": "c7d0fdd6-9814-4692-a7e7-f117263ecda9",
   "metadata": {},
   "outputs": [
    {
     "data": {
      "text/plain": [
       "TensorShape([512, 3, 3])"
      ]
     },
     "execution_count": 74,
     "metadata": {},
     "output_type": "execute_result"
    }
   ],
   "source": [
    "y_pred.shape"
   ]
  },
  {
   "cell_type": "code",
   "execution_count": 96,
   "id": "e8e86d8f-6a72-4eae-9b66-f57706841566",
   "metadata": {},
   "outputs": [
    {
     "data": {
      "text/plain": [
       "<tf.Tensor: shape=(1, 2), dtype=int64, numpy=array([[0, 2]])>"
      ]
     },
     "execution_count": 96,
     "metadata": {},
     "output_type": "execute_result"
    }
   ],
   "source": [
    "tf.expand_dims(transposed_indices[0][:,1],axis=-2)"
   ]
  },
  {
   "cell_type": "code",
   "execution_count": 101,
   "id": "68c660f1-6d5a-4762-a9d6-e24499a6b5c3",
   "metadata": {},
   "outputs": [
    {
     "data": {
      "text/plain": [
       "TensorShape([512, 1, 2])"
      ]
     },
     "execution_count": 101,
     "metadata": {},
     "output_type": "execute_result"
    }
   ],
   "source": [
    "tf.expand_dims(transposed_indices[:,:,1],axis=-2).shape"
   ]
  },
  {
   "cell_type": "code",
   "execution_count": 106,
   "id": "efa857e9-9364-47ce-804a-93c88a780746",
   "metadata": {},
   "outputs": [
    {
     "data": {
      "text/plain": [
       "TensorShape([512, 3, 3])"
      ]
     },
     "execution_count": 106,
     "metadata": {},
     "output_type": "execute_result"
    }
   ],
   "source": [
    "y_pred.shape"
   ]
  },
  {
   "cell_type": "code",
   "execution_count": 110,
   "id": "d7ae4030-11cf-435f-a0ce-7a003ccaa04c",
   "metadata": {},
   "outputs": [
    {
     "data": {
      "text/plain": [
       "TensorShape([512, 2, 1])"
      ]
     },
     "execution_count": 110,
     "metadata": {},
     "output_type": "execute_result"
    }
   ],
   "source": [
    "tf.expand_dims(transposed_indices[:,:,1],axis=-1).shape"
   ]
  },
  {
   "cell_type": "code",
   "execution_count": 131,
   "id": "6f219986-c9b4-441a-8669-0fca09bd8cc2",
   "metadata": {},
   "outputs": [
    {
     "data": {
      "text/plain": [
       "TensorShape([512, 2, 3])"
      ]
     },
     "execution_count": 131,
     "metadata": {},
     "output_type": "execute_result"
    }
   ],
   "source": [
    "test_out = tf.gather_nd(y_pred, tf.expand_dims(transposed_indices[:,:,1],axis=-1), batch_dims=1)\n",
    "\n",
    "test_out.shape"
   ]
  },
  {
   "cell_type": "code",
   "execution_count": 127,
   "id": "e5d3d8b9-9f8d-413d-a092-7ec412280ac2",
   "metadata": {},
   "outputs": [
    {
     "data": {
      "text/plain": [
       "<tf.Tensor: shape=(2, 3), dtype=float32, numpy=\n",
       "array([[ 1.5110626 ,  0.42292207, -0.41969493],\n",
       "       [-0.01397488,  1.1888583 ,  0.60253334]], dtype=float32)>"
      ]
     },
     "execution_count": 127,
     "metadata": {},
     "output_type": "execute_result"
    }
   ],
   "source": [
    "test_out[0]"
   ]
  },
  {
   "cell_type": "code",
   "execution_count": null,
   "id": "b18c0576-f449-460e-a0ec-19ddb6f4c1d5",
   "metadata": {},
   "outputs": [],
   "source": []
  },
  {
   "cell_type": "markdown",
   "id": "19ef9218-3d3c-4c80-8059-c3c98a2b027c",
   "metadata": {},
   "source": [
    "**What if we keep both dim of `transposed_indices`?**"
   ]
  },
  {
   "cell_type": "code",
   "execution_count": 118,
   "id": "de8136d4-d658-4c09-b650-b41d46d5aa2d",
   "metadata": {},
   "outputs": [
    {
     "data": {
      "text/plain": [
       "(512, 2, 2)"
      ]
     },
     "execution_count": 118,
     "metadata": {},
     "output_type": "execute_result"
    }
   ],
   "source": [
    "transposed_indices.shape"
   ]
  },
  {
   "cell_type": "code",
   "execution_count": 119,
   "id": "7c7b77e1-c79a-4692-ad4a-11f37ad976cf",
   "metadata": {},
   "outputs": [
    {
     "data": {
      "text/plain": [
       "TensorShape([512, 3, 3])"
      ]
     },
     "execution_count": 119,
     "metadata": {},
     "output_type": "execute_result"
    }
   ],
   "source": [
    "y_pred.shape"
   ]
  },
  {
   "cell_type": "code",
   "execution_count": null,
   "id": "b83cdda9-11fb-4307-9dc1-9d6b249d103a",
   "metadata": {},
   "outputs": [],
   "source": []
  },
  {
   "cell_type": "code",
   "execution_count": 122,
   "id": "161f173c-bf4a-41a8-9391-1f5f8416f503",
   "metadata": {},
   "outputs": [
    {
     "data": {
      "text/plain": [
       "TensorShape([512, 2, 3])"
      ]
     },
     "execution_count": 122,
     "metadata": {},
     "output_type": "execute_result"
    }
   ],
   "source": [
    "test_out = tf.gather_nd(y_pred, transposed_indices)\n",
    "# test_out = tf.gather_nd(y_pred,transposed_indices)\n",
    "\n",
    "test_out.shape"
   ]
  },
  {
   "cell_type": "code",
   "execution_count": 123,
   "id": "b4938f14-88d8-4b8a-a23e-96fbffec8b6f",
   "metadata": {},
   "outputs": [
    {
     "data": {
      "text/plain": [
       "<tf.Tensor: shape=(2, 3), dtype=float32, numpy=\n",
       "array([[ 1.5110626 ,  0.42292207, -0.41969493],\n",
       "       [-0.9006969 , -0.36081055, -0.22377317]], dtype=float32)>"
      ]
     },
     "execution_count": 123,
     "metadata": {},
     "output_type": "execute_result"
    }
   ],
   "source": [
    "test_out[0]"
   ]
  },
  {
   "cell_type": "code",
   "execution_count": null,
   "id": "6bdc3e5f-3da0-4db3-9f23-7ec4b933cb88",
   "metadata": {},
   "outputs": [],
   "source": []
  },
  {
   "cell_type": "code",
   "execution_count": null,
   "id": "4d0d130f-8779-432b-a9ec-6f4319471d62",
   "metadata": {},
   "outputs": [],
   "source": []
  },
  {
   "cell_type": "code",
   "execution_count": 105,
   "id": "40d16391-e9e8-4d6e-b5d5-6fc50ee1e511",
   "metadata": {},
   "outputs": [
    {
     "data": {
      "text/plain": [
       "<tf.Tensor: shape=(2, 3, 1, 3), dtype=float32, numpy=\n",
       "array([[[[ 1.5110626 ,  0.42292207, -0.41969493]],\n",
       "\n",
       "        [[-1.0360373 , -1.2368279 ,  0.47027302]],\n",
       "\n",
       "        [[-0.01397488,  1.1888583 ,  0.60253334]]],\n",
       "\n",
       "\n",
       "       [[[ 0.30383846,  0.52152544,  0.1554326 ]],\n",
       "\n",
       "        [[ 1.5885501 , -0.7958055 ,  0.07794423]],\n",
       "\n",
       "        [[-0.17937538, -0.85996604,  0.21930954]]]], dtype=float32)>"
      ]
     },
     "execution_count": 105,
     "metadata": {},
     "output_type": "execute_result"
    }
   ],
   "source": []
  },
  {
   "cell_type": "code",
   "execution_count": null,
   "id": "71f7a307-097b-453a-9659-0f09ecf279f2",
   "metadata": {},
   "outputs": [],
   "source": []
  }
 ],
 "metadata": {
  "kernelspec": {
   "display_name": "Python 3",
   "language": "python",
   "name": "python3"
  },
  "language_info": {
   "codemirror_mode": {
    "name": "ipython",
    "version": 3
   },
   "file_extension": ".py",
   "mimetype": "text/x-python",
   "name": "python",
   "nbconvert_exporter": "python",
   "pygments_lexer": "ipython3",
   "version": "3.8.12"
  }
 },
 "nbformat": 4,
 "nbformat_minor": 5
}
