{
 "cells": [
  {
   "cell_type": "markdown",
   "id": "2dde90df-4845-4963-a0be-4ebfbb564c34",
   "metadata": {},
   "source": [
    "# ISA post-process\n",
    "\n",
    "**Goal:** When I'm training the `Invariant-Slot-Attention` notebook, it seems like some of these predictions are _super close_ to perfect, and maybe if I  assigned slots based on distance to the ring defined by the com and spread this would make these predictions practically perfect?"
   ]
  },
  {
   "cell_type": "code",
   "execution_count": 12,
   "id": "383cc8e1-b1e6-4ba3-978f-28ef39f291b4",
   "metadata": {},
   "outputs": [],
   "source": [
    "import os\n",
    "import json\n",
    "import matplotlib.pyplot as plt\n",
    "import numpy as np\n",
    "import pandas as pd"
   ]
  },
  {
   "cell_type": "markdown",
   "id": "18867646-fd9c-43b4-b83f-880c6ef29e3e",
   "metadata": {},
   "source": [
    "**Step 1:** Look at the training loss."
   ]
  },
  {
   "cell_type": "code",
   "execution_count": 13,
   "id": "f074cccc-20c9-4fe4-b969-0c624fe3c6bb",
   "metadata": {},
   "outputs": [
    {
     "data": {
      "text/plain": [
       "['m_10000.pt',\n",
       " 'm_25000.pt',\n",
       " 'm_-2.pt',\n",
       " 'm_4000.pt',\n",
       " 'm_15000.pt',\n",
       " 'm_39000.pt',\n",
       " 'm_29000.pt',\n",
       " 'm_36000.pt',\n",
       " 'm_23000.pt',\n",
       " 'm_27000.pt',\n",
       " 'm_19000.pt',\n",
       " 'm_26000.pt',\n",
       " 'm_9000.pt',\n",
       " 'm_37000.pt',\n",
       " 'm_16000.pt',\n",
       " 'm_21000.pt',\n",
       " 'm_8000.pt',\n",
       " 'm_-1.pt',\n",
       " 'm_6000.pt',\n",
       " 'loss.json',\n",
       " 'm_31000.pt',\n",
       " 'm_35000.pt',\n",
       " 'm_2000.pt',\n",
       " 'm_14000.pt',\n",
       " 'm_3000.pt',\n",
       " 'm_32000.pt',\n",
       " 'm_28000.pt',\n",
       " 'm_17000.pt',\n",
       " 'm_18000.pt',\n",
       " 'm_34000.pt',\n",
       " 'm_7000.pt',\n",
       " 'm_11000.pt',\n",
       " 'm_30000.pt',\n",
       " 'm_33000.pt',\n",
       " 'm_0.pt',\n",
       " 'm_1000.pt',\n",
       " 'm_20000.pt',\n",
       " 'm_5000.pt',\n",
       " 'm_24000.pt',\n",
       " 'm_12000.pt',\n",
       " 'm_13000.pt',\n",
       " 'm_38000.pt',\n",
       " 'm_22000.pt']"
      ]
     },
     "execution_count": 13,
     "metadata": {},
     "output_type": "execute_result"
    }
   ],
   "source": [
    "cID_prev = 'isa-cosine-decay'\n",
    "# lastIter = 39_000\n",
    "modelDir = f'../code/models/{cID_prev}/'\n",
    "os.listdir(modelDir)"
   ]
  },
  {
   "cell_type": "code",
   "execution_count": 20,
   "id": "50656956-ce0c-4abb-a9ac-7ddc64c42cbb",
   "metadata": {},
   "outputs": [],
   "source": [
    "with open(f'{modelDir}/loss.json') as f:\n",
    "    ld = pd.Series(json.load(f))"
   ]
  },
  {
   "cell_type": "code",
   "execution_count": 28,
   "id": "06dd0969-ba07-42f3-b498-8a3d63582ecd",
   "metadata": {},
   "outputs": [
    {
     "data": {
      "text/plain": [
       "Text(0, 0.5, 'BCE Loss')"
      ]
     },
     "execution_count": 28,
     "metadata": {},
     "output_type": "execute_result"
    },
    {
     "data": {
      "image/png": "[encoded data removed]",
      "text/plain": [
       "<Figure size 432x288 with 1 Axes>"
      ]
     },
     "metadata": {
      "needs_background": "light"
     },
     "output_type": "display_data"
    }
   ],
   "source": [
    "plt.plot(ld.rolling(100).mean())\n",
    "plt.xlabel('Iter')\n",
    "plt.ylabel('BCE Loss')"
   ]
  },
  {
   "cell_type": "code",
   "execution_count": 32,
   "id": "e94a3cb0-a289-4551-9dd1-d1a50e557036",
   "metadata": {},
   "outputs": [
    {
     "data": {
      "text/plain": [
       "38996    0.039460\n",
       "38997    0.039465\n",
       "38998    0.039533\n",
       "38999    0.039516\n",
       "39000    0.039599\n",
       "dtype: float64"
      ]
     },
     "execution_count": 32,
     "metadata": {},
     "output_type": "execute_result"
    }
   ],
   "source": [
    "ld.rolling(100).mean().tail()"
   ]
  },
  {
   "cell_type": "markdown",
   "id": "475de524-8b3c-44a0-a7e5-4091c2ba218e",
   "metadata": {},
   "source": [
    "**Goal:** Clean up this prediction with a post-processing "
   ]
  }
 ],
 "metadata": {
  "kernelspec": {
   "display_name": "Python 3",
   "language": "python",
   "name": "python3"
  },
  "language_info": {
   "codemirror_mode": {
    "name": "ipython",
    "version": 3
   },
   "file_extension": ".py",
   "mimetype": "text/x-python",
   "name": "python",
   "nbconvert_exporter": "python",
   "pygments_lexer": "ipython3",
   "version": "3.8.12"
  }
 },
 "nbformat": 4,
 "nbformat_minor": 5
}
