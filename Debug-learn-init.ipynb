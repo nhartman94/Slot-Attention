{
 "cells": [
  {
   "cell_type": "markdown",
   "id": "80be2799-dcec-4236-b216-043aedeae931",
   "metadata": {},
   "source": [
    "# Debug learn init\n",
    "\n",
    "23.08.23\n",
    "\n",
    "**Motivation:** I'm getting some inconsistent results w/ the learned mu, std when loading in what I thought were the same model weights.\n",
    "\n",
    "**TO DO:** Debug"
   ]
  },
  {
   "cell_type": "code",
   "execution_count": 1,
   "id": "c793452d-ad49-488d-b5ea-ff2ba671c11b",
   "metadata": {},
   "outputs": [],
   "source": [
    "import torch\n",
    "import numpy as np\n",
    "import pandas as pd\n",
    "\n",
    "import matplotlib.pyplot as plt\n",
    "\n",
    "import json, yaml, os\n",
    "os.sys.path.append('code')\n",
    "\n",
    "from plotting import plot_kslots, plot_kslots_iters\n",
    "from data import make_batch\n",
    "from model import SlotAttentionPosEmbed\n",
    "\n",
    "%load_ext autoreload\n",
    "%autoreload 2"
   ]
  },
  {
   "cell_type": "code",
   "execution_count": 2,
   "id": "f1bab5c9-574e-4abb-af20-f7c505febd25",
   "metadata": {},
   "outputs": [],
   "source": [
    "device = 'cpu'"
   ]
  },
  {
   "cell_type": "code",
   "execution_count": 3,
   "id": "105ea306-c9e9-4e6a-b055-d2ac754e8ed3",
   "metadata": {},
   "outputs": [],
   "source": [
    "class SlotAttentionLearnInit(torch.nn.Module):\n",
    "    def __init__(self, \n",
    "                 resolution=(32,32),\n",
    "                 k_slots=3, \n",
    "                 hidden_dim=32, \n",
    "                 query_dim=32, \n",
    "                 n_iter=2,\n",
    "                 device='cpu',\n",
    "                 dtype=torch.float32\n",
    "                 ):\n",
    "        '''\n",
    "        Slot attention encoder block with _learnable_ positional embedding\n",
    "\n",
    "        Inputs:\n",
    "        - device (cpu, mps, cuda): Which device to put the model on \n",
    "                (needed for the random call when initializing the slots)\n",
    "        - k_slots: number of slots (note, can vary between training and test time)\n",
    "        - hidden_dim: The hidden dimension for the CNN (currently single layer w/ no non-linearities)\n",
    "        - query_dim: The latent space dimension that the slots and the queries get computed in\n",
    "        - n_iter: Number of slot attention steps to apply (defualt 2, and rn hard coded)\n",
    "        '''\n",
    "        super().__init__()\n",
    "\n",
    "        self.k_slots = k_slots\n",
    "        self.hidden_dim = hidden_dim\n",
    "        self.query_dim = query_dim\n",
    "        self.n_iter = n_iter\n",
    "\n",
    "        self.resolution = resolution\n",
    "        \n",
    "        self.device=device\n",
    "        self.dtype=dtype\n",
    "        \n",
    "        self.dataN = torch.nn.LayerNorm(self.hidden_dim)\n",
    "        self.queryN = torch.nn.LayerNorm(self.query_dim)\n",
    "        \n",
    "        self.toK = torch.nn.Linear(self.hidden_dim, self.query_dim)\n",
    "        self.toV = torch.nn.Linear(self.hidden_dim, self.query_dim)\n",
    "        self.gru = torch.nn.GRUCell(self.query_dim, self.query_dim)\n",
    "\n",
    "        \n",
    "        \n",
    "        \n",
    "        filter_size=5\n",
    "        self.CNN_encoder = torch.nn.Sequential(\n",
    "            torch.nn.Conv2d(1,self.hidden_dim,filter_size, padding = 2),\n",
    "            torch.nn.ReLU(),\n",
    "            torch.nn.Conv2d(self.hidden_dim,self.hidden_dim,filter_size, padding = 2),\n",
    "            torch.nn.ReLU(),\n",
    "            torch.nn.Conv2d(self.hidden_dim,self.hidden_dim,filter_size, padding = 2),\n",
    "        )\n",
    "        \n",
    "        self.posEnc = SoftPositionalEmbed(hidden_dim, resolution,device)\n",
    "        \n",
    "        self.init_mlp = torch.nn.Sequential(\n",
    "            torch.nn.Linear(hidden_dim,hidden_dim),\n",
    "            torch.nn.ReLU(),\n",
    "            torch.nn.Linear(hidden_dim,hidden_dim)\n",
    "        )\n",
    "        \n",
    "        self.slots_mu = torch.nn.Parameter(torch.randn(1, 1, self.query_dim))\n",
    "        self.slots_logsigma = torch.nn.Parameter(torch.zeros(1, 1, self.query_dim))\n",
    "        init.xavier_uniform_(self.slots_logsigma)\n",
    "\n",
    "\n",
    "    def init_slots(self,Nbatch):\n",
    "        '''\n",
    "        Slot init taken from\n",
    "        https://github.com/lucidrains/slot-attention/blob/master/slot_attention/slot_attention.py\n",
    "        '''\n",
    "        mu = self.slots_mu.expand(Nbatch, self.k_slots, -1)\n",
    "        sigma = self.slots_logsigma.exp().expand(Nbatch, self.k_slots, -1)\n",
    "\n",
    "        return mu + sigma * torch.randn(mu.shape).to(self.device)\n",
    "\n",
    "    def encoder(self,data):\n",
    "        \n",
    "        # Apply the CNN encoder\n",
    "        encoded_data = self.CNN_encoder(data)\n",
    "        \n",
    "        # Put the channel dim at the end\n",
    "        encoded_data = torch.permute(encoded_data,(0,2,3,1)) \n",
    "                 \n",
    "        # Add the positional embeddings\n",
    "        encoded_data = self.posEnc(encoded_data)\n",
    "        \n",
    "        # Flatten the pixel dims and apply the data normalization + MLP\n",
    "        encoded_data = torch.flatten(encoded_data,1,2)\n",
    "        encoded_data = self.dataN(encoded_data)\n",
    "        encoded_data = self.init_mlp(encoded_data)\n",
    "        \n",
    "        return encoded_data\n",
    "    \n",
    "    # hook for the gradients of the activations\n",
    "    def activations_hook(self, grad):\n",
    "        self.gradients.append( grad )\n",
    "    \n",
    "    def attention_and_weights(self,queries,encoded_data):\n",
    "        keys = self.toK(encoded_data)\n",
    "        logits = torch.einsum('bse,bde->bsd',queries,keys) * (self.query_dim ** (-0.5)) \n",
    "        \n",
    "        att = torch.nn.functional.softmax(logits, dim = 1)\n",
    "\n",
    "        if att.requires_grad:\n",
    "            h = logits.register_hook(self.activations_hook)\n",
    "        \n",
    "        div = torch.sum(att, dim = -1, keepdims = True)\n",
    "        wts = att/div + 1e-8\n",
    "        return att,wts\n",
    "\n",
    "    def iterate(self, queries, encoded_data):\n",
    "        \n",
    "        # queries: (bs, k_slots, query_dim)\n",
    "        \n",
    "        att,wts = self.attention_and_weights(self.queryN(queries),encoded_data)   \n",
    "        \n",
    "        # att: (bs, k_slots, img_dim)\n",
    "        # wts: (bs, k_slots, img_dim)\n",
    "        \n",
    "        vals = self.toV(encoded_data) # bs, img_dim, query_dim\n",
    "        updates = torch.einsum('bsd,bde->bse',wts,vals) # bs, n_slots, query_dim\n",
    "        \n",
    "        updates = self.gru(\n",
    "            updates.reshape(-1,self.query_dim),\n",
    "            queries.reshape(-1,self.query_dim),\n",
    "        )\n",
    "\n",
    "        return updates.reshape(queries.shape)\n",
    "        \n",
    "    def forward(self, data):\n",
    "\n",
    "        self.gradients = []\n",
    "        \n",
    "        Nbatch = data.shape[0]\n",
    "        \n",
    "        # Initialize the queries\n",
    "        queries = self.init_slots(Nbatch) # Shape (Nbatch, k_slots, query_dim)\n",
    "        \n",
    "        encoded_data = self.encoder(data)\n",
    "        \n",
    "        for i in range(self.n_iter):\n",
    "            queries = self.iterate(queries, encoded_data)    \n",
    "            \n",
    "        # Then with the _final_ query vector, calc what the attn + weights would be\n",
    "        att, wts = self.attention_and_weights(self.queryN(queries),encoded_data)   \n",
    "            \n",
    "        return queries, att, wts\n",
    "    "
   ]
  },
  {
   "cell_type": "code",
   "execution_count": 4,
   "id": "e7b2830b-e7f7-4ec3-8291-e2a39b43acff",
   "metadata": {},
   "outputs": [],
   "source": [
    "from model import SoftPositionalEmbed, build_grid\n",
    "from torch.nn import init"
   ]
  },
  {
   "cell_type": "code",
   "execution_count": 5,
   "id": "38dae2e3-8d25-44aa-9669-47e782bc2386",
   "metadata": {},
   "outputs": [],
   "source": [
    "from copy import copy"
   ]
  },
  {
   "cell_type": "code",
   "execution_count": 6,
   "id": "8a9ce65a-8fab-4641-aa1c-9d2bc5c00be2",
   "metadata": {},
   "outputs": [
    {
     "data": {
      "text/plain": [
       "{'hidden_dim': 16, 'k_slots': 3, 'query_dim': 128, 'device': 'cpu'}"
      ]
     },
     "execution_count": 6,
     "metadata": {},
     "output_type": "execute_result"
    }
   ],
   "source": [
    "with open('code/configs/learn-init-warm2.yaml') as f:\n",
    "    cd = yaml.safe_load(f)\n",
    "\n",
    "hps_li = copy(cd['hps'])\n",
    "hps_li['device'] = device\n",
    "del hps_li['learn_init']\n",
    "del hps_li['softmax_T']\n",
    "hps_li"
   ]
  },
  {
   "cell_type": "code",
   "execution_count": 7,
   "id": "a3886bca-4893-40b9-8c90-331eaa7016c8",
   "metadata": {},
   "outputs": [],
   "source": [
    "m_li = SlotAttentionLearnInit(**hps_li)"
   ]
  },
  {
   "cell_type": "code",
   "execution_count": 8,
   "id": "03f4c139-d8bb-4b37-9665-f3a7138bbbcf",
   "metadata": {},
   "outputs": [
    {
     "data": {
      "text/plain": [
       "<All keys matched successfully>"
      ]
     },
     "execution_count": 8,
     "metadata": {},
     "output_type": "execute_result"
    }
   ],
   "source": [
    "weightPath = 'code/models/learn-init-warm/m_44000.pt'\n",
    "\n",
    "m_li.load_state_dict(torch.load(weightPath,map_location=device))"
   ]
  },
  {
   "cell_type": "code",
   "execution_count": 9,
   "id": "895f9ec6-bd37-4824-bcef-d98ea08139e4",
   "metadata": {},
   "outputs": [],
   "source": [
    "hps_pe = copy(cd['hps'])\n",
    "hps_pe['device'] = device"
   ]
  },
  {
   "cell_type": "code",
   "execution_count": 11,
   "id": "33125c6c-8198-4715-93dc-384cc58ba506",
   "metadata": {},
   "outputs": [
    {
     "data": {
      "text/plain": [
       "<All keys matched successfully>"
      ]
     },
     "execution_count": 11,
     "metadata": {},
     "output_type": "execute_result"
    }
   ],
   "source": [
    "m_pe = SlotAttentionPosEmbed(**hps_pe)\n",
    "\n",
    "m_pe.load_state_dict(torch.load(weightPath,map_location=device))"
   ]
  },
  {
   "cell_type": "code",
   "execution_count": 12,
   "id": "c4b7d623-2259-4ad4-9de8-f940cdc292a3",
   "metadata": {},
   "outputs": [
    {
     "name": "stderr",
     "output_type": "stream",
     "text": [
      "/gpfs/slac/atlas/fs1/d/nhartman/Slot Attention/code/data.py:97: RuntimeWarning: invalid value encountered in true_divide\n",
      "  eventMasks = np.where(eventHistograms>0,eventMasks/eventHistograms,eventMasks)\n"
     ]
    }
   ],
   "source": [
    "bs = 100\n",
    "kwargs = cd['data']\n",
    "X,y, mask = make_batch(N_events=bs, **kwargs)"
   ]
  },
  {
   "cell_type": "code",
   "execution_count": 13,
   "id": "a1a960e1-e62f-4398-9c6d-967f573af3b2",
   "metadata": {},
   "outputs": [],
   "source": [
    "from train import hungarian_matching\n",
    "import torch.nn.functional as F\n",
    "\n",
    "k_slots=3\n",
    "max_n_rings=2\n",
    "resolution=(32,32)\n",
    "\n",
    "def get_loss(m,X,mask):\n",
    "\n",
    "    with torch.no_grad():\n",
    "\n",
    "        queries, att, wts = m(X)\n",
    "\n",
    "        indices = hungarian_matching(att,mask,bs,k_slots,max_n_rings,resolution[0])\n",
    "\n",
    "        # Apply the sorting to the predict\n",
    "        bis=torch.arange(bs).to(device)\n",
    "        indices=indices.to(device)\n",
    "\n",
    "        slots_sorted = torch.cat([att[bis,indices[:,0,ri]].unsqueeze(1) for ri in range(max_n_rings)],dim=1)\n",
    "\n",
    "        flat_mask = mask.reshape(-1,max_n_rings, np.prod(resolution))\n",
    "        rings_sorted = torch.cat([flat_mask[bis,indices[:,1,ri]].unsqueeze(1) for ri in range(max_n_rings)],dim=1)\n",
    "\n",
    "        # Calculate the loss\n",
    "        loss = F.binary_cross_entropy(slots_sorted,rings_sorted,reduction='none').sum(axis=1).mean()\n",
    "\n",
    "    return loss.item()\n",
    "        "
   ]
  },
  {
   "cell_type": "code",
   "execution_count": 14,
   "id": "3e7657c2-5d0e-4fa7-8c1a-79954850074b",
   "metadata": {},
   "outputs": [
    {
     "name": "stderr",
     "output_type": "stream",
     "text": [
      "/gpfs/slac/atlas/fs1/d/nhartman/Slot Attention/code/train.py:41: UserWarning: Creating a tensor from a list of numpy.ndarrays is extremely slow. Please consider converting the list to a single numpy.ndarray with numpy.array() before converting to a tensor. (Triggered internally at  /opt/conda/conda-bld/pytorch_1634272068694/work/torch/csrc/utils/tensor_new.cpp:201.)\n",
      "  indices = torch.LongTensor(indices)\n"
     ]
    }
   ],
   "source": [
    "losses_li = []\n",
    "losses_pe = []\n",
    "\n",
    "for i in range(0,44_000,1_000):\n",
    "    weightPath = f'code/models/learn-init-warm/m_{i}.pt'\n",
    "    m_li.load_state_dict(torch.load(weightPath,map_location=device))\n",
    "    m_pe.load_state_dict(torch.load(weightPath,map_location=device))\n",
    "    \n",
    "    losses_li.append( get_loss(m_li,X,mask) )\n",
    "    losses_pe.append( get_loss(m_pe,X,mask) )\n",
    "    "
   ]
  },
  {
   "cell_type": "code",
   "execution_count": 15,
   "id": "ec63cafe-0dfb-4b55-b770-587dd10c9e1b",
   "metadata": {},
   "outputs": [
    {
     "data": {
      "image/png": "[encoded data removed]",
      "text/plain": [
       "<Figure size 432x288 with 1 Axes>"
      ]
     },
     "metadata": {
      "needs_background": "light"
     },
     "output_type": "display_data"
    }
   ],
   "source": [
    "plt.plot(losses_li,label='from custom model')\n",
    "plt.plot(losses_pe,label='from rewritten model')\n",
    "plt.legend()\n",
    "plt.show()"
   ]
  },
  {
   "cell_type": "markdown",
   "id": "081799d4-d441-4f43-b0f0-aee26213fa3f",
   "metadata": {},
   "source": [
    "Woooo! Problem _solved_ :) \n",
    "\n",
    "The issue was the way I was creating new layers, I was accidentally tying some weights together.\n",
    "\n",
    "The variance in the loss is due to the random seed in the query creation."
   ]
  },
  {
   "cell_type": "code",
   "execution_count": null,
   "id": "dc39d604-0061-4512-9e20-efd687b063d1",
   "metadata": {},
   "outputs": [],
   "source": []
  },
  {
   "cell_type": "code",
   "execution_count": null,
   "id": "93ab17a9-df55-4083-8d5c-46353f060fd5",
   "metadata": {},
   "outputs": [],
   "source": []
  }
 ],
 "metadata": {
  "kernelspec": {
   "display_name": "Python 3",
   "language": "python",
   "name": "python3"
  },
  "language_info": {
   "codemirror_mode": {
    "name": "ipython",
    "version": 3
   },
   "file_extension": ".py",
   "mimetype": "text/x-python",
   "name": "python",
   "nbconvert_exporter": "python",
   "pygments_lexer": "ipython3",
   "version": "3.8.12"
  }
 },
 "nbformat": 4,
 "nbformat_minor": 5
}
