{
 "cells": [
  {
   "cell_type": "markdown",
   "id": "e2fdbaef-1a5b-4a16-b72e-92cda5ef624a",
   "metadata": {},
   "source": [
    "# Chat w/ Tobias"
   ]
  },
  {
   "cell_type": "code",
   "execution_count": 9,
   "id": "99fa2486-082b-42d7-9b33-7f38bf461aa6",
   "metadata": {},
   "outputs": [],
   "source": [
    "import numpy as np\n",
    "import matplotlib.pyplot as plt\n",
    "import torch"
   ]
  },
  {
   "cell_type": "code",
   "execution_count": 4,
   "id": "06787fac-d337-419c-866c-767ee882a476",
   "metadata": {},
   "outputs": [],
   "source": [
    "E = np.array([[0,1],[1,0]])"
   ]
  },
  {
   "cell_type": "code",
   "execution_count": 5,
   "id": "a9114886-e2a2-49d9-a442-2d587bb91bef",
   "metadata": {},
   "outputs": [
    {
     "data": {
      "text/plain": [
       "<matplotlib.image.AxesImage at 0x7fa18713b220>"
      ]
     },
     "execution_count": 5,
     "metadata": {},
     "output_type": "execute_result"
    },
    {
     "data": {
      "image/png": "[encoded data removed]",
      "text/plain": [
       "<Figure size 432x288 with 1 Axes>"
      ]
     },
     "metadata": {
      "needs_background": "light"
     },
     "output_type": "display_data"
    }
   ],
   "source": [
    "plt.imshow(E)"
   ]
  },
  {
   "cell_type": "code",
   "execution_count": 7,
   "id": "5930540f-f399-465b-ace3-bacfa3c23675",
   "metadata": {},
   "outputs": [],
   "source": [
    "t = np.array([[0,2],[9,0]])"
   ]
  },
  {
   "cell_type": "code",
   "execution_count": 8,
   "id": "92222036-1bcd-47a5-b9c8-a8bd9cff2e86",
   "metadata": {},
   "outputs": [
    {
     "data": {
      "text/plain": [
       "<matplotlib.image.AxesImage at 0x7fa1875856d0>"
      ]
     },
     "execution_count": 8,
     "metadata": {},
     "output_type": "execute_result"
    },
    {
     "data": {
      "image/png": "[encoded data removed]",
      "text/plain": [
       "<Figure size 432x288 with 1 Axes>"
      ]
     },
     "metadata": {
      "needs_background": "light"
     },
     "output_type": "display_data"
    }
   ],
   "source": [
    "plt.imshow(t)"
   ]
  },
  {
   "cell_type": "code",
   "execution_count": 31,
   "id": "fd01c4bc-1a78-4f45-8ea6-2890da0b16e1",
   "metadata": {},
   "outputs": [],
   "source": [
    "# ?torch.nn.Conv2d"
   ]
  },
  {
   "cell_type": "code",
   "execution_count": 14,
   "id": "6bd53934-db71-4274-bda0-7c376af26399",
   "metadata": {},
   "outputs": [],
   "source": [
    "x = np.concatenate([E[None,:,:],t[None,:,:]],axis=0)"
   ]
  },
  {
   "cell_type": "code",
   "execution_count": 19,
   "id": "a2d47581-7381-4a3c-9382-0f22c840a957",
   "metadata": {},
   "outputs": [
    {
     "data": {
      "text/plain": [
       "(array([[0, 1],\n",
       "        [1, 0]]),\n",
       " array([[0, 2],\n",
       "        [9, 0]]))"
      ]
     },
     "execution_count": 19,
     "metadata": {},
     "output_type": "execute_result"
    }
   ],
   "source": [
    "x[0],x[1]"
   ]
  },
  {
   "cell_type": "code",
   "execution_count": 29,
   "id": "97da60cd-1777-4e62-a114-dd4daf7b41d8",
   "metadata": {},
   "outputs": [],
   "source": [
    "conv = torch.nn.Conv2d(2,16,kernel_size=2)"
   ]
  },
  {
   "cell_type": "code",
   "execution_count": 22,
   "id": "2fa46548-6d37-474e-aa05-bc97c8468d86",
   "metadata": {},
   "outputs": [
    {
     "data": {
      "text/plain": [
       "Conv2d(2, 16, kernel_size=(1, 1), stride=(1, 1))"
      ]
     },
     "execution_count": 22,
     "metadata": {},
     "output_type": "execute_result"
    }
   ],
   "source": []
  },
  {
   "cell_type": "code",
   "execution_count": 25,
   "id": "fcaefe80-a66c-4bfd-bc2b-f05944cd35a2",
   "metadata": {},
   "outputs": [],
   "source": [
    "x_torch = torch.Tensor(x[None])"
   ]
  },
  {
   "cell_type": "code",
   "execution_count": 26,
   "id": "0dd7ad15-0576-4882-9294-94753674d3b7",
   "metadata": {},
   "outputs": [
    {
     "data": {
      "text/plain": [
       "torch.Size([1, 2, 2, 2])"
      ]
     },
     "execution_count": 26,
     "metadata": {},
     "output_type": "execute_result"
    }
   ],
   "source": [
    "x_torch.shape"
   ]
  },
  {
   "cell_type": "code",
   "execution_count": 30,
   "id": "30e233f8-f5b5-435d-8e6f-3f4e52baeddc",
   "metadata": {},
   "outputs": [
    {
     "data": {
      "text/plain": [
       "torch.Size([1, 16, 1, 1])"
      ]
     },
     "execution_count": 30,
     "metadata": {},
     "output_type": "execute_result"
    }
   ],
   "source": [
    "conv(x_torch).shape"
   ]
  },
  {
   "cell_type": "code",
   "execution_count": 32,
   "id": "cd0d28e3-c9f2-4230-9b0a-98bf5dd1f777",
   "metadata": {},
   "outputs": [],
   "source": [
    "import os\n",
    "os.sys.path.append('code')"
   ]
  },
  {
   "cell_type": "code",
   "execution_count": 33,
   "id": "7369af5d-01a9-4cbf-bf7e-4de1998a3dc3",
   "metadata": {},
   "outputs": [],
   "source": [
    "from data import make_batch"
   ]
  },
  {
   "cell_type": "code",
   "execution_count": 36,
   "id": "df65e84e-05fa-4ffb-b9fa-c485b50da778",
   "metadata": {},
   "outputs": [],
   "source": [
    "imgs, params, masks = make_batch(N_events=10,N_clusters=3)"
   ]
  },
  {
   "cell_type": "code",
   "execution_count": 37,
   "id": "19842d35-315b-484b-bd51-1fc130957ca4",
   "metadata": {},
   "outputs": [
    {
     "data": {
      "text/plain": [
       "torch.Size([10, 1, 32, 32])"
      ]
     },
     "execution_count": 37,
     "metadata": {},
     "output_type": "execute_result"
    }
   ],
   "source": [
    "imgs.shape"
   ]
  },
  {
   "cell_type": "code",
   "execution_count": 38,
   "id": "5b34a2d0-33c1-425f-9765-ea409d62c80a",
   "metadata": {},
   "outputs": [
    {
     "data": {
      "text/plain": [
       "torch.Size([10, 3, 3])"
      ]
     },
     "execution_count": 38,
     "metadata": {},
     "output_type": "execute_result"
    }
   ],
   "source": [
    "params.shape"
   ]
  },
  {
   "cell_type": "code",
   "execution_count": 39,
   "id": "c10f121b-8529-49f7-a01f-4c300fed901b",
   "metadata": {},
   "outputs": [
    {
     "data": {
      "text/plain": [
       "torch.Size([10, 3, 32, 32])"
      ]
     },
     "execution_count": 39,
     "metadata": {},
     "output_type": "execute_result"
    }
   ],
   "source": [
    "masks.shape"
   ]
  },
  {
   "cell_type": "code",
   "execution_count": null,
   "id": "b8c2a4f0-d6aa-4eb0-b3be-dcaf596a2611",
   "metadata": {},
   "outputs": [],
   "source": []
  }
 ],
 "metadata": {
  "kernelspec": {
   "display_name": "Python 3",
   "language": "python",
   "name": "python3"
  },
  "language_info": {
   "codemirror_mode": {
    "name": "ipython",
    "version": 3
   },
   "file_extension": ".py",
   "mimetype": "text/x-python",
   "name": "python",
   "nbconvert_exporter": "python",
   "pygments_lexer": "ipython3",
   "version": "3.8.12"
  }
 },
 "nbformat": 4,
 "nbformat_minor": 5
}
