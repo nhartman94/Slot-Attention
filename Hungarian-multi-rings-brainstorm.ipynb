{
 "cells": [
  {
   "cell_type": "markdown",
   "id": "62f66fc0",
   "metadata": {},
   "source": [
    "# Hungarian Multi Rings\n",
    "\n",
    "**Goal:** In the past notebooks\n",
    "- `SA-mini`\n",
    "- `SA-warm-up`\n",
    "\n",
    "I've been focusing on a single ring to stay in a good range for the hyperparameters.\n",
    "\n",
    "But _now_ I still need to diagnose how to translate the (official) TensorFlow implementation of the Hungarian Loss to Pytorch.\n",
    "\n",
    "Fortunately, the (concurrent work) DETR (End-to-End Object **DE**tection with **TR**ansformers) has an [implementation](https://www.kaggle.com/code/virajbagal/pytorch-starter-detection-transformer-train) of the Hungarian loss in Pytorch, using the same `scipy.optimize.linear_map_` function."
   ]
  },
  {
   "cell_type": "code",
   "execution_count": 10,
   "id": "fc4e47db",
   "metadata": {},
   "outputs": [
    {
     "name": "stdout",
     "output_type": "stream",
     "text": [
      "The autoreload extension is already loaded. To reload it, use:\n",
      "  %reload_ext autoreload\n"
     ]
    }
   ],
   "source": [
    "import numpy as np\n",
    "import matplotlib.pyplot as plt\n",
    "from mpl_toolkits.axes_grid1 import make_axes_locatable\n",
    "\n",
    "import torch\n",
    "import torch.nn.functional as F\n",
    "\n",
    "# import os\n",
    "# os.sys.path.append('code')\n",
    "# from data import gen_events # Florian's ring generation script\n",
    "\n",
    "'''\n",
    "Remember -- Flo's rings generation script already adds up \n",
    "all of the ring energies, and I think having this at truth level \n",
    "would be quite nice.\n",
    "'''\n",
    "\n",
    "%load_ext autoreload\n",
    "%autoreload 2"
   ]
  },
  {
   "cell_type": "markdown",
   "id": "c0da8f4e",
   "metadata": {},
   "source": [
    "**Inputs:**\n",
    "\n",
    "I want a minimal example to _show_ that this is working so I'll make the masks and have the prediction:\n",
    "\n",
    "1. perturb the images by some noise\n",
    "2. Have the background slots just be 0.\n"
   ]
  },
  {
   "cell_type": "code",
   "execution_count": 2,
   "id": "98764422",
   "metadata": {},
   "outputs": [],
   "source": [
    "nPixels = 32\n",
    "\n",
    "xlow = -0.5\n",
    "xhigh = 0.5\n",
    "binWidth = (xhigh-xlow)/(nPixels+1)\n",
    "\n",
    "stdlow = 0.01\n",
    "stdhigh = 0.05\n",
    "\n",
    "bins = np.arange(xlow,xhigh,binWidth)\n",
    "\n",
    "nBins = len(bins)-1"
   ]
  },
  {
   "cell_type": "code",
   "execution_count": 131,
   "id": "2d61c9eb",
   "metadata": {},
   "outputs": [],
   "source": [
    "def make_batch(\n",
    "    bins,\n",
    "    N_events = 100000,\n",
    "    N_clusters = 1,\n",
    "    mean_var_cluster = np.log(0.001),\n",
    "    sigma_var_cluster = 0.1,\n",
    "    mean_lam_cluster = np.log(200.),\n",
    "    sigma_lam_cluster = 1.,\n",
    "    isRing=True,\n",
    "    blurImage=False,\n",
    "    xlow=-.5,\n",
    "    xhigh=0.5,\n",
    "    stdlow=0.01,\n",
    "    stdhigh=0.05,\n",
    "    device='cpu'\n",
    "):\n",
    "    '''\n",
    "    Starts from Florian's `gen_events` function\n",
    "    https://gitlab.lrz.de/neural_network_clustering/permutation_invariant_loss/-/blob/main/test_blur.ipynb\n",
    "    \n",
    "    But I wanted to return the occupancy maps that you multiply the OG image by to output partitioning\n",
    "    of the image into the OG ring signals.\n",
    "    '''\n",
    "\n",
    "    eventHistograms = np.zeros(shape=(N_events, len(bins)-1, len(bins)-1,1) ) \n",
    "    \n",
    "    eventMasks = np.zeros(shape=(N_events, N_clusters, len(bins)-1, len(bins)-1) ) \n",
    "    \n",
    "    eventNumbers = np.zeros(N_events)\n",
    "\n",
    "    nMaxClusters = N_clusters   \n",
    "    \n",
    "    eventInfo = np.zeros(shape=(N_events, nMaxClusters, 3))\n",
    "    \n",
    "    for iEvent in range(N_events):\n",
    "        \n",
    "        image = np.zeros_like(eventHistograms[iEvent,:,:,0])\n",
    "        \n",
    "        n_clusters = nMaxClusters\n",
    "\n",
    "        eventNumbers[iEvent] += n_clusters\n",
    "        eI = []\n",
    "        \n",
    "        for iCluster in range(min(n_clusters,nMaxClusters)):\n",
    "            \n",
    "            # how many events in this cluster\n",
    "            lam_N_events_in_cluster = 200. \n",
    "            \n",
    "            N_events_in_cluster = np.random.poisson(lam_N_events_in_cluster)\n",
    "\n",
    "            # where is the cluster center\n",
    "            cluster_center = np.random.uniform(low=xlow, high=xhigh, size=2)\n",
    "\n",
    "            # what is the cluster spread\n",
    "            var_cluster = np.random.uniform(stdlow,stdhigh) \n",
    "            \n",
    "            cluster_events_x0 = np.random.normal(loc=0., scale=1., size=N_events_in_cluster)\n",
    "            cluster_events_y0 = np.random.normal(loc=0., scale=1., size=N_events_in_cluster)\n",
    "\n",
    "            if isRing:\n",
    "                fact = np.sqrt(var_cluster/(cluster_events_x0**2+cluster_events_y0**2))\n",
    "            else:\n",
    "                fact = np.sqrt(var_cluster)\n",
    "\n",
    "            cluster_events_x = cluster_events_x0*fact + cluster_center[0]\n",
    "            cluster_events_y = cluster_events_y0*fact + cluster_center[1]\n",
    "            \n",
    "            # bin the events\n",
    "            H, _, _ = np.histogram2d(cluster_events_x, cluster_events_y, bins=[bins,bins])\n",
    "\n",
    "            eventMasks[iEvent,iCluster] = H.T\n",
    "            image += H.T\n",
    "                        \n",
    "            eI.append(np.concatenate([cluster_center, [var_cluster]]))\n",
    "\n",
    "        eventHistograms[iEvent,:,:,0] = np.copy(image)\n",
    "\n",
    "        eventInfo[iEvent] = np.array(eI)\n",
    "    \n",
    "    # reshape eventHistograms\n",
    "    eventHistograms = eventHistograms[:,None,:,:,0] # shape (bs, 1, nPixels, nPixels)\n",
    "    \n",
    "    eventMasks = np.where(eventHistograms>0,eventMasks/eventHistograms,eventMasks)\n",
    "    \n",
    "    return torch.FloatTensor(eventInfo).to(device), \\\n",
    "           torch.FloatTensor(eventHistograms).to(device), \\\n",
    "           torch.FloatTensor(eventMasks).to(device)"
   ]
  },
  {
   "cell_type": "markdown",
   "id": "a33cd3b8",
   "metadata": {},
   "source": [
    "Let's consider:\n",
    "- batch_size 4\n",
    "- 2 rings\n",
    "- 3 slots"
   ]
  },
  {
   "cell_type": "code",
   "execution_count": 127,
   "id": "6e00d80a",
   "metadata": {},
   "outputs": [],
   "source": [
    "max_n_rings = 2"
   ]
  },
  {
   "cell_type": "code",
   "execution_count": 134,
   "id": "198ef6c9",
   "metadata": {},
   "outputs": [
    {
     "name": "stderr",
     "output_type": "stream",
     "text": [
      "/var/folders/5j/ynfw2g6n2cgdwgp6xdh3byn00000gp/T/ipykernel_70926/637650445.py:83: RuntimeWarning: invalid value encountered in divide\n",
      "  eventMasks = np.where(eventHistograms>0,eventMasks/eventHistograms,eventMasks)\n"
     ]
    }
   ],
   "source": [
    "X, Y, true = make_batch(bins, N_events=bs, N_clusters=max_n_rings)"
   ]
  },
  {
   "cell_type": "code",
   "execution_count": 141,
   "id": "84a7401b",
   "metadata": {},
   "outputs": [
    {
     "data": {
      "image/png": "[encoded data removed]",
      "text/plain": [
       "<Figure size 700x300 with 4 Axes>"
      ]
     },
     "metadata": {},
     "output_type": "display_data"
    }
   ],
   "source": [
    "fig, axs = plt.subplots(1,2,figsize=(7,3))\n",
    "\n",
    "for i,ax in enumerate(axs):\n",
    "\n",
    "    im = ax.imshow(true[0,i],vmin=0,vmax=1)\n",
    "\n",
    "    divider = make_axes_locatable(ax)\n",
    "    cax = divider.append_axes('right', size='5%', pad=0.05)\n",
    "    fig.colorbar(im, cax=cax, orientation='vertical')\n",
    "\n",
    "    ax.set_title(f'Truth photon {i}')\n",
    "\n",
    "    ax.axis('off')\n",
    "\n",
    "plt.show()"
   ]
  },
  {
   "cell_type": "code",
   "execution_count": 144,
   "id": "fccabc39",
   "metadata": {},
   "outputs": [
    {
     "data": {
      "text/plain": [
       "torch.Size([4, 2, 32, 32])"
      ]
     },
     "execution_count": 144,
     "metadata": {},
     "output_type": "execute_result"
    }
   ],
   "source": [
    "true.shape"
   ]
  },
  {
   "cell_type": "code",
   "execution_count": 145,
   "id": "b1db3315",
   "metadata": {},
   "outputs": [],
   "source": [
    "k_slots=3\n",
    "bs,_,nx,ny = true.shape\n",
    "\n",
    "pred = torch.zeros(bs,k_slots,nx,ny)"
   ]
  },
  {
   "cell_type": "code",
   "execution_count": 146,
   "id": "bf1f0122",
   "metadata": {},
   "outputs": [
    {
     "data": {
      "text/plain": [
       "torch.Size([4, 3, 32, 32])"
      ]
     },
     "execution_count": 146,
     "metadata": {},
     "output_type": "execute_result"
    }
   ],
   "source": [
    "pred.shape"
   ]
  },
  {
   "cell_type": "code",
   "execution_count": 158,
   "id": "c771dee5",
   "metadata": {},
   "outputs": [
    {
     "data": {
      "text/plain": [
       "array([ 0, -1, -1, -1])"
      ]
     },
     "execution_count": 158,
     "metadata": {},
     "output_type": "execute_result"
    }
   ],
   "source": [
    "shift\n",
    "\n",
    "dx = np.random.randint(-shift,shift+1,size=bs)\n",
    "dy = np.random.randint(-shift,shift+1,size=bs)\n"
   ]
  },
  {
   "cell_type": "code",
   "execution_count": null,
   "id": "987d8278",
   "metadata": {},
   "outputs": [],
   "source": [
    "torch.cat()"
   ]
  },
  {
   "cell_type": "code",
   "execution_count": 164,
   "id": "cd7b72ee",
   "metadata": {},
   "outputs": [
    {
     "data": {
      "text/plain": [
       "tensor([], size=(4, 2, 0, 32))"
      ]
     },
     "execution_count": 164,
     "metadata": {},
     "output_type": "execute_result"
    }
   ],
   "source": [
    "true[:,:,-1:nx-1,:] #.shape"
   ]
  },
  {
   "cell_type": "code",
   "execution_count": 154,
   "id": "23f9fd79",
   "metadata": {},
   "outputs": [],
   "source": [
    "?np.random.randint"
   ]
  },
  {
   "cell_type": "code",
   "execution_count": null,
   "id": "92c09c61",
   "metadata": {},
   "outputs": [],
   "source": [
    "def smear_for_pred(true,k_slots=3):\n",
    "    '''\n",
    "    Goal: to setup a prediction that we can test against, just shift the OG image\n",
    "    '''\n",
    "    \n",
    "    pass"
   ]
  },
  {
   "cell_type": "code",
   "execution_count": 143,
   "id": "fa73dbe0",
   "metadata": {},
   "outputs": [
    {
     "data": {
      "text/plain": [
       "torch.Size([4, 2, 32, 32])"
      ]
     },
     "execution_count": 143,
     "metadata": {},
     "output_type": "execute_result"
    }
   ],
   "source": [
    "true.shape"
   ]
  },
  {
   "cell_type": "code",
   "execution_count": null,
   "id": "89549b06",
   "metadata": {},
   "outputs": [],
   "source": []
  },
  {
   "cell_type": "markdown",
   "id": "1e0a040a",
   "metadata": {},
   "source": [
    "## New plan\n",
    "\n",
    "\n",
    "OK, this is great, but I think I can make this even a little bit simpler for debugging!\n",
    "\n",
    "\n",
    "<img src=\"attn-2-rings-graphic.png\" style=\"height:250px\" align=\"left\" />"
   ]
  },
  {
   "cell_type": "code",
   "execution_count": 185,
   "id": "e81cf7d9",
   "metadata": {},
   "outputs": [
    {
     "data": {
      "text/plain": [
       "torch.Size([2, 2, 3])"
      ]
     },
     "execution_count": 185,
     "metadata": {},
     "output_type": "execute_result"
    }
   ],
   "source": [
    "true = torch.FloatTensor([[[1,0,0],[0,1,0]],\n",
    "                          [[0,0,1],[0,1,0]]\n",
    "                         ])\n",
    "true.shape"
   ]
  },
  {
   "cell_type": "code",
   "execution_count": 187,
   "id": "f6b323b7",
   "metadata": {},
   "outputs": [
    {
     "data": {
      "text/plain": [
       "torch.Size([2, 3, 3])"
      ]
     },
     "execution_count": 187,
     "metadata": {},
     "output_type": "execute_result"
    }
   ],
   "source": [
    "pred = torch.FloatTensor([[[.9,.4,0.],[.1,.1,.1],[0,.6,.9]],\n",
    "                          [[.9,.3,0.],[.1,.5,.1],[.9,.3,0.]]\n",
    "                         ])\n",
    "\n",
    "pred.shape"
   ]
  },
  {
   "cell_type": "code",
   "execution_count": 188,
   "id": "d7696d6d",
   "metadata": {},
   "outputs": [
    {
     "data": {
      "text/plain": [
       "torch.Size([6, 3])"
      ]
     },
     "execution_count": 188,
     "metadata": {},
     "output_type": "execute_result"
    }
   ],
   "source": [
    "pred_flat = pred.flatten(0,1) # Shape batch_size * n_slots * pred_dim\n",
    "pred_flat.shape"
   ]
  },
  {
   "cell_type": "code",
   "execution_count": null,
   "id": "934a5bda",
   "metadata": {},
   "outputs": [],
   "source": []
  },
  {
   "cell_type": "markdown",
   "id": "1616d746",
   "metadata": {},
   "source": [
    "`out_prob` should have shape 6, 4, 3\n",
    "\n",
    "and then we will sum along the last dim and it will have shape 6,4"
   ]
  },
  {
   "cell_type": "code",
   "execution_count": null,
   "id": "9509944d",
   "metadata": {},
   "outputs": [],
   "source": []
  },
  {
   "cell_type": "code",
   "execution_count": null,
   "id": "666bb2fd",
   "metadata": {},
   "outputs": [],
   "source": [
    "# Or, do I want to calculate the ... for each ..."
   ]
  },
  {
   "cell_type": "markdown",
   "id": "743ffd4a",
   "metadata": {},
   "source": [
    "Right before I did this manually with tiling and broadcasting, but I _might_ want to do it manually now?\n",
    "\n",
    "**Some print statements I had from running the DETR kaggle nb:**\n",
    "\n",
    "```\n",
    "pred_logits torch.Size([2, 100, 2])\n",
    "out_prob torch.Size([2, 100, 2])\n",
    "v[labels] torch.Size([47])\n",
    "v[labels] torch.Size([46])\n",
    "tgt_ids torch.Size([93])\n",
    "-out_prob[:, tgt_ids] torch.Size([200, 93])\n",
    "```\n",
    "\n",
    "- `batch_size` = 2\n",
    "- `n_queries` = 100\n",
    "- There are two targets (?) \n",
    "    * one has 47 labels  \n",
    "    * the other has 49 labels\n",
    "    * Personal guess -- these are the number of truth labels for each of the events in the batch\n",
    "- Then the final loss over _all_ combinations has shape 200,93\n",
    "    * Personal guess these two targets _have_ to correspond to the batch size being  \n",
    "\n",
    "\n",
    "**TO DO:** Shape my data to have this shape :)\n",
    "\n",
    "- Should have shape (1 * 3, 4)\n",
    "    * **Step 1:** Do this with my \"dummy\" batch size of 1\n",
    "        - out_preds should have shape (1*3, 3) # bs * n_slot, n_dim (?)\n",
    "        - target should have shape (bs*)\n",
    "    * **Step 2:** Extend to a _bigger_ batch size \n",
    "    \n",
    "Hmmmm, I'm super not sure lol what to do here(?)"
   ]
  },
  {
   "cell_type": "code",
   "execution_count": null,
   "id": "dadf299a",
   "metadata": {},
   "outputs": [],
   "source": []
  },
  {
   "cell_type": "code",
   "execution_count": null,
   "id": "418ece35",
   "metadata": {},
   "outputs": [],
   "source": []
  },
  {
   "cell_type": "code",
   "execution_count": null,
   "id": "c10a3973",
   "metadata": {},
   "outputs": [],
   "source": []
  },
  {
   "cell_type": "code",
   "execution_count": 178,
   "id": "60de63b9",
   "metadata": {},
   "outputs": [
    {
     "ename": "IndentationError",
     "evalue": "unexpected indent (1128360448.py, line 4)",
     "output_type": "error",
     "traceback": [
      "\u001b[0;36m  Cell \u001b[0;32mIn[178], line 4\u001b[0;36m\u001b[0m\n\u001b[0;31m    out_prob = outputs[\"pred_logits\"].flatten(0, 1).softmax(-1)  # [batch_size * num_queries, num_classes]\u001b[0m\n\u001b[0m    ^\u001b[0m\n\u001b[0;31mIndentationError\u001b[0m\u001b[0;31m:\u001b[0m unexpected indent\n"
     ]
    }
   ],
   "source": [
    "bs, num_queries = outputs[\"pred_logits\"].shape[:2]\n",
    "\n",
    "        # We flatten to compute the cost matrices in a batch\n",
    "        out_prob = outputs[\"pred_logits\"].flatten(0, 1).softmax(-1)  # [batch_size * num_queries, num_classes]\n",
    "        out_bbox = outputs[\"pred_boxes\"].flatten(0, 1)  # [batch_size * num_queries, 4]\n",
    "\n",
    "        # Also concat the target labels and boxes\n",
    "        tgt_ids = torch.cat([v[\"labels\"] for v in targets])\n",
    "        tgt_bbox = torch.cat([v[\"boxes\"] for v in targets])\n",
    "\n",
    "        # Compute the classification cost. Contrary to the loss, we don't use the NLL,\n",
    "        # but approximate it in 1 - proba[target class].\n",
    "        # The 1 is a constant that doesn't change the matching, it can be ommitted.\n",
    "        cost_class = -out_prob[:, tgt_ids]\n",
    "\n",
    "        # Final cost matrix\n",
    "        C = self.cost_bbox * cost_bbox + self.cost_class * cost_class \n",
    "        C = C.view(bs, num_queries, -1).cpu()\n",
    "\n",
    "        sizes = [len(v[\"boxes\"]) for v in targets]\n",
    "        indices = [linear_sum_assignment(c[i]) for i, c in enumerate(C.split(sizes, -1))]\n",
    "        return [(torch.as_tensor(i, dtype=torch.int64), torch.as_tensor(j, dtype=torch.int64)) for i, j in indices]"
   ]
  },
  {
   "cell_type": "code",
   "execution_count": null,
   "id": "ce987af0",
   "metadata": {},
   "outputs": [],
   "source": []
  },
  {
   "cell_type": "code",
   "execution_count": null,
   "id": "24adbdd8",
   "metadata": {},
   "outputs": [],
   "source": []
  },
  {
   "cell_type": "code",
   "execution_count": null,
   "id": "7d4b5417",
   "metadata": {},
   "outputs": [],
   "source": []
  },
  {
   "cell_type": "code",
   "execution_count": null,
   "id": "d2471a7e",
   "metadata": {},
   "outputs": [],
   "source": []
  },
  {
   "cell_type": "code",
   "execution_count": null,
   "id": "c4a81f1f",
   "metadata": {},
   "outputs": [],
   "source": []
  },
  {
   "cell_type": "code",
   "execution_count": null,
   "id": "a291ef35",
   "metadata": {},
   "outputs": [],
   "source": []
  },
  {
   "cell_type": "code",
   "execution_count": null,
   "id": "e7d0ed3b",
   "metadata": {},
   "outputs": [],
   "source": [
    "from scipy.optimize import linear_sum_assignment\n",
    "\n",
    "class HungarianMatcher(nn.Module):\n",
    "    \"\"\"This class computes an assignment between the targets and the predictions of the network\n",
    "    For efficiency reasons, the targets don't include the no_object. Because of this, in general,\n",
    "    there are more predictions than targets. In this case, we do a 1-to-1 matching of the best predictions,\n",
    "    while the others are un-matched (and thus treated as non-objects).\n",
    "    \n",
    "    UNMODIFIED from https://www.kaggle.com/code/virajbagal/pytorch-starter-detection-transformer-train\n",
    "    \n",
    "    \"\"\"\n",
    "\n",
    "    def __init__(self, cost_class: float = 1, cost_bbox: float = 1, cost_giou: float = 1):\n",
    "        \"\"\"Creates the matcher\n",
    "        Params:\n",
    "            cost_class: This is the relative weight of the classification error in the matching cost\n",
    "            cost_bbox: This is the relative weight of the L1 error of the bounding box coordinates in the matching cost\n",
    "            cost_giou: This is the relative weight of the giou loss of the bounding box in the matching cost\n",
    "        \"\"\"\n",
    "        super().__init__()\n",
    "        self.cost_class = cost_class\n",
    "        self.cost_bbox = cost_bbox\n",
    "        self.cost_giou = cost_giou\n",
    "        assert cost_class != 0 or cost_bbox != 0 or cost_giou != 0, \"all costs cant be 0\"\n",
    "\n",
    "    @torch.no_grad()\n",
    "    def forward(self, outputs, targets):\n",
    "        \"\"\" Performs the matching\n",
    "        Params:\n",
    "            outputs: This is a dict that contains at least these entries:\n",
    "                 \"pred_logits\": Tensor of dim [batch_size, num_queries, num_classes] with the classification logits\n",
    "                 \"pred_boxes\": Tensor of dim [batch_size, num_queries, 4] with the predicted box coordinates\n",
    "            targets: This is a list of targets (len(targets) = batch_size), where each target is a dict containing:\n",
    "                 \"labels\": Tensor of dim [num_target_boxes] (where num_target_boxes is the number of ground-truth\n",
    "                           objects in the target) containing the class labels\n",
    "                 \"boxes\": Tensor of dim [num_target_boxes, 4] containing the target box coordinates\n",
    "        Returns:\n",
    "            A list of size batch_size, containing tuples of (index_i, index_j) where:\n",
    "                - index_i is the indices of the selected predictions (in order)\n",
    "                - index_j is the indices of the corresponding selected targets (in order)\n",
    "            For each batch element, it holds:\n",
    "                len(index_i) = len(index_j) = min(num_queries, num_target_boxes)\n",
    "        \"\"\"\n",
    "        bs, num_queries = outputs[\"pred_logits\"].shape[:2]\n",
    "\n",
    "        # We flatten to compute the cost matrices in a batch\n",
    "        out_prob = outputs[\"pred_logits\"].flatten(0, 1).softmax(-1)  # [batch_size * num_queries, num_classes]\n",
    "        out_bbox = outputs[\"pred_boxes\"].flatten(0, 1)  # [batch_size * num_queries, 4]\n",
    "\n",
    "        # Also concat the target labels and boxes\n",
    "        tgt_ids = torch.cat([v[\"labels\"] for v in targets])\n",
    "        tgt_bbox = torch.cat([v[\"boxes\"] for v in targets])\n",
    "\n",
    "        # Compute the classification cost. Contrary to the loss, we don't use the NLL,\n",
    "        # but approximate it in 1 - proba[target class].\n",
    "        # The 1 is a constant that doesn't change the matching, it can be ommitted.\n",
    "        cost_class = -out_prob[:, tgt_ids]\n",
    "\n",
    "        # Compute the L1 cost between boxes\n",
    "        cost_bbox = torch.cdist(out_bbox, tgt_bbox, p=1)\n",
    "\n",
    "        # Compute the giou cost betwen boxes\n",
    "        cost_giou = -generalized_box_iou(box_cxcywh_to_xyxy(out_bbox), box_cxcywh_to_xyxy(tgt_bbox))\n",
    "\n",
    "        # Final cost matrix\n",
    "        C = self.cost_bbox * cost_bbox + self.cost_class * cost_class + self.cost_giou * cost_giou\n",
    "        C = C.view(bs, num_queries, -1).cpu()\n",
    "\n",
    "        sizes = [len(v[\"boxes\"]) for v in targets]\n",
    "        indices = [linear_sum_assignment(c[i]) for i, c in enumerate(C.split(sizes, -1))]\n",
    "        return [(torch.as_tensor(i, dtype=torch.int64), torch.as_tensor(j, dtype=torch.int64)) for i, j in indices]"
   ]
  },
  {
   "cell_type": "code",
   "execution_count": null,
   "id": "b308714f",
   "metadata": {},
   "outputs": [],
   "source": []
  },
  {
   "cell_type": "code",
   "execution_count": null,
   "id": "8100becf",
   "metadata": {},
   "outputs": [],
   "source": [
    "from scipy.optimize import linear_sum_assignment\n",
    "\n",
    "class HungarianMatcher(nn.Module):\n",
    "    \"\"\"This class computes an assignment between the targets and the predictions of the network\n",
    "    For efficiency reasons, the targets don't include the no_object. Because of this, in general,\n",
    "    there are more predictions than targets. In this case, we do a 1-to-1 matching of the best predictions,\n",
    "    while the others are un-matched (and thus treated as non-objects).\n",
    "    \n",
    "    MODIFIED from https://www.kaggle.com/code/virajbagal/pytorch-starter-detection-transformer-train\n",
    "    \n",
    "    \"\"\"\n",
    "\n",
    "    def __init__(self):\n",
    "        \"\"\"Creates the matcher\n",
    "        \"\"\"\n",
    "        super().__init__()\n",
    "        \n",
    "    @torch.no_grad()\n",
    "    def forward(self, outputs, targets):\n",
    "        \"\"\" Performs the matching\n",
    "        Params:\n",
    "            outputs: This is a dict that contains at least these entries:\n",
    "                 \"pred_logits\": Tensor of dim [batch_size, num_queries, num_classes] with the classification logits\n",
    "                 \"pred_boxes\": Tensor of dim [batch_size, num_queries, 4] with the predicted box coordinates\n",
    "            targets: This is a list of targets (len(targets) = batch_size), where each target is a dict containing:\n",
    "                 \"labels\": Tensor of dim [num_target_boxes] (where num_target_boxes is the number of ground-truth\n",
    "                           objects in the target) containing the class labels\n",
    "                 \"boxes\": Tensor of dim [num_target_boxes, 4] containing the target box coordinates\n",
    "        Returns:\n",
    "            A list of size batch_size, containing tuples of (index_i, index_j) where:\n",
    "                - index_i is the indices of the selected predictions (in order)\n",
    "                - index_j is the indices of the corresponding selected targets (in order)\n",
    "            For each batch element, it holds:\n",
    "                len(index_i) = len(index_j) = min(num_queries, num_target_boxes)\n",
    "        \"\"\"\n",
    "        bs, num_queries = outputs[\"pred_logits\"].shape[:2]\n",
    "\n",
    "        # We flatten to compute the cost matrices in a batch\n",
    "        out_prob = outputs[\"pred_logits\"].flatten(0, 1).softmax(-1)  # [batch_size * num_queries, num_classes]\n",
    "        out_bbox = outputs[\"pred_boxes\"].flatten(0, 1)  # [batch_size * num_queries, 4]\n",
    "\n",
    "        # Also concat the target labels and boxes\n",
    "        tgt_ids = torch.cat([v[\"labels\"] for v in targets])\n",
    "        tgt_bbox = torch.cat([v[\"boxes\"] for v in targets])\n",
    "\n",
    "        # Compute the classification cost. Contrary to the loss, we don't use the NLL,\n",
    "        # but approximate it in 1 - proba[target class].\n",
    "        # The 1 is a constant that doesn't change the matching, it can be ommitted.\n",
    "        cost_class = -out_prob[:, tgt_ids]\n",
    "\n",
    "        # Final cost matrix\n",
    "        C = self.cost_bbox * cost_bbox + self.cost_class * cost_class \n",
    "        C = C.view(bs, num_queries, -1).cpu()\n",
    "\n",
    "        sizes = [len(v[\"boxes\"]) for v in targets]\n",
    "        indices = [linear_sum_assignment(c[i]) for i, c in enumerate(C.split(sizes, -1))]\n",
    "        return [(torch.as_tensor(i, dtype=torch.int64), torch.as_tensor(j, dtype=torch.int64)) for i, j in indices]"
   ]
  },
  {
   "cell_type": "code",
   "execution_count": 172,
   "id": "e5a9020b",
   "metadata": {},
   "outputs": [],
   "source": [
    "import torch.nn.functional as F"
   ]
  },
  {
   "cell_type": "markdown",
   "id": "2a5f6a28",
   "metadata": {},
   "source": [
    "**Goal:** Check out the `SetCriterion` class to see how they _applied_ these indices to get the final cost."
   ]
  },
  {
   "cell_type": "code",
   "execution_count": null,
   "id": "6f2e63ca",
   "metadata": {},
   "outputs": [],
   "source": [
    "class SetCriterion(nn.Module):\n",
    "    \"\"\" This class computes the loss for DETR.\n",
    "    The process happens in two steps:\n",
    "        1) we compute hungarian assignment between ground truth boxes and the outputs of the model\n",
    "        2) we supervise each pair of matched ground-truth / prediction (supervise class and box)\n",
    "        \n",
    "        MODIFIED from https://www.kaggle.com/code/virajbagal/pytorch-starter-detection-transformer-train    \n",
    "    \"\"\"\n",
    "    def __init__(self, num_classes, matcher, weight_dict, eos_coef, losses):\n",
    "        \"\"\" Create the criterion.\n",
    "        Parameters:\n",
    "            num_classes: number of object categories, omitting the special no-object category\n",
    "            matcher: module able to compute a matching between targets and proposals\n",
    "            weight_dict: dict containing as key the names of the losses and as values their relative weight.\n",
    "            eos_coef: relative classification weight applied to the no-object category\n",
    "            losses: list of all the losses to be applied. See get_loss for list of available losses.\n",
    "        \"\"\"\n",
    "        super().__init__()\n",
    "        self.num_classes = num_classes\n",
    "        self.matcher = matcher\n",
    "        self.weight_dict = weight_dict\n",
    "        self.eos_coef = eos_coef\n",
    "        self.losses = losses\n",
    "        empty_weight = torch.ones(self.num_classes + 1)\n",
    "        empty_weight[-1] = self.eos_coef\n",
    "        self.register_buffer('empty_weight', empty_weight)\n",
    "\n",
    "    def loss_labels(self, outputs, targets, indices, num_boxes, log=True):\n",
    "        \"\"\"Classification loss (NLL)\n",
    "        targets dicts must contain the key \"labels\" containing a tensor of dim [nb_target_boxes]\n",
    "        \"\"\"\n",
    "        assert 'pred_logits' in outputs\n",
    "        src_logits = outputs['pred_logits']\n",
    "\n",
    "        idx = self._get_src_permutation_idx(indices)\n",
    "        target_classes_o = torch.cat([t[\"labels\"][J] for t, (_, J) in zip(targets, indices)])\n",
    "        target_classes = torch.full(src_logits.shape[:2], self.num_classes,\n",
    "                                    dtype=torch.int64, device=src_logits.device)\n",
    "        target_classes[idx] = target_classes_o\n",
    "\n",
    "        loss_ce = F.cross_entropy(src_logits.transpose(1, 2), target_classes, self.empty_weight)\n",
    "        losses = {'loss_ce': loss_ce}\n",
    "\n",
    "        if log:\n",
    "            # TODO this should probably be a separate loss, not hacked in this one here\n",
    "            losses['class_error'] = 100 - accuracy(src_logits[idx], target_classes_o)[0]\n",
    "        return losses\n",
    "\n",
    "    @torch.no_grad()\n",
    "    def loss_cardinality(self, outputs, targets, indices, num_boxes):\n",
    "        \"\"\" Compute the cardinality error, ie the absolute error in the number of predicted non-empty boxes\n",
    "        This is not really a loss, it is intended for logging purposes only. It doesn't propagate gradients\n",
    "        \"\"\"\n",
    "        pred_logits = outputs['pred_logits']\n",
    "        device = pred_logits.device\n",
    "        tgt_lengths = torch.as_tensor([len(v[\"labels\"]) for v in targets], device=device)\n",
    "        # Count the number of predictions that are NOT \"no-object\" (which is the last class)\n",
    "        card_pred = (pred_logits.argmax(-1) != pred_logits.shape[-1] - 1).sum(1)\n",
    "        card_err = F.l1_loss(card_pred.float(), tgt_lengths.float())\n",
    "        losses = {'cardinality_error': card_err}\n",
    "        return losses\n",
    "\n",
    "    def loss_boxes(self, outputs, targets, indices, num_boxes):\n",
    "        \"\"\"Compute the losses related to the bounding boxes, the L1 regression loss and the GIoU loss\n",
    "           targets dicts must contain the key \"boxes\" containing a tensor of dim [nb_target_boxes, 4]\n",
    "           The target boxes are expected in format (center_x, center_y, w, h), normalized by the image size.\n",
    "        \"\"\"\n",
    "        assert 'pred_boxes' in outputs\n",
    "        idx = self._get_src_permutation_idx(indices)\n",
    "        src_boxes = outputs['pred_boxes'][idx]\n",
    "        target_boxes = torch.cat([t['boxes'][i] for t, (_, i) in zip(targets, indices)], dim=0)\n",
    "\n",
    "        loss_bbox = F.l1_loss(src_boxes, target_boxes, reduction='none')\n",
    "\n",
    "        losses = {}\n",
    "        losses['loss_bbox'] = loss_bbox.sum() / num_boxes\n",
    "\n",
    "        loss_giou = 1 - torch.diag(generalized_box_iou(\n",
    "            box_cxcywh_to_xyxy(src_boxes),\n",
    "            box_cxcywh_to_xyxy(target_boxes)))\n",
    "        losses['loss_giou'] = loss_giou.sum() / num_boxes\n",
    "        return losses\n",
    "\n",
    "    def loss_masks(self, outputs, targets, indices, num_boxes):\n",
    "        \"\"\"Compute the losses related to the masks: the focal loss and the dice loss.\n",
    "           targets dicts must contain the key \"masks\" containing a tensor of dim [nb_target_boxes, h, w]\n",
    "        \"\"\"\n",
    "        assert \"pred_masks\" in outputs\n",
    "\n",
    "        src_idx = self._get_src_permutation_idx(indices)\n",
    "        tgt_idx = self._get_tgt_permutation_idx(indices)\n",
    "\n",
    "        src_masks = outputs[\"pred_masks\"]\n",
    "\n",
    "        # TODO use valid to mask invalid areas due to padding in loss\n",
    "        target_masks, valid = nested_tensor_from_tensor_list([t[\"masks\"] for t in targets]).decompose()\n",
    "        target_masks = target_masks.to(src_masks)\n",
    "\n",
    "        src_masks = src_masks[src_idx]\n",
    "        # upsample predictions to the target size\n",
    "        src_masks = interpolate(src_masks[:, None], size=target_masks.shape[-2:],\n",
    "                                mode=\"bilinear\", align_corners=False)\n",
    "        src_masks = src_masks[:, 0].flatten(1)\n",
    "\n",
    "        target_masks = target_masks[tgt_idx].flatten(1)\n",
    "\n",
    "        losses = {\n",
    "            \"loss_mask\": sigmoid_focal_loss(src_masks, target_masks, num_boxes),\n",
    "            \"loss_dice\": dice_loss(src_masks, target_masks, num_boxes),\n",
    "        }\n",
    "        return losses\n",
    "\n",
    "    def _get_src_permutation_idx(self, indices):\n",
    "        # permute predictions following indices\n",
    "        batch_idx = torch.cat([torch.full_like(src, i) for i, (src, _) in enumerate(indices)])\n",
    "        src_idx = torch.cat([src for (src, _) in indices])\n",
    "        return batch_idx, src_idx\n",
    "\n",
    "    def _get_tgt_permutation_idx(self, indices):\n",
    "        # permute targets following indices\n",
    "        batch_idx = torch.cat([torch.full_like(tgt, i) for i, (_, tgt) in enumerate(indices)])\n",
    "        tgt_idx = torch.cat([tgt for (_, tgt) in indices])\n",
    "        return batch_idx, tgt_idx\n",
    "\n",
    "    def get_loss(self, loss, outputs, targets, indices, num_boxes, **kwargs):\n",
    "        loss_map = {\n",
    "            'labels': self.loss_labels,\n",
    "            'cardinality': self.loss_cardinality,\n",
    "            'boxes': self.loss_boxes,\n",
    "            'masks': self.loss_masks\n",
    "        }\n",
    "        assert loss in loss_map, f'do you really want to compute {loss} loss?'\n",
    "        return loss_map[loss](outputs, targets, indices, num_boxes, **kwargs)\n",
    "\n",
    "    def forward(self, outputs, targets):\n",
    "        \"\"\" This performs the loss computation.\n",
    "        Parameters:\n",
    "             outputs: dict of tensors, see the output specification of the model for the format\n",
    "             targets: list of dicts, such that len(targets) == batch_size.\n",
    "                      The expected keys in each dict depends on the losses applied, see each loss' doc\n",
    "        \"\"\"\n",
    "        outputs_without_aux = {k: v for k, v in outputs.items() if k != 'aux_outputs'}\n",
    "\n",
    "        # Retrieve the matching between the outputs of the last layer and the targets\n",
    "        indices = self.matcher(outputs_without_aux, targets)\n",
    "\n",
    "        # Compute the average number of target boxes accross all nodes, for normalization purposes\n",
    "        num_boxes = sum(len(t[\"labels\"]) for t in targets)\n",
    "        num_boxes = torch.as_tensor([num_boxes], dtype=torch.float, device=next(iter(outputs.values())).device)\n",
    "#         if is_dist_avail_and_initialized():\n",
    "#             torch.distributed.all_reduce(num_boxes)\n",
    "        num_boxes = torch.clamp(num_boxes / 1, min=1).item()\n",
    "\n",
    "        # Compute all the requested losses\n",
    "        losses = {}\n",
    "        for loss in self.losses:\n",
    "            losses.update(self.get_loss(loss, outputs, targets, indices, num_boxes))\n",
    "\n",
    "        return losses"
   ]
  },
  {
   "cell_type": "code",
   "execution_count": null,
   "id": "b193964b",
   "metadata": {},
   "outputs": [],
   "source": []
  },
  {
   "cell_type": "markdown",
   "id": "d646c824",
   "metadata": {},
   "source": [
    "OK, from reading through the code, I _think_ I catch the jist!\n",
    "1. Flatten the batch\n",
    "2. \n",
    "3. Return the indices\n",
    "4. Resort the predictions to match the loss\n",
    "5. Match them to derive the min loss over (disjoint) combinations\n",
    "\n",
    "\n",
    "KISS -- let's assume that I'll always have more predictions than targets."
   ]
  },
  {
   "cell_type": "code",
   "execution_count": null,
   "id": "abe7308f",
   "metadata": {},
   "outputs": [],
   "source": []
  },
  {
   "cell_type": "code",
   "execution_count": null,
   "id": "3b0f7728",
   "metadata": {},
   "outputs": [],
   "source": []
  }
 ],
 "metadata": {
  "kernelspec": {
   "display_name": "Python 3 (ipykernel)",
   "language": "python",
   "name": "python3"
  },
  "language_info": {
   "codemirror_mode": {
    "name": "ipython",
    "version": 3
   },
   "file_extension": ".py",
   "mimetype": "text/x-python",
   "name": "python",
   "nbconvert_exporter": "python",
   "pygments_lexer": "ipython3",
   "version": "3.11.4"
  }
 },
 "nbformat": 4,
 "nbformat_minor": 5
}
