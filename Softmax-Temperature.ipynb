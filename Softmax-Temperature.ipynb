{
 "cells": [
  {
   "cell_type": "markdown",
   "id": "6f5a9e7f-c2bd-4adc-a4a6-6b260344d7f2",
   "metadata": {},
   "source": [
    "# Temperature scale\n",
    "\n",
    "**Goal:** I want to understand how to set the Softmax temperature!\n",
    "\n",
    "- They had said warm-up was crucial for getting a good\n"
   ]
  },
  {
   "cell_type": "code",
   "execution_count": 54,
   "id": "39727ddb-ab72-4370-84a4-a0fb88ce5346",
   "metadata": {},
   "outputs": [],
   "source": [
    "import numpy as np\n",
    "import matplotlib.pyplot as plt\n",
    "import json"
   ]
  },
  {
   "cell_type": "markdown",
   "id": "cd63010a-23f1-4481-9886-2834ffea41da",
   "metadata": {},
   "source": [
    "**Rings**"
   ]
  },
  {
   "cell_type": "code",
   "execution_count": null,
   "id": "1ca6ca7d-5e8b-4509-8868-9dd314422e61",
   "metadata": {},
   "outputs": [],
   "source": [
    "alpha=.3\n",
    "for cid,l in zip(['rings-bs-256','2rings-default','2rings-muP-D'],\n",
    "                 ['$10/\\sqrt{D}$','1/\\sqrt{D}$','$1/D$']):\n",
    "    try:\n",
    "        with open(f'code/models/{cid}/loss.json') as f:\n",
    "            ld = json.load(f)\n",
    "        plt.plot(ld,label=l,alpha=alpha)\n",
    "\n",
    "    except FileNotFoundError:\n",
    "        print(f'cid {cid} doesn\\'t exist yet')\n",
    "        \n",
    "        \n",
    "plt.title(f'2 RINGS, warmup 5k, decay_steps 10k: vary softmax T',loc='right')\n",
    "plt.xlabel('iterations')\n",
    "plt.ylabel('Loss')\n",
    "plt.legend()"
   ]
  },
  {
   "cell_type": "code",
   "execution_count": null,
   "id": "5d4df1b8-adf7-48a5-8945-a59488951b4a",
   "metadata": {},
   "outputs": [],
   "source": []
  }
 ],
 "metadata": {
  "kernelspec": {
   "display_name": "Python 3",
   "language": "python",
   "name": "python3"
  },
  "language_info": {
   "codemirror_mode": {
    "name": "ipython",
    "version": 3
   },
   "file_extension": ".py",
   "mimetype": "text/x-python",
   "name": "python",
   "nbconvert_exporter": "python",
   "pygments_lexer": "ipython3",
   "version": "3.8.12"
  }
 },
 "nbformat": 4,
 "nbformat_minor": 5
}
