{
 "cells": [
  {
   "cell_type": "markdown",
   "id": "0dfd2083-8da5-4019-b057-6fc18c6e5d31",
   "metadata": {},
   "source": [
    "# Set predition\n",
    "\n",
    "**Motivation:** Put the code from `train.py` into a notebook so that it is easier to poke around with and understand."
   ]
  },
  {
   "cell_type": "code",
   "execution_count": 1,
   "id": "27589c03-e02b-4afa-a97e-90f3b34c6214",
   "metadata": {},
   "outputs": [],
   "source": [
    "import tensorflow as tf\n",
    "import tensorflow_datasets as tfds"
   ]
  },
  {
   "cell_type": "code",
   "execution_count": null,
   "id": "a65803ad-338c-4a0e-bcb0-1dd5444613d3",
   "metadata": {},
   "outputs": [],
   "source": []
  }
 ],
 "metadata": {
  "kernelspec": {
   "display_name": "Python 3",
   "language": "python",
   "name": "python3"
  },
  "language_info": {
   "codemirror_mode": {
    "name": "ipython",
    "version": 3
   },
   "file_extension": ".py",
   "mimetype": "text/x-python",
   "name": "python",
   "nbconvert_exporter": "python",
   "pygments_lexer": "ipython3",
   "version": "3.8.12"
  }
 },
 "nbformat": 4,
 "nbformat_minor": 5
}
