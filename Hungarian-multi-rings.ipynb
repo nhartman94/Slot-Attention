{
 "cells": [
  {
   "cell_type": "markdown",
   "id": "e7c911fd",
   "metadata": {},
   "source": [
    "# Hungarian Multi Rings\n",
    "\n",
    "**Goal:** In the past notebooks\n",
    "- `SA-mini`\n",
    "- `SA-warm-up`\n",
    "\n",
    "I've been focusing on a single ring to stay in a good range for the hyperparameters.\n",
    "\n",
    "**Now:** Really understand what `scipy.optimize.linear_sum_assignment` function is doing.\n",
    "\n",
    "I think the setup that I had from the earlier notebooks should be ok, but it's just a bit of syntax to follow-up on now :)"
   ]
  },
  {
   "cell_type": "code",
   "execution_count": 199,
   "id": "8ef9d668",
   "metadata": {},
   "outputs": [
    {
     "name": "stdout",
     "output_type": "stream",
     "text": [
      "The autoreload extension is already loaded. To reload it, use:\n",
      "  %reload_ext autoreload\n"
     ]
    }
   ],
   "source": [
    "import numpy as np\n",
    "import matplotlib.pyplot as plt\n",
    "from mpl_toolkits.axes_grid1 import make_axes_locatable\n",
    "\n",
    "import torch\n",
    "import torch.nn.functional as F\n",
    "\n",
    "from scipy.optimize import linear_sum_assignment\n",
    "\n",
    "\n",
    "%load_ext autoreload\n",
    "%autoreload 2"
   ]
  },
  {
   "cell_type": "code",
   "execution_count": null,
   "id": "640cc8a0",
   "metadata": {},
   "outputs": [],
   "source": []
  },
  {
   "cell_type": "code",
   "execution_count": null,
   "id": "36e53997",
   "metadata": {},
   "outputs": [],
   "source": []
  },
  {
   "cell_type": "markdown",
   "id": "4e64039d",
   "metadata": {},
   "source": [
    "## Toy problem for debugging\n",
    "\n",
    "OK, this is great, but I think I can make this even a little bit simpler for debugging!\n",
    "\n",
    "<img src=\"attn-2-rings-graphic.png\" style=\"height:250px\" align=\"left\" />"
   ]
  },
  {
   "cell_type": "code",
   "execution_count": 189,
   "id": "aeeb04f7",
   "metadata": {},
   "outputs": [
    {
     "data": {
      "text/plain": [
       "torch.Size([2, 2, 3])"
      ]
     },
     "execution_count": 189,
     "metadata": {},
     "output_type": "execute_result"
    }
   ],
   "source": [
    "true = torch.FloatTensor([[[1,0,0],[0,1,0]],\n",
    "                          [[0,0,1],[0,1,0]]\n",
    "                         ])\n",
    "true.shape"
   ]
  },
  {
   "cell_type": "code",
   "execution_count": 190,
   "id": "7c449f86",
   "metadata": {},
   "outputs": [
    {
     "data": {
      "text/plain": [
       "torch.Size([2, 3, 3])"
      ]
     },
     "execution_count": 190,
     "metadata": {},
     "output_type": "execute_result"
    }
   ],
   "source": [
    "pred = torch.FloatTensor([[[.9,.4,0.],[.1,.1,.1],[0,.6,.9]],\n",
    "                          [[.9,.3,0.],[.1,.5,.1],[.9,.3,0.]]\n",
    "                         ])\n",
    "\n",
    "pred.shape"
   ]
  },
  {
   "cell_type": "code",
   "execution_count": 191,
   "id": "22d3612e",
   "metadata": {},
   "outputs": [
    {
     "data": {
      "text/plain": [
       "torch.Size([6, 3])"
      ]
     },
     "execution_count": 191,
     "metadata": {},
     "output_type": "execute_result"
    }
   ],
   "source": [
    "pred_flat = pred.flatten(0,1) # Shape batch_size * n_slots * pred_dim\n",
    "pred_flat.shape"
   ]
  },
  {
   "cell_type": "code",
   "execution_count": 197,
   "id": "7ffd5e08",
   "metadata": {},
   "outputs": [],
   "source": [
    "bs=2\n",
    "k_slots = 3\n",
    "n_rings_max = 2\n",
    "enc_dim = 3"
   ]
  },
  {
   "cell_type": "code",
   "execution_count": 240,
   "id": "931b9e14",
   "metadata": {},
   "outputs": [],
   "source": [
    "# flat_mask = true[:,None,:,:] \n",
    "# att = pred\n",
    "\n",
    "# att_ext  = torch.tile(att,  dims=(1,1,n_rings_max,1)).reshape(bs * k_slots * n_rings_max , enc_dim) # nPixels**2)\n",
    "# mask_ext = torch.tile(flat_mask,dims=(1,k_slots,1,1)).reshape(bs * k_slots * n_rings_max , enc_dim) #nPixels**2)\n",
    "\n",
    "# pairwise_cost = F.binary_cross_entropy(att_ext,mask_ext,reduction='none').mean(axis=-1)\n",
    "# pairwise_cost = pairwise_cost.reshape(bs, k_slots, n_rings_max)\n",
    "\n",
    "# with torch.no_grad():\n",
    "#     indices = list(map(linear_sum_assignment, pairwise_cost)) #np.array())\n",
    "#     indices = torch.LongTensor(indices)\n",
    "     \n",
    "# # losses = pairwise_cost[torch.arange(bs),indices[:,0,0],indices[:,1,0]]\n",
    "\n",
    "# # return torch.mean(losses)"
   ]
  },
  {
   "cell_type": "code",
   "execution_count": 265,
   "id": "07d9ecd5",
   "metadata": {},
   "outputs": [],
   "source": [
    "def hungarian_bce(att, mask,bs):\n",
    "    '''\n",
    "    Hungarian section Translated from the TensorFlow loss function (from 2006.15055 code):\n",
    "    https://github.com/nhartman94/google-research/blob/master/slot_attention/utils.py#L26-L57\n",
    "    '''\n",
    "    \n",
    "    flat_mask = mask.reshape(-1,1, nPixels*nPixels)[:,None,:,:]\n",
    "    \n",
    "    att_ext  = torch.tile(att,  dims=(1,1,n_rings_max,1)).reshape(bs * k_slots * n_rings_max , nPixels**2)\n",
    "    mask_ext = torch.tile(flat_mask,dims=(1,k_slots,1,1)).reshape(bs * k_slots * n_rings_max , nPixels**2)\n",
    "    \n",
    "    pairwise_cost = F.binary_cross_entropy(att_ext,mask_ext,reduction='none').mean(axis=-1)\n",
    "    pairwise_cost = pairwise_cost.reshape(bs, k_slots, n_rings_max)\n",
    "    \n",
    "    with torch.no_grad():\n",
    "        indices = list(map(linear_sum_assignment, pairwise_cost)) #np.array())\n",
    "        indices = torch.LongTensor(indices)\n",
    "    \n",
    "    losses = torch.FloatTensor([pi[ri,ci].sum() for pi,(ri,ci) in zip(pairwise_cost,indices)])\n",
    "    \n",
    "    return losses.mean()\n",
    "    "
   ]
  },
  {
   "cell_type": "code",
   "execution_count": null,
   "id": "40facbdd",
   "metadata": {},
   "outputs": [],
   "source": []
  },
  {
   "cell_type": "code",
   "execution_count": 241,
   "id": "6bc6e652",
   "metadata": {},
   "outputs": [
    {
     "data": {
      "text/plain": [
       "torch.Size([2, 3, 2])"
      ]
     },
     "execution_count": 241,
     "metadata": {},
     "output_type": "execute_result"
    }
   ],
   "source": [
    "pairwise_cost.shape"
   ]
  },
  {
   "cell_type": "code",
   "execution_count": 242,
   "id": "d2a33b94",
   "metadata": {},
   "outputs": [
    {
     "data": {
      "text/plain": [
       "torch.Size([2, 2, 2])"
      ]
     },
     "execution_count": 242,
     "metadata": {},
     "output_type": "execute_result"
    }
   ],
   "source": [
    "indices.shape"
   ]
  },
  {
   "cell_type": "markdown",
   "id": "888624d4",
   "metadata": {},
   "source": [
    "**How to do `tf.gather_nd` in torch?**\n",
    "- [post](https://discuss.pytorch.org/t/how-to-do-the-tf-gather-nd-in-pytorch/6445/2)"
   ]
  },
  {
   "cell_type": "code",
   "execution_count": 204,
   "id": "eb51e616",
   "metadata": {},
   "outputs": [
    {
     "data": {
      "text/plain": [
       "tensor([[ 0.2054,  0.8378],\n",
       "        [34.4063,  1.0730],\n",
       "        [ 0.8378,  0.9378]])"
      ]
     },
     "execution_count": 204,
     "metadata": {},
     "output_type": "execute_result"
    }
   ],
   "source": [
    "pairwise_cost[0]"
   ]
  },
  {
   "cell_type": "code",
   "execution_count": 223,
   "id": "4d072874",
   "metadata": {},
   "outputs": [],
   "source": [
    "row_ind, col_ind = indices[0]"
   ]
  },
  {
   "cell_type": "code",
   "execution_count": 214,
   "id": "e6adc8f9",
   "metadata": {},
   "outputs": [
    {
     "data": {
      "text/plain": [
       "tensor([0, 2])"
      ]
     },
     "execution_count": 214,
     "metadata": {},
     "output_type": "execute_result"
    }
   ],
   "source": [
    "row_ind"
   ]
  },
  {
   "cell_type": "code",
   "execution_count": 215,
   "id": "e83e7a86",
   "metadata": {},
   "outputs": [
    {
     "data": {
      "text/plain": [
       "tensor([0, 1])"
      ]
     },
     "execution_count": 215,
     "metadata": {},
     "output_type": "execute_result"
    }
   ],
   "source": [
    "col_ind"
   ]
  },
  {
   "cell_type": "code",
   "execution_count": 216,
   "id": "4a57d26b",
   "metadata": {},
   "outputs": [
    {
     "data": {
      "text/plain": [
       "tensor([0.2054, 0.9378])"
      ]
     },
     "execution_count": 216,
     "metadata": {},
     "output_type": "execute_result"
    }
   ],
   "source": [
    "pairwise_cost[0][row_ind,col_ind]"
   ]
  },
  {
   "cell_type": "code",
   "execution_count": 208,
   "id": "90a070d5",
   "metadata": {},
   "outputs": [
    {
     "data": {
      "text/plain": [
       "tensor([[34.2198,  0.3013],\n",
       "        [34.2198,  1.1689],\n",
       "        [ 1.0337,  1.1689]])"
      ]
     },
     "execution_count": 208,
     "metadata": {},
     "output_type": "execute_result"
    }
   ],
   "source": [
    "pairwise_cost[1]"
   ]
  },
  {
   "cell_type": "code",
   "execution_count": null,
   "id": "464d7bb4",
   "metadata": {},
   "outputs": [],
   "source": []
  },
  {
   "cell_type": "code",
   "execution_count": null,
   "id": "fe748c1e",
   "metadata": {},
   "outputs": [],
   "source": []
  },
  {
   "cell_type": "markdown",
   "id": "940ff75b",
   "metadata": {},
   "source": [
    "### Modifying the function generation"
   ]
  },
  {
   "cell_type": "code",
   "execution_count": 2,
   "id": "f14a3b8e",
   "metadata": {},
   "outputs": [],
   "source": [
    "nPixels = 32\n",
    "\n",
    "xlow = -0.5\n",
    "xhigh = 0.5\n",
    "binWidth = (xhigh-xlow)/(nPixels+1)\n",
    "\n",
    "stdlow = 0.01\n",
    "stdhigh = 0.05\n",
    "\n",
    "bins = np.arange(xlow,xhigh,binWidth)\n",
    "\n",
    "nBins = len(bins)-1"
   ]
  },
  {
   "cell_type": "code",
   "execution_count": 131,
   "id": "a8bc6d49",
   "metadata": {},
   "outputs": [],
   "source": [
    "def make_batch(\n",
    "    bins,\n",
    "    N_events = 100000,\n",
    "    N_clusters = 1,\n",
    "    mean_var_cluster = np.log(0.001),\n",
    "    sigma_var_cluster = 0.1,\n",
    "    mean_lam_cluster = np.log(200.),\n",
    "    sigma_lam_cluster = 1.,\n",
    "    isRing=True,\n",
    "    blurImage=False,\n",
    "    xlow=-.5,\n",
    "    xhigh=0.5,\n",
    "    stdlow=0.01,\n",
    "    stdhigh=0.05,\n",
    "    device='cpu'\n",
    "):\n",
    "    '''\n",
    "    Starts from Florian's `gen_events` function\n",
    "    https://gitlab.lrz.de/neural_network_clustering/permutation_invariant_loss/-/blob/main/test_blur.ipynb\n",
    "    \n",
    "    But I wanted to return the occupancy maps that you multiply the OG image by to output partitioning\n",
    "    of the image into the OG ring signals.\n",
    "    '''\n",
    "\n",
    "    eventHistograms = np.zeros(shape=(N_events, len(bins)-1, len(bins)-1,1) ) \n",
    "    \n",
    "    eventMasks = np.zeros(shape=(N_events, N_clusters, len(bins)-1, len(bins)-1) ) \n",
    "    \n",
    "    eventNumbers = np.zeros(N_events)\n",
    "\n",
    "    nMaxClusters = N_clusters   \n",
    "    \n",
    "    eventInfo = np.zeros(shape=(N_events, nMaxClusters, 3))\n",
    "    \n",
    "    for iEvent in range(N_events):\n",
    "        \n",
    "        image = np.zeros_like(eventHistograms[iEvent,:,:,0])\n",
    "        \n",
    "        n_clusters = nMaxClusters\n",
    "\n",
    "        eventNumbers[iEvent] += n_clusters\n",
    "        eI = []\n",
    "        \n",
    "        for iCluster in range(min(n_clusters,nMaxClusters)):\n",
    "            \n",
    "            # how many events in this cluster\n",
    "            lam_N_events_in_cluster = 200. \n",
    "            \n",
    "            N_events_in_cluster = np.random.poisson(lam_N_events_in_cluster)\n",
    "\n",
    "            # where is the cluster center\n",
    "            cluster_center = np.random.uniform(low=xlow, high=xhigh, size=2)\n",
    "\n",
    "            # what is the cluster spread\n",
    "            var_cluster = np.random.uniform(stdlow,stdhigh) \n",
    "            \n",
    "            cluster_events_x0 = np.random.normal(loc=0., scale=1., size=N_events_in_cluster)\n",
    "            cluster_events_y0 = np.random.normal(loc=0., scale=1., size=N_events_in_cluster)\n",
    "\n",
    "            if isRing:\n",
    "                fact = np.sqrt(var_cluster/(cluster_events_x0**2+cluster_events_y0**2))\n",
    "            else:\n",
    "                fact = np.sqrt(var_cluster)\n",
    "\n",
    "            cluster_events_x = cluster_events_x0*fact + cluster_center[0]\n",
    "            cluster_events_y = cluster_events_y0*fact + cluster_center[1]\n",
    "            \n",
    "            # bin the events\n",
    "            H, _, _ = np.histogram2d(cluster_events_x, cluster_events_y, bins=[bins,bins])\n",
    "\n",
    "            eventMasks[iEvent,iCluster] = H.T\n",
    "            image += H.T\n",
    "                        \n",
    "            eI.append(np.concatenate([cluster_center, [var_cluster]]))\n",
    "\n",
    "        eventHistograms[iEvent,:,:,0] = np.copy(image)\n",
    "\n",
    "        eventInfo[iEvent] = np.array(eI)\n",
    "    \n",
    "    # reshape eventHistograms\n",
    "    eventHistograms = eventHistograms[:,None,:,:,0] # shape (bs, 1, nPixels, nPixels)\n",
    "    \n",
    "    eventMasks = np.where(eventHistograms>0,eventMasks/eventHistograms,eventMasks)\n",
    "    \n",
    "    return torch.FloatTensor(eventInfo).to(device), \\\n",
    "           torch.FloatTensor(eventHistograms).to(device), \\\n",
    "           torch.FloatTensor(eventMasks).to(device)"
   ]
  },
  {
   "cell_type": "markdown",
   "id": "a0682896",
   "metadata": {},
   "source": [
    "Let's consider:\n",
    "- batch_size 4\n",
    "- 2 rings\n",
    "- 3 slots"
   ]
  },
  {
   "cell_type": "code",
   "execution_count": 127,
   "id": "e4d55862",
   "metadata": {},
   "outputs": [],
   "source": [
    "max_n_rings = 2"
   ]
  },
  {
   "cell_type": "code",
   "execution_count": 134,
   "id": "40a5cf51",
   "metadata": {},
   "outputs": [
    {
     "name": "stderr",
     "output_type": "stream",
     "text": [
      "/var/folders/5j/ynfw2g6n2cgdwgp6xdh3byn00000gp/T/ipykernel_70926/637650445.py:83: RuntimeWarning: invalid value encountered in divide\n",
      "  eventMasks = np.where(eventHistograms>0,eventMasks/eventHistograms,eventMasks)\n"
     ]
    }
   ],
   "source": [
    "X, Y, true = make_batch(bins, N_events=bs, N_clusters=max_n_rings)"
   ]
  },
  {
   "cell_type": "code",
   "execution_count": 141,
   "id": "bfcb3258",
   "metadata": {},
   "outputs": [
    {
     "data": {
      "image/png": "[encoded data removed]",
      "text/plain": [
       "<Figure size 700x300 with 4 Axes>"
      ]
     },
     "metadata": {},
     "output_type": "display_data"
    }
   ],
   "source": [
    "fig, axs = plt.subplots(1,2,figsize=(7,3))\n",
    "\n",
    "for i,ax in enumerate(axs):\n",
    "\n",
    "    im = ax.imshow(true[0,i],vmin=0,vmax=1)\n",
    "\n",
    "    divider = make_axes_locatable(ax)\n",
    "    cax = divider.append_axes('right', size='5%', pad=0.05)\n",
    "    fig.colorbar(im, cax=cax, orientation='vertical')\n",
    "\n",
    "    ax.set_title(f'Truth photon {i}')\n",
    "\n",
    "    ax.axis('off')\n",
    "\n",
    "plt.show()"
   ]
  },
  {
   "cell_type": "code",
   "execution_count": null,
   "id": "17dabb9f",
   "metadata": {},
   "outputs": [],
   "source": []
  },
  {
   "cell_type": "code",
   "execution_count": null,
   "id": "bfe48bc0",
   "metadata": {},
   "outputs": [],
   "source": []
  },
  {
   "cell_type": "code",
   "execution_count": null,
   "id": "8430102c",
   "metadata": {},
   "outputs": [],
   "source": []
  }
 ],
 "metadata": {
  "kernelspec": {
   "display_name": "Python 3 (ipykernel)",
   "language": "python",
   "name": "python3"
  },
  "language_info": {
   "codemirror_mode": {
    "name": "ipython",
    "version": 3
   },
   "file_extension": ".py",
   "mimetype": "text/x-python",
   "name": "python",
   "nbconvert_exporter": "python",
   "pygments_lexer": "ipython3",
   "version": "3.11.4"
  }
 },
 "nbformat": 4,
 "nbformat_minor": 5
}
