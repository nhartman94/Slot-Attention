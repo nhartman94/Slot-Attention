{
 "cells": [
  {
   "cell_type": "markdown",
   "id": "3f374658-d956-4e6c-a0bc-740f2e23aea7",
   "metadata": {},
   "source": [
    "# Blobs Autoencoder\n",
    "\n",
    "**Goal:** Take the toy \"blobs\" dataset, and train the slot attention autoencoder from Lukas to predict the particle properties.\n",
    "\n",
    "**Table of Contents:**\n",
    "\n",
    "1. Load in the data\n",
    "2. Setup the model\n",
    "3. Train the autoencoder\n",
    "4. Look at the results\n",
    "5. Estimate the energy and position."
   ]
  },
  {
   "cell_type": "code",
   "execution_count": 4,
   "id": "2a0b976b-b7b5-4938-bbcf-256c89c0d244",
   "metadata": {},
   "outputs": [],
   "source": [
    "import numpy as np\n",
    "import matplotlib.pyplot as plt\n",
    "import torch\n",
    "\n",
    "# Lukas's slot attention code\n",
    "import os\n",
    "os.sys.path.append('code')\n",
    "\n",
    "from model import SlotAttentionEncoder\n",
    "\n",
    "%load_ext autoreload\n",
    "%autoreload 2"
   ]
  },
  {
   "cell_type": "markdown",
   "id": "39dbafd7-d836-43cf-ad47-3b289ff6dc0b",
   "metadata": {},
   "source": [
    "## 1. Load in the data"
   ]
  },
  {
   "cell_type": "code",
   "execution_count": null,
   "id": "2d357f09-a242-454b-85e3-aa68ddabd9b9",
   "metadata": {},
   "outputs": [],
   "source": []
  },
  {
   "cell_type": "code",
   "execution_count": null,
   "id": "3b040bbd-ab70-496f-992c-486def62d658",
   "metadata": {},
   "outputs": [],
   "source": []
  },
  {
   "cell_type": "markdown",
   "id": "9bee4d61-0136-4f08-97db-f7fda93306ce",
   "metadata": {},
   "source": [
    "## 2. Setup the model"
   ]
  },
  {
   "cell_type": "code",
   "execution_count": null,
   "id": "834e66e0-ed88-4f6e-8582-4bd896dd1eb5",
   "metadata": {},
   "outputs": [],
   "source": []
  },
  {
   "cell_type": "code",
   "execution_count": null,
   "id": "fc8e663e-506d-4420-843e-9ec027a6e6f1",
   "metadata": {},
   "outputs": [],
   "source": []
  },
  {
   "cell_type": "markdown",
   "id": "11e0ea45-c899-442f-af8d-c5effc47ad93",
   "metadata": {},
   "source": [
    "## 3."
   ]
  },
  {
   "cell_type": "code",
   "execution_count": null,
   "id": "6bbb757f-e6d7-4c81-990e-2678e755c074",
   "metadata": {},
   "outputs": [],
   "source": []
  }
 ],
 "metadata": {
  "kernelspec": {
   "display_name": "Python 3",
   "language": "python",
   "name": "python3"
  },
  "language_info": {
   "codemirror_mode": {
    "name": "ipython",
    "version": 3
   },
   "file_extension": ".py",
   "mimetype": "text/x-python",
   "name": "python",
   "nbconvert_exporter": "python",
   "pygments_lexer": "ipython3",
   "version": "3.8.12"
  }
 },
 "nbformat": 4,
 "nbformat_minor": 5
}
